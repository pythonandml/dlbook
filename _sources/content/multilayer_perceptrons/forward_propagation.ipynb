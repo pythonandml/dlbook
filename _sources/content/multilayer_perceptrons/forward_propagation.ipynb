{
 "cells": [
  {
   "cell_type": "markdown",
   "metadata": {
    "id": "OoPW1By5QlDX"
   },
   "source": [
    "# 2.5. Forward propagation\n",
    "\n",
    "As the name suggests, in forward propagation, the input data $X$ is fed in the forward direction through the network. Each hidden layer accepts the input data, processes it as per the activation function and passes to the successive layer.\n",
    "\n",
    "> Keeping note of the [notations used in terminologies part-1](https://pythonandml.github.io/dlbook/content/multilayer_perceptrons/terminologies_part_1.html#notations-to-be-used) (link to previous chapter), forward propagation is a simple process.\n",
    "\n",
    "For each layer $l=1,2,...L$, we compute the weighted sum $z_l$ and its activation $a_l$ as follows (vectorized form for computation efficiency)\n",
    "\n",
    "$$\n",
    "z_l = a_{l-1}W_l + b_l^T\n",
    "$$\n",
    "\n",
    "$$\n",
    "a_l = f_l(z_l)\n",
    "$$\n",
    "\n",
    "where $b_l^T$ is the transpose of $b_l$ and $f_l(x)$ is the activation function used in the $l^{th}$ layer."
   ]
  }
 ],
 "metadata": {
  "colab": {
   "provenance": []
  },
  "kernelspec": {
   "display_name": "Python 3 (ipykernel)",
   "language": "python",
   "name": "python3"
  },
  "language_info": {
   "codemirror_mode": {
    "name": "ipython",
    "version": 3
   },
   "file_extension": ".py",
   "mimetype": "text/x-python",
   "name": "python",
   "nbconvert_exporter": "python",
   "pygments_lexer": "ipython3",
   "version": "3.10.2"
  }
 },
 "nbformat": 4,
 "nbformat_minor": 4
}
