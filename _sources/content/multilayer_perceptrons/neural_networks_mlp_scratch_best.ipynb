{
 "cells": [
  {
   "cell_type": "markdown",
   "metadata": {
    "id": "qoVH0AGoB4cN"
   },
   "source": [
    "# 2.14. MLP model from scratch in Python\n",
    "\n",
    "We will be building Neural Network (Multi Layer Perceptron) model from scratch using Numpy in Python. Please check out the following list of `ingredients` (if you have not already done so), so that you can cook (code) the MLP model from scratch because this is going to be the most general MLP model that you can find anywhere on the net (without using any for loops, except for the epochs part :))!\n",
    "\n",
    "> **Note**: I have already explained (in detail) most of the code sections in my previous chapters (like developing Activation function class, developing class for Cost function, etc). I will just put the list for you to go and check them out (so that I can skip the tedious work of explaining them again and concentrate more on the fun part). I know it will be laborious for you to visit each and every page, but **the fruits of the hard work is always sweet**.\n",
    "\n",
    "**Ingredients**\n",
    "\n",
    "* Activation functions\n",
    "\t\n",
    "* Data Pre-processing\n",
    "\t* Scaling\n",
    "\t  * Standardization\n",
    "      * Normalization\n",
    "\t* Encoding\n",
    "      * Label Encoding\n",
    "      * One-hot encoding\n",
    "\t* Data Augmentation\n",
    "\t* Train Test Split\n",
    "\n",
    "* Performance Metrics\n",
    "\n",
    "* Perceptron model\n",
    "\t* Neurons\n",
    "\t* Weights, Biases\n",
    "\t\n",
    "* Terminologies - Part 1\n",
    "  * Input, Output and Hidden layers\n",
    "  * Notations \n",
    "  * Parameter Initialize\n",
    "\t\n",
    "* Learning Algorithm\n",
    "  * Cost function\n",
    "  * Forward propagation\n",
    "  * Back Propagation\n",
    "\t\n",
    "* Terminologies - Part 2\n",
    "  \n",
    "  * Epochs, Iterations, Batch size, and learning rate\n",
    "\t\n",
    "* Gradient Descent\n",
    "  * Update law\n",
    "  * Momentum\n",
    "  * RMSProp\t\t\n",
    "  * Adam\n",
    "  * LR Decay\n",
    "  * Gradient exploding and Vanishing\n",
    "\t\n",
    "* Variance/ Bias\n",
    "  * Regularization\n",
    "  * Drop-out\n",
    "  * Early stopping\n",
    "  * Batch normalization\n",
    "\t\n",
    "* Numerical example (with code) - Forward pass and Backpropagation (step by step vectorized form)\n",
    "\n",
    "* Shortcut to calculate forward pass and backpropagation across layers (**Very Important**)\n",
    "\n",
    "\n",
    "Now that we have all the ingredients available, we are ready to code the most general `Neural Network (Multi Layer Perceptron) model` from scratch using Numpy in Python.\n",
    "\n",
    "The structure/design of the code (recipe) will be similar to that of the `Tensorflow's Keras Sequential layers` just to get a taste of the MLP models.\n"
   ]
  },
  {
   "cell_type": "markdown",
   "metadata": {
    "id": "ZVpiHevXOay3"
   },
   "source": [
    "#### Import essential libraries"
   ]
  },
  {
   "cell_type": "code",
   "execution_count": null,
   "metadata": {
    "id": "FLyo5C7cAMnl",
    "tags": [
     "hide-input"
    ]
   },
   "outputs": [],
   "source": [
    "# numpy for linear algebra\n",
    "import numpy as np\n",
    "\n",
    "# matplotlib for plotting the loss functions and/or accuracy\n",
    "import matplotlib.pyplot as plt\n",
    "\n",
    "# loading iris dataset from sklearn\n",
    "from sklearn.datasets import load_iris\n",
    "\n",
    "# confusion matrix\n",
    "from sklearn.metrics import confusion_matrix\n",
    "\n",
    "# accuracy score\n",
    "from sklearn.metrics import accuracy_score\n",
    "\n",
    "# show progress bar\n",
    "from tqdm import tqdm"
   ]
  },
  {
   "cell_type": "markdown",
   "metadata": {
    "id": "pGYcr5FZOy4r"
   },
   "source": [
    "#### [Activation class](https://pythonandml.github.io/dlbook/content/multilayer_perceptrons/activation.html)\n",
    "\n",
    "This class will contain class methods to calculate activation functions and also it will calculate the forward propagation and backpropagation as per the decsription in the chapter [Shortcut to calculate forward pass and backpropagation across layers](https://pythonandml.github.io/dlbook/content/multilayer_perceptrons/shortcut_to_calculate_forward_back_propagation.html) (link to previous chapter)."
   ]
  },
  {
   "cell_type": "markdown",
   "metadata": {
    "id": "EL5uSrCCr8_q"
   },
   "source": [
    "![](images/activation.png)"
   ]
  },
  {
   "cell_type": "code",
   "execution_count": null,
   "metadata": {
    "id": "ZO1AYJMQWPND",
    "tags": [
     "hide-input"
    ]
   },
   "outputs": [],
   "source": [
    "class Activation:\n",
    "\n",
    "    def __init__(self, activation_type=None):\n",
    "        '''\n",
    "        Parameters\n",
    "        \n",
    "        activation_type: type of activation\n",
    "        available options are 'sigmoid', 'linear', 'tanh', 'softmax', 'prelu' and 'relu'\n",
    "        '''\n",
    "        if activation_type is None:\n",
    "            self.activation_type = 'linear'\n",
    "        else:\n",
    "            self.activation_type = activation_type\n",
    "\n",
    "    def linear(self, x):\n",
    "        '''\n",
    "        Parameters\n",
    "        \n",
    "        x: input matrix of shape (m, d) \n",
    "        where 'm' is the number of samples (in case of batch gradient descent of size m)\n",
    "        and 'd' is the number of features\n",
    "        '''\n",
    "        return x\n",
    "\n",
    "    def d_linear(self, x):\n",
    "        '''\n",
    "        Parameters\n",
    "        \n",
    "        x: input matrix of shape (m, d) \n",
    "        where 'm' is the number of samples (in case of batch gradient descent of size m)\n",
    "        and 'd' is the number of features\n",
    "        '''\n",
    "        return np.ones(x.shape)\n",
    "\n",
    "    def sigmoid(self, x):\n",
    "        '''\n",
    "        Parameters\n",
    "        \n",
    "        x: input matrix of shape (m, d) \n",
    "        where 'm' is the number of samples (in case of batch gradient descent of size m)\n",
    "        and 'd' is the number of features\n",
    "        '''\n",
    "        return 1/(1+np.exp(-x))\n",
    "\n",
    "    def d_sigmoid(self, x):\n",
    "        '''\n",
    "        Parameters\n",
    "        \n",
    "        x: input matrix of shape (m, d) \n",
    "        where 'm' is the number of samples (in case of batch gradient descent of size m)\n",
    "        and 'd' is the number of features\n",
    "        '''\n",
    "        return self.sigmoid(x) * (1-self.sigmoid(x))\n",
    "\n",
    "    def tanh(self, x):\n",
    "        '''\n",
    "        Parameters\n",
    "        \n",
    "        x: input matrix of shape (m, d) \n",
    "        where 'm' is the number of samples (in case of batch gradient descent of size m)\n",
    "        and 'd' is the number of features\n",
    "        '''\n",
    "        return (np.exp(x) - np.exp(-x)) / (np.exp(x) + np.exp(-x))\n",
    "\n",
    "    def d_tanh(self, x):\n",
    "        '''\n",
    "        Parameters\n",
    "        \n",
    "        x: input matrix of shape (m, d) \n",
    "        where 'm' is the number of samples (in case of batch gradient descent of size m)\n",
    "        and 'd' is the number of features\n",
    "        '''\n",
    "        return 1-(self.tanh(x))**2\n",
    "\n",
    "    def ReLU(self, x):\n",
    "        '''\n",
    "        Parameters\n",
    "        \n",
    "        x: input matrix of shape (m, d) \n",
    "        where 'm' is the number of samples (in case of batch gradient descent of size m)\n",
    "        and 'd' is the number of features\n",
    "        '''\n",
    "        return x * (x > 0)\n",
    "\n",
    "    def d_ReLU(self, x):\n",
    "        '''\n",
    "        Parameters\n",
    "        \n",
    "        x: input matrix of shape (m, d) \n",
    "        where 'm' is the number of samples (in case of batch gradient descent of size m)\n",
    "        and 'd' is the number of features\n",
    "        '''\n",
    "        return (x>0)*np.ones(x.shape)\n",
    "\n",
    "    def PReLU(self, x, alpha=0.2):\n",
    "        '''\n",
    "        Parameters\n",
    "        alpha: slope parameter (𝛼)\n",
    "\n",
    "        x: input matrix of shape (m, d) \n",
    "        where 'm' is the number of samples (or rows)\n",
    "        and 'd' is the number of features (or columns)\n",
    "        '''\n",
    "        return np.where(x > 0, x, alpha*x) \n",
    "\n",
    "    def d_PReLU(self, x, alpha=0.2):\n",
    "        '''\n",
    "        Parameters\n",
    "        alpha: slope parameter (𝛼)\n",
    "\n",
    "        x: input matrix of shape (m, d) \n",
    "        where 'm' is the number of samples (or rows)\n",
    "        and 'd' is the number of features (or columns)\n",
    "        '''\n",
    "        return np.where(x > 0, 1, alpha) \n",
    "\n",
    "    def softmax(self, x):\n",
    "        '''\n",
    "        Parameters\n",
    "        \n",
    "        x: input matrix of shape (m, d) \n",
    "        where 'm' is the number of samples (in case of batch gradient descent of size m)\n",
    "        and 'd' is the number of features\n",
    "        '''\n",
    "        z = x - np.max(x, axis=-1, keepdims=True)\n",
    "        numerator = np.exp(z)\n",
    "        denominator = np.sum(numerator, axis=-1, keepdims=True)\n",
    "        softmax = numerator / denominator\n",
    "        return softmax\n",
    "\n",
    "    def d_softmax(self, x):\n",
    "        '''\n",
    "        Parameters\n",
    "        \n",
    "        x: input matrix of shape (m, d) \n",
    "        where 'm' is the number of samples (in case of batch gradient descent of size m)\n",
    "        and 'd' is the number of features\n",
    "        '''\n",
    "        if len(x.shape)==1:\n",
    "            x = np.array(x).reshape(1,-1)\n",
    "        else:\n",
    "            x = np.array(x)\n",
    "        m, d = x.shape\n",
    "        a = self.softmax(x)\n",
    "        tensor1 = np.einsum('ij,ik->ijk', a, a)\n",
    "        tensor2 = np.einsum('ij,jk->ijk', a, np.eye(d, d))\n",
    "        return tensor2 - tensor1\n",
    "\n",
    "    def get_activation(self, x):\n",
    "        '''\n",
    "        Parameters\n",
    "        \n",
    "        x: input matrix of shape (m, d) \n",
    "        where 'm' is the number of samples (in case of batch gradient descent of size m)\n",
    "        and 'd' is the number of features\n",
    "        '''\n",
    "        if self.activation_type == 'sigmoid':\n",
    "            return self.sigmoid(x)\n",
    "        elif self.activation_type == 'tanh':\n",
    "            return self.tanh(x)\n",
    "        elif self.activation_type == 'relu':\n",
    "            return self.ReLU(x)\n",
    "        elif self.activation_type == 'linear':\n",
    "            return self.linear(x)\n",
    "        elif self.activation_type == 'prelu':\n",
    "            return self.PReLU(x)\n",
    "        elif self.activation_type == 'softmax':\n",
    "            return self.softmax(x)\n",
    "        else:\n",
    "            raise ValueError(\"Valid Activations are only 'sigmoid', 'linear', 'tanh' 'softmax', 'prelu' and 'relu'\")\n",
    "\n",
    "    def get_d_activation(self, x):\n",
    "        '''\n",
    "        Parameters\n",
    "        \n",
    "        x: input matrix of shape (m, d) \n",
    "        where 'm' is the number of samples (in case of batch gradient descent of size m)\n",
    "        and 'd' is the number of features\n",
    "        '''\n",
    "        if self.activation_type == 'sigmoid':\n",
    "            return self.d_sigmoid(x)\n",
    "        elif self.activation_type == 'tanh':\n",
    "            return self.d_tanh(x)\n",
    "        elif self.activation_type == 'relu':\n",
    "            return self.d_ReLU(x)\n",
    "        elif self.activation_type == 'linear':\n",
    "            return self.d_linear(x)\n",
    "        elif self.activation_type == 'prelu':\n",
    "            return self.d_PReLU(x)\n",
    "        elif self.activation_type == 'softmax':\n",
    "            return self.d_softmax(x)\n",
    "        else:\n",
    "            raise ValueError(\"Valid Activations are only 'sigmoid', 'linear', 'tanh', 'softmax', 'prelu' and 'relu'\")\n",
    "\n",
    "    def forward(self, X):\n",
    "        self.X = X\n",
    "        z = self.get_activation(X)\n",
    "        return z\n",
    "    \n",
    "    def backpropagation(self, dz):\n",
    "        f_prime = self.get_d_activation(self.X)\n",
    "        if self.activation_type=='softmax':\n",
    "            # because derivative of softmax is a tensor\n",
    "            dx = np.einsum('ijk,ik->ij', f_prime, dz)\n",
    "        else:\n",
    "            dx = dz * f_prime\n",
    "        return dx"
   ]
  },
  {
   "cell_type": "markdown",
   "metadata": {
    "id": "h_2g5TPjPP_t"
   },
   "source": [
    "#### [Cost function](https://pythonandml.github.io/dlbook/content/multilayer_perceptrons/cost_functions.html) \n",
    "\n",
    "Follow the lecture to develop the cost function class"
   ]
  },
  {
   "cell_type": "code",
   "execution_count": null,
   "metadata": {
    "id": "QyPwLaNGMSuC",
    "tags": [
     "hide-input"
    ]
   },
   "outputs": [],
   "source": [
    "class Cost:\n",
    "\n",
    "    def __init__(self, cost_type='mse'):\n",
    "        '''\n",
    "        Parameters\n",
    "        \n",
    "        cost_type: type of cost function\n",
    "        available options are 'mse', and 'cross-entropy'\n",
    "        '''\n",
    "        self.cost_type = cost_type\n",
    "\n",
    "    def mse(self, a, y):\n",
    "        '''\n",
    "        Parameters\n",
    "        \n",
    "        a: Predicted output array of shape (m, d)\n",
    "        y: Actual output array of shape (m, d)\n",
    "        '''\n",
    "        return (1/2)*np.sum((np.linalg.norm(a-y, axis=1))**2)\n",
    "\n",
    "    def d_mse(self, a, y):\n",
    "        '''\n",
    "        represents dJ/da\n",
    "\n",
    "        Parameters\n",
    "        \n",
    "        a: Predicted output array of shape (m, d)\n",
    "        y: Actual output array of shape (m, d)\n",
    "        '''\n",
    "        return a - y\n",
    "\n",
    "    def cross_entropy(self, a, y, epsilon=1e-12):\n",
    "        '''\n",
    "        Parameters\n",
    "        \n",
    "        a: Predicted output array of shape (m, d)\n",
    "        y: Actual output array of shape (m, d)\n",
    "        '''\n",
    "        a = np.clip(a, epsilon, 1. - epsilon)\n",
    "        return -np.sum(y*np.log(a))\n",
    "\n",
    "    def d_cross_entropy(self, a, y, epsilon=1e-12):\n",
    "        '''\n",
    "        represents dJ/da\n",
    "\n",
    "        Parameters\n",
    "        \n",
    "        a: Predicted output array of shape (m, d)\n",
    "        y: Actual output array of shape (m, d)\n",
    "        '''\n",
    "        a = np.clip(a, epsilon, 1. - epsilon)\n",
    "        return -y/a\n",
    "\n",
    "    def get_cost(self, a, y):\n",
    "        '''\n",
    "        Parameters\n",
    "        \n",
    "        a: Predicted output array of shape (m, d)\n",
    "        y: Actual output array of shape (m, d)\n",
    "        '''\n",
    "        if self.cost_type == 'mse':\n",
    "            return self.mse(a, y)\n",
    "        elif self.cost_type == 'cross-entropy':\n",
    "            return self.cross_entropy(a, y)\n",
    "        else:\n",
    "            raise ValueError(\"Valid cost functions are only 'mse', and 'cross-entropy'\")\n",
    "\n",
    "    def get_d_cost(self, a, y):\n",
    "        '''\n",
    "        Parameters\n",
    "        \n",
    "        a: Predicted output array of shape (m, d)\n",
    "        y: Actual output array of shape (m, d)\n",
    "        '''\n",
    "        if self.cost_type == 'mse':\n",
    "            return self.d_mse(a, y)\n",
    "        elif self.cost_type == 'cross-entropy':\n",
    "            return self.d_cross_entropy(a, y)\n",
    "        else:\n",
    "            raise ValueError(\"Valid cost functions are only 'mse', and 'cross-entropy'\")"
   ]
  },
  {
   "cell_type": "markdown",
   "metadata": {
    "id": "Nh14oSPcEPq8"
   },
   "source": [
    "#### [Optimizers](https://pythonandml.github.io/dlbook/content/multilayer_perceptrons/gradient_descent.html)\n",
    "\n",
    "This class contains different optimizers (such as RMSProp, Adam, etc) used for updating the parameters."
   ]
  },
  {
   "cell_type": "code",
   "execution_count": null,
   "metadata": {
    "id": "f-tH9bZ_ERz7",
    "tags": [
     "hide-input"
    ]
   },
   "outputs": [],
   "source": [
    "class Optimizer:\n",
    "\n",
    "    def __init__(self, optimizer_type=None, shape_W=None, shape_b=None,\n",
    "                 momentum1=0.9, momentum2=0.999, epsilon=1e-8):\n",
    "        '''\n",
    "        Parameters\n",
    "\n",
    "        momentum1: float hyperparameter >= 0 that accelerates gradient descent in the relevant \n",
    "                   direction and dampens oscillations. Defaults to 0, i.e., vanilla gradient descent.\n",
    "                   Also used in RMSProp\n",
    "        momentum2: used in Adam only\n",
    "        optimizer_type: type of optimizer\n",
    "                        available options are 'gd', 'sgd' (This also includes momentum), 'adam', and 'rmsprop'\n",
    "        shape_W: Shape of the weight matrix W\n",
    "        shape_b: Shape of the bias matrix b\n",
    "        epsilon: parameter used in RMSProp and Adam to avoid division by zero error\n",
    "        '''\n",
    "\n",
    "        if optimizer_type is None:\n",
    "            self.optimizer_type = 'adam'\n",
    "        else:\n",
    "            self.optimizer_type = optimizer_type\n",
    "        self.momentum1 = momentum1\n",
    "        self.momentum2 = momentum2\n",
    "        self.epsilon = epsilon\n",
    "\n",
    "        self.vdW = np.zeros(shape_W)\n",
    "        self.vdb = np.zeros(shape_b)\n",
    "\n",
    "        self.SdW = np.zeros(shape_W)\n",
    "        self.Sdb = np.zeros(shape_b)\n",
    "\n",
    "    def GD(self, dW, db, k):\n",
    "        '''\n",
    "        dW: gradient of Weight W for iteration k\n",
    "        db: gradient of bias b for iteration k\n",
    "        k: iteration number\n",
    "        '''\n",
    "        return dW, db\n",
    "\n",
    "    def SGD(self, dW, db, k):\n",
    "        '''\n",
    "        dW: gradient of Weight W for iteration k\n",
    "        db: gradient of bias b for iteration k\n",
    "        k: iteration number\n",
    "        '''\n",
    "        self.vdW = self.momentum1*self.vdW + (1-self.momentum1)*dW\n",
    "        self.vdb = self.momentum1*self.vdb + (1-self.momentum1)*db\n",
    "\n",
    "        return self.vdW, self.vdb\n",
    "\n",
    "    def RMSProp(self, dW, db, k):\n",
    "        '''\n",
    "        dW: gradient of Weight W for iteration k\n",
    "        db: gradient of bias b for iteration k\n",
    "        k: iteration number\n",
    "        '''\n",
    "        self.SdW = self.momentum2*self.SdW + (1-self.momentum2)*(dW**2)\n",
    "        self.Sdb = self.momentum2*self.Sdb + (1-self.momentum2)*(db**2)\n",
    "\n",
    "        den_W = np.sqrt(self.SdW) + self.epsilon\n",
    "        den_b = np.sqrt(self.Sdb) + self.epsilon\n",
    "\n",
    "        return dW/den_W, db/den_b\n",
    "\n",
    "    def Adam(self, dW, db, k):\n",
    "        '''\n",
    "        dW: gradient of Weight W for iteration k\n",
    "        db: gradient of bias b for iteration k\n",
    "        k: iteration number\n",
    "        '''\n",
    "        # momentum\n",
    "        self.vdW = self.momentum1*self.vdW + (1-self.momentum1)*dW\n",
    "        self.vdb = self.momentum1*self.vdb + (1-self.momentum1)*db\n",
    "\n",
    "        # rmsprop\n",
    "        self.SdW = self.momentum2*self.SdW + (1-self.momentum2)*(dW**2)\n",
    "        self.Sdb = self.momentum2*self.Sdb + (1-self.momentum2)*(db**2)\n",
    "\n",
    "        # correction\n",
    "        if k>1:\n",
    "            vdW_h = self.vdW / (1-(self.momentum1**k))\n",
    "            vdb_h = self.vdb / (1-(self.momentum1**k))\n",
    "            SdW_h = self.SdW / (1-(self.momentum2**k))\n",
    "            Sdb_h = self.Sdb / (1-(self.momentum2**k))\n",
    "        else:\n",
    "            vdW_h = self.vdW \n",
    "            vdb_h = self.vdb\n",
    "            SdW_h = self.SdW\n",
    "            Sdb_h = self.Sdb\n",
    "\n",
    "        den_W = np.sqrt(SdW_h) + self.epsilon\n",
    "        den_b = np.sqrt(Sdb_h) + self.epsilon\n",
    "\n",
    "        return vdW_h/den_W, vdb_h/den_b\n",
    "\n",
    "    def get_optimization(self, dW, db, k):\n",
    "        if self.optimizer_type == 'gd':\n",
    "            return self.GD(dW, db, k)\n",
    "        if self.optimizer_type == 'sgd':\n",
    "            return self.SGD(dW, db, k)\n",
    "        if self.optimizer_type == 'rmsprop':\n",
    "            return self.RMSProp(dW, db, k)\n",
    "        if self.optimizer_type == 'adam':\n",
    "            return self.Adam(dW, db, k)\n",
    "        else:\n",
    "            raise ValueError(\"Valid optimizer options are only 'gd', 'sgd', 'rmsprop', and 'adam'.\")"
   ]
  },
  {
   "cell_type": "markdown",
   "metadata": {
    "id": "g1teeuM9ck_s"
   },
   "source": [
    "#### [Learning Rate decay](https://pythonandml.github.io/dlbook/content/multilayer_perceptrons/gradient_descent.html#learning-rate-decay)\n",
    "\n",
    "This class contains different methods to implement the learning rate decay scheduler."
   ]
  },
  {
   "cell_type": "code",
   "execution_count": null,
   "metadata": {
    "id": "fnGLy7gfcm0w",
    "tags": [
     "hide-input"
    ]
   },
   "outputs": [],
   "source": [
    "class LearningRateDecay:\n",
    "\n",
    "    def __init__(self):\n",
    "        pass\n",
    "\n",
    "    def constant(self, t, lr_0):\n",
    "        '''\n",
    "        t: iteration\n",
    "        lr_0: initial learning rate\n",
    "        '''\n",
    "        return lr_0\n",
    "\n",
    "    def time_decay(self, t, lr_0, k):\n",
    "        '''\n",
    "        lr_0: initial learning rate\n",
    "        k: Decay rate\n",
    "        t: iteration number\n",
    "        '''\n",
    "        lr = lr_0 /(1+(k*t))\n",
    "        return lr\n",
    "\n",
    "    def step_decay(self, t, lr_0, F, D):\n",
    "        '''\n",
    "        lr_0: initial learning rate\n",
    "        F: factor value controlling the rate in which the learning date drops\n",
    "        D: “Drop every” iteration\n",
    "        t: current iteration\n",
    "        '''\n",
    "        mult = F**np.floor((1+t)/D)\n",
    "        lr = lr_0 * mult\n",
    "        return lr\n",
    "\n",
    "    def exponential_decay(self, t, lr_0, k):\n",
    "        '''\n",
    "        lr_0: initial learning rate\n",
    "        k: Exponential Decay rate\n",
    "        t: iteration number\n",
    "        '''\n",
    "        lr = lr_0 * np.exp(-k*t)\n",
    "        return lr"
   ]
  },
  {
   "cell_type": "markdown",
   "metadata": {
    "id": "-jJJa9ia3m6h"
   },
   "source": [
    "#### [Utility function](https://pythonandml.github.io/dlbook/content/preliminaries/data_preprocessing.html)\n",
    "\n",
    "This class contains several utility functions such as one-hot vector, label encoder, normalization, etc"
   ]
  },
  {
   "cell_type": "code",
   "execution_count": null,
   "metadata": {
    "id": "qLnhiGNP33C1",
    "tags": [
     "hide-input"
    ]
   },
   "outputs": [],
   "source": [
    "class Utility:\n",
    "\n",
    "    def __init__(self):\n",
    "        pass\n",
    "\n",
    "    def label_encoding(self, Y):\n",
    "        '''\n",
    "        Parameters:\n",
    "        Y: (m,d) shape matrix with categorical data\n",
    "        Return\n",
    "        result: label encoded data of 𝑌\n",
    "        idx_list: list of the dictionaries containing the unique values \n",
    "                  of the columns and their mapping to the integer.\n",
    "        '''\n",
    "        idx_list = []\n",
    "        result = []\n",
    "        for col in range(Y.shape[1]):\n",
    "            indexes = {val: idx for idx, val in enumerate(np.unique(Y[:, col]))}\n",
    "            result.append([indexes[s] for s in Y[:, col]])\n",
    "            idx_list.append(indexes)\n",
    "        return np.array(result).T, idx_list\n",
    "\n",
    "    def onehot(self, X):\n",
    "        '''\n",
    "        Parameters:\n",
    "        X: 1D array of labels of length \"m\"\n",
    "        Return\n",
    "        X_onehot: (m,d) one hot encoded matrix (one-hot of X) \n",
    "                  (where d is the number of unique values in X)\n",
    "        indexes: dictionary containing the unique values of X and their mapping to the integer column\n",
    "        '''\n",
    "        indexes = {val: idx for idx, val in enumerate(np.unique(X))}\n",
    "        y = np.array([indexes[s] for s in X])\n",
    "        X_onehot = np.zeros((y.size, len(indexes)))\n",
    "        X_onehot[np.arange(y.size), y] = 1\n",
    "        return X_onehot, indexes\n",
    "\n",
    "    def minmax(self, X, min_X=None, max_X=None):\n",
    "        if min_X is None:\n",
    "            min_X = np.min(X, axis=0)\n",
    "        if max_X is None:\n",
    "            max_X = np.max(X, axis=0)\n",
    "        Z = (X - min_X) / (max_X - min_X)\n",
    "        return Z, min_X, max_X\n",
    "\n",
    "    def standardize(self, X, mu=None, std=None):\n",
    "        if mu is None:\n",
    "            mu = np.mean(X, axis=0)\n",
    "        if std is None:\n",
    "            std = np.std(X, axis=0)\n",
    "        Z = (X - mu) / std\n",
    "        return Z, mu, std\n",
    "\n",
    "    def inv_standardize(self, Z, mu, std):\n",
    "        X = Z*std + mu\n",
    "        return X\n",
    "\n",
    "    def train_test_split(self, X, y, test_ratio=0.2, seed=None):\n",
    "        if seed is not None:\n",
    "            np.random.seed(seed)\n",
    "        train_ratio = 1-test_ratio\n",
    "        indices = np.random.permutation(X.shape[0])\n",
    "        train_idx, test_idx = indices[:int(train_ratio*len(X))], indices[int(train_ratio*len(X)):]\n",
    "        X_train, X_test = X[train_idx,:], X[test_idx,:]\n",
    "        y_train, y_test = y[train_idx], y[test_idx]\n",
    "        return X_train, X_test, y_train, y_test"
   ]
  },
  {
   "cell_type": "markdown",
   "metadata": {
    "id": "qnz8Hle92gd0"
   },
   "source": [
    "#### [Weights initializer class](https://pythonandml.github.io/dlbook/content/multilayer_perceptrons/terminologies_part_1.html#parameter-s-initialization)"
   ]
  },
  {
   "cell_type": "code",
   "execution_count": null,
   "metadata": {
    "id": "IAYTgzt52nwU",
    "tags": [
     "hide-input"
    ]
   },
   "outputs": [],
   "source": [
    "class Weights_initializer:\n",
    "\n",
    "    def __init__(self, shape, initializer_type=None, seed=None):\n",
    "        '''\n",
    "        Parameters\n",
    "        shape: Shape of the weight matrix\n",
    "\n",
    "        initializer_type: type of weight initializer\n",
    "        available options are 'zeros', 'ones', 'random_normal', 'random_uniform', \n",
    "        'he_normal', 'xavier_normal' and 'glorot_normal'\n",
    "        '''\n",
    "        self.shape = shape\n",
    "        if initializer_type is None:\n",
    "            self.initializer_type = \"he_normal\"\n",
    "        else:\n",
    "            self.initializer_type = initializer_type\n",
    "        self.seed = seed\n",
    "        \n",
    "    def zeros_initializer(self):\n",
    "        if self.seed is not None:\n",
    "            np.random.seed(self.seed)\n",
    "        return np.zeros(self.shape)\n",
    "\n",
    "    def ones_initializer(self):\n",
    "        if self.seed is not None:\n",
    "            np.random.seed(self.seed)\n",
    "        return np.ones(self.shape)\n",
    "\n",
    "    def random_normal_initializer(self):\n",
    "        if self.seed is not None:\n",
    "            np.random.seed(self.seed)\n",
    "        return np.random.normal(size=self.shape)\n",
    "\n",
    "    def random_uniform_initializer(self):\n",
    "        if self.seed is not None:\n",
    "            np.random.seed(self.seed)\n",
    "        return np.random.uniform(size=self.shape)\n",
    "\n",
    "    def he_initializer(self):\n",
    "        if self.seed is not None:\n",
    "            np.random.seed(self.seed)\n",
    "        s0, s1 = self.shape\n",
    "        return np.random.randn(s0, s1) * np.sqrt(2/s0)\n",
    "\n",
    "    def xavier_initializer(self):\n",
    "        '''\n",
    "        shape: Shape of the weight matrix.\n",
    "        '''\n",
    "        if self.seed is not None:\n",
    "            np.random.seed(self.seed)\n",
    "        s0, s1 = self.shape\n",
    "        return np.random.randn(s0, s1) * np.sqrt(1/s0)\n",
    "\n",
    "    def glorot_initializer(self):\n",
    "        '''\n",
    "        shape: Shape of the weight matrix.\n",
    "        '''\n",
    "        if self.seed is not None:\n",
    "            np.random.seed(self.seed)\n",
    "        s0, s1 = self.shape\n",
    "        return np.random.randn(s0, s1) * np.sqrt(2/(s0+s1))\n",
    "\n",
    "    def get_initializer(self):\n",
    "        if self.initializer_type == 'zeros':\n",
    "            return self.zeros_initializer()\n",
    "        elif self.initializer_type == 'ones':\n",
    "            return self.ones_initializer()\n",
    "        elif self.initializer_type == 'random_normal':\n",
    "            return self.random_normal_initializer()\n",
    "        elif self.initializer_type == 'random_uniform':\n",
    "            return self.random_uniform_initializer()\n",
    "        elif self.initializer_type == 'he_normal':\n",
    "            return self.he_initializer()\n",
    "        elif self.initializer_type == 'xavier_normal':\n",
    "            return self.xavier_initializer()\n",
    "        elif self.initializer_type == 'glorot_normal':\n",
    "            return self.glorot_initializer()\n",
    "        else:\n",
    "            raise ValueError(\"Valid initializer options are 'zeros', 'ones', 'random_normal', 'random_uniform', 'he_normal', 'xavier_normal', and 'glorot_normal'\")"
   ]
  },
  {
   "cell_type": "markdown",
   "metadata": {
    "id": "wB6_OSdnvIw4"
   },
   "source": [
    "#### Dense class\n",
    "\n",
    "Dense class implements the operation: \n",
    "\n",
    "$$\n",
    "z = XW + b^T\n",
    "$$\n",
    "\n",
    "$$\n",
    "a = f(z) \n",
    "$$\n",
    "\n",
    "where activation $f(.)$ is used if specified, else we do not use it. $W$ is a weights matrix created by the Dense layer based on [type of initialization](https://pythonandml.github.io/dlbook/content/multilayer_perceptrons/terminologies_part_1.html#parameter-s-initialization) (link to previous chapter) provided, and $b$ is a bias vector created by the layer (only applicable if use_bias is True). These are all attributes of Dense."
   ]
  },
  {
   "cell_type": "markdown",
   "metadata": {
    "id": "pRL3ANL4xtXl"
   },
   "source": [
    "![](images/dense.png)"
   ]
  },
  {
   "cell_type": "code",
   "execution_count": null,
   "metadata": {
    "id": "hPJMbSJaxzAR",
    "tags": [
     "hide-input"
    ]
   },
   "outputs": [],
   "source": [
    "class Dense:\n",
    "\n",
    "    def __init__(self, neurons, activation_type=None, use_bias=True, \n",
    "                 weight_initializer_type=None, weight_regularizer=None, seed=None, input_dim=None):\n",
    "\n",
    "        '''\n",
    "        Parameters:\n",
    "\n",
    "        neurons: Positive integer (number of neurons), dimensionality of the output\n",
    "\n",
    "        activation_type: type of activation\n",
    "                         available options are 'sigmoid', 'linear', 'tanh', 'softmax', 'prelu' and 'relu'\n",
    "                         If you don't specify anything, no activation is applied (ie. \"linear\" activation: a(x) = x).\n",
    "\n",
    "        use_bias: Boolean, whether the layer uses a bias vector.\n",
    "        \n",
    "        weight_initializer_type: Initializer for the kernel weights matrix.\n",
    "        \n",
    "        weight_regularizer: Tuple, Regularizer function applied to the weights matrix ('L2', 0.01) or ('L1', 2)\n",
    "\n",
    "        seed: To generate reproducable results\n",
    "\n",
    "        input_dim: integer showing number of neurons in input layer \n",
    "        '''\n",
    "        self.neurons = neurons\n",
    "        self.activation = Activation(activation_type=activation_type)\n",
    "        self.use_bias = use_bias\n",
    "        self.weight_initializer_type = weight_initializer_type # none is handled\n",
    "        if weight_regularizer is None:\n",
    "            self.weight_regularizer = ('L2', 0)\n",
    "        else:\n",
    "            self.weight_regularizer = weight_regularizer\n",
    "        self.seed = seed\n",
    "        self.input_dim = input_dim\n",
    "\n",
    "    def initialize_parameters(self, hl, optimizer_type):\n",
    "        '''\n",
    "        hl: Number of neurons in layer l-1\n",
    "        '''\n",
    "        shape_W = (hl, self.neurons)\n",
    "        shape_b = (self.neurons, 1)\n",
    "        initializer = Weights_initializer(shape=shape_W,\n",
    "                                          initializer_type=self.weight_initializer_type,\n",
    "                                          seed=self.seed)\n",
    "        self.W = initializer.get_initializer()\n",
    "        self.b = np.zeros(shape_b)\n",
    "        \n",
    "        self.optimizer = Optimizer(optimizer_type=optimizer_type, shape_W=shape_W, shape_b=shape_b)\n",
    "\n",
    "        \n",
    "    def forward(self, X):\n",
    "        self.X = X\n",
    "        r = X @ self.W\n",
    "        self.z = r + self.b.T\n",
    "        a = self.activation.forward(self.z)\n",
    "        return a\n",
    "    \n",
    "    def backpropagation(self, da):\n",
    "        dz = self.activation.backpropagation(da)\n",
    "        dr = dz.copy()\n",
    "        self.db = np.sum(dz, axis=0).reshape(-1,1)\n",
    "        self.dW = (self.X.T) @ dr\n",
    "        dX = dr @ (self.W.T)\n",
    "        return dX\n",
    "\n",
    "    def update(self, lr, m, k):\n",
    "        '''\n",
    "        Parameters:\n",
    "\n",
    "        lr: learning rate\n",
    "        m: batch_size (sumber of samples in batch)\n",
    "        k: iteration_number\n",
    "        '''\n",
    "        dW, db = self.optimizer.get_optimization(self.dW, self.db, k)\n",
    "\n",
    "        if self.weight_regularizer[0].lower()=='l2':\n",
    "            dW += self.weight_regularizer[1] * self.W\n",
    "        elif self.weight_regularizer[0].lower()=='l1':\n",
    "            dW += self.weight_regularizer[1] * np.sign(self.W)\n",
    "        \n",
    "        self.W -= dW*(lr/m)\n",
    "        if self.use_bias:\n",
    "            self.b -= db*(lr/m)"
   ]
  },
  {
   "cell_type": "markdown",
   "metadata": {
    "id": "ldbr77kyo0-5"
   },
   "source": [
    "#### [Dropout class](https://pythonandml.github.io/dlbook/content/multilayer_perceptrons/dropout.html)\n",
    "\n",
    "This class will perform forward and backpropagation for a Dropout layer\n",
    "\n"
   ]
  },
  {
   "cell_type": "markdown",
   "metadata": {
    "id": "RtUyXu8bqK6m"
   },
   "source": [
    "![](images/dropout.png)"
   ]
  },
  {
   "cell_type": "code",
   "execution_count": null,
   "metadata": {
    "id": "JLWr6Gizpcsf",
    "tags": [
     "hide-input"
    ]
   },
   "outputs": [],
   "source": [
    "class Dropout:\n",
    "\n",
    "    def __init__(self, p):\n",
    "        '''\n",
    "        Parameters\n",
    "\n",
    "        p: Dropout probability\n",
    "        '''\n",
    "        self.p = p\n",
    "        if self.p == 0:\n",
    "            self.p += 1e-6\n",
    "        if self.p == 1:\n",
    "            self.p -= 1e-6\n",
    "    \n",
    "    def forward(self, X):\n",
    "        self.mask = (np.random.rand(*X.shape) < self.p) / self.p \n",
    "        Z = X * self.mask\n",
    "        return Z\n",
    "    \n",
    "    def backpropagation(self, dZ):\n",
    "        dX = dZ * self.mask\n",
    "        return dX"
   ]
  },
  {
   "cell_type": "markdown",
   "metadata": {
    "id": "iCwgHByEtS-X"
   },
   "source": [
    "#### [Batch Normalization class](https://pythonandml.github.io/dlbook/content/multilayer_perceptrons/batch_normalization.html)\n",
    "\n",
    "This class will perform forward and backpropagation for Batch Normalization layer\n",
    "\n"
   ]
  },
  {
   "cell_type": "markdown",
   "metadata": {
    "id": "1Z58V-oGwdVA"
   },
   "source": [
    "![](images/batch_norm.png)"
   ]
  },
  {
   "cell_type": "markdown",
   "metadata": {
    "id": "32y3iZxMuYla"
   },
   "source": [
    "> **Note:** We will initialise $\\gamma$ as ones and $\\beta$ as zeroes so that the output of the linear batch-norm transformation initially follows the standard zero-mean unit-variance normal distribution. This provides a normalised starting point, for which the model can update the $\\gamma$ and $\\beta$ to scale and shift the distribution(s) of each input accordingly (for the current layer).\n",
    "\n",
    "**Forward pass**\n",
    "\n",
    "`eps` represents: $\\epsilon$\n",
    "\n",
    "`mu` represents: $\\mu$\n",
    "\n",
    "`var` represents: $\\sigma^2$\n",
    "\n",
    "`zmu` represents: $\\bar{z_l}$\n",
    "\n",
    "`ivar` represents: $\\frac{1}{\\sqrt{\\sigma^2 + \\epsilon}}$\n",
    "\n",
    "`zhat` represents: $\\hat{z_l}$\n",
    "\n",
    "`q` represents: $q_l$\n",
    "\n",
    "**Backpropagation**\n",
    "\n",
    "This `dq` variable below represents $\\frac{\\partial J}{\\partial q_l}$\n",
    "\n",
    "`dgamma` represents: $\\frac{\\partial J}{\\partial \\gamma}$\n",
    "\n",
    "`dbeta` represents: $\\frac{\\partial J}{\\partial \\beta}$\n",
    "\n",
    "`dzhat` represents: $\\frac{\\partial J}{\\partial \\hat{z_l}}$\n",
    "\n",
    "`dvar` represents: $\\frac{\\partial J}{\\partial \\sigma^2}$\n",
    "\n",
    "`dmu` represents: $\\frac{\\partial J}{\\partial \\mu}$\n",
    "\n",
    "`dz` represents: $\\frac{\\partial J}{\\partial z_l}$"
   ]
  },
  {
   "cell_type": "code",
   "execution_count": null,
   "metadata": {
    "id": "_UBt-sqxtS-X",
    "tags": [
     "hide-input"
    ]
   },
   "outputs": [],
   "source": [
    "class BatchNormalization:\n",
    "\n",
    "    def __init__(self, momentum=0.9, epsilon=1e-6):\n",
    "        '''\n",
    "        Parameters\n",
    "\n",
    "        momentum: Momentum for the moving average\n",
    "        epsilon: 𝜖, Small float added to variance to avoid dividing by zero\n",
    "        '''\n",
    "        self.epsilon = epsilon\n",
    "        self.momentum = momentum\n",
    "    \n",
    "    def initialize_parameters(self, d):\n",
    "        '''\n",
    "        d: Shape of input to BN layer\n",
    "        '''\n",
    "        self.gamma = np.ones((d))\n",
    "        self.beta = np.zeros((d))\n",
    "        self.running_mean = np.zeros((d))\n",
    "        self.running_var = np.zeros((d))\n",
    "    \n",
    "    def forward(self, z, mode='train'):\n",
    "        '''\n",
    "        z: Input to BN layer\n",
    "        mode: forward pass used for train or test\n",
    "        ''' \n",
    "        if mode=='train':\n",
    "            self.m, self.d = z.shape\n",
    "            self.mu = np.mean(z, axis = 0) # 𝜇\n",
    "            self.var = np.var(z, axis=0) # 𝜎^2\n",
    "            self.zmu = z - self.mu # z - 𝜇\n",
    "            self.ivar = 1 / np.sqrt(self.var + self.epsilon) # 𝜎𝑖𝑛𝑣\n",
    "            self.zhat = self.zmu * self.ivar \n",
    "            q = self.gamma*self.zhat + self.beta # ql\n",
    "            self.running_mean = self.momentum * self.running_mean + (1 - self.momentum) * self.mu\n",
    "            self.running_var = self.momentum * self.running_var + (1 - self.momentum) * self.var\n",
    "        elif mode=='test':\n",
    "            q = (z - self.running_mean) / np.sqrt(self.running_var + self.epsilon)\n",
    "            q = self.gamma*q + self.beta\n",
    "        else:\n",
    "            raise ValueError('Invalid forward batchnorm mode \"%s\"' % mode)\n",
    "        return q\n",
    "\n",
    "    def backpropagation(self, dq):\n",
    "        self.dgamma = np.sum(dq * self.zhat, axis=0)\n",
    "        self.dbeta = np.sum(dq, axis=0)\n",
    "        dzhat = dq * self.gamma\n",
    "        dvar = np.sum(dzhat * self.zmu * (-.5) * (self.ivar**3), axis=0)\n",
    "        dmu = np.sum(dzhat * (-self.ivar), axis=0)\n",
    "        dz = dzhat * self.ivar + dvar * (2/self.m) * self.zmu + (1/self.m)*dmu\n",
    "        return dz\n",
    "\n",
    "    def update(self, lr, m, k):\n",
    "        '''\n",
    "        Parameters:\n",
    "\n",
    "        lr: learning rate\n",
    "        m: batch_size (sumber of samples in batch)\n",
    "        k: iteration_number\n",
    "        '''\n",
    "        self.gamma -= self.dgamma*(lr/m)\n",
    "        self.beta -= self.dbeta*(lr/m)"
   ]
  },
  {
   "cell_type": "markdown",
   "metadata": {
    "id": "EiFpQdngYOue"
   },
   "source": [
    "#### MLP\n",
    "\n",
    "This class finally contains the compile, summary, fit, predict, etc methods for executing our MLP model."
   ]
  },
  {
   "cell_type": "code",
   "execution_count": null,
   "metadata": {
    "id": "nCHl8tjhXTF8",
    "tags": [
     "hide-input"
    ]
   },
   "outputs": [],
   "source": [
    "class MLP:\n",
    "\n",
    "    def __init__(self, layers=None):\n",
    "        '''\n",
    "        This is a sequential MLP model\n",
    "        '''\n",
    "        if layers is None:\n",
    "            self.layers = []\n",
    "        else:\n",
    "            self.layers = layers\n",
    "        self.network_architecture_called = False\n",
    "\n",
    "    def add(self, layer):\n",
    "        # adds a layer to MLP model\n",
    "        self.layers.append(layer)\n",
    "\n",
    "    def Input(self, input_dim):\n",
    "        '''\n",
    "        input_dim: integer showing number of neurons in input layer \n",
    "        '''\n",
    "        self.d = input_dim\n",
    "        self.architecture = [self.d]\n",
    "        self.layer_name = [\"Input\"]\n",
    "    \n",
    "    def network_architecture(self):\n",
    "        for layer in self.layers:\n",
    "            if layer.__class__.__name__=='Dense':\n",
    "                if layer.input_dim is not None:\n",
    "                    self.Input(layer.input_dim)    \n",
    "                self.architecture.append(layer.neurons)\n",
    "                self.layer_name.append(layer.__class__.__name__)\n",
    "            else:\n",
    "                self.architecture.append(self.architecture[-1])\n",
    "                self.layer_name.append(layer.__class__.__name__)\n",
    "\n",
    "    def summary(self):\n",
    "        if self.network_architecture_called==False:\n",
    "            self.network_architecture()\n",
    "            self.network_architecture_called = True\n",
    "        len_assigned = [45, 26, 15]\n",
    "        count = {'Dense': 1, 'Activation': 1, 'Input': 1,\n",
    "                'BatchNormalization': 1, 'Dropout': 1}\n",
    "\n",
    "        col_names = ['Layer (type)', 'Output Shape', '# of Parameters']\n",
    "\n",
    "        print(\"Model: MLP\")\n",
    "        print('-'*sum(len_assigned))\n",
    "\n",
    "        text = ''\n",
    "        for i in range(3):\n",
    "            text += col_names[i] + ' '*(len_assigned[i]-len(col_names[i]))\n",
    "        print(text)\n",
    "\n",
    "        print('='*sum(len_assigned))\n",
    "\n",
    "        total_params = 0\n",
    "        trainable_params = 0\n",
    "        non_trainable_params = 0\n",
    "\n",
    "        for i in range(len(self.layer_name)):\n",
    "            # layer name\n",
    "            layer_name = self.layer_name[i]\n",
    "            name = layer_name.lower() + '_' + str(count[layer_name]) + ' ' + '(' + layer_name + ')'\n",
    "            count[layer_name] += 1\n",
    "\n",
    "            # output shape\n",
    "            out = '(None, ' + str(self.architecture[i]) + ')'\n",
    "\n",
    "            # number of params\n",
    "            if layer_name=='Dense':\n",
    "                h0 = self.architecture[i-1]\n",
    "                h1 = self.architecture[i]\n",
    "                if self.layers[i-1].use_bias:\n",
    "                    params = h0*h1 + h1\n",
    "                else:\n",
    "                    params = h0*h1\n",
    "                total_params += params\n",
    "                trainable_params += params\n",
    "            elif layer_name=='BatchNormalization':\n",
    "                h = self.architecture[i]\n",
    "                params = 4*h\n",
    "                trainable_params += 2*h\n",
    "                non_trainable_params += 2*h\n",
    "                total_params += params\n",
    "            else:\n",
    "                params = 0\n",
    "            names = [name, out, str(params)]\n",
    "\n",
    "            # print this row\n",
    "            text = ''\n",
    "            for j in range(3):\n",
    "                text += names[j] + ' '*(len_assigned[j]-len(names[j]))\n",
    "            print(text)\n",
    "            if i!=(len(self.layer_name)-1):\n",
    "                print('-'*sum(len_assigned))\n",
    "            else:\n",
    "                print('='*sum(len_assigned))\n",
    "\n",
    "        print(\"Total params:\", total_params)\n",
    "        print(\"Trainable params:\", trainable_params)\n",
    "        print(\"Non-trainable params:\", non_trainable_params)\n",
    "        print('-'*sum(len_assigned))\n",
    "\n",
    "    def compile(self, cost_type, optimizer_type):\n",
    "        self.cost = Cost(cost_type)\n",
    "        self.cost_type = cost_type\n",
    "        self.optimizer_type = optimizer_type\n",
    "\n",
    "    def initialize_parameters(self):\n",
    "        if self.network_architecture_called==False:\n",
    "            self.network_architecture()\n",
    "            self.network_architecture_called = True\n",
    "        # initialize parameters for different layers\n",
    "        for i, layer in enumerate(self.layers):\n",
    "            if layer.__class__.__name__=='Dense':\n",
    "                layer.initialize_parameters(self.architecture[i], self.optimizer_type)\n",
    "            elif layer.__class__.__name__=='BatchNormalization':\n",
    "                layer.initialize_parameters(self.architecture[i])\n",
    "\n",
    "    def fit(self, X, y, epochs=10, batch_size=5, lr=1, X_val=None, y_val=None, verbose=1, lr_decay=None, **kwargs):\n",
    "        \n",
    "        self.history = {'Training Loss': [],\n",
    "                        'Validation Loss': [],\n",
    "                        'Training Accuracy': [],\n",
    "                        'Validation Accuracy': []}\n",
    "\n",
    "        iterations = 0\n",
    "        self.m = batch_size\n",
    "        self.initialize_parameters()\n",
    "        \n",
    "        self.layers = [layer for layer in self.layers if layer is not None]\n",
    "\n",
    "        for epoch in range(epochs):\n",
    "            cost_train = 0\n",
    "            num_batches = 0\n",
    "            y_pred_train = []\n",
    "            y_train = []\n",
    "            \n",
    "            print('Epoch: ' + str(epoch+1) + '/' + str(epochs), end=' ')\n",
    "\n",
    "            for i in tqdm(range(0, len(X), batch_size)):\n",
    "                X_batch = X[i:i+batch_size]\n",
    "                y_batch = y[i:i+batch_size]\n",
    "                \n",
    "                Z = X_batch.copy()\n",
    "                # feed-forward\n",
    "                for layer in self.layers:\n",
    "                    Z = layer.forward(Z)\n",
    "\n",
    "                # calculating training accuracy\n",
    "                if self.cost_type=='cross-entropy':\n",
    "                    y_pred_train += np.argmax(Z, axis=1).tolist()\n",
    "                    y_train += np.argmax(y_batch, axis=1).tolist()\n",
    "                \n",
    "                # calculating the loss\n",
    "                cost_train += self.cost.get_cost(Z, y_batch) / self.m\n",
    "\n",
    "                # calculating dL/daL (last layer backprop error)\n",
    "                dZ = self.cost.get_d_cost(Z, y_batch)\n",
    "                \n",
    "                # backpropagation\n",
    "                for layer in self.layers[::-1]:\n",
    "                    dZ = layer.backpropagation(dZ)\n",
    "\n",
    "                # Parameters update\n",
    "                for layer in self.layers:\n",
    "                    if layer.__class__.__name__==('Dense' or 'BatchNormalization'):\n",
    "                        layer.update(lr, self.m, iterations)\n",
    "\n",
    "                # Learning rate decay\n",
    "                if lr_decay is not None:\n",
    "                    lr = lr_decay(iterations, **kwargs)\n",
    "\n",
    "                num_batches += 1\n",
    "                iterations += 1\n",
    "            \n",
    "            cost_train /= num_batches\n",
    "\n",
    "            # printing purpose only (Training Accuracy, Validation loss and accuracy)\n",
    "\n",
    "            text  = 'Training Loss: ' + str(round(cost_train, 4)) + ' - '\n",
    "            self.history['Training Loss'].append(cost_train)\n",
    "\n",
    "            # training accuracy\n",
    "\n",
    "            if self.cost_type=='cross-entropy':\n",
    "                accuracy_train = np.sum(np.array(y_pred_train) == np.array(y_train)) / len(y_train)\n",
    "                text += 'Training Accuracy: ' + str(round(accuracy_train, 4))\n",
    "                self.history['Training Accuracy'].append(accuracy_train)\n",
    "            else:\n",
    "                text += 'Training Accuracy: ' + str(round(cost_train, 4))\n",
    "                self.history['Training Accuracy'].append(cost_train)\n",
    "            \n",
    "            if X_val is not None:\n",
    "                cost_val, accuracy_val = self.evaluate(X_val, y_val, batch_size)\n",
    "                text += ' - Validation Loss: ' + str(round(cost_val, 4)) + ' - '\n",
    "                self.history['Validation Loss'].append(cost_val)\n",
    "                text += 'Validation Accuracy: ' + str(round(accuracy_val, 4))\n",
    "                self.history['Validation Accuracy'].append(accuracy_val)\n",
    "\n",
    "            if verbose:\n",
    "                print(text)\n",
    "            else:\n",
    "                print()\n",
    "\n",
    "    def evaluate(self, X, y, batch_size=None):\n",
    "        \n",
    "        if batch_size is None:\n",
    "            batch_size = len(X)\n",
    "\n",
    "        cost = 0\n",
    "        correct = 0\n",
    "        num_batches = 0\n",
    "        utility = Utility()\n",
    "        Y_1hot, _ = utility.onehot(y)\n",
    "\n",
    "        for i in tqdm(range(0, len(X), batch_size)):\n",
    "            X_batch = X[i:i+batch_size]\n",
    "            y_batch = y[i:i+batch_size]\n",
    "            Y_1hot_batch = Y_1hot[i:i+batch_size]\n",
    "            Z = X_batch.copy()\n",
    "            for layer in self.layers:\n",
    "                if layer.__class__.__name__=='BatchNormalization':\n",
    "                    Z = layer.forward(Z, mode='test')\n",
    "                else:\n",
    "                    Z = layer.forward(Z)\n",
    "            if self.cost_type=='cross-entropy':\n",
    "                cost += self.cost.get_cost(Z, Y_1hot_batch) / len(y_batch)\n",
    "                y_pred = np.argmax(Z, axis=1).tolist()\n",
    "                correct += np.sum(y_pred == y_batch)\n",
    "            else:\n",
    "                cost += self.cost.get_cost(Z, y_batch) / len(y_batch)\n",
    "\n",
    "            num_batches += 1\n",
    "\n",
    "        if self.cost_type=='cross-entropy':\n",
    "            accuracy = correct / len(y)\n",
    "            cost /= num_batches\n",
    "            return cost, accuracy\n",
    "        else:\n",
    "            cost /= num_batches\n",
    "            return cost, cost\n",
    "\n",
    "    def loss_plot(self):\n",
    "        plt.plot(self.history['Training Loss'], 'k')\n",
    "        if len(self.history['Validation Loss'])>0:\n",
    "            plt.plot(self.history['Validation Loss'], 'r')\n",
    "            plt.legend(['Train', 'Validation'], loc='upper right')\n",
    "            plt.title('Model Loss')\n",
    "        else:\n",
    "            plt.title('Training Loss')\n",
    "        plt.ylabel('Loss')\n",
    "        plt.xlabel('Epoch')\n",
    "        plt.show()\n",
    "\n",
    "    def accuracy_plot(self):\n",
    "        plt.plot(self.history['Training Accuracy'], 'k')\n",
    "        if len(self.history['Validation Accuracy'])>0:\n",
    "            plt.plot(self.history['Validation Accuracy'], 'r')\n",
    "            plt.legend(['Train', 'Validation'], loc='lower right')\n",
    "            plt.title('Model Accuracy')\n",
    "        else:\n",
    "            plt.title('Training Accuracy')\n",
    "        plt.ylabel('Accuracy')\n",
    "        plt.xlabel('Epoch')\n",
    "        plt.show()\n",
    "\n",
    "    def predict(self, X, batch_size=None):\n",
    "        \n",
    "        if batch_size==None:\n",
    "            batch_size = len(X)\n",
    "\n",
    "        for i in range(0, len(X), batch_size):\n",
    "            X_batch = X[i:i+batch_size]\n",
    "            Z = X_batch.copy()\n",
    "            for layer in self.layers:\n",
    "                if layer.__class__.__name__=='BatchNormalization':\n",
    "                    Z = layer.forward(Z, mode='test')\n",
    "                else:\n",
    "                    Z = layer.forward(Z)\n",
    "            if i==0:\n",
    "                if self.cost_type=='cross-entropy':\n",
    "                    y_pred = np.argmax(Z, axis=1).tolist()\n",
    "                else:\n",
    "                    y_pred = Z\n",
    "            else:\n",
    "                if self.cost_type=='cross-entropy':\n",
    "                    y_pred += np.argmax(Z, axis=1).tolist()\n",
    "                else:\n",
    "                    y_pred = np.vstack((y_pred, Z))\n",
    "        \n",
    "        return np.array(y_pred)"
   ]
  },
  {
   "cell_type": "markdown",
   "metadata": {
    "id": "gCKf9K9RNcLE"
   },
   "source": [
    "### Validating model using Iris Dataset\n",
    "\n",
    "Check this [page](https://archive.ics.uci.edu/ml/datasets/iris) (link to an external website) to know more about **Iris dataset**"
   ]
  },
  {
   "cell_type": "code",
   "execution_count": null,
   "metadata": {
    "id": "oLhgAvNA3iib",
    "tags": []
   },
   "outputs": [],
   "source": [
    "iris = load_iris()\n",
    "X, y = iris.data, iris.target\n",
    "\n",
    "utility = Utility()\n",
    "\n",
    "# train test split\n",
    "X_train, X_test, y_train, y_test = utility.train_test_split(X, y, test_ratio=0.3, seed=42)\n",
    "\n",
    "# standardize train data\n",
    "X_train_std, mu_X_train, std_X_train = utility.standardize(X_train)\n",
    "\n",
    "# use mean and std of train to standardize test data\n",
    "X_test_std, _, _ = utility.standardize(X_test, mu_X_train, std_X_train)\n",
    "\n",
    "# train validation split\n",
    "X_train_new, X_val, y_train_new, y_val = utility.train_test_split(X_train_std, y_train, test_ratio=0.2, seed=42)\n",
    "\n",
    "Y_1hot_train, _ = utility.onehot(y_train_new)\n",
    "\n",
    "lr, epochs, batch_size = 0.1, 100, 2\n",
    "input_dim = X_train_new.shape[1]\n",
    "output_dim = Y_1hot_train.shape[1]"
   ]
  },
  {
   "cell_type": "markdown",
   "metadata": {
    "id": "K6JKrsuZuf5w"
   },
   "source": [
    "Building the MLP model"
   ]
  },
  {
   "cell_type": "code",
   "execution_count": null,
   "metadata": {
    "id": "OVx_M_7x3kxR",
    "tags": []
   },
   "outputs": [],
   "source": [
    "model = MLP()\n",
    "model.add(Dense(neurons=6, \n",
    "                activation_type='relu', \n",
    "                input_dim=input_dim, \n",
    "                seed=42, \n",
    "                weight_initializer_type='random_normal'))\n",
    "\n",
    "model.add(Dense(neurons=output_dim, \n",
    "                activation_type='softmax', \n",
    "                weight_initializer_type='random_normal', \n",
    "                seed=42))"
   ]
  },
  {
   "cell_type": "markdown",
   "metadata": {
    "id": "MdiV1NQlujwn"
   },
   "source": [
    "Printing the model summary (description). "
   ]
  },
  {
   "cell_type": "code",
   "execution_count": null,
   "metadata": {
    "colab": {
     "base_uri": "https://localhost:8080/"
    },
    "id": "74P23K7aTrNF",
    "outputId": "abc18ca7-83d3-41f3-bec7-07e59ad73d92",
    "tags": []
   },
   "outputs": [
    {
     "name": "stdout",
     "output_type": "stream",
     "text": [
      "Model: MLP\n",
      "--------------------------------------------------------------------------------------\n",
      "Layer (type)                                 Output Shape              # of Parameters\n",
      "======================================================================================\n",
      "input_1 (Input)                              (None, 4)                 0              \n",
      "--------------------------------------------------------------------------------------\n",
      "dense_1 (Dense)                              (None, 6)                 30             \n",
      "--------------------------------------------------------------------------------------\n",
      "dense_2 (Dense)                              (None, 3)                 21             \n",
      "======================================================================================\n",
      "Total params: 51\n",
      "Trainable params: 51\n",
      "Non-trainable params: 0\n",
      "--------------------------------------------------------------------------------------\n"
     ]
    }
   ],
   "source": [
    "model.summary()"
   ]
  },
  {
   "cell_type": "markdown",
   "metadata": {
    "id": "ntedO18ZunSq"
   },
   "source": [
    "Compiling the MLP model (that is adding the cost and optimizer types)"
   ]
  },
  {
   "cell_type": "code",
   "execution_count": null,
   "metadata": {
    "id": "kVAogvqE4cHO",
    "tags": []
   },
   "outputs": [],
   "source": [
    "model.compile(cost_type='cross-entropy', optimizer_type='gd')"
   ]
  },
  {
   "cell_type": "code",
   "execution_count": null,
   "metadata": {
    "colab": {
     "base_uri": "https://localhost:8080/"
    },
    "id": "zv1LAN334yPk",
    "outputId": "dae04e5c-3cb3-440f-9f4a-67072caceebc",
    "tags": [
     "hide-output"
    ]
   },
   "outputs": [
    {
     "name": "stdout",
     "output_type": "stream",
     "text": [
      "Epoch: 1/100 "
     ]
    },
    {
     "name": "stderr",
     "output_type": "stream",
     "text": [
      "100%|██████████| 42/42 [00:00<00:00, 1696.02it/s]\n",
      "100%|██████████| 11/11 [00:00<00:00, 3224.58it/s]\n"
     ]
    },
    {
     "name": "stdout",
     "output_type": "stream",
     "text": [
      "Training Loss: 0.7243 - Training Accuracy: 0.5476 - Validation Loss: 0.4471 - Validation Accuracy: 0.7143\n",
      "Epoch: 2/100 "
     ]
    },
    {
     "name": "stderr",
     "output_type": "stream",
     "text": [
      "100%|██████████| 42/42 [00:00<00:00, 1328.80it/s]\n",
      "100%|██████████| 11/11 [00:00<00:00, 1949.44it/s]\n"
     ]
    },
    {
     "name": "stdout",
     "output_type": "stream",
     "text": [
      "Training Loss: 0.4963 - Training Accuracy: 0.7381 - Validation Loss: 0.4185 - Validation Accuracy: 0.7143\n",
      "Epoch: 3/100 "
     ]
    },
    {
     "name": "stderr",
     "output_type": "stream",
     "text": [
      "100%|██████████| 42/42 [00:00<00:00, 1539.25it/s]\n",
      "100%|██████████| 11/11 [00:00<00:00, 3577.65it/s]\n"
     ]
    },
    {
     "name": "stdout",
     "output_type": "stream",
     "text": [
      "Training Loss: 0.4477 - Training Accuracy: 0.7619 - Validation Loss: 0.3932 - Validation Accuracy: 0.7143\n",
      "Epoch: 4/100 "
     ]
    },
    {
     "name": "stderr",
     "output_type": "stream",
     "text": [
      "100%|██████████| 42/42 [00:00<00:00, 1610.76it/s]\n",
      "100%|██████████| 11/11 [00:00<00:00, 3512.55it/s]\n"
     ]
    },
    {
     "name": "stdout",
     "output_type": "stream",
     "text": [
      "Training Loss: 0.4178 - Training Accuracy: 0.7738 - Validation Loss: 0.3741 - Validation Accuracy: 0.7619\n",
      "Epoch: 5/100 "
     ]
    },
    {
     "name": "stderr",
     "output_type": "stream",
     "text": [
      "100%|██████████| 42/42 [00:00<00:00, 1818.17it/s]\n",
      "100%|██████████| 11/11 [00:00<00:00, 4690.66it/s]\n"
     ]
    },
    {
     "name": "stdout",
     "output_type": "stream",
     "text": [
      "Training Loss: 0.3956 - Training Accuracy: 0.7857 - Validation Loss: 0.3524 - Validation Accuracy: 0.7619\n",
      "Epoch: 6/100 "
     ]
    },
    {
     "name": "stderr",
     "output_type": "stream",
     "text": [
      "100%|██████████| 42/42 [00:00<00:00, 2114.52it/s]\n",
      "100%|██████████| 11/11 [00:00<00:00, 3576.82it/s]\n"
     ]
    },
    {
     "name": "stdout",
     "output_type": "stream",
     "text": [
      "Training Loss: 0.3789 - Training Accuracy: 0.7857 - Validation Loss: 0.3414 - Validation Accuracy: 0.7619\n",
      "Epoch: 7/100 "
     ]
    },
    {
     "name": "stderr",
     "output_type": "stream",
     "text": [
      "100%|██████████| 42/42 [00:00<00:00, 1132.53it/s]\n",
      "100%|██████████| 11/11 [00:00<00:00, 1941.40it/s]\n"
     ]
    },
    {
     "name": "stdout",
     "output_type": "stream",
     "text": [
      "Training Loss: 0.3638 - Training Accuracy: 0.7857 - Validation Loss: 0.3285 - Validation Accuracy: 0.7619\n",
      "Epoch: 8/100 "
     ]
    },
    {
     "name": "stderr",
     "output_type": "stream",
     "text": [
      "100%|██████████| 42/42 [00:00<00:00, 1445.35it/s]\n",
      "100%|██████████| 11/11 [00:00<00:00, 3676.58it/s]\n"
     ]
    },
    {
     "name": "stdout",
     "output_type": "stream",
     "text": [
      "Training Loss: 0.3509 - Training Accuracy: 0.7976 - Validation Loss: 0.3144 - Validation Accuracy: 0.7619\n",
      "Epoch: 9/100 "
     ]
    },
    {
     "name": "stderr",
     "output_type": "stream",
     "text": [
      "100%|██████████| 42/42 [00:00<00:00, 1416.41it/s]\n",
      "100%|██████████| 11/11 [00:00<00:00, 6378.73it/s]\n"
     ]
    },
    {
     "name": "stdout",
     "output_type": "stream",
     "text": [
      "Training Loss: 0.341 - Training Accuracy: 0.7976 - Validation Loss: 0.2954 - Validation Accuracy: 0.7619\n",
      "Epoch: 10/100 "
     ]
    },
    {
     "name": "stderr",
     "output_type": "stream",
     "text": [
      "100%|██████████| 42/42 [00:00<00:00, 1842.34it/s]\n",
      "100%|██████████| 11/11 [00:00<00:00, 3710.28it/s]\n"
     ]
    },
    {
     "name": "stdout",
     "output_type": "stream",
     "text": [
      "Training Loss: 0.3293 - Training Accuracy: 0.7976 - Validation Loss: 0.2765 - Validation Accuracy: 0.8095\n",
      "Epoch: 11/100 "
     ]
    },
    {
     "name": "stderr",
     "output_type": "stream",
     "text": [
      "100%|██████████| 42/42 [00:00<00:00, 1579.80it/s]\n",
      "100%|██████████| 11/11 [00:00<00:00, 2944.69it/s]\n"
     ]
    },
    {
     "name": "stdout",
     "output_type": "stream",
     "text": [
      "Training Loss: 0.3166 - Training Accuracy: 0.8095 - Validation Loss: 0.2604 - Validation Accuracy: 0.8095\n",
      "Epoch: 12/100 "
     ]
    },
    {
     "name": "stderr",
     "output_type": "stream",
     "text": [
      "100%|██████████| 42/42 [00:00<00:00, 1642.69it/s]\n",
      "100%|██████████| 11/11 [00:00<00:00, 2689.60it/s]\n"
     ]
    },
    {
     "name": "stdout",
     "output_type": "stream",
     "text": [
      "Training Loss: 0.3059 - Training Accuracy: 0.8214 - Validation Loss: 0.2412 - Validation Accuracy: 0.8095\n",
      "Epoch: 13/100 "
     ]
    },
    {
     "name": "stderr",
     "output_type": "stream",
     "text": [
      "100%|██████████| 42/42 [00:00<00:00, 1941.38it/s]\n",
      "100%|██████████| 11/11 [00:00<00:00, 2120.28it/s]\n"
     ]
    },
    {
     "name": "stdout",
     "output_type": "stream",
     "text": [
      "Training Loss: 0.2911 - Training Accuracy: 0.8095 - Validation Loss: 0.2254 - Validation Accuracy: 0.8095\n",
      "Epoch: 14/100 "
     ]
    },
    {
     "name": "stderr",
     "output_type": "stream",
     "text": [
      "100%|██████████| 42/42 [00:00<00:00, 1719.21it/s]\n",
      "100%|██████████| 11/11 [00:00<00:00, 3017.48it/s]\n"
     ]
    },
    {
     "name": "stdout",
     "output_type": "stream",
     "text": [
      "Training Loss: 0.2792 - Training Accuracy: 0.8452 - Validation Loss: 0.205 - Validation Accuracy: 0.9048\n",
      "Epoch: 15/100 "
     ]
    },
    {
     "name": "stderr",
     "output_type": "stream",
     "text": [
      "100%|██████████| 42/42 [00:00<00:00, 1226.87it/s]\n",
      "100%|██████████| 11/11 [00:00<00:00, 2623.83it/s]\n"
     ]
    },
    {
     "name": "stdout",
     "output_type": "stream",
     "text": [
      "Training Loss: 0.2624 - Training Accuracy: 0.8452 - Validation Loss: 0.1882 - Validation Accuracy: 0.9048\n",
      "Epoch: 16/100 "
     ]
    },
    {
     "name": "stderr",
     "output_type": "stream",
     "text": [
      "100%|██████████| 42/42 [00:00<00:00, 1336.61it/s]\n",
      "100%|██████████| 11/11 [00:00<00:00, 1518.47it/s]\n"
     ]
    },
    {
     "name": "stdout",
     "output_type": "stream",
     "text": [
      "Training Loss: 0.2467 - Training Accuracy: 0.8452 - Validation Loss: 0.1743 - Validation Accuracy: 0.9524\n",
      "Epoch: 17/100 "
     ]
    },
    {
     "name": "stderr",
     "output_type": "stream",
     "text": [
      "100%|██████████| 42/42 [00:00<00:00, 1574.97it/s]\n",
      "100%|██████████| 11/11 [00:00<00:00, 3349.84it/s]\n"
     ]
    },
    {
     "name": "stdout",
     "output_type": "stream",
     "text": [
      "Training Loss: 0.2319 - Training Accuracy: 0.869 - Validation Loss: 0.1616 - Validation Accuracy: 1.0\n",
      "Epoch: 18/100 "
     ]
    },
    {
     "name": "stderr",
     "output_type": "stream",
     "text": [
      "100%|██████████| 42/42 [00:00<00:00, 1268.37it/s]\n",
      "100%|██████████| 11/11 [00:00<00:00, 3029.57it/s]\n"
     ]
    },
    {
     "name": "stdout",
     "output_type": "stream",
     "text": [
      "Training Loss: 0.216 - Training Accuracy: 0.8929 - Validation Loss: 0.1504 - Validation Accuracy: 1.0\n",
      "Epoch: 19/100 "
     ]
    },
    {
     "name": "stderr",
     "output_type": "stream",
     "text": [
      "100%|██████████| 42/42 [00:00<00:00, 1463.66it/s]\n",
      "100%|██████████| 11/11 [00:00<00:00, 2586.17it/s]\n"
     ]
    },
    {
     "name": "stdout",
     "output_type": "stream",
     "text": [
      "Training Loss: 0.2019 - Training Accuracy: 0.9167 - Validation Loss: 0.1415 - Validation Accuracy: 0.9524\n",
      "Epoch: 20/100 "
     ]
    },
    {
     "name": "stderr",
     "output_type": "stream",
     "text": [
      "100%|██████████| 42/42 [00:00<00:00, 1194.52it/s]\n",
      "100%|██████████| 11/11 [00:00<00:00, 3067.44it/s]\n"
     ]
    },
    {
     "name": "stdout",
     "output_type": "stream",
     "text": [
      "Training Loss: 0.1874 - Training Accuracy: 0.9286 - Validation Loss: 0.1347 - Validation Accuracy: 0.9524\n",
      "Epoch: 21/100 "
     ]
    },
    {
     "name": "stderr",
     "output_type": "stream",
     "text": [
      "100%|██████████| 42/42 [00:00<00:00, 932.19it/s]\n",
      "100%|██████████| 11/11 [00:00<00:00, 3359.84it/s]\n"
     ]
    },
    {
     "name": "stdout",
     "output_type": "stream",
     "text": [
      "Training Loss: 0.1738 - Training Accuracy: 0.9286 - Validation Loss: 0.1289 - Validation Accuracy: 0.9524\n",
      "Epoch: 22/100 "
     ]
    },
    {
     "name": "stderr",
     "output_type": "stream",
     "text": [
      "100%|██████████| 42/42 [00:00<00:00, 1300.88it/s]\n",
      "100%|██████████| 11/11 [00:00<00:00, 6565.72it/s]\n"
     ]
    },
    {
     "name": "stdout",
     "output_type": "stream",
     "text": [
      "Training Loss: 0.1613 - Training Accuracy: 0.9405 - Validation Loss: 0.1245 - Validation Accuracy: 0.9524\n",
      "Epoch: 23/100 "
     ]
    },
    {
     "name": "stderr",
     "output_type": "stream",
     "text": [
      "100%|██████████| 42/42 [00:00<00:00, 1989.93it/s]\n",
      "100%|██████████| 11/11 [00:00<00:00, 978.48it/s]\n"
     ]
    },
    {
     "name": "stdout",
     "output_type": "stream",
     "text": [
      "Training Loss: 0.1497 - Training Accuracy: 0.9524 - Validation Loss: 0.1209 - Validation Accuracy: 0.9524\n",
      "Epoch: 24/100 "
     ]
    },
    {
     "name": "stderr",
     "output_type": "stream",
     "text": [
      "100%|██████████| 42/42 [00:00<00:00, 695.94it/s]\n",
      "100%|██████████| 11/11 [00:00<00:00, 3587.94it/s]\n"
     ]
    },
    {
     "name": "stdout",
     "output_type": "stream",
     "text": [
      "Training Loss: 0.1397 - Training Accuracy: 0.9524 - Validation Loss: 0.1182 - Validation Accuracy: 0.9524\n",
      "Epoch: 25/100 "
     ]
    },
    {
     "name": "stderr",
     "output_type": "stream",
     "text": [
      "100%|██████████| 42/42 [00:00<00:00, 936.68it/s]\n",
      "100%|██████████| 11/11 [00:00<00:00, 1873.60it/s]\n"
     ]
    },
    {
     "name": "stdout",
     "output_type": "stream",
     "text": [
      "Training Loss: 0.1305 - Training Accuracy: 0.9524 - Validation Loss: 0.1159 - Validation Accuracy: 0.9524\n",
      "Epoch: 26/100 "
     ]
    },
    {
     "name": "stderr",
     "output_type": "stream",
     "text": [
      "100%|██████████| 42/42 [00:00<00:00, 1181.92it/s]\n",
      "100%|██████████| 11/11 [00:00<00:00, 2746.43it/s]\n"
     ]
    },
    {
     "name": "stdout",
     "output_type": "stream",
     "text": [
      "Training Loss: 0.1227 - Training Accuracy: 0.9524 - Validation Loss: 0.1141 - Validation Accuracy: 0.9524\n",
      "Epoch: 27/100 "
     ]
    },
    {
     "name": "stderr",
     "output_type": "stream",
     "text": [
      "100%|██████████| 42/42 [00:00<00:00, 1224.18it/s]\n",
      "100%|██████████| 11/11 [00:00<00:00, 2292.77it/s]\n"
     ]
    },
    {
     "name": "stdout",
     "output_type": "stream",
     "text": [
      "Training Loss: 0.1159 - Training Accuracy: 0.9524 - Validation Loss: 0.1124 - Validation Accuracy: 0.9524\n",
      "Epoch: 28/100 "
     ]
    },
    {
     "name": "stderr",
     "output_type": "stream",
     "text": [
      "100%|██████████| 42/42 [00:00<00:00, 1508.21it/s]\n",
      "100%|██████████| 11/11 [00:00<00:00, 3057.48it/s]\n"
     ]
    },
    {
     "name": "stdout",
     "output_type": "stream",
     "text": [
      "Training Loss: 0.11 - Training Accuracy: 0.9524 - Validation Loss: 0.1114 - Validation Accuracy: 0.9524\n",
      "Epoch: 29/100 "
     ]
    },
    {
     "name": "stderr",
     "output_type": "stream",
     "text": [
      "100%|██████████| 42/42 [00:00<00:00, 980.94it/s]\n",
      "100%|██████████| 11/11 [00:00<00:00, 3299.30it/s]\n"
     ]
    },
    {
     "name": "stdout",
     "output_type": "stream",
     "text": [
      "Training Loss: 0.105 - Training Accuracy: 0.9524 - Validation Loss: 0.1102 - Validation Accuracy: 0.9524\n",
      "Epoch: 30/100 "
     ]
    },
    {
     "name": "stderr",
     "output_type": "stream",
     "text": [
      "100%|██████████| 42/42 [00:00<00:00, 1768.63it/s]\n",
      "100%|██████████| 11/11 [00:00<00:00, 2317.88it/s]\n"
     ]
    },
    {
     "name": "stdout",
     "output_type": "stream",
     "text": [
      "Training Loss: 0.1007 - Training Accuracy: 0.9524 - Validation Loss: 0.1092 - Validation Accuracy: 0.9524\n",
      "Epoch: 31/100 "
     ]
    },
    {
     "name": "stderr",
     "output_type": "stream",
     "text": [
      "100%|██████████| 42/42 [00:00<00:00, 1441.83it/s]\n",
      "100%|██████████| 11/11 [00:00<00:00, 3642.61it/s]\n"
     ]
    },
    {
     "name": "stdout",
     "output_type": "stream",
     "text": [
      "Training Loss: 0.0968 - Training Accuracy: 0.9524 - Validation Loss: 0.1085 - Validation Accuracy: 0.9524\n",
      "Epoch: 32/100 "
     ]
    },
    {
     "name": "stderr",
     "output_type": "stream",
     "text": [
      "100%|██████████| 42/42 [00:00<00:00, 1949.05it/s]\n",
      "100%|██████████| 11/11 [00:00<00:00, 3954.86it/s]\n"
     ]
    },
    {
     "name": "stdout",
     "output_type": "stream",
     "text": [
      "Training Loss: 0.0935 - Training Accuracy: 0.9524 - Validation Loss: 0.1077 - Validation Accuracy: 0.9524\n",
      "Epoch: 33/100 "
     ]
    },
    {
     "name": "stderr",
     "output_type": "stream",
     "text": [
      "100%|██████████| 42/42 [00:00<00:00, 1533.23it/s]\n",
      "100%|██████████| 11/11 [00:00<00:00, 3134.97it/s]\n"
     ]
    },
    {
     "name": "stdout",
     "output_type": "stream",
     "text": [
      "Training Loss: 0.0907 - Training Accuracy: 0.9524 - Validation Loss: 0.1069 - Validation Accuracy: 0.9524\n",
      "Epoch: 34/100 "
     ]
    },
    {
     "name": "stderr",
     "output_type": "stream",
     "text": [
      "100%|██████████| 42/42 [00:00<00:00, 1922.56it/s]\n",
      "100%|██████████| 11/11 [00:00<00:00, 3718.05it/s]\n"
     ]
    },
    {
     "name": "stdout",
     "output_type": "stream",
     "text": [
      "Training Loss: 0.088 - Training Accuracy: 0.9524 - Validation Loss: 0.1063 - Validation Accuracy: 0.9524\n",
      "Epoch: 35/100 "
     ]
    },
    {
     "name": "stderr",
     "output_type": "stream",
     "text": [
      "100%|██████████| 42/42 [00:00<00:00, 1512.85it/s]\n",
      "100%|██████████| 11/11 [00:00<00:00, 6179.66it/s]\n"
     ]
    },
    {
     "name": "stdout",
     "output_type": "stream",
     "text": [
      "Training Loss: 0.0858 - Training Accuracy: 0.9524 - Validation Loss: 0.1057 - Validation Accuracy: 0.9524\n",
      "Epoch: 36/100 "
     ]
    },
    {
     "name": "stderr",
     "output_type": "stream",
     "text": [
      "100%|██████████| 42/42 [00:00<00:00, 1323.05it/s]\n",
      "100%|██████████| 11/11 [00:00<00:00, 2013.94it/s]\n"
     ]
    },
    {
     "name": "stdout",
     "output_type": "stream",
     "text": [
      "Training Loss: 0.0838 - Training Accuracy: 0.9524 - Validation Loss: 0.1051 - Validation Accuracy: 0.9524\n",
      "Epoch: 37/100 "
     ]
    },
    {
     "name": "stderr",
     "output_type": "stream",
     "text": [
      "100%|██████████| 42/42 [00:00<00:00, 1647.56it/s]\n",
      "100%|██████████| 11/11 [00:00<00:00, 4246.42it/s]\n"
     ]
    },
    {
     "name": "stdout",
     "output_type": "stream",
     "text": [
      "Training Loss: 0.0819 - Training Accuracy: 0.9524 - Validation Loss: 0.1047 - Validation Accuracy: 0.9524\n",
      "Epoch: 38/100 "
     ]
    },
    {
     "name": "stderr",
     "output_type": "stream",
     "text": [
      "100%|██████████| 42/42 [00:00<00:00, 1147.62it/s]\n",
      "100%|██████████| 11/11 [00:00<00:00, 3053.63it/s]\n"
     ]
    },
    {
     "name": "stdout",
     "output_type": "stream",
     "text": [
      "Training Loss: 0.0803 - Training Accuracy: 0.9524 - Validation Loss: 0.1043 - Validation Accuracy: 0.9524\n",
      "Epoch: 39/100 "
     ]
    },
    {
     "name": "stderr",
     "output_type": "stream",
     "text": [
      "100%|██████████| 42/42 [00:00<00:00, 1230.71it/s]\n",
      "100%|██████████| 11/11 [00:00<00:00, 3138.17it/s]\n"
     ]
    },
    {
     "name": "stdout",
     "output_type": "stream",
     "text": [
      "Training Loss: 0.0788 - Training Accuracy: 0.9524 - Validation Loss: 0.1038 - Validation Accuracy: 0.9524\n",
      "Epoch: 40/100 "
     ]
    },
    {
     "name": "stderr",
     "output_type": "stream",
     "text": [
      "100%|██████████| 42/42 [00:00<00:00, 1428.59it/s]\n",
      "100%|██████████| 11/11 [00:00<00:00, 3405.72it/s]\n"
     ]
    },
    {
     "name": "stdout",
     "output_type": "stream",
     "text": [
      "Training Loss: 0.0775 - Training Accuracy: 0.9524 - Validation Loss: 0.1035 - Validation Accuracy: 0.9524\n",
      "Epoch: 41/100 "
     ]
    },
    {
     "name": "stderr",
     "output_type": "stream",
     "text": [
      "100%|██████████| 42/42 [00:00<00:00, 1109.47it/s]\n",
      "100%|██████████| 11/11 [00:00<00:00, 2639.59it/s]\n"
     ]
    },
    {
     "name": "stdout",
     "output_type": "stream",
     "text": [
      "Training Loss: 0.0763 - Training Accuracy: 0.9524 - Validation Loss: 0.1033 - Validation Accuracy: 0.9524\n",
      "Epoch: 42/100 "
     ]
    },
    {
     "name": "stderr",
     "output_type": "stream",
     "text": [
      "100%|██████████| 42/42 [00:00<00:00, 1152.96it/s]\n",
      "100%|██████████| 11/11 [00:00<00:00, 1992.72it/s]\n"
     ]
    },
    {
     "name": "stdout",
     "output_type": "stream",
     "text": [
      "Training Loss: 0.0751 - Training Accuracy: 0.9643 - Validation Loss: 0.103 - Validation Accuracy: 0.9524\n",
      "Epoch: 43/100 "
     ]
    },
    {
     "name": "stderr",
     "output_type": "stream",
     "text": [
      "100%|██████████| 42/42 [00:00<00:00, 1632.75it/s]\n",
      "100%|██████████| 11/11 [00:00<00:00, 3376.56it/s]\n"
     ]
    },
    {
     "name": "stdout",
     "output_type": "stream",
     "text": [
      "Training Loss: 0.0741 - Training Accuracy: 0.9643 - Validation Loss: 0.1027 - Validation Accuracy: 0.9524\n",
      "Epoch: 44/100 "
     ]
    },
    {
     "name": "stderr",
     "output_type": "stream",
     "text": [
      "100%|██████████| 42/42 [00:00<00:00, 949.39it/s]\n",
      "100%|██████████| 11/11 [00:00<00:00, 3607.58it/s]\n"
     ]
    },
    {
     "name": "stdout",
     "output_type": "stream",
     "text": [
      "Training Loss: 0.0729 - Training Accuracy: 0.9762 - Validation Loss: 0.1025 - Validation Accuracy: 0.9524\n",
      "Epoch: 45/100 "
     ]
    },
    {
     "name": "stderr",
     "output_type": "stream",
     "text": [
      "100%|██████████| 42/42 [00:00<00:00, 1338.93it/s]\n",
      "100%|██████████| 11/11 [00:00<00:00, 3029.57it/s]\n"
     ]
    },
    {
     "name": "stdout",
     "output_type": "stream",
     "text": [
      "Training Loss: 0.0721 - Training Accuracy: 0.9643 - Validation Loss: 0.1022 - Validation Accuracy: 0.9524\n",
      "Epoch: 46/100 "
     ]
    },
    {
     "name": "stderr",
     "output_type": "stream",
     "text": [
      "100%|██████████| 42/42 [00:00<00:00, 1768.90it/s]\n",
      "100%|██████████| 11/11 [00:00<00:00, 5516.18it/s]\n"
     ]
    },
    {
     "name": "stdout",
     "output_type": "stream",
     "text": [
      "Training Loss: 0.0713 - Training Accuracy: 0.9762 - Validation Loss: 0.102 - Validation Accuracy: 0.9524\n",
      "Epoch: 47/100 "
     ]
    },
    {
     "name": "stderr",
     "output_type": "stream",
     "text": [
      "100%|██████████| 42/42 [00:00<00:00, 1429.64it/s]\n",
      "100%|██████████| 11/11 [00:00<00:00, 2990.30it/s]\n"
     ]
    },
    {
     "name": "stdout",
     "output_type": "stream",
     "text": [
      "Training Loss: 0.0704 - Training Accuracy: 0.9762 - Validation Loss: 0.1018 - Validation Accuracy: 0.9524\n",
      "Epoch: 48/100 "
     ]
    },
    {
     "name": "stderr",
     "output_type": "stream",
     "text": [
      "100%|██████████| 42/42 [00:00<00:00, 1246.51it/s]\n",
      "100%|██████████| 11/11 [00:00<00:00, 3700.16it/s]\n"
     ]
    },
    {
     "name": "stdout",
     "output_type": "stream",
     "text": [
      "Training Loss: 0.0697 - Training Accuracy: 0.9762 - Validation Loss: 0.1017 - Validation Accuracy: 0.9524\n",
      "Epoch: 49/100 "
     ]
    },
    {
     "name": "stderr",
     "output_type": "stream",
     "text": [
      "100%|██████████| 42/42 [00:00<00:00, 1826.67it/s]\n",
      "100%|██████████| 11/11 [00:00<00:00, 3545.75it/s]\n"
     ]
    },
    {
     "name": "stdout",
     "output_type": "stream",
     "text": [
      "Training Loss: 0.069 - Training Accuracy: 0.9762 - Validation Loss: 0.1015 - Validation Accuracy: 0.9524\n",
      "Epoch: 50/100 "
     ]
    },
    {
     "name": "stderr",
     "output_type": "stream",
     "text": [
      "100%|██████████| 42/42 [00:00<00:00, 1519.86it/s]\n",
      "100%|██████████| 11/11 [00:00<00:00, 2398.12it/s]\n"
     ]
    },
    {
     "name": "stdout",
     "output_type": "stream",
     "text": [
      "Training Loss: 0.0683 - Training Accuracy: 0.9762 - Validation Loss: 0.1014 - Validation Accuracy: 0.9524\n",
      "Epoch: 51/100 "
     ]
    },
    {
     "name": "stderr",
     "output_type": "stream",
     "text": [
      "100%|██████████| 42/42 [00:00<00:00, 1524.74it/s]\n",
      "100%|██████████| 11/11 [00:00<00:00, 2952.79it/s]\n"
     ]
    },
    {
     "name": "stdout",
     "output_type": "stream",
     "text": [
      "Training Loss: 0.0676 - Training Accuracy: 0.9762 - Validation Loss: 0.1013 - Validation Accuracy: 0.9524\n",
      "Epoch: 52/100 "
     ]
    },
    {
     "name": "stderr",
     "output_type": "stream",
     "text": [
      "100%|██████████| 42/42 [00:00<00:00, 1692.55it/s]\n",
      "100%|██████████| 11/11 [00:00<00:00, 3449.78it/s]\n"
     ]
    },
    {
     "name": "stdout",
     "output_type": "stream",
     "text": [
      "Training Loss: 0.0671 - Training Accuracy: 0.9762 - Validation Loss: 0.1012 - Validation Accuracy: 0.9524\n",
      "Epoch: 53/100 "
     ]
    },
    {
     "name": "stderr",
     "output_type": "stream",
     "text": [
      "100%|██████████| 42/42 [00:00<00:00, 1318.23it/s]\n",
      "100%|██████████| 11/11 [00:00<00:00, 2431.22it/s]\n"
     ]
    },
    {
     "name": "stdout",
     "output_type": "stream",
     "text": [
      "Training Loss: 0.0665 - Training Accuracy: 0.9762 - Validation Loss: 0.1011 - Validation Accuracy: 0.9524\n",
      "Epoch: 54/100 "
     ]
    },
    {
     "name": "stderr",
     "output_type": "stream",
     "text": [
      "100%|██████████| 42/42 [00:00<00:00, 1106.04it/s]\n",
      "100%|██████████| 11/11 [00:00<00:00, 4389.43it/s]\n"
     ]
    },
    {
     "name": "stdout",
     "output_type": "stream",
     "text": [
      "Training Loss: 0.066 - Training Accuracy: 0.9762 - Validation Loss: 0.101 - Validation Accuracy: 0.9524\n",
      "Epoch: 55/100 "
     ]
    },
    {
     "name": "stderr",
     "output_type": "stream",
     "text": [
      "100%|██████████| 42/42 [00:00<00:00, 1246.68it/s]\n",
      "100%|██████████| 11/11 [00:00<00:00, 1540.84it/s]\n"
     ]
    },
    {
     "name": "stdout",
     "output_type": "stream",
     "text": [
      "Training Loss: 0.0655 - Training Accuracy: 0.9762 - Validation Loss: 0.101 - Validation Accuracy: 0.9524\n",
      "Epoch: 56/100 "
     ]
    },
    {
     "name": "stderr",
     "output_type": "stream",
     "text": [
      "100%|██████████| 42/42 [00:00<00:00, 1999.69it/s]\n",
      "100%|██████████| 11/11 [00:00<00:00, 3671.60it/s]\n"
     ]
    },
    {
     "name": "stdout",
     "output_type": "stream",
     "text": [
      "Training Loss: 0.065 - Training Accuracy: 0.9762 - Validation Loss: 0.101 - Validation Accuracy: 0.9524\n",
      "Epoch: 57/100 "
     ]
    },
    {
     "name": "stderr",
     "output_type": "stream",
     "text": [
      "100%|██████████| 42/42 [00:00<00:00, 1114.23it/s]\n",
      "100%|██████████| 11/11 [00:00<00:00, 2954.87it/s]\n"
     ]
    },
    {
     "name": "stdout",
     "output_type": "stream",
     "text": [
      "Training Loss: 0.0645 - Training Accuracy: 0.9762 - Validation Loss: 0.1009 - Validation Accuracy: 0.9524\n",
      "Epoch: 58/100 "
     ]
    },
    {
     "name": "stderr",
     "output_type": "stream",
     "text": [
      "100%|██████████| 42/42 [00:00<00:00, 1547.73it/s]\n",
      "100%|██████████| 11/11 [00:00<00:00, 3512.02it/s]\n"
     ]
    },
    {
     "name": "stdout",
     "output_type": "stream",
     "text": [
      "Training Loss: 0.0641 - Training Accuracy: 0.9762 - Validation Loss: 0.1009 - Validation Accuracy: 0.9524\n",
      "Epoch: 59/100 "
     ]
    },
    {
     "name": "stderr",
     "output_type": "stream",
     "text": [
      "100%|██████████| 42/42 [00:00<00:00, 1205.51it/s]\n",
      "100%|██████████| 11/11 [00:00<00:00, 1440.98it/s]\n"
     ]
    },
    {
     "name": "stdout",
     "output_type": "stream",
     "text": [
      "Training Loss: 0.0636 - Training Accuracy: 0.9762 - Validation Loss: 0.1009 - Validation Accuracy: 0.9524\n",
      "Epoch: 60/100 "
     ]
    },
    {
     "name": "stderr",
     "output_type": "stream",
     "text": [
      "100%|██████████| 42/42 [00:00<00:00, 1362.30it/s]\n",
      "100%|██████████| 11/11 [00:00<00:00, 3351.06it/s]\n"
     ]
    },
    {
     "name": "stdout",
     "output_type": "stream",
     "text": [
      "Training Loss: 0.0632 - Training Accuracy: 0.9762 - Validation Loss: 0.1008 - Validation Accuracy: 0.9524\n",
      "Epoch: 61/100 "
     ]
    },
    {
     "name": "stderr",
     "output_type": "stream",
     "text": [
      "100%|██████████| 42/42 [00:00<00:00, 1317.98it/s]\n",
      "100%|██████████| 11/11 [00:00<00:00, 3086.32it/s]\n"
     ]
    },
    {
     "name": "stdout",
     "output_type": "stream",
     "text": [
      "Training Loss: 0.0628 - Training Accuracy: 0.9762 - Validation Loss: 0.1008 - Validation Accuracy: 0.9524\n",
      "Epoch: 62/100 "
     ]
    },
    {
     "name": "stderr",
     "output_type": "stream",
     "text": [
      "100%|██████████| 42/42 [00:00<00:00, 1411.48it/s]\n",
      "100%|██████████| 11/11 [00:00<00:00, 2451.64it/s]\n"
     ]
    },
    {
     "name": "stdout",
     "output_type": "stream",
     "text": [
      "Training Loss: 0.0624 - Training Accuracy: 0.9762 - Validation Loss: 0.1008 - Validation Accuracy: 0.9524\n",
      "Epoch: 63/100 "
     ]
    },
    {
     "name": "stderr",
     "output_type": "stream",
     "text": [
      "100%|██████████| 42/42 [00:00<00:00, 1108.47it/s]\n",
      "100%|██████████| 11/11 [00:00<00:00, 2813.94it/s]\n"
     ]
    },
    {
     "name": "stdout",
     "output_type": "stream",
     "text": [
      "Training Loss: 0.0621 - Training Accuracy: 0.9762 - Validation Loss: 0.1007 - Validation Accuracy: 0.9524\n",
      "Epoch: 64/100 "
     ]
    },
    {
     "name": "stderr",
     "output_type": "stream",
     "text": [
      "100%|██████████| 42/42 [00:00<00:00, 1571.66it/s]\n",
      "100%|██████████| 11/11 [00:00<00:00, 2762.88it/s]\n"
     ]
    },
    {
     "name": "stdout",
     "output_type": "stream",
     "text": [
      "Training Loss: 0.0617 - Training Accuracy: 0.9762 - Validation Loss: 0.1008 - Validation Accuracy: 0.9524\n",
      "Epoch: 65/100 "
     ]
    },
    {
     "name": "stderr",
     "output_type": "stream",
     "text": [
      "100%|██████████| 42/42 [00:00<00:00, 1709.19it/s]\n",
      "100%|██████████| 11/11 [00:00<00:00, 3021.44it/s]\n"
     ]
    },
    {
     "name": "stdout",
     "output_type": "stream",
     "text": [
      "Training Loss: 0.0613 - Training Accuracy: 0.9762 - Validation Loss: 0.1007 - Validation Accuracy: 0.9524\n",
      "Epoch: 66/100 "
     ]
    },
    {
     "name": "stderr",
     "output_type": "stream",
     "text": [
      "100%|██████████| 42/42 [00:00<00:00, 2204.27it/s]\n",
      "100%|██████████| 11/11 [00:00<00:00, 2985.85it/s]\n"
     ]
    },
    {
     "name": "stdout",
     "output_type": "stream",
     "text": [
      "Training Loss: 0.061 - Training Accuracy: 0.9762 - Validation Loss: 0.1007 - Validation Accuracy: 0.9524\n",
      "Epoch: 67/100 "
     ]
    },
    {
     "name": "stderr",
     "output_type": "stream",
     "text": [
      "100%|██████████| 42/42 [00:00<00:00, 1494.52it/s]\n",
      "100%|██████████| 11/11 [00:00<00:00, 3684.80it/s]\n"
     ]
    },
    {
     "name": "stdout",
     "output_type": "stream",
     "text": [
      "Training Loss: 0.0606 - Training Accuracy: 0.9762 - Validation Loss: 0.1008 - Validation Accuracy: 0.9524\n",
      "Epoch: 68/100 "
     ]
    },
    {
     "name": "stderr",
     "output_type": "stream",
     "text": [
      "100%|██████████| 42/42 [00:00<00:00, 1260.67it/s]\n",
      "100%|██████████| 11/11 [00:00<00:00, 3555.32it/s]\n"
     ]
    },
    {
     "name": "stdout",
     "output_type": "stream",
     "text": [
      "Training Loss: 0.0603 - Training Accuracy: 0.9762 - Validation Loss: 0.1008 - Validation Accuracy: 0.9524\n",
      "Epoch: 69/100 "
     ]
    },
    {
     "name": "stderr",
     "output_type": "stream",
     "text": [
      "100%|██████████| 42/42 [00:00<00:00, 1493.12it/s]\n",
      "100%|██████████| 11/11 [00:00<00:00, 3619.47it/s]\n"
     ]
    },
    {
     "name": "stdout",
     "output_type": "stream",
     "text": [
      "Training Loss: 0.06 - Training Accuracy: 0.9762 - Validation Loss: 0.1008 - Validation Accuracy: 0.9524\n",
      "Epoch: 70/100 "
     ]
    },
    {
     "name": "stderr",
     "output_type": "stream",
     "text": [
      "100%|██████████| 42/42 [00:00<00:00, 1004.93it/s]\n",
      "100%|██████████| 11/11 [00:00<00:00, 3521.93it/s]\n"
     ]
    },
    {
     "name": "stdout",
     "output_type": "stream",
     "text": [
      "Training Loss: 0.0597 - Training Accuracy: 0.9762 - Validation Loss: 0.1008 - Validation Accuracy: 0.9524\n",
      "Epoch: 71/100 "
     ]
    },
    {
     "name": "stderr",
     "output_type": "stream",
     "text": [
      "100%|██████████| 42/42 [00:00<00:00, 1323.60it/s]\n",
      "100%|██████████| 11/11 [00:00<00:00, 3709.98it/s]\n"
     ]
    },
    {
     "name": "stdout",
     "output_type": "stream",
     "text": [
      "Training Loss: 0.0594 - Training Accuracy: 0.9762 - Validation Loss: 0.1008 - Validation Accuracy: 0.9524\n",
      "Epoch: 72/100 "
     ]
    },
    {
     "name": "stderr",
     "output_type": "stream",
     "text": [
      "100%|██████████| 42/42 [00:00<00:00, 1239.87it/s]\n",
      "100%|██████████| 11/11 [00:00<00:00, 3717.46it/s]\n"
     ]
    },
    {
     "name": "stdout",
     "output_type": "stream",
     "text": [
      "Training Loss: 0.0592 - Training Accuracy: 0.9762 - Validation Loss: 0.1008 - Validation Accuracy: 0.9524\n",
      "Epoch: 73/100 "
     ]
    },
    {
     "name": "stderr",
     "output_type": "stream",
     "text": [
      "100%|██████████| 42/42 [00:00<00:00, 1470.56it/s]\n",
      "100%|██████████| 11/11 [00:00<00:00, 3610.69it/s]\n"
     ]
    },
    {
     "name": "stdout",
     "output_type": "stream",
     "text": [
      "Training Loss: 0.0589 - Training Accuracy: 0.9762 - Validation Loss: 0.1009 - Validation Accuracy: 0.9524\n",
      "Epoch: 74/100 "
     ]
    },
    {
     "name": "stderr",
     "output_type": "stream",
     "text": [
      "100%|██████████| 42/42 [00:00<00:00, 1068.01it/s]\n",
      "100%|██████████| 11/11 [00:00<00:00, 3428.76it/s]\n"
     ]
    },
    {
     "name": "stdout",
     "output_type": "stream",
     "text": [
      "Training Loss: 0.0586 - Training Accuracy: 0.9762 - Validation Loss: 0.1009 - Validation Accuracy: 0.9524\n",
      "Epoch: 75/100 "
     ]
    },
    {
     "name": "stderr",
     "output_type": "stream",
     "text": [
      "100%|██████████| 42/42 [00:00<00:00, 1231.45it/s]\n",
      "100%|██████████| 11/11 [00:00<00:00, 3745.52it/s]\n"
     ]
    },
    {
     "name": "stdout",
     "output_type": "stream",
     "text": [
      "Training Loss: 0.0584 - Training Accuracy: 0.9762 - Validation Loss: 0.1009 - Validation Accuracy: 0.9524\n",
      "Epoch: 76/100 "
     ]
    },
    {
     "name": "stderr",
     "output_type": "stream",
     "text": [
      "100%|██████████| 42/42 [00:00<00:00, 990.10it/s]\n",
      "100%|██████████| 11/11 [00:00<00:00, 2682.40it/s]\n"
     ]
    },
    {
     "name": "stdout",
     "output_type": "stream",
     "text": [
      "Training Loss: 0.0581 - Training Accuracy: 0.9762 - Validation Loss: 0.101 - Validation Accuracy: 0.9524\n",
      "Epoch: 77/100 "
     ]
    },
    {
     "name": "stderr",
     "output_type": "stream",
     "text": [
      "100%|██████████| 42/42 [00:00<00:00, 1286.95it/s]\n",
      "100%|██████████| 11/11 [00:00<00:00, 3700.76it/s]\n"
     ]
    },
    {
     "name": "stdout",
     "output_type": "stream",
     "text": [
      "Training Loss: 0.0579 - Training Accuracy: 0.9762 - Validation Loss: 0.101 - Validation Accuracy: 0.9524\n",
      "Epoch: 78/100 "
     ]
    },
    {
     "name": "stderr",
     "output_type": "stream",
     "text": [
      "100%|██████████| 42/42 [00:00<00:00, 1294.64it/s]\n",
      "100%|██████████| 11/11 [00:00<00:00, 3162.47it/s]\n"
     ]
    },
    {
     "name": "stdout",
     "output_type": "stream",
     "text": [
      "Training Loss: 0.0577 - Training Accuracy: 0.9762 - Validation Loss: 0.1011 - Validation Accuracy: 0.9524\n",
      "Epoch: 79/100 "
     ]
    },
    {
     "name": "stderr",
     "output_type": "stream",
     "text": [
      "100%|██████████| 42/42 [00:00<00:00, 1354.41it/s]\n",
      "100%|██████████| 11/11 [00:00<00:00, 2436.36it/s]\n"
     ]
    },
    {
     "name": "stdout",
     "output_type": "stream",
     "text": [
      "Training Loss: 0.0575 - Training Accuracy: 0.9762 - Validation Loss: 0.1012 - Validation Accuracy: 0.9524\n",
      "Epoch: 80/100 "
     ]
    },
    {
     "name": "stderr",
     "output_type": "stream",
     "text": [
      "100%|██████████| 42/42 [00:00<00:00, 1412.87it/s]\n",
      "100%|██████████| 11/11 [00:00<00:00, 3492.87it/s]\n"
     ]
    },
    {
     "name": "stdout",
     "output_type": "stream",
     "text": [
      "Training Loss: 0.0573 - Training Accuracy: 0.9762 - Validation Loss: 0.1012 - Validation Accuracy: 0.9524\n",
      "Epoch: 81/100 "
     ]
    },
    {
     "name": "stderr",
     "output_type": "stream",
     "text": [
      "100%|██████████| 42/42 [00:00<00:00, 994.74it/s]\n",
      "100%|██████████| 11/11 [00:00<00:00, 3316.61it/s]\n"
     ]
    },
    {
     "name": "stdout",
     "output_type": "stream",
     "text": [
      "Training Loss: 0.057 - Training Accuracy: 0.9762 - Validation Loss: 0.1013 - Validation Accuracy: 0.9524\n",
      "Epoch: 82/100 "
     ]
    },
    {
     "name": "stderr",
     "output_type": "stream",
     "text": [
      "100%|██████████| 42/42 [00:00<00:00, 1455.02it/s]\n",
      "100%|██████████| 11/11 [00:00<00:00, 2280.75it/s]\n"
     ]
    },
    {
     "name": "stdout",
     "output_type": "stream",
     "text": [
      "Training Loss: 0.0568 - Training Accuracy: 0.9762 - Validation Loss: 0.1014 - Validation Accuracy: 0.9524\n",
      "Epoch: 83/100 "
     ]
    },
    {
     "name": "stderr",
     "output_type": "stream",
     "text": [
      "100%|██████████| 42/42 [00:00<00:00, 872.16it/s]\n",
      "100%|██████████| 11/11 [00:00<00:00, 1753.60it/s]\n"
     ]
    },
    {
     "name": "stdout",
     "output_type": "stream",
     "text": [
      "Training Loss: 0.0566 - Training Accuracy: 0.9762 - Validation Loss: 0.1014 - Validation Accuracy: 0.9524\n",
      "Epoch: 84/100 "
     ]
    },
    {
     "name": "stderr",
     "output_type": "stream",
     "text": [
      "100%|██████████| 42/42 [00:00<00:00, 1087.51it/s]\n",
      "100%|██████████| 11/11 [00:00<00:00, 3690.99it/s]\n"
     ]
    },
    {
     "name": "stdout",
     "output_type": "stream",
     "text": [
      "Training Loss: 0.0564 - Training Accuracy: 0.9762 - Validation Loss: 0.1015 - Validation Accuracy: 0.9524\n",
      "Epoch: 85/100 "
     ]
    },
    {
     "name": "stderr",
     "output_type": "stream",
     "text": [
      "100%|██████████| 42/42 [00:00<00:00, 1272.57it/s]\n",
      "100%|██████████| 11/11 [00:00<00:00, 3216.49it/s]\n"
     ]
    },
    {
     "name": "stdout",
     "output_type": "stream",
     "text": [
      "Training Loss: 0.0562 - Training Accuracy: 0.9762 - Validation Loss: 0.1015 - Validation Accuracy: 0.9524\n",
      "Epoch: 86/100 "
     ]
    },
    {
     "name": "stderr",
     "output_type": "stream",
     "text": [
      "100%|██████████| 42/42 [00:00<00:00, 1357.24it/s]\n",
      "100%|██████████| 11/11 [00:00<00:00, 3529.21it/s]\n"
     ]
    },
    {
     "name": "stdout",
     "output_type": "stream",
     "text": [
      "Training Loss: 0.056 - Training Accuracy: 0.9762 - Validation Loss: 0.1016 - Validation Accuracy: 0.9524\n",
      "Epoch: 87/100 "
     ]
    },
    {
     "name": "stderr",
     "output_type": "stream",
     "text": [
      "100%|██████████| 42/42 [00:00<00:00, 1297.89it/s]\n",
      "100%|██████████| 11/11 [00:00<00:00, 3681.86it/s]\n"
     ]
    },
    {
     "name": "stdout",
     "output_type": "stream",
     "text": [
      "Training Loss: 0.0558 - Training Accuracy: 0.9762 - Validation Loss: 0.1017 - Validation Accuracy: 0.9524\n",
      "Epoch: 88/100 "
     ]
    },
    {
     "name": "stderr",
     "output_type": "stream",
     "text": [
      "100%|██████████| 42/42 [00:00<00:00, 1313.88it/s]\n",
      "100%|██████████| 11/11 [00:00<00:00, 3311.61it/s]\n"
     ]
    },
    {
     "name": "stdout",
     "output_type": "stream",
     "text": [
      "Training Loss: 0.0556 - Training Accuracy: 0.9762 - Validation Loss: 0.1017 - Validation Accuracy: 0.9524\n",
      "Epoch: 89/100 "
     ]
    },
    {
     "name": "stderr",
     "output_type": "stream",
     "text": [
      "100%|██████████| 42/42 [00:00<00:00, 1188.59it/s]\n",
      "100%|██████████| 11/11 [00:00<00:00, 3735.21it/s]\n"
     ]
    },
    {
     "name": "stdout",
     "output_type": "stream",
     "text": [
      "Training Loss: 0.0555 - Training Accuracy: 0.9762 - Validation Loss: 0.1018 - Validation Accuracy: 0.9524\n",
      "Epoch: 90/100 "
     ]
    },
    {
     "name": "stderr",
     "output_type": "stream",
     "text": [
      "100%|██████████| 42/42 [00:00<00:00, 1236.75it/s]\n",
      "100%|██████████| 11/11 [00:00<00:00, 3515.76it/s]\n"
     ]
    },
    {
     "name": "stdout",
     "output_type": "stream",
     "text": [
      "Training Loss: 0.0553 - Training Accuracy: 0.9762 - Validation Loss: 0.1019 - Validation Accuracy: 0.9524\n",
      "Epoch: 91/100 "
     ]
    },
    {
     "name": "stderr",
     "output_type": "stream",
     "text": [
      "100%|██████████| 42/42 [00:00<00:00, 1326.26it/s]\n",
      "100%|██████████| 11/11 [00:00<00:00, 2466.84it/s]\n"
     ]
    },
    {
     "name": "stdout",
     "output_type": "stream",
     "text": [
      "Training Loss: 0.0551 - Training Accuracy: 0.9762 - Validation Loss: 0.1019 - Validation Accuracy: 0.9524\n",
      "Epoch: 92/100 "
     ]
    },
    {
     "name": "stderr",
     "output_type": "stream",
     "text": [
      "100%|██████████| 42/42 [00:00<00:00, 1371.21it/s]\n",
      "100%|██████████| 11/11 [00:00<00:00, 3546.57it/s]\n"
     ]
    },
    {
     "name": "stdout",
     "output_type": "stream",
     "text": [
      "Training Loss: 0.0549 - Training Accuracy: 0.9762 - Validation Loss: 0.102 - Validation Accuracy: 0.9524\n",
      "Epoch: 93/100 "
     ]
    },
    {
     "name": "stderr",
     "output_type": "stream",
     "text": [
      "100%|██████████| 42/42 [00:00<00:00, 977.76it/s]\n",
      "100%|██████████| 11/11 [00:00<00:00, 2847.81it/s]\n"
     ]
    },
    {
     "name": "stdout",
     "output_type": "stream",
     "text": [
      "Training Loss: 0.0548 - Training Accuracy: 0.9762 - Validation Loss: 0.1021 - Validation Accuracy: 0.9524\n",
      "Epoch: 94/100 "
     ]
    },
    {
     "name": "stderr",
     "output_type": "stream",
     "text": [
      "100%|██████████| 42/42 [00:00<00:00, 1411.37it/s]\n",
      "100%|██████████| 11/11 [00:00<00:00, 2951.09it/s]\n"
     ]
    },
    {
     "name": "stdout",
     "output_type": "stream",
     "text": [
      "Training Loss: 0.0546 - Training Accuracy: 0.9762 - Validation Loss: 0.1022 - Validation Accuracy: 0.9524\n",
      "Epoch: 95/100 "
     ]
    },
    {
     "name": "stderr",
     "output_type": "stream",
     "text": [
      "100%|██████████| 42/42 [00:00<00:00, 1272.11it/s]\n",
      "100%|██████████| 11/11 [00:00<00:00, 3932.27it/s]\n"
     ]
    },
    {
     "name": "stdout",
     "output_type": "stream",
     "text": [
      "Training Loss: 0.0544 - Training Accuracy: 0.9881 - Validation Loss: 0.1023 - Validation Accuracy: 0.9524\n",
      "Epoch: 96/100 "
     ]
    },
    {
     "name": "stderr",
     "output_type": "stream",
     "text": [
      "100%|██████████| 42/42 [00:00<00:00, 1125.43it/s]\n",
      "100%|██████████| 11/11 [00:00<00:00, 4090.55it/s]\n"
     ]
    },
    {
     "name": "stdout",
     "output_type": "stream",
     "text": [
      "Training Loss: 0.0543 - Training Accuracy: 0.9881 - Validation Loss: 0.1023 - Validation Accuracy: 0.9524\n",
      "Epoch: 97/100 "
     ]
    },
    {
     "name": "stderr",
     "output_type": "stream",
     "text": [
      "100%|██████████| 42/42 [00:00<00:00, 1150.63it/s]\n",
      "100%|██████████| 11/11 [00:00<00:00, 3517.10it/s]\n"
     ]
    },
    {
     "name": "stdout",
     "output_type": "stream",
     "text": [
      "Training Loss: 0.0541 - Training Accuracy: 0.9881 - Validation Loss: 0.1024 - Validation Accuracy: 0.9524\n",
      "Epoch: 98/100 "
     ]
    },
    {
     "name": "stderr",
     "output_type": "stream",
     "text": [
      "100%|██████████| 42/42 [00:00<00:00, 1514.18it/s]\n",
      "100%|██████████| 11/11 [00:00<00:00, 3678.92it/s]\n"
     ]
    },
    {
     "name": "stdout",
     "output_type": "stream",
     "text": [
      "Training Loss: 0.054 - Training Accuracy: 0.9881 - Validation Loss: 0.1025 - Validation Accuracy: 0.9524\n",
      "Epoch: 99/100 "
     ]
    },
    {
     "name": "stderr",
     "output_type": "stream",
     "text": [
      "100%|██████████| 42/42 [00:00<00:00, 1033.43it/s]\n",
      "100%|██████████| 11/11 [00:00<00:00, 2971.81it/s]\n"
     ]
    },
    {
     "name": "stdout",
     "output_type": "stream",
     "text": [
      "Training Loss: 0.0538 - Training Accuracy: 0.9881 - Validation Loss: 0.1026 - Validation Accuracy: 0.9524\n",
      "Epoch: 100/100 "
     ]
    },
    {
     "name": "stderr",
     "output_type": "stream",
     "text": [
      "100%|██████████| 42/42 [00:00<00:00, 1335.24it/s]\n",
      "100%|██████████| 11/11 [00:00<00:00, 3297.17it/s]"
     ]
    },
    {
     "name": "stdout",
     "output_type": "stream",
     "text": [
      "Training Loss: 0.0537 - Training Accuracy: 0.9881 - Validation Loss: 0.1026 - Validation Accuracy: 0.9524\n"
     ]
    },
    {
     "name": "stderr",
     "output_type": "stream",
     "text": [
      "\n"
     ]
    }
   ],
   "source": [
    "# adding learning rate decay\n",
    "LR_decay = LearningRateDecay()\n",
    "\n",
    "# training the data\n",
    "model.fit(X_train_new, Y_1hot_train, epochs=epochs, batch_size=batch_size, lr=lr, X_val=X_val, y_val=y_val, verbose=1,\n",
    "          lr_decay=LR_decay.time_decay, lr_0=lr, k=lr/epochs)"
   ]
  },
  {
   "cell_type": "code",
   "execution_count": null,
   "metadata": {
    "colab": {
     "base_uri": "https://localhost:8080/",
     "height": 295
    },
    "id": "9MloaVgCHua9",
    "outputId": "e38ee5de-1727-4c04-f499-cae5480586ac",
    "tags": []
   },
   "outputs": [
    {
     "data": {
      "image/png": "[encoded data removed]",
      "text/plain": [
       "<Figure size 432x288 with 1 Axes>"
      ]
     },
     "metadata": {
      "needs_background": "light"
     },
     "output_type": "display_data"
    }
   ],
   "source": [
    "model.loss_plot()"
   ]
  },
  {
   "cell_type": "code",
   "execution_count": null,
   "metadata": {
    "colab": {
     "base_uri": "https://localhost:8080/",
     "height": 295
    },
    "id": "QJSj2uZfZbLp",
    "outputId": "95c224ec-75f7-4805-c5da-625b4cc1054d",
    "tags": []
   },
   "outputs": [
    {
     "data": {
      "image/png": "[encoded data removed]",
      "text/plain": [
       "<Figure size 432x288 with 1 Axes>"
      ]
     },
     "metadata": {
      "needs_background": "light"
     },
     "output_type": "display_data"
    }
   ],
   "source": [
    "model.accuracy_plot()"
   ]
  },
  {
   "cell_type": "code",
   "execution_count": null,
   "metadata": {
    "colab": {
     "base_uri": "https://localhost:8080/"
    },
    "id": "gA6YLpaaH3Py",
    "outputId": "33650888-f1cb-44ed-8d16-4b36e5a74427",
    "tags": []
   },
   "outputs": [
    {
     "data": {
      "text/plain": [
       "array([[10,  0,  0],\n",
       "       [ 0, 17,  0],\n",
       "       [ 0,  0, 18]])"
      ]
     },
     "execution_count": 20,
     "metadata": {},
     "output_type": "execute_result"
    }
   ],
   "source": [
    "y_pred = model.predict(X_test_std, batch_size)\n",
    "confusion_matrix(y_test, y_pred)"
   ]
  },
  {
   "cell_type": "markdown",
   "metadata": {
    "id": "7bLff1XHBb_K"
   },
   "source": [
    "Testing model.evaluate()"
   ]
  },
  {
   "cell_type": "code",
   "execution_count": null,
   "metadata": {
    "colab": {
     "base_uri": "https://localhost:8080/"
    },
    "id": "Ki6KnHvYAaUy",
    "outputId": "e41816e3-ebb5-4c05-fa2b-05db775b69e1",
    "tags": []
   },
   "outputs": [
    {
     "name": "stderr",
     "output_type": "stream",
     "text": [
      "100%|██████████| 23/23 [00:00<00:00, 2890.20it/s]"
     ]
    },
    {
     "name": "stdout",
     "output_type": "stream",
     "text": [
      "\n",
      "Test Accuracy = 100.0\n"
     ]
    },
    {
     "name": "stderr",
     "output_type": "stream",
     "text": [
      "\n"
     ]
    }
   ],
   "source": [
    "cost, accuracy = model.evaluate(X_test_std, y_test, batch_size)\n",
    "print('\\nTest Accuracy =', round(accuracy*100, 2))"
   ]
  },
  {
   "cell_type": "markdown",
   "metadata": {
    "id": "9gTOzOStNiPn"
   },
   "source": [
    "### Validating model using MNIST Dataset\n",
    "\n",
    "Check this [page](https://en.wikipedia.org/wiki/MNIST_database) (link to an external website) to know more about **MNIST dataset**"
   ]
  },
  {
   "cell_type": "code",
   "execution_count": null,
   "metadata": {
    "id": "UOuU8tXjOQhe",
    "tags": []
   },
   "outputs": [],
   "source": [
    "from keras.datasets import mnist\n",
    "\n",
    "(X_train, y_train), (X_test, y_test) = mnist.load_data()\n",
    "\n",
    "X_train = X_train.reshape(X_train.shape[0], X_train.shape[1]**2)\n",
    "X_test = X_test.reshape(X_test.shape[0], X_test.shape[1]**2)\n",
    "X_train = X_train/255\n",
    "X_test = X_test/255\n",
    "\n",
    "utility = Utility()\n",
    "\n",
    "# train validation split\n",
    "X_train_new, X_val, y_train_new, y_val = utility.train_test_split(X_train, y_train, test_ratio=0.2, seed=42)\n",
    "\n",
    "Y_1hot_train, _ = utility.onehot(y_train_new)\n",
    "\n",
    "lr, epochs, batch_size = 0.8, 60, 400\n",
    "input_dim = X_train_new.shape[1]\n",
    "output_dim = Y_1hot_train.shape[1]"
   ]
  },
  {
   "cell_type": "code",
   "execution_count": null,
   "metadata": {
    "id": "8U29YFcUOOSI",
    "tags": []
   },
   "outputs": [],
   "source": [
    "model = MLP()\n",
    "\n",
    "model.add(Dense(neurons=240, \n",
    "                activation_type='tanh', \n",
    "                input_dim=input_dim, \n",
    "                seed=42, \n",
    "                weight_initializer_type='xavier_normal'))\n",
    "\n",
    "model.add(Dense(neurons=200, \n",
    "                activation_type='relu', \n",
    "                seed=42, \n",
    "                weight_initializer_type='he_normal'))\n",
    "\n",
    "model.add(Dense(neurons=output_dim, \n",
    "                activation_type='softmax', \n",
    "                weight_initializer_type='random_normal', \n",
    "                seed=42))"
   ]
  },
  {
   "cell_type": "code",
   "execution_count": null,
   "metadata": {
    "colab": {
     "base_uri": "https://localhost:8080/"
    },
    "id": "HsC9V9g6UDq9",
    "outputId": "d0d8ab92-914f-4f9e-f0ee-d3954bf45958",
    "tags": []
   },
   "outputs": [
    {
     "name": "stdout",
     "output_type": "stream",
     "text": [
      "Model: MLP\n",
      "--------------------------------------------------------------------------------------\n",
      "Layer (type)                                 Output Shape              # of Parameters\n",
      "======================================================================================\n",
      "input_1 (Input)                              (None, 784)               0              \n",
      "--------------------------------------------------------------------------------------\n",
      "dense_1 (Dense)                              (None, 240)               188400         \n",
      "--------------------------------------------------------------------------------------\n",
      "dense_2 (Dense)                              (None, 200)               48200          \n",
      "--------------------------------------------------------------------------------------\n",
      "dense_3 (Dense)                              (None, 10)                2010           \n",
      "======================================================================================\n",
      "Total params: 238610\n",
      "Trainable params: 238610\n",
      "Non-trainable params: 0\n",
      "--------------------------------------------------------------------------------------\n"
     ]
    }
   ],
   "source": [
    "model.summary()"
   ]
  },
  {
   "cell_type": "code",
   "execution_count": null,
   "metadata": {
    "id": "tcsW2yLIOOSI",
    "tags": []
   },
   "outputs": [],
   "source": [
    "model.compile(cost_type='cross-entropy', optimizer_type='adam')"
   ]
  },
  {
   "cell_type": "code",
   "execution_count": null,
   "metadata": {
    "colab": {
     "base_uri": "https://localhost:8080/"
    },
    "id": "_yJFIs3A9TCU",
    "outputId": "522a911a-69e2-4756-e2b8-d52993408355",
    "tags": [
     "hide-output"
    ]
   },
   "outputs": [
    {
     "name": "stdout",
     "output_type": "stream",
     "text": [
      "Epoch: 1/60 "
     ]
    },
    {
     "name": "stderr",
     "output_type": "stream",
     "text": [
      "100%|██████████| 120/120 [00:18<00:00,  6.53it/s]\n"
     ]
    },
    {
     "name": "stdout",
     "output_type": "stream",
     "text": [
      "Training Loss: 3.2244 - Training Accuracy: 0.7885 - Validation Loss: 2.6541 - Validation Accuracy: 0.8525\n",
      "Epoch: 2/60 "
     ]
    },
    {
     "name": "stderr",
     "output_type": "stream",
     "text": [
      "100%|██████████| 120/120 [00:13<00:00,  8.92it/s]\n"
     ]
    },
    {
     "name": "stdout",
     "output_type": "stream",
     "text": [
      "Training Loss: 2.6662 - Training Accuracy: 0.8632 - Validation Loss: 2.6166 - Validation Accuracy: 0.8615\n",
      "Epoch: 3/60 "
     ]
    },
    {
     "name": "stderr",
     "output_type": "stream",
     "text": [
      "100%|██████████| 120/120 [00:08<00:00, 14.10it/s]\n"
     ]
    },
    {
     "name": "stdout",
     "output_type": "stream",
     "text": [
      "Training Loss: 2.6223 - Training Accuracy: 0.8752 - Validation Loss: 2.6038 - Validation Accuracy: 0.8652\n",
      "Epoch: 4/60 "
     ]
    },
    {
     "name": "stderr",
     "output_type": "stream",
     "text": [
      "100%|██████████| 120/120 [00:08<00:00, 14.54it/s]\n"
     ]
    },
    {
     "name": "stdout",
     "output_type": "stream",
     "text": [
      "Training Loss: 2.5989 - Training Accuracy: 0.8809 - Validation Loss: 2.5878 - Validation Accuracy: 0.8704\n",
      "Epoch: 5/60 "
     ]
    },
    {
     "name": "stderr",
     "output_type": "stream",
     "text": [
      "100%|██████████| 120/120 [00:08<00:00, 14.34it/s]\n"
     ]
    },
    {
     "name": "stdout",
     "output_type": "stream",
     "text": [
      "Training Loss: 2.5792 - Training Accuracy: 0.8869 - Validation Loss: 2.5699 - Validation Accuracy: 0.8772\n",
      "Epoch: 6/60 "
     ]
    },
    {
     "name": "stderr",
     "output_type": "stream",
     "text": [
      "100%|██████████| 120/120 [00:10<00:00, 11.97it/s]\n"
     ]
    },
    {
     "name": "stdout",
     "output_type": "stream",
     "text": [
      "Training Loss: 2.5673 - Training Accuracy: 0.8903 - Validation Loss: 2.5693 - Validation Accuracy: 0.8774\n",
      "Epoch: 7/60 "
     ]
    },
    {
     "name": "stderr",
     "output_type": "stream",
     "text": [
      "100%|██████████| 120/120 [00:08<00:00, 14.39it/s]\n"
     ]
    },
    {
     "name": "stdout",
     "output_type": "stream",
     "text": [
      "Training Loss: 2.5645 - Training Accuracy: 0.8905 - Validation Loss: 2.565 - Validation Accuracy: 0.8791\n",
      "Epoch: 8/60 "
     ]
    },
    {
     "name": "stderr",
     "output_type": "stream",
     "text": [
      "100%|██████████| 120/120 [00:08<00:00, 14.46it/s]\n"
     ]
    },
    {
     "name": "stdout",
     "output_type": "stream",
     "text": [
      "Training Loss: 2.5584 - Training Accuracy: 0.892 - Validation Loss: 2.5678 - Validation Accuracy: 0.8802\n",
      "Epoch: 9/60 "
     ]
    },
    {
     "name": "stderr",
     "output_type": "stream",
     "text": [
      "100%|██████████| 120/120 [00:08<00:00, 14.07it/s]\n"
     ]
    },
    {
     "name": "stdout",
     "output_type": "stream",
     "text": [
      "Training Loss: 2.548 - Training Accuracy: 0.896 - Validation Loss: 2.5799 - Validation Accuracy: 0.8772\n",
      "Epoch: 10/60 "
     ]
    },
    {
     "name": "stderr",
     "output_type": "stream",
     "text": [
      "100%|██████████| 120/120 [00:08<00:00, 14.20it/s]\n"
     ]
    },
    {
     "name": "stdout",
     "output_type": "stream",
     "text": [
      "Training Loss: 2.5463 - Training Accuracy: 0.8961 - Validation Loss: 2.5883 - Validation Accuracy: 0.8777\n",
      "Epoch: 11/60 "
     ]
    },
    {
     "name": "stderr",
     "output_type": "stream",
     "text": [
      "100%|██████████| 120/120 [00:08<00:00, 14.53it/s]\n"
     ]
    },
    {
     "name": "stdout",
     "output_type": "stream",
     "text": [
      "Training Loss: 2.5483 - Training Accuracy: 0.8957 - Validation Loss: 2.6127 - Validation Accuracy: 0.8751\n",
      "Epoch: 12/60 "
     ]
    },
    {
     "name": "stderr",
     "output_type": "stream",
     "text": [
      "100%|██████████| 120/120 [00:08<00:00, 13.49it/s]\n"
     ]
    },
    {
     "name": "stdout",
     "output_type": "stream",
     "text": [
      "Training Loss: 2.5489 - Training Accuracy: 0.8956 - Validation Loss: 2.647 - Validation Accuracy: 0.8672\n",
      "Epoch: 13/60 "
     ]
    },
    {
     "name": "stderr",
     "output_type": "stream",
     "text": [
      "100%|██████████| 120/120 [00:09<00:00, 12.70it/s]\n"
     ]
    },
    {
     "name": "stdout",
     "output_type": "stream",
     "text": [
      "Training Loss: 2.5475 - Training Accuracy: 0.8953 - Validation Loss: 2.6164 - Validation Accuracy: 0.8731\n",
      "Epoch: 14/60 "
     ]
    },
    {
     "name": "stderr",
     "output_type": "stream",
     "text": [
      "100%|██████████| 120/120 [00:08<00:00, 14.43it/s]\n"
     ]
    },
    {
     "name": "stdout",
     "output_type": "stream",
     "text": [
      "Training Loss: 2.5484 - Training Accuracy: 0.8953 - Validation Loss: 2.6148 - Validation Accuracy: 0.8747\n",
      "Epoch: 15/60 "
     ]
    },
    {
     "name": "stderr",
     "output_type": "stream",
     "text": [
      "100%|██████████| 120/120 [00:08<00:00, 14.26it/s]\n"
     ]
    },
    {
     "name": "stdout",
     "output_type": "stream",
     "text": [
      "Training Loss: 2.5459 - Training Accuracy: 0.8971 - Validation Loss: 2.597 - Validation Accuracy: 0.8794\n",
      "Epoch: 16/60 "
     ]
    },
    {
     "name": "stderr",
     "output_type": "stream",
     "text": [
      "100%|██████████| 120/120 [00:08<00:00, 14.22it/s]\n"
     ]
    },
    {
     "name": "stdout",
     "output_type": "stream",
     "text": [
      "Training Loss: 2.5445 - Training Accuracy: 0.8973 - Validation Loss: 2.6307 - Validation Accuracy: 0.8767\n",
      "Epoch: 17/60 "
     ]
    },
    {
     "name": "stderr",
     "output_type": "stream",
     "text": [
      "100%|██████████| 120/120 [00:08<00:00, 14.39it/s]\n"
     ]
    },
    {
     "name": "stdout",
     "output_type": "stream",
     "text": [
      "Training Loss: 2.5425 - Training Accuracy: 0.8978 - Validation Loss: 2.6487 - Validation Accuracy: 0.8746\n",
      "Epoch: 18/60 "
     ]
    },
    {
     "name": "stderr",
     "output_type": "stream",
     "text": [
      "100%|██████████| 120/120 [00:08<00:00, 14.53it/s]\n"
     ]
    },
    {
     "name": "stdout",
     "output_type": "stream",
     "text": [
      "Training Loss: 2.5355 - Training Accuracy: 0.9004 - Validation Loss: 2.6066 - Validation Accuracy: 0.8814\n",
      "Epoch: 19/60 "
     ]
    },
    {
     "name": "stderr",
     "output_type": "stream",
     "text": [
      "100%|██████████| 120/120 [00:08<00:00, 14.42it/s]\n"
     ]
    },
    {
     "name": "stdout",
     "output_type": "stream",
     "text": [
      "Training Loss: 0.8253 - Training Accuracy: 0.9421 - Validation Loss: 0.1725 - Validation Accuracy: 0.9575\n",
      "Epoch: 20/60 "
     ]
    },
    {
     "name": "stderr",
     "output_type": "stream",
     "text": [
      "100%|██████████| 120/120 [00:08<00:00, 14.28it/s]\n"
     ]
    },
    {
     "name": "stdout",
     "output_type": "stream",
     "text": [
      "Training Loss: 0.0544 - Training Accuracy: 0.9829 - Validation Loss: 0.141 - Validation Accuracy: 0.9666\n",
      "Epoch: 21/60 "
     ]
    },
    {
     "name": "stderr",
     "output_type": "stream",
     "text": [
      "100%|██████████| 120/120 [00:09<00:00, 13.10it/s]\n"
     ]
    },
    {
     "name": "stdout",
     "output_type": "stream",
     "text": [
      "Training Loss: 0.0344 - Training Accuracy: 0.9881 - Validation Loss: 0.1514 - Validation Accuracy: 0.9652\n",
      "Epoch: 22/60 "
     ]
    },
    {
     "name": "stderr",
     "output_type": "stream",
     "text": [
      "100%|██████████| 120/120 [00:15<00:00,  7.81it/s]\n"
     ]
    },
    {
     "name": "stdout",
     "output_type": "stream",
     "text": [
      "Training Loss: 0.0245 - Training Accuracy: 0.9919 - Validation Loss: 0.1357 - Validation Accuracy: 0.97\n",
      "Epoch: 23/60 "
     ]
    },
    {
     "name": "stderr",
     "output_type": "stream",
     "text": [
      "100%|██████████| 120/120 [00:09<00:00, 12.37it/s]\n"
     ]
    },
    {
     "name": "stdout",
     "output_type": "stream",
     "text": [
      "Training Loss: 0.0193 - Training Accuracy: 0.993 - Validation Loss: 0.129 - Validation Accuracy: 0.9733\n",
      "Epoch: 24/60 "
     ]
    },
    {
     "name": "stderr",
     "output_type": "stream",
     "text": [
      "100%|██████████| 120/120 [00:08<00:00, 14.42it/s]\n"
     ]
    },
    {
     "name": "stdout",
     "output_type": "stream",
     "text": [
      "Training Loss: 0.0146 - Training Accuracy: 0.9942 - Validation Loss: 0.1589 - Validation Accuracy: 0.9694\n",
      "Epoch: 25/60 "
     ]
    },
    {
     "name": "stderr",
     "output_type": "stream",
     "text": [
      "100%|██████████| 120/120 [00:08<00:00, 14.35it/s]\n"
     ]
    },
    {
     "name": "stdout",
     "output_type": "stream",
     "text": [
      "Training Loss: 0.0166 - Training Accuracy: 0.9943 - Validation Loss: 0.1481 - Validation Accuracy: 0.9718\n",
      "Epoch: 26/60 "
     ]
    },
    {
     "name": "stderr",
     "output_type": "stream",
     "text": [
      "100%|██████████| 120/120 [00:08<00:00, 14.49it/s]\n"
     ]
    },
    {
     "name": "stdout",
     "output_type": "stream",
     "text": [
      "Training Loss: 0.0122 - Training Accuracy: 0.9957 - Validation Loss: 0.1388 - Validation Accuracy: 0.9726\n",
      "Epoch: 27/60 "
     ]
    },
    {
     "name": "stderr",
     "output_type": "stream",
     "text": [
      "100%|██████████| 120/120 [00:08<00:00, 14.49it/s]\n"
     ]
    },
    {
     "name": "stdout",
     "output_type": "stream",
     "text": [
      "Training Loss: 0.0109 - Training Accuracy: 0.9961 - Validation Loss: 0.1529 - Validation Accuracy: 0.9698\n",
      "Epoch: 28/60 "
     ]
    },
    {
     "name": "stderr",
     "output_type": "stream",
     "text": [
      "100%|██████████| 120/120 [00:08<00:00, 14.54it/s]\n"
     ]
    },
    {
     "name": "stdout",
     "output_type": "stream",
     "text": [
      "Training Loss: 0.0084 - Training Accuracy: 0.9971 - Validation Loss: 0.1318 - Validation Accuracy: 0.9743\n",
      "Epoch: 29/60 "
     ]
    },
    {
     "name": "stderr",
     "output_type": "stream",
     "text": [
      "100%|██████████| 120/120 [00:08<00:00, 14.64it/s]\n"
     ]
    },
    {
     "name": "stdout",
     "output_type": "stream",
     "text": [
      "Training Loss: 0.0079 - Training Accuracy: 0.9971 - Validation Loss: 0.1396 - Validation Accuracy: 0.9716\n",
      "Epoch: 30/60 "
     ]
    },
    {
     "name": "stderr",
     "output_type": "stream",
     "text": [
      "100%|██████████| 120/120 [00:08<00:00, 14.62it/s]\n"
     ]
    },
    {
     "name": "stdout",
     "output_type": "stream",
     "text": [
      "Training Loss: 0.0075 - Training Accuracy: 0.9973 - Validation Loss: 0.1491 - Validation Accuracy: 0.9729\n",
      "Epoch: 31/60 "
     ]
    },
    {
     "name": "stderr",
     "output_type": "stream",
     "text": [
      "100%|██████████| 120/120 [00:08<00:00, 14.50it/s]\n"
     ]
    },
    {
     "name": "stdout",
     "output_type": "stream",
     "text": [
      "Training Loss: 0.0083 - Training Accuracy: 0.9974 - Validation Loss: 0.1701 - Validation Accuracy: 0.9685\n",
      "Epoch: 32/60 "
     ]
    },
    {
     "name": "stderr",
     "output_type": "stream",
     "text": [
      "100%|██████████| 120/120 [00:08<00:00, 14.45it/s]\n"
     ]
    },
    {
     "name": "stdout",
     "output_type": "stream",
     "text": [
      "Training Loss: 0.0072 - Training Accuracy: 0.9976 - Validation Loss: 0.1486 - Validation Accuracy: 0.9718\n",
      "Epoch: 33/60 "
     ]
    },
    {
     "name": "stderr",
     "output_type": "stream",
     "text": [
      "100%|██████████| 120/120 [00:08<00:00, 14.35it/s]\n"
     ]
    },
    {
     "name": "stdout",
     "output_type": "stream",
     "text": [
      "Training Loss: 0.0041 - Training Accuracy: 0.9988 - Validation Loss: 0.1316 - Validation Accuracy: 0.9762\n",
      "Epoch: 34/60 "
     ]
    },
    {
     "name": "stderr",
     "output_type": "stream",
     "text": [
      "100%|██████████| 120/120 [00:08<00:00, 14.54it/s]\n"
     ]
    },
    {
     "name": "stdout",
     "output_type": "stream",
     "text": [
      "Training Loss: 0.0057 - Training Accuracy: 0.998 - Validation Loss: 0.1519 - Validation Accuracy: 0.9722\n",
      "Epoch: 35/60 "
     ]
    },
    {
     "name": "stderr",
     "output_type": "stream",
     "text": [
      "100%|██████████| 120/120 [00:08<00:00, 14.58it/s]\n"
     ]
    },
    {
     "name": "stdout",
     "output_type": "stream",
     "text": [
      "Training Loss: 0.0053 - Training Accuracy: 0.9984 - Validation Loss: 0.1398 - Validation Accuracy: 0.9751\n",
      "Epoch: 36/60 "
     ]
    },
    {
     "name": "stderr",
     "output_type": "stream",
     "text": [
      "100%|██████████| 120/120 [00:08<00:00, 14.35it/s]\n"
     ]
    },
    {
     "name": "stdout",
     "output_type": "stream",
     "text": [
      "Training Loss: 0.0113 - Training Accuracy: 0.9962 - Validation Loss: 0.186 - Validation Accuracy: 0.9691\n",
      "Epoch: 37/60 "
     ]
    },
    {
     "name": "stderr",
     "output_type": "stream",
     "text": [
      "100%|██████████| 120/120 [00:08<00:00, 14.48it/s]\n"
     ]
    },
    {
     "name": "stdout",
     "output_type": "stream",
     "text": [
      "Training Loss: 0.0184 - Training Accuracy: 0.994 - Validation Loss: 0.1747 - Validation Accuracy: 0.9704\n",
      "Epoch: 38/60 "
     ]
    },
    {
     "name": "stderr",
     "output_type": "stream",
     "text": [
      "100%|██████████| 120/120 [00:08<00:00, 14.38it/s]\n"
     ]
    },
    {
     "name": "stdout",
     "output_type": "stream",
     "text": [
      "Training Loss: 0.0278 - Training Accuracy: 0.9916 - Validation Loss: 0.1833 - Validation Accuracy: 0.9685\n",
      "Epoch: 39/60 "
     ]
    },
    {
     "name": "stderr",
     "output_type": "stream",
     "text": [
      "100%|██████████| 120/120 [00:08<00:00, 14.47it/s]\n"
     ]
    },
    {
     "name": "stdout",
     "output_type": "stream",
     "text": [
      "Training Loss: 0.0188 - Training Accuracy: 0.9944 - Validation Loss: 0.1983 - Validation Accuracy: 0.9665\n",
      "Epoch: 40/60 "
     ]
    },
    {
     "name": "stderr",
     "output_type": "stream",
     "text": [
      "100%|██████████| 120/120 [00:08<00:00, 14.48it/s]\n"
     ]
    },
    {
     "name": "stdout",
     "output_type": "stream",
     "text": [
      "Training Loss: 0.0245 - Training Accuracy: 0.9926 - Validation Loss: 0.2126 - Validation Accuracy: 0.9635\n",
      "Epoch: 41/60 "
     ]
    },
    {
     "name": "stderr",
     "output_type": "stream",
     "text": [
      "100%|██████████| 120/120 [00:08<00:00, 14.54it/s]\n"
     ]
    },
    {
     "name": "stdout",
     "output_type": "stream",
     "text": [
      "Training Loss: 0.0181 - Training Accuracy: 0.9943 - Validation Loss: 0.197 - Validation Accuracy: 0.967\n",
      "Epoch: 42/60 "
     ]
    },
    {
     "name": "stderr",
     "output_type": "stream",
     "text": [
      "100%|██████████| 120/120 [00:11<00:00, 10.90it/s]\n"
     ]
    },
    {
     "name": "stdout",
     "output_type": "stream",
     "text": [
      "Training Loss: 0.0111 - Training Accuracy: 0.9961 - Validation Loss: 0.1674 - Validation Accuracy: 0.9732\n",
      "Epoch: 43/60 "
     ]
    },
    {
     "name": "stderr",
     "output_type": "stream",
     "text": [
      "100%|██████████| 120/120 [00:18<00:00,  6.44it/s]\n"
     ]
    },
    {
     "name": "stdout",
     "output_type": "stream",
     "text": [
      "Training Loss: 0.0099 - Training Accuracy: 0.9967 - Validation Loss: 0.1901 - Validation Accuracy: 0.9728\n",
      "Epoch: 44/60 "
     ]
    },
    {
     "name": "stderr",
     "output_type": "stream",
     "text": [
      "100%|██████████| 120/120 [00:08<00:00, 14.48it/s]\n"
     ]
    },
    {
     "name": "stdout",
     "output_type": "stream",
     "text": [
      "Training Loss: 0.0129 - Training Accuracy: 0.9958 - Validation Loss: 0.236 - Validation Accuracy: 0.9662\n",
      "Epoch: 45/60 "
     ]
    },
    {
     "name": "stderr",
     "output_type": "stream",
     "text": [
      "100%|██████████| 120/120 [00:08<00:00, 14.43it/s]\n"
     ]
    },
    {
     "name": "stdout",
     "output_type": "stream",
     "text": [
      "Training Loss: 0.0126 - Training Accuracy: 0.9962 - Validation Loss: 0.2029 - Validation Accuracy: 0.9702\n",
      "Epoch: 46/60 "
     ]
    },
    {
     "name": "stderr",
     "output_type": "stream",
     "text": [
      "100%|██████████| 120/120 [00:08<00:00, 14.14it/s]\n"
     ]
    },
    {
     "name": "stdout",
     "output_type": "stream",
     "text": [
      "Training Loss: 0.0179 - Training Accuracy: 0.9946 - Validation Loss: 0.1968 - Validation Accuracy: 0.9719\n",
      "Epoch: 47/60 "
     ]
    },
    {
     "name": "stderr",
     "output_type": "stream",
     "text": [
      "100%|██████████| 120/120 [00:08<00:00, 14.33it/s]\n"
     ]
    },
    {
     "name": "stdout",
     "output_type": "stream",
     "text": [
      "Training Loss: 0.016 - Training Accuracy: 0.9956 - Validation Loss: 0.2332 - Validation Accuracy: 0.9677\n",
      "Epoch: 48/60 "
     ]
    },
    {
     "name": "stderr",
     "output_type": "stream",
     "text": [
      "100%|██████████| 120/120 [00:08<00:00, 14.20it/s]\n"
     ]
    },
    {
     "name": "stdout",
     "output_type": "stream",
     "text": [
      "Training Loss: 0.0221 - Training Accuracy: 0.9936 - Validation Loss: 0.2108 - Validation Accuracy: 0.9701\n",
      "Epoch: 49/60 "
     ]
    },
    {
     "name": "stderr",
     "output_type": "stream",
     "text": [
      "100%|██████████| 120/120 [00:08<00:00, 13.95it/s]\n"
     ]
    },
    {
     "name": "stdout",
     "output_type": "stream",
     "text": [
      "Training Loss: 0.0131 - Training Accuracy: 0.9962 - Validation Loss: 0.2086 - Validation Accuracy: 0.97\n",
      "Epoch: 50/60 "
     ]
    },
    {
     "name": "stderr",
     "output_type": "stream",
     "text": [
      "100%|██████████| 120/120 [00:08<00:00, 14.39it/s]\n"
     ]
    },
    {
     "name": "stdout",
     "output_type": "stream",
     "text": [
      "Training Loss: 0.0099 - Training Accuracy: 0.9971 - Validation Loss: 0.205 - Validation Accuracy: 0.9718\n",
      "Epoch: 51/60 "
     ]
    },
    {
     "name": "stderr",
     "output_type": "stream",
     "text": [
      "100%|██████████| 120/120 [00:08<00:00, 14.36it/s]\n"
     ]
    },
    {
     "name": "stdout",
     "output_type": "stream",
     "text": [
      "Training Loss: 0.0114 - Training Accuracy: 0.9967 - Validation Loss: 0.2421 - Validation Accuracy: 0.9691\n",
      "Epoch: 52/60 "
     ]
    },
    {
     "name": "stderr",
     "output_type": "stream",
     "text": [
      "100%|██████████| 120/120 [00:08<00:00, 14.33it/s]\n"
     ]
    },
    {
     "name": "stdout",
     "output_type": "stream",
     "text": [
      "Training Loss: 0.0079 - Training Accuracy: 0.9975 - Validation Loss: 0.1884 - Validation Accuracy: 0.9738\n",
      "Epoch: 53/60 "
     ]
    },
    {
     "name": "stderr",
     "output_type": "stream",
     "text": [
      "100%|██████████| 120/120 [00:08<00:00, 14.31it/s]\n"
     ]
    },
    {
     "name": "stdout",
     "output_type": "stream",
     "text": [
      "Training Loss: 0.0074 - Training Accuracy: 0.9977 - Validation Loss: 0.1989 - Validation Accuracy: 0.9738\n",
      "Epoch: 54/60 "
     ]
    },
    {
     "name": "stderr",
     "output_type": "stream",
     "text": [
      "100%|██████████| 120/120 [00:09<00:00, 13.22it/s]\n"
     ]
    },
    {
     "name": "stdout",
     "output_type": "stream",
     "text": [
      "Training Loss: 0.0072 - Training Accuracy: 0.9977 - Validation Loss: 0.1945 - Validation Accuracy: 0.9753\n",
      "Epoch: 55/60 "
     ]
    },
    {
     "name": "stderr",
     "output_type": "stream",
     "text": [
      "100%|██████████| 120/120 [00:08<00:00, 13.40it/s]\n"
     ]
    },
    {
     "name": "stdout",
     "output_type": "stream",
     "text": [
      "Training Loss: 0.0051 - Training Accuracy: 0.9983 - Validation Loss: 0.2097 - Validation Accuracy: 0.974\n",
      "Epoch: 56/60 "
     ]
    },
    {
     "name": "stderr",
     "output_type": "stream",
     "text": [
      "100%|██████████| 120/120 [00:08<00:00, 14.45it/s]\n"
     ]
    },
    {
     "name": "stdout",
     "output_type": "stream",
     "text": [
      "Training Loss: 0.009 - Training Accuracy: 0.9975 - Validation Loss: 0.2262 - Validation Accuracy: 0.9714\n",
      "Epoch: 57/60 "
     ]
    },
    {
     "name": "stderr",
     "output_type": "stream",
     "text": [
      "100%|██████████| 120/120 [00:08<00:00, 14.19it/s]\n"
     ]
    },
    {
     "name": "stdout",
     "output_type": "stream",
     "text": [
      "Training Loss: 0.012 - Training Accuracy: 0.9964 - Validation Loss: 0.2335 - Validation Accuracy: 0.9711\n",
      "Epoch: 58/60 "
     ]
    },
    {
     "name": "stderr",
     "output_type": "stream",
     "text": [
      " 90%|█████████ | 108/120 [00:07<00:00, 14.24it/s]"
     ]
    }
   ],
   "source": [
    "LR_decay = LearningRateDecay()\n",
    "\n",
    "model.fit(X_train_new, Y_1hot_train, epochs=epochs, batch_size=batch_size, lr=lr, X_val=X_val, y_val=y_val, verbose=1,\n",
    "          lr_decay=LR_decay.constant, lr_0=lr)"
   ]
  },
  {
   "cell_type": "code",
   "execution_count": null,
   "metadata": {
    "colab": {
     "base_uri": "https://localhost:8080/",
     "height": 295
    },
    "id": "40htYsgCckSo",
    "outputId": "74c41cae-4b94-4e2e-8b51-d2a8d2ab59d4",
    "tags": []
   },
   "outputs": [
    {
     "data": {
      "image/png": "[encoded data removed]",
      "text/plain": [
       "<Figure size 432x288 with 1 Axes>"
      ]
     },
     "metadata": {
      "needs_background": "light"
     },
     "output_type": "display_data"
    }
   ],
   "source": [
    "model.loss_plot()"
   ]
  },
  {
   "cell_type": "code",
   "execution_count": null,
   "metadata": {
    "colab": {
     "base_uri": "https://localhost:8080/",
     "height": 295
    },
    "id": "efPtgkc4ckSp",
    "outputId": "a9a70a93-f357-443a-f0f3-e6160f35b75e",
    "tags": []
   },
   "outputs": [
    {
     "data": {
      "image/png": "[encoded data removed]",
      "text/plain": [
       "<Figure size 432x288 with 1 Axes>"
      ]
     },
     "metadata": {
      "needs_background": "light"
     },
     "output_type": "display_data"
    }
   ],
   "source": [
    "model.accuracy_plot()"
   ]
  },
  {
   "cell_type": "code",
   "execution_count": null,
   "metadata": {
    "colab": {
     "base_uri": "https://localhost:8080/"
    },
    "id": "NpgF9v7xOOSJ",
    "outputId": "8417ca57-1c72-4a8a-a788-3ced0fb80a17",
    "tags": []
   },
   "outputs": [
    {
     "data": {
      "text/plain": [
       "array([[ 953,    0,    8,    1,    3,    1,    7,    2,    3,    2],\n",
       "       [   0, 1123,    4,    2,    0,    0,    2,    0,    4,    0],\n",
       "       [   1,    0, 1009,    5,    3,    0,    2,    6,    6,    0],\n",
       "       [   1,    0,   12,  978,    0,   10,    0,    4,    3,    2],\n",
       "       [   1,    2,    2,    0,  955,    1,    4,    6,    0,   11],\n",
       "       [   1,    1,    0,   13,    2,  859,    6,    2,    6,    2],\n",
       "       [   3,    3,    1,    0,    7,    6,  936,    0,    2,    0],\n",
       "       [   1,    7,   14,    3,    5,    0,    0,  991,    3,    4],\n",
       "       [   5,    2,    7,   10,    5,    4,    7,    6,  922,    6],\n",
       "       [   2,    5,    1,    6,   14,    6,    0,    8,    5,  962]])"
      ]
     },
     "execution_count": 42,
     "metadata": {},
     "output_type": "execute_result"
    }
   ],
   "source": [
    "y_pred = model.predict(X_test)\n",
    "confusion_matrix(y_test, y_pred)"
   ]
  },
  {
   "cell_type": "code",
   "execution_count": null,
   "metadata": {
    "colab": {
     "base_uri": "https://localhost:8080/"
    },
    "id": "D-iSDZGLQEuR",
    "outputId": "3e4403c7-c3c3-4f73-fa0e-f8753fc3b0d7",
    "tags": []
   },
   "outputs": [
    {
     "name": "stdout",
     "output_type": "stream",
     "text": [
      "Error Rate = 3.12\n",
      "Accuracy = 96.88\n"
     ]
    }
   ],
   "source": [
    "acc = accuracy_score(y_test, y_pred)\n",
    "print('Error Rate =',round((1-acc)*100, 2))\n",
    "print('Accuracy =',round((acc)*100, 2))"
   ]
  },
  {
   "cell_type": "markdown",
   "metadata": {
    "id": "sfA2YtjrQed0"
   },
   "source": [
    "### Validating model using MNIST Dataset + Batch Normalization and Dropout"
   ]
  },
  {
   "cell_type": "code",
   "execution_count": null,
   "metadata": {
    "id": "7IVa-LtqfJmh",
    "tags": []
   },
   "outputs": [],
   "source": [
    "from keras.datasets import mnist\n",
    "\n",
    "(X_train, y_train), (X_test, y_test) = mnist.load_data()\n",
    "\n",
    "X_train = X_train.reshape(X_train.shape[0], X_train.shape[1]**2)\n",
    "X_test = X_test.reshape(X_test.shape[0], X_test.shape[1]**2)\n",
    "X_train = X_train/255\n",
    "X_test = X_test/255\n",
    "\n",
    "utility = Utility()\n",
    "\n",
    "# train validation split\n",
    "X_train_new, X_val, y_train_new, y_val = utility.train_test_split(X_train, y_train, test_ratio=0.2, seed=42)\n",
    "\n",
    "Y_1hot_train, _ = utility.onehot(y_train_new)\n",
    "\n",
    "lr, epochs, batch_size = 0.8, 40, 200\n",
    "input_dim = X_train_new.shape[1]\n",
    "output_dim = Y_1hot_train.shape[1]"
   ]
  },
  {
   "cell_type": "code",
   "execution_count": null,
   "metadata": {
    "id": "gNQCg8KlQed1",
    "tags": []
   },
   "outputs": [],
   "source": [
    "model = MLP()\n",
    "\n",
    "model.add(Dense(neurons=240, \n",
    "                activation_type='relu', \n",
    "                input_dim=input_dim, \n",
    "                seed=42, \n",
    "                weight_initializer_type='xavier_normal'))\n",
    "\n",
    "model.add(Dropout(0.6))\n",
    "model.add(BatchNormalization())\n",
    "\n",
    "model.add(Dense(neurons=output_dim, \n",
    "                activation_type='softmax', \n",
    "                weight_initializer_type='he_normal', \n",
    "                seed=42))"
   ]
  },
  {
   "cell_type": "code",
   "execution_count": null,
   "metadata": {
    "id": "KiVbwB00fJmi",
    "tags": []
   },
   "outputs": [],
   "source": [
    "model.compile(cost_type='cross-entropy', optimizer_type='adam')"
   ]
  },
  {
   "cell_type": "code",
   "execution_count": null,
   "metadata": {
    "colab": {
     "base_uri": "https://localhost:8080/"
    },
    "id": "vHN3v8wZUbQW",
    "outputId": "c765acdc-2664-42be-df2a-96ac0ef24506",
    "tags": []
   },
   "outputs": [
    {
     "name": "stdout",
     "output_type": "stream",
     "text": [
      "Model: MLP\n",
      "--------------------------------------------------------------------------------------\n",
      "Layer (type)                                 Output Shape              # of Parameters\n",
      "======================================================================================\n",
      "input_1 (Input)                              (None, 784)               0              \n",
      "--------------------------------------------------------------------------------------\n",
      "dense_1 (Dense)                              (None, 240)               188400         \n",
      "--------------------------------------------------------------------------------------\n",
      "dropout_1 (Dropout)                          (None, 240)               0              \n",
      "--------------------------------------------------------------------------------------\n",
      "batchnormalization_1 (BatchNormalization)    (None, 240)               960            \n",
      "--------------------------------------------------------------------------------------\n",
      "dense_2 (Dense)                              (None, 10)                2410           \n",
      "======================================================================================\n",
      "Total params: 191770\n",
      "Trainable params: 191290\n",
      "Non-trainable params: 480\n",
      "--------------------------------------------------------------------------------------\n"
     ]
    }
   ],
   "source": [
    "model.summary()"
   ]
  },
  {
   "cell_type": "code",
   "execution_count": null,
   "metadata": {
    "colab": {
     "base_uri": "https://localhost:8080/"
    },
    "id": "IDSnf2UofJmi",
    "outputId": "4c605f31-df6b-49aa-f075-eb7148b42d9d",
    "tags": [
     "hide-output"
    ]
   },
   "outputs": [
    {
     "name": "stdout",
     "output_type": "stream",
     "text": [
      "Epoch: 1/40 "
     ]
    },
    {
     "name": "stderr",
     "output_type": "stream",
     "text": [
      "100%|██████████| 240/240 [00:06<00:00, 35.19it/s]\n"
     ]
    },
    {
     "name": "stdout",
     "output_type": "stream",
     "text": [
      "Training Loss: 0.2963 - Training Accuracy: 0.9108 - Validation Loss: 0.1905 - Validation Accuracy: 0.9443\n",
      "Epoch: 2/40 "
     ]
    },
    {
     "name": "stderr",
     "output_type": "stream",
     "text": [
      "100%|██████████| 240/240 [00:07<00:00, 33.34it/s]\n"
     ]
    },
    {
     "name": "stdout",
     "output_type": "stream",
     "text": [
      "Training Loss: 0.1622 - Training Accuracy: 0.9502 - Validation Loss: 0.1609 - Validation Accuracy: 0.9518\n",
      "Epoch: 3/40 "
     ]
    },
    {
     "name": "stderr",
     "output_type": "stream",
     "text": [
      "100%|██████████| 240/240 [00:06<00:00, 37.13it/s]\n"
     ]
    },
    {
     "name": "stdout",
     "output_type": "stream",
     "text": [
      "Training Loss: 0.1301 - Training Accuracy: 0.961 - Validation Loss: 0.151 - Validation Accuracy: 0.9538\n",
      "Epoch: 4/40 "
     ]
    },
    {
     "name": "stderr",
     "output_type": "stream",
     "text": [
      "100%|██████████| 240/240 [00:06<00:00, 38.86it/s]\n"
     ]
    },
    {
     "name": "stdout",
     "output_type": "stream",
     "text": [
      "Training Loss: 0.1099 - Training Accuracy: 0.9656 - Validation Loss: 0.1424 - Validation Accuracy: 0.9544\n",
      "Epoch: 5/40 "
     ]
    },
    {
     "name": "stderr",
     "output_type": "stream",
     "text": [
      "100%|██████████| 240/240 [00:06<00:00, 38.94it/s]\n"
     ]
    },
    {
     "name": "stdout",
     "output_type": "stream",
     "text": [
      "Training Loss: 0.0997 - Training Accuracy: 0.9688 - Validation Loss: 0.1361 - Validation Accuracy: 0.9593\n",
      "Epoch: 6/40 "
     ]
    },
    {
     "name": "stderr",
     "output_type": "stream",
     "text": [
      "100%|██████████| 240/240 [00:06<00:00, 39.08it/s]\n"
     ]
    },
    {
     "name": "stdout",
     "output_type": "stream",
     "text": [
      "Training Loss: 0.092 - Training Accuracy: 0.9702 - Validation Loss: 0.1306 - Validation Accuracy: 0.962\n",
      "Epoch: 7/40 "
     ]
    },
    {
     "name": "stderr",
     "output_type": "stream",
     "text": [
      "100%|██████████| 240/240 [00:06<00:00, 39.14it/s]\n"
     ]
    },
    {
     "name": "stdout",
     "output_type": "stream",
     "text": [
      "Training Loss: 0.0805 - Training Accuracy: 0.9739 - Validation Loss: 0.1296 - Validation Accuracy: 0.9612\n",
      "Epoch: 8/40 "
     ]
    },
    {
     "name": "stderr",
     "output_type": "stream",
     "text": [
      "100%|██████████| 240/240 [00:06<00:00, 38.87it/s]\n"
     ]
    },
    {
     "name": "stdout",
     "output_type": "stream",
     "text": [
      "Training Loss: 0.077 - Training Accuracy: 0.9751 - Validation Loss: 0.1239 - Validation Accuracy: 0.9637\n",
      "Epoch: 9/40 "
     ]
    },
    {
     "name": "stderr",
     "output_type": "stream",
     "text": [
      "100%|██████████| 240/240 [00:06<00:00, 38.91it/s]\n"
     ]
    },
    {
     "name": "stdout",
     "output_type": "stream",
     "text": [
      "Training Loss: 0.0714 - Training Accuracy: 0.9758 - Validation Loss: 0.1237 - Validation Accuracy: 0.9642\n",
      "Epoch: 10/40 "
     ]
    },
    {
     "name": "stderr",
     "output_type": "stream",
     "text": [
      "100%|██████████| 240/240 [00:06<00:00, 39.13it/s]\n"
     ]
    },
    {
     "name": "stdout",
     "output_type": "stream",
     "text": [
      "Training Loss: 0.0642 - Training Accuracy: 0.9793 - Validation Loss: 0.1126 - Validation Accuracy: 0.9686\n",
      "Epoch: 11/40 "
     ]
    },
    {
     "name": "stderr",
     "output_type": "stream",
     "text": [
      "100%|██████████| 240/240 [00:11<00:00, 20.89it/s]\n"
     ]
    },
    {
     "name": "stdout",
     "output_type": "stream",
     "text": [
      "Training Loss: 0.061 - Training Accuracy: 0.9797 - Validation Loss: 0.1277 - Validation Accuracy: 0.9646\n",
      "Epoch: 12/40 "
     ]
    },
    {
     "name": "stderr",
     "output_type": "stream",
     "text": [
      "100%|██████████| 240/240 [00:14<00:00, 16.65it/s]\n"
     ]
    },
    {
     "name": "stdout",
     "output_type": "stream",
     "text": [
      "Training Loss: 0.06 - Training Accuracy: 0.9799 - Validation Loss: 0.1252 - Validation Accuracy: 0.9652\n",
      "Epoch: 13/40 "
     ]
    },
    {
     "name": "stderr",
     "output_type": "stream",
     "text": [
      "100%|██████████| 240/240 [00:07<00:00, 32.92it/s]\n"
     ]
    },
    {
     "name": "stdout",
     "output_type": "stream",
     "text": [
      "Training Loss: 0.0572 - Training Accuracy: 0.981 - Validation Loss: 0.1318 - Validation Accuracy: 0.9641\n",
      "Epoch: 14/40 "
     ]
    },
    {
     "name": "stderr",
     "output_type": "stream",
     "text": [
      "100%|██████████| 240/240 [00:06<00:00, 36.05it/s]\n"
     ]
    },
    {
     "name": "stdout",
     "output_type": "stream",
     "text": [
      "Training Loss: 0.0534 - Training Accuracy: 0.9821 - Validation Loss: 0.1378 - Validation Accuracy: 0.9632\n",
      "Epoch: 15/40 "
     ]
    },
    {
     "name": "stderr",
     "output_type": "stream",
     "text": [
      "100%|██████████| 240/240 [00:06<00:00, 39.32it/s]\n"
     ]
    },
    {
     "name": "stdout",
     "output_type": "stream",
     "text": [
      "Training Loss: 0.0502 - Training Accuracy: 0.9828 - Validation Loss: 0.1265 - Validation Accuracy: 0.9679\n",
      "Epoch: 16/40 "
     ]
    },
    {
     "name": "stderr",
     "output_type": "stream",
     "text": [
      "100%|██████████| 240/240 [00:06<00:00, 39.37it/s]\n"
     ]
    },
    {
     "name": "stdout",
     "output_type": "stream",
     "text": [
      "Training Loss: 0.0535 - Training Accuracy: 0.982 - Validation Loss: 0.1231 - Validation Accuracy: 0.9654\n",
      "Epoch: 17/40 "
     ]
    },
    {
     "name": "stderr",
     "output_type": "stream",
     "text": [
      "100%|██████████| 240/240 [00:06<00:00, 39.31it/s]\n"
     ]
    },
    {
     "name": "stdout",
     "output_type": "stream",
     "text": [
      "Training Loss: 0.0494 - Training Accuracy: 0.9844 - Validation Loss: 0.1314 - Validation Accuracy: 0.966\n",
      "Epoch: 18/40 "
     ]
    },
    {
     "name": "stderr",
     "output_type": "stream",
     "text": [
      "100%|██████████| 240/240 [00:06<00:00, 39.67it/s]\n"
     ]
    },
    {
     "name": "stdout",
     "output_type": "stream",
     "text": [
      "Training Loss: 0.0437 - Training Accuracy: 0.9852 - Validation Loss: 0.1312 - Validation Accuracy: 0.9669\n",
      "Epoch: 19/40 "
     ]
    },
    {
     "name": "stderr",
     "output_type": "stream",
     "text": [
      "100%|██████████| 240/240 [00:06<00:00, 39.08it/s]\n"
     ]
    },
    {
     "name": "stdout",
     "output_type": "stream",
     "text": [
      "Training Loss: 0.044 - Training Accuracy: 0.9854 - Validation Loss: 0.1325 - Validation Accuracy: 0.9654\n",
      "Epoch: 20/40 "
     ]
    },
    {
     "name": "stderr",
     "output_type": "stream",
     "text": [
      "100%|██████████| 240/240 [00:06<00:00, 38.29it/s]\n"
     ]
    },
    {
     "name": "stdout",
     "output_type": "stream",
     "text": [
      "Training Loss: 0.0433 - Training Accuracy: 0.9848 - Validation Loss: 0.1363 - Validation Accuracy: 0.9644\n",
      "Epoch: 21/40 "
     ]
    },
    {
     "name": "stderr",
     "output_type": "stream",
     "text": [
      "100%|██████████| 240/240 [00:06<00:00, 39.02it/s]\n"
     ]
    },
    {
     "name": "stdout",
     "output_type": "stream",
     "text": [
      "Training Loss: 0.0416 - Training Accuracy: 0.9857 - Validation Loss: 0.1288 - Validation Accuracy: 0.9688\n",
      "Epoch: 22/40 "
     ]
    },
    {
     "name": "stderr",
     "output_type": "stream",
     "text": [
      "100%|██████████| 240/240 [00:06<00:00, 39.07it/s]\n"
     ]
    },
    {
     "name": "stdout",
     "output_type": "stream",
     "text": [
      "Training Loss: 0.04 - Training Accuracy: 0.9857 - Validation Loss: 0.1358 - Validation Accuracy: 0.9673\n",
      "Epoch: 23/40 "
     ]
    },
    {
     "name": "stderr",
     "output_type": "stream",
     "text": [
      "100%|██████████| 240/240 [00:06<00:00, 38.89it/s]\n"
     ]
    },
    {
     "name": "stdout",
     "output_type": "stream",
     "text": [
      "Training Loss: 0.0387 - Training Accuracy: 0.9871 - Validation Loss: 0.1295 - Validation Accuracy: 0.9668\n",
      "Epoch: 24/40 "
     ]
    },
    {
     "name": "stderr",
     "output_type": "stream",
     "text": [
      "100%|██████████| 240/240 [00:06<00:00, 38.62it/s]\n"
     ]
    },
    {
     "name": "stdout",
     "output_type": "stream",
     "text": [
      "Training Loss: 0.04 - Training Accuracy: 0.9861 - Validation Loss: 0.1374 - Validation Accuracy: 0.9696\n",
      "Epoch: 25/40 "
     ]
    },
    {
     "name": "stderr",
     "output_type": "stream",
     "text": [
      "100%|██████████| 240/240 [00:07<00:00, 30.90it/s]\n"
     ]
    },
    {
     "name": "stdout",
     "output_type": "stream",
     "text": [
      "Training Loss: 0.0401 - Training Accuracy: 0.9864 - Validation Loss: 0.133 - Validation Accuracy: 0.9658\n",
      "Epoch: 26/40 "
     ]
    },
    {
     "name": "stderr",
     "output_type": "stream",
     "text": [
      "100%|██████████| 240/240 [00:06<00:00, 39.35it/s]\n"
     ]
    },
    {
     "name": "stdout",
     "output_type": "stream",
     "text": [
      "Training Loss: 0.0363 - Training Accuracy: 0.9875 - Validation Loss: 0.1319 - Validation Accuracy: 0.9663\n",
      "Epoch: 27/40 "
     ]
    },
    {
     "name": "stderr",
     "output_type": "stream",
     "text": [
      "100%|██████████| 240/240 [00:06<00:00, 35.62it/s]\n"
     ]
    },
    {
     "name": "stdout",
     "output_type": "stream",
     "text": [
      "Training Loss: 0.0363 - Training Accuracy: 0.9877 - Validation Loss: 0.1425 - Validation Accuracy: 0.9652\n",
      "Epoch: 28/40 "
     ]
    },
    {
     "name": "stderr",
     "output_type": "stream",
     "text": [
      "100%|██████████| 240/240 [00:06<00:00, 37.87it/s]\n"
     ]
    },
    {
     "name": "stdout",
     "output_type": "stream",
     "text": [
      "Training Loss: 0.0345 - Training Accuracy: 0.9882 - Validation Loss: 0.1369 - Validation Accuracy: 0.9686\n",
      "Epoch: 29/40 "
     ]
    },
    {
     "name": "stderr",
     "output_type": "stream",
     "text": [
      "100%|██████████| 240/240 [00:06<00:00, 35.04it/s]\n"
     ]
    },
    {
     "name": "stdout",
     "output_type": "stream",
     "text": [
      "Training Loss: 0.0371 - Training Accuracy: 0.987 - Validation Loss: 0.1473 - Validation Accuracy: 0.966\n",
      "Epoch: 30/40 "
     ]
    },
    {
     "name": "stderr",
     "output_type": "stream",
     "text": [
      "100%|██████████| 240/240 [00:06<00:00, 35.36it/s]\n"
     ]
    },
    {
     "name": "stdout",
     "output_type": "stream",
     "text": [
      "Training Loss: 0.0324 - Training Accuracy: 0.989 - Validation Loss: 0.1336 - Validation Accuracy: 0.9688\n",
      "Epoch: 31/40 "
     ]
    },
    {
     "name": "stderr",
     "output_type": "stream",
     "text": [
      "100%|██████████| 240/240 [00:07<00:00, 30.24it/s]\n"
     ]
    },
    {
     "name": "stdout",
     "output_type": "stream",
     "text": [
      "Training Loss: 0.0313 - Training Accuracy: 0.9888 - Validation Loss: 0.1321 - Validation Accuracy: 0.9681\n",
      "Epoch: 32/40 "
     ]
    },
    {
     "name": "stderr",
     "output_type": "stream",
     "text": [
      "100%|██████████| 240/240 [00:06<00:00, 34.49it/s]\n"
     ]
    },
    {
     "name": "stdout",
     "output_type": "stream",
     "text": [
      "Training Loss: 0.0318 - Training Accuracy: 0.9894 - Validation Loss: 0.135 - Validation Accuracy: 0.9691\n",
      "Epoch: 33/40 "
     ]
    },
    {
     "name": "stderr",
     "output_type": "stream",
     "text": [
      "100%|██████████| 240/240 [00:07<00:00, 33.35it/s]\n"
     ]
    },
    {
     "name": "stdout",
     "output_type": "stream",
     "text": [
      "Training Loss: 0.0338 - Training Accuracy: 0.9889 - Validation Loss: 0.136 - Validation Accuracy: 0.97\n",
      "Epoch: 34/40 "
     ]
    },
    {
     "name": "stderr",
     "output_type": "stream",
     "text": [
      "100%|██████████| 240/240 [00:07<00:00, 32.97it/s]\n"
     ]
    },
    {
     "name": "stdout",
     "output_type": "stream",
     "text": [
      "Training Loss: 0.0299 - Training Accuracy: 0.99 - Validation Loss: 0.133 - Validation Accuracy: 0.9701\n",
      "Epoch: 35/40 "
     ]
    },
    {
     "name": "stderr",
     "output_type": "stream",
     "text": [
      "100%|██████████| 240/240 [00:07<00:00, 33.01it/s]\n"
     ]
    },
    {
     "name": "stdout",
     "output_type": "stream",
     "text": [
      "Training Loss: 0.031 - Training Accuracy: 0.9894 - Validation Loss: 0.1441 - Validation Accuracy: 0.9686\n",
      "Epoch: 36/40 "
     ]
    },
    {
     "name": "stderr",
     "output_type": "stream",
     "text": [
      "100%|██████████| 240/240 [00:07<00:00, 32.94it/s]\n"
     ]
    },
    {
     "name": "stdout",
     "output_type": "stream",
     "text": [
      "Training Loss: 0.0294 - Training Accuracy: 0.99 - Validation Loss: 0.1381 - Validation Accuracy: 0.9689\n",
      "Epoch: 37/40 "
     ]
    },
    {
     "name": "stderr",
     "output_type": "stream",
     "text": [
      "100%|██████████| 240/240 [00:07<00:00, 32.58it/s]\n"
     ]
    },
    {
     "name": "stdout",
     "output_type": "stream",
     "text": [
      "Training Loss: 0.0267 - Training Accuracy: 0.9907 - Validation Loss: 0.1326 - Validation Accuracy: 0.9683\n",
      "Epoch: 38/40 "
     ]
    },
    {
     "name": "stderr",
     "output_type": "stream",
     "text": [
      "100%|██████████| 240/240 [00:08<00:00, 29.64it/s]\n"
     ]
    },
    {
     "name": "stdout",
     "output_type": "stream",
     "text": [
      "Training Loss: 0.0308 - Training Accuracy: 0.9892 - Validation Loss: 0.1381 - Validation Accuracy: 0.967\n",
      "Epoch: 39/40 "
     ]
    },
    {
     "name": "stderr",
     "output_type": "stream",
     "text": [
      "100%|██████████| 240/240 [00:09<00:00, 26.12it/s]\n"
     ]
    },
    {
     "name": "stdout",
     "output_type": "stream",
     "text": [
      "Training Loss: 0.0299 - Training Accuracy: 0.9901 - Validation Loss: 0.1434 - Validation Accuracy: 0.9682\n",
      "Epoch: 40/40 "
     ]
    },
    {
     "name": "stderr",
     "output_type": "stream",
     "text": [
      "100%|██████████| 240/240 [00:07<00:00, 31.81it/s]\n"
     ]
    },
    {
     "name": "stdout",
     "output_type": "stream",
     "text": [
      "Training Loss: 0.0303 - Training Accuracy: 0.9899 - Validation Loss: 0.1342 - Validation Accuracy: 0.9684\n"
     ]
    }
   ],
   "source": [
    "model.fit(X_train_new, Y_1hot_train, epochs=epochs, batch_size=batch_size, lr=lr, X_val=X_val, y_val=y_val, verbose=1)"
   ]
  },
  {
   "cell_type": "code",
   "execution_count": null,
   "metadata": {
    "colab": {
     "base_uri": "https://localhost:8080/",
     "height": 295
    },
    "id": "eKLfDBL-fJmi",
    "outputId": "5b4f0e0f-b472-4000-a67e-b36bb797766b",
    "tags": []
   },
   "outputs": [
    {
     "data": {
      "image/png": "[encoded data removed]",
      "text/plain": [
       "<Figure size 432x288 with 1 Axes>"
      ]
     },
     "metadata": {
      "needs_background": "light"
     },
     "output_type": "display_data"
    }
   ],
   "source": [
    "model.loss_plot()"
   ]
  },
  {
   "cell_type": "code",
   "execution_count": null,
   "metadata": {
    "colab": {
     "base_uri": "https://localhost:8080/",
     "height": 295
    },
    "id": "L4vk3hy4fJmi",
    "outputId": "40b2ed08-20d4-4bdf-fa26-9a399e4cbecc",
    "tags": []
   },
   "outputs": [
    {
     "data": {
      "image/png": "[encoded data removed]",
      "text/plain": [
       "<Figure size 432x288 with 1 Axes>"
      ]
     },
     "metadata": {
      "needs_background": "light"
     },
     "output_type": "display_data"
    }
   ],
   "source": [
    "model.accuracy_plot()"
   ]
  },
  {
   "cell_type": "code",
   "execution_count": null,
   "metadata": {
    "colab": {
     "base_uri": "https://localhost:8080/"
    },
    "id": "Ny7qTXA7fJmi",
    "outputId": "240c81b8-717c-4746-ed63-be2f36a62a08",
    "tags": []
   },
   "outputs": [
    {
     "data": {
      "text/plain": [
       "array([[ 962,    0,    3,    1,    0,    2,    7,    2,    2,    1],\n",
       "       [   0, 1120,    4,    1,    0,    0,    4,    0,    6,    0],\n",
       "       [   4,    0, 1010,    3,    2,    0,    2,    6,    5,    0],\n",
       "       [   1,    2,    8,  977,    0,    9,    0,    7,    2,    4],\n",
       "       [   1,    2,    3,    0,  952,    1,    3,    5,    1,   14],\n",
       "       [   1,    1,    1,    8,    3,  867,    6,    1,    3,    1],\n",
       "       [   5,    2,    5,    0,    6,    4,  931,    0,    5,    0],\n",
       "       [   3,    6,   16,    4,    2,    0,    1,  987,    0,    9],\n",
       "       [   3,    1,   10,   15,    5,    6,    4,    3,  920,    7],\n",
       "       [   2,    3,    0,    8,   11,    7,    1,    8,    9,  960]])"
      ]
     },
     "execution_count": 51,
     "metadata": {},
     "output_type": "execute_result"
    }
   ],
   "source": [
    "y_pred = model.predict(X_test)\n",
    "confusion_matrix(y_test, y_pred)"
   ]
  },
  {
   "cell_type": "code",
   "execution_count": null,
   "metadata": {
    "colab": {
     "base_uri": "https://localhost:8080/"
    },
    "id": "DCHH1ZtdfJmi",
    "outputId": "146093a3-f705-4ac4-f18e-9d5f4d86f4b3",
    "tags": []
   },
   "outputs": [
    {
     "name": "stdout",
     "output_type": "stream",
     "text": [
      "Error Rate = 3.14\n",
      "Accuracy = 96.86\n"
     ]
    }
   ],
   "source": [
    "acc = accuracy_score(y_test, y_pred)\n",
    "print('Error Rate =',round((1-acc)*100, 2))\n",
    "print('Accuracy =',round((acc)*100, 2))"
   ]
  }
 ],
 "metadata": {
  "celltoolbar": "Tags",
  "colab": {
   "collapsed_sections": [
    "ZVpiHevXOay3",
    "pGYcr5FZOy4r",
    "h_2g5TPjPP_t",
    "Nh14oSPcEPq8",
    "g1teeuM9ck_s",
    "-jJJa9ia3m6h",
    "qnz8Hle92gd0",
    "wB6_OSdnvIw4",
    "ldbr77kyo0-5",
    "iCwgHByEtS-X",
    "EiFpQdngYOue",
    "gCKf9K9RNcLE",
    "9gTOzOStNiPn",
    "sfA2YtjrQed0"
   ],
   "provenance": []
  },
  "kernelspec": {
   "display_name": "Python 3 (ipykernel)",
   "language": "python",
   "name": "python3"
  },
  "language_info": {
   "codemirror_mode": {
    "name": "ipython",
    "version": 3
   },
   "file_extension": ".py",
   "mimetype": "text/x-python",
   "name": "python",
   "nbconvert_exporter": "python",
   "pygments_lexer": "ipython3",
   "version": "3.10.2"
  }
 },
 "nbformat": 4,
 "nbformat_minor": 4
}
