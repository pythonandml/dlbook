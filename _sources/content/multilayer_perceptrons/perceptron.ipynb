{
 "cells": [
  {
   "cell_type": "markdown",
   "metadata": {
    "id": "HqSxG701C5qu"
   },
   "source": [
    "# 2.2. Perceptron\n",
    "\n",
    "Perceptron is a linear classifier (binary). It helps to classify the given input data. It is used in supervised learning. \n",
    "\n",
    "> The Neural Networks work the same way as the perceptron. So, if you want to know how neural network works, learn how perceptron works.\n",
    "\n",
    "#### Background\n",
    "\n",
    "Suppose we are provided with a dataset $X$ of shape $(m,d)$ where $m$ and $d$ are the number of samples (rows) and number of features (column) in $X$ respectively and a labeled target variable $y$ (of length same as the number of samples $m$). \n",
    "\n",
    "For example, suppose input $X$ (having columns $x_1$ and $x_2$ and 5 samples i.e $m=5$ and $d=2$) and a target variable $y$ are as follows:\n",
    "\n",
    "| x1 | x2 | y\n",
    "| --- | --- | --- |\n",
    "| 3 | 5 | 14 |\n",
    "| 1 | 4 | 9 |\n",
    "| 2 | 6 | 13 |\n",
    "| 7 | 3 | 20 |\n",
    "| 9 | 1 | 22 |\n",
    "\n",
    "Here we can see that $y = 2x_1 + x_2 + 3$. Obviously, in real world we would not get such a nice relationship between $X$ and $y$. \n",
    "\n",
    "Therefore, our aim is to make a \"black box\" that can predict the value of $y$ for any given input $X$ (i.e. if any input $X$ is given to that black box, it should give out $y$ as an output without even knowing the true relationship between $X$ and $y$).\n",
    "\n",
    "This blackbox (in case of **Deep Learning**) is termed as \"Neural Networks\" and perceptron model is one such simplistic example of that blackbox."
   ]
  },
  {
   "cell_type": "markdown",
   "metadata": {
    "id": "P4bJrFFO3-fV"
   },
   "source": [
    "![](images/perceptron.png)"
   ]
  },
  {
   "cell_type": "markdown",
   "metadata": {
    "id": "JhNLCXpC4AjI"
   },
   "source": [
    "**How does it work?**\n",
    "\n",
    "Consider the image above. Here we have `neurons` (each circle in the image represents one neuron), `inputs`, `weights`, `biases`, `weighted sum`, `activation function` and `output`.\n",
    "\n",
    "#### Neuron\n",
    "\n",
    "> A neuron is a bloc of mathematical operations linking entities\n",
    "\n",
    "#### Inputs\n",
    "\n",
    "Now, consider only one sample (or one row) $x$ from the dataset $X$ ($x=[x_1, x_2, ..., x_d]$). Each of these values are one neuron and thus our **Input** has $d$ neurons. \n",
    "\n",
    "#### Weights\n",
    "\n",
    "Each of these `Input neurons` have a weight associated to it. Like $x_1$ has weight $w_1$, $x_2$ has weight $w_2$ and so on. These weights shows the strength of the particular neuron.\n",
    "\n",
    "#### Bias\n",
    "\n",
    "Then we also have a bias $b$ (which is also a neuron). A bias value allows you to shift the activation function curve up or down.\n",
    "\n",
    "A simpler way to understand what the bias is: \n",
    "\n",
    "It is somehow similar to the constant $b$ of a linear function $y = wx + b$. It allows you to move the line up and down to fit the prediction with the data better. Without $b$, the line always goes through the origin $(0, 0)$ and you may get a poorer fit.\n",
    "\n",
    "Using a bias, you’re effectively adding another dimension to your `input` space, which always takes the value one, so you’re avoiding an input vector of all zeros.\n",
    "\n",
    "> The weights and bias are possibly the most important concept of a neural network.\n",
    "\n",
    "They are the learnable parameters of Neural Networks (that is if we know the values of these weights and biases, then our black box is ready to make the predictions).\n",
    "\n",
    "#### weighted sum ($z$)\n",
    "\n",
    "We compute the weighted sum ($z$) using the inputs $x_i$, weights $w_i$ and bias $b$ and store it in a neuron.\n",
    "\n",
    "$$z = w_1 x_1 + w_2 x_2 + ... + w_d x_d + b$$\n",
    "\n",
    "So, \n",
    "\n",
    "$$z = \\sum_{i=1}^d w_i x_i + b$$\n",
    "\n",
    "#### Activation function output ($a$)\n",
    "\n",
    "Next we pass this weighted sum $z$ through an activation function $f$, in order to obtain the output $a = f(z)$. This is the final output of the perceptron model $\\hat{y} = a$ (or the final prediction).\n",
    "\n",
    "In short, the `activation functions` are used to map the input between the required values like $(0, 1)$ or $(-1, 1)$. For a better explanation, check this out: [Activation functions](https://pythonandml.github.io/dlbook/content/multilayer_perceptrons/activation.html) (link to previous chapter)\n",
    "\n",
    "Now that we have digested what a perceptron model is, we are ready to grab a bite of the underlying concepts behind MLP (Multi Layer Perceptron) model, also called as **Neural Networks**.\n",
    "\n",
    "\n",
    "\n"
   ]
  }
 ],
 "metadata": {
  "colab": {
   "provenance": []
  },
  "kernelspec": {
   "display_name": "Python 3 (ipykernel)",
   "language": "python",
   "name": "python3"
  },
  "language_info": {
   "codemirror_mode": {
    "name": "ipython",
    "version": 3
   },
   "file_extension": ".py",
   "mimetype": "text/x-python",
   "name": "python",
   "nbconvert_exporter": "python",
   "pygments_lexer": "ipython3",
   "version": "3.10.2"
  }
 },
 "nbformat": 4,
 "nbformat_minor": 4
}
