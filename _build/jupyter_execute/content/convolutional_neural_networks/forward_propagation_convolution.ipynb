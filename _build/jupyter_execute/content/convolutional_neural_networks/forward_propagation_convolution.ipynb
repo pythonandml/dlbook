{
 "cells": [
  {
   "cell_type": "markdown",
   "metadata": {
    "id": "NofXuSo8Kven"
   },
   "source": [
    "# 3.2.2 Forward Propagation Convolution layer (Vectorized)\n",
    "\n",
    "Now let us write (step by step) most general vectorized code using numpy (no loops will be used) to perform `forward propagation` on the convolution layer.\n",
    "\n",
    "> **Note:** The theoretical aspect of forward propagation along with the notations used can be found in the previous [section](https://pythonandml.github.io/dlbook/content/convolutional_neural_networks/convolutional_layers.html) (link to previous section).  "
   ]
  },
  {
   "cell_type": "markdown",
   "metadata": {
    "id": "U3aAKLrZODWi"
   },
   "source": [
    "### Padding and Convolution functions\n",
    "\n",
    "We know that the input will first be padded with zeros (based on type of padding) on the edges and then it will be sent further for convolution. We will create a function to perform padding and convolutions both of which will take following parameters: input $X$, Kernel $K$, stride $s$ and padding type $p$ which can be a string (\"valid\" or \"same\") or an integer as described in the [notations](https://pythonandml.github.io/dlbook/content/convolutional_neural_networks/convolutional_layers.html#notations) (link to previous section)"
   ]
  },
  {
   "cell_type": "markdown",
   "metadata": {
    "id": "YemeradDi_r_"
   },
   "source": [
    "#### Simple Input (no channels and batch)\n",
    "\n",
    "We will start with a simple Input (with no channels and batch) of shape $(N_h, N_w)$ and then progress further.\n",
    "\n",
    "![](images/x_correlate_k.png)\n",
    "\n",
    "The function `pad_input2D(X,K,s,p)` performs padding on input $X$ (with no channels and batch) and returns the padded matrix."
   ]
  },
  {
   "cell_type": "code",
   "execution_count": 1,
   "metadata": {
    "id": "qST0Y9Xmfe1s"
   },
   "outputs": [],
   "source": [
    "def pad_input2D(X, K, s, p='valid'):\n",
    "\n",
    "    if type(p)==int:\n",
    "        Nh, Nw = X.shape\n",
    "        pt, pb = p, p\n",
    "        pl, pr = p, p\n",
    "        \n",
    "    elif p=='valid':\n",
    "        Nh, Nw = X.shape\n",
    "        pt, pb = 0, 0\n",
    "        pl, pr = 0, 0\n",
    "\n",
    "    elif p=='same':\n",
    "        Nh, Nw = X.shape\n",
    "        Kh, Kw = K.shape\n",
    "        sh, sw = s\n",
    "\n",
    "        ph = (sh-1)*Nh + Kh - sh\n",
    "        pw = (sw-1)*Nw + Kw - sw\n",
    "\n",
    "        pt, pb = ph//2, (ph+1)//2\n",
    "        pl, pr = pw//2, (pw+1)//2\n",
    "\n",
    "    else:\n",
    "        raise ValueError(\"Incorrect padding type. Allowed types are only 'same' or 'valid' or an integer.\")\n",
    "\n",
    "    Xp = np.vstack((np.zeros((pt, Nw)), X))\n",
    "    Xp = np.vstack((Xp, np.zeros((pb, Nw))))\n",
    "    Xp = np.hstack((np.zeros((Nh+pt+pb, pl)), Xp))\n",
    "    Xp = np.hstack((Xp, np.zeros((Nh+pt+pb, pr))))\n",
    "\n",
    "    return Xp"
   ]
  },
  {
   "cell_type": "markdown",
   "metadata": {},
   "source": [
    "**Test `p=\"valid\"`**"
   ]
  },
  {
   "cell_type": "code",
   "execution_count": 2,
   "metadata": {},
   "outputs": [
    {
     "name": "stdout",
     "output_type": "stream",
     "text": [
      "X = \n",
      "\n",
      " [[1 5 3]\n",
      " [2 6 1]\n",
      " [0 4 7]] \n",
      "\n",
      "Xp = \n",
      "\n",
      " [[1. 5. 3.]\n",
      " [2. 6. 1.]\n",
      " [0. 4. 7.]]\n"
     ]
    }
   ],
   "source": [
    "import numpy as np\n",
    "\n",
    "np.random.seed(10)\n",
    "\n",
    "X = np.array([[1, 5, 3],\n",
    "              [2, 6, 1],\n",
    "              [0, 4, 7]])\n",
    "\n",
    "K = np.array([[1, -1],\n",
    "              [2, 0]])\n",
    "\n",
    "s = (2,2) # strides along height and width\n",
    "\n",
    "print('X = \\n\\n', X, '\\n')\n",
    "\n",
    "Xp = pad_input2D(X, K, s, p='valid')\n",
    "\n",
    "print('Xp = \\n\\n', Xp)"
   ]
  },
  {
   "cell_type": "markdown",
   "metadata": {},
   "source": [
    "**Test `p=\"same\"`, stride $s=(2,2)$**"
   ]
  },
  {
   "cell_type": "code",
   "execution_count": 3,
   "metadata": {},
   "outputs": [
    {
     "name": "stdout",
     "output_type": "stream",
     "text": [
      "X = \n",
      "\n",
      " [[1 5 3]\n",
      " [2 6 1]\n",
      " [0 4 7]] \n",
      "\n",
      "Xp = \n",
      "\n",
      " [[0. 0. 0. 0. 0. 0.]\n",
      " [0. 1. 5. 3. 0. 0.]\n",
      " [0. 2. 6. 1. 0. 0.]\n",
      " [0. 0. 4. 7. 0. 0.]\n",
      " [0. 0. 0. 0. 0. 0.]\n",
      " [0. 0. 0. 0. 0. 0.]]\n"
     ]
    }
   ],
   "source": [
    "import numpy as np\n",
    "\n",
    "np.random.seed(10)\n",
    "\n",
    "X = np.array([[1, 5, 3],\n",
    "              [2, 6, 1],\n",
    "              [0, 4, 7]])\n",
    "\n",
    "K = np.array([[1, -1],\n",
    "              [2, 0]])\n",
    "\n",
    "s = (2,2) # strides along height and width\n",
    "\n",
    "print('X = \\n\\n', X, '\\n')\n",
    "\n",
    "Xp = pad_input2D(X, K, s, p='same')\n",
    "\n",
    "print('Xp = \\n\\n', Xp)"
   ]
  },
  {
   "cell_type": "markdown",
   "metadata": {},
   "source": [
    "We see that the right and bottom of the input is padded.\n",
    "\n",
    "**Test the value of $p$ as integer ($p=2$)**"
   ]
  },
  {
   "cell_type": "code",
   "execution_count": 4,
   "metadata": {},
   "outputs": [
    {
     "name": "stdout",
     "output_type": "stream",
     "text": [
      "X = \n",
      "\n",
      " [[1 5 3]\n",
      " [2 6 1]\n",
      " [0 4 7]] \n",
      "\n",
      "Xp = \n",
      "\n",
      " [[0. 0. 0. 0. 0. 0. 0.]\n",
      " [0. 0. 0. 0. 0. 0. 0.]\n",
      " [0. 0. 1. 5. 3. 0. 0.]\n",
      " [0. 0. 2. 6. 1. 0. 0.]\n",
      " [0. 0. 0. 4. 7. 0. 0.]\n",
      " [0. 0. 0. 0. 0. 0. 0.]\n",
      " [0. 0. 0. 0. 0. 0. 0.]]\n"
     ]
    }
   ],
   "source": [
    "import numpy as np\n",
    "\n",
    "np.random.seed(10)\n",
    "\n",
    "X = np.array([[1, 5, 3],\n",
    "              [2, 6, 1],\n",
    "              [0, 4, 7]])\n",
    "\n",
    "K = np.array([[1, -1],\n",
    "              [2, 0]])\n",
    "\n",
    "s = (2,2) # strides along height and width\n",
    "\n",
    "print('X = \\n\\n', X, '\\n')\n",
    "\n",
    "Xp = pad_input2D(X, K, s, p=2)\n",
    "\n",
    "print('Xp = \\n\\n', Xp)"
   ]
  },
  {
   "cell_type": "markdown",
   "metadata": {},
   "source": [
    "**Convolution 2D**\n",
    "\n",
    "Now the function `conv2d(X,K,s,p)` performs convolution between input $X$ (with no channels and batch) and Kernel $K$ and returns the convolved matrix $Z$ (Output).\n",
    "\n",
    "> **Note:** Although the operation performed is [cross-correlation](https://pythonandml.github.io/dlbook/content/convolutional_neural_networks/convolutional_layers.html) (link to previous chapter) and not convolution, but we will refer it to as convolution because there is no difference between cross-correlation and convolution except the fact that the kernel $K$ is rotated by 180 degrees during convolution."
   ]
  },
  {
   "cell_type": "markdown",
   "metadata": {},
   "source": [
    "**References for you** \n",
    "\n",
    "1. If you have problem understanding `as_strided()` function of numpy (used for conv2d) please go through [this link](https://towardsdatascience.com/advanced-numpy-master-stride-tricks-with-25-illustrated-exercises-923a9393ab20#cb6a). It will give you outstanding exercises with explainations to solutions (for 1D array to 4D tensors).\n",
    "\n",
    "2. If you have problem understanding `einsum()` function of numpy (used for conv2d) please go through [this stackoverflow question](https://stackoverflow.com/questions/26089893/understanding-numpys-einsum)."
   ]
  },
  {
   "cell_type": "code",
   "execution_count": 5,
   "metadata": {
    "id": "CoZa8tlbnmuC"
   },
   "outputs": [],
   "source": [
    "def conv2d(X, K, s=(1,1), p='valid'):\n",
    "    \n",
    "    # padding\n",
    "    Xp = pad_input2D(X, K, s, p=p)\n",
    "    \n",
    "    print('Xp = \\n\\n', Xp, '\\n')\n",
    "\n",
    "    Nh, Nw = Xp.shape\n",
    "    Kh, Kw = K.shape\n",
    "    sh, sw = s # strides along height and width\n",
    "    \n",
    "    Oh = (Nh-Kh)//sh + 1\n",
    "    Ow = (Nw-Kw)//sw + 1\n",
    "\n",
    "    strides = (sh*Nw, sw, Nw, 1)\n",
    "    strides = tuple(i * Xp.itemsize for i in strides)\n",
    "\n",
    "    subM = np.lib.stride_tricks.as_strided(Xp, shape=(Oh, Ow, Kh, Kw),\n",
    "                                           strides=strides)\n",
    "    return np.einsum('kl,ijkl->ij', K, subM)"
   ]
  },
  {
   "cell_type": "markdown",
   "metadata": {},
   "source": [
    "**Test on `p=\"valid\"`**"
   ]
  },
  {
   "cell_type": "code",
   "execution_count": 6,
   "metadata": {},
   "outputs": [
    {
     "name": "stdout",
     "output_type": "stream",
     "text": [
      "X = \n",
      "\n",
      " [[1 5 3]\n",
      " [2 6 1]\n",
      " [0 4 7]] \n",
      "\n",
      "K = \n",
      "\n",
      " [[ 1 -1]\n",
      " [ 2  0]] \n",
      "\n",
      "Xp = \n",
      "\n",
      " [[1. 5. 3.]\n",
      " [2. 6. 1.]\n",
      " [0. 4. 7.]] \n",
      "\n",
      "Z = \n",
      "\n",
      " [[ 0. 14.]\n",
      " [-4. 13.]]\n"
     ]
    }
   ],
   "source": [
    "import numpy as np\n",
    "\n",
    "np.random.seed(10)\n",
    "\n",
    "X = np.array([[1, 5, 3],\n",
    "              [2, 6, 1],\n",
    "              [0, 4, 7]])\n",
    "\n",
    "K = np.array([[1, -1],\n",
    "              [2, 0]])\n",
    "\n",
    "s = (1,1) # strides along height and width\n",
    "\n",
    "print('X = \\n\\n', X, '\\n')\n",
    "\n",
    "print('K = \\n\\n', K, '\\n')\n",
    "\n",
    "Z = conv2d(X, K, s, p='valid')\n",
    "\n",
    "print('Z = \\n\\n', Z)"
   ]
  },
  {
   "cell_type": "markdown",
   "metadata": {},
   "source": [
    "Yay! We have obtained the same output as the one we found numerically [here](https://pythonandml.github.io/dlbook/content/convolutional_neural_networks/convolutional_layers.html).\n",
    "\n",
    "![](images/cross_correlation.gif)\n",
    "\n",
    "**Test with `p=\"same\"`**"
   ]
  },
  {
   "cell_type": "code",
   "execution_count": 7,
   "metadata": {},
   "outputs": [
    {
     "name": "stdout",
     "output_type": "stream",
     "text": [
      "X = \n",
      "\n",
      " [[1 5 3]\n",
      " [2 6 1]\n",
      " [0 4 7]] \n",
      "\n",
      "K = \n",
      "\n",
      " [[ 1 -1]\n",
      " [ 2  0]] \n",
      "\n",
      "Xp = \n",
      "\n",
      " [[0. 0. 0. 0.]\n",
      " [1. 5. 3. 0.]\n",
      " [2. 6. 1. 0.]\n",
      " [0. 4. 7. 0.]\n",
      " [0. 0. 0. 0.]\n",
      " [0. 0. 0. 0.]] \n",
      "\n",
      "Z = \n",
      "\n",
      " [[ 2. 10.  6.]\n",
      " [-4. 13. 15.]\n",
      " [ 0.  0.  0.]]\n"
     ]
    }
   ],
   "source": [
    "import numpy as np\n",
    "\n",
    "np.random.seed(10)\n",
    "\n",
    "X = np.array([[1, 5, 3],\n",
    "              [2, 6, 1],\n",
    "              [0, 4, 7]])\n",
    "\n",
    "K = np.array([[1, -1],\n",
    "              [2, 0]])\n",
    "\n",
    "s = (2,1) # strides along height and width\n",
    "\n",
    "print('X = \\n\\n', X, '\\n')\n",
    "\n",
    "print('K = \\n\\n', K, '\\n')\n",
    "\n",
    "Z = conv2d(X, K, s, p='same')\n",
    "\n",
    "print('Z = \\n\\n', Z)"
   ]
  },
  {
   "cell_type": "markdown",
   "metadata": {},
   "source": [
    "#### Input with batch of images (no channels)\n",
    "\n",
    "**Next we will include a batch of images as Input**\n",
    "\n",
    "A batch of images as input of shape $(m, N_h, N_w)$ is used (no channels are added yet).\n",
    "\n",
    "![](images/input_batch.png)\n",
    "\n",
    "The function `pad_input2D_batch(X,K,s,p)` performs padding on input $X$ (with no channels) and returns the padded matrix."
   ]
  },
  {
   "cell_type": "code",
   "execution_count": 8,
   "metadata": {
    "id": "5KEYdcyR-Cqh"
   },
   "outputs": [],
   "source": [
    "def pad_input2D_batch(X, K, s, p='valid'):\n",
    "    \n",
    "    if type(p)==int:\n",
    "        m, Nh, Nw = X.shape\n",
    "        pt, pb = p, p\n",
    "        pl, pr = p, p\n",
    "    \n",
    "    elif p=='valid':\n",
    "        m, Nh, Nw = X.shape\n",
    "        pt, pb = 0, 0\n",
    "        pl, pr = 0, 0\n",
    "    \n",
    "    elif p=='same':\n",
    "        m, Nh, Nw = X.shape\n",
    "        Kh, Kw = K.shape\n",
    "        sh, sw = s\n",
    "\n",
    "        ph = (sh-1)*Nh + Kh - sh\n",
    "        pw = (sw-1)*Nw + Kw - sw\n",
    "\n",
    "        pt, pb = ph//2, (ph+1)//2\n",
    "        pl, pr = pw//2, (pw+1)//2\n",
    "        \n",
    "    else:\n",
    "        raise ValueError(\"Incorrect padding type. Allowed types are only 'same' or 'valid' or an integer.\")\n",
    "\n",
    "    zeros_r = np.zeros((m, Nh, pr))\n",
    "    zeros_l = np.zeros((m, Nh, pl))\n",
    "    zeros_t = np.zeros((m, pt, Nw+pl+pr))\n",
    "    zeros_b = np.zeros((m, pb, Nw+pl+pr))\n",
    "\n",
    "    Xp = np.concatenate((X, zeros_r), axis=2)\n",
    "    Xp = np.concatenate((zeros_l, Xp), axis=2)\n",
    "    Xp = np.concatenate((zeros_t, Xp), axis=1)\n",
    "    Xp = np.concatenate((Xp, zeros_b), axis=1)\n",
    "    \n",
    "    return Xp"
   ]
  },
  {
   "cell_type": "markdown",
   "metadata": {},
   "source": [
    "**Test `p=\"valid\"`**"
   ]
  },
  {
   "cell_type": "code",
   "execution_count": 9,
   "metadata": {},
   "outputs": [
    {
     "name": "stdout",
     "output_type": "stream",
     "text": [
      "X = \n",
      "\n",
      " [[[1 5 3]\n",
      "  [2 6 1]\n",
      "  [0 4 7]]\n",
      "\n",
      " [[0 8 6]\n",
      "  [4 3 0]\n",
      "  [4 6 8]]] \n",
      "\n",
      "Xp = \n",
      "\n",
      " [[[1. 5. 3.]\n",
      "  [2. 6. 1.]\n",
      "  [0. 4. 7.]]\n",
      "\n",
      " [[0. 8. 6.]\n",
      "  [4. 3. 0.]\n",
      "  [4. 6. 8.]]]\n"
     ]
    }
   ],
   "source": [
    "import numpy as np\n",
    "\n",
    "np.random.seed(10)\n",
    "\n",
    "X = np.random.randint(0,10, size=(2,3,3))\n",
    "\n",
    "X[0,:,:] = np.array([[1, 5, 3],\n",
    "                     [2, 6, 1],\n",
    "                     [0, 4, 7]])\n",
    "\n",
    "K = np.array([[1, -1],\n",
    "              [2, 0]])\n",
    "\n",
    "s = (2,2) # strides along height and width\n",
    "\n",
    "print('X = \\n\\n', X, '\\n')\n",
    "\n",
    "Xp = pad_input2D_batch(X, K, s, p='valid')\n",
    "\n",
    "print('Xp = \\n\\n', Xp)"
   ]
  },
  {
   "cell_type": "markdown",
   "metadata": {},
   "source": [
    "**Test `p=\"same\"`, stride $s=(1,2)$**"
   ]
  },
  {
   "cell_type": "code",
   "execution_count": 10,
   "metadata": {},
   "outputs": [
    {
     "name": "stdout",
     "output_type": "stream",
     "text": [
      "X = \n",
      "\n",
      " [[[1 5 3]\n",
      "  [2 6 1]\n",
      "  [0 4 7]]\n",
      "\n",
      " [[0 8 6]\n",
      "  [4 3 0]\n",
      "  [4 6 8]]] \n",
      "\n",
      "Xp = \n",
      "\n",
      " [[[0. 1. 5. 3. 0. 0.]\n",
      "  [0. 2. 6. 1. 0. 0.]\n",
      "  [0. 0. 4. 7. 0. 0.]\n",
      "  [0. 0. 0. 0. 0. 0.]]\n",
      "\n",
      " [[0. 0. 8. 6. 0. 0.]\n",
      "  [0. 4. 3. 0. 0. 0.]\n",
      "  [0. 4. 6. 8. 0. 0.]\n",
      "  [0. 0. 0. 0. 0. 0.]]]\n"
     ]
    }
   ],
   "source": [
    "import numpy as np\n",
    "\n",
    "np.random.seed(10)\n",
    "\n",
    "X = np.random.randint(0,10, size=(2,3,3))\n",
    "\n",
    "X[0,:,:] = np.array([[1, 5, 3],\n",
    "                     [2, 6, 1],\n",
    "                     [0, 4, 7]])\n",
    "\n",
    "K = np.array([[1, -1],\n",
    "              [2, 0]])\n",
    "\n",
    "s = (1,2) # strides along height and width\n",
    "\n",
    "print('X = \\n\\n', X, '\\n')\n",
    "\n",
    "Xp = pad_input2D_batch(X, K, s, p='same')\n",
    "\n",
    "print('Xp = \\n\\n', Xp)"
   ]
  },
  {
   "cell_type": "markdown",
   "metadata": {},
   "source": [
    "We see that the right of the input is padded.\n",
    "\n",
    "**Test the value of $p$ as integer ($p=1$)**"
   ]
  },
  {
   "cell_type": "code",
   "execution_count": 11,
   "metadata": {},
   "outputs": [
    {
     "name": "stdout",
     "output_type": "stream",
     "text": [
      "X = \n",
      "\n",
      " [[[1 5 3]\n",
      "  [2 6 1]\n",
      "  [0 4 7]]\n",
      "\n",
      " [[0 8 6]\n",
      "  [4 3 0]\n",
      "  [4 6 8]]] \n",
      "\n",
      "Xp = \n",
      "\n",
      " [[[0. 0. 0. 0. 0.]\n",
      "  [0. 1. 5. 3. 0.]\n",
      "  [0. 2. 6. 1. 0.]\n",
      "  [0. 0. 4. 7. 0.]\n",
      "  [0. 0. 0. 0. 0.]]\n",
      "\n",
      " [[0. 0. 0. 0. 0.]\n",
      "  [0. 0. 8. 6. 0.]\n",
      "  [0. 4. 3. 0. 0.]\n",
      "  [0. 4. 6. 8. 0.]\n",
      "  [0. 0. 0. 0. 0.]]]\n"
     ]
    }
   ],
   "source": [
    "import numpy as np\n",
    "\n",
    "np.random.seed(10)\n",
    "\n",
    "X = np.random.randint(0,10, size=(2,3,3))\n",
    "\n",
    "X[0,:,:] = np.array([[1, 5, 3],\n",
    "                     [2, 6, 1],\n",
    "                     [0, 4, 7]])\n",
    "\n",
    "K = np.array([[1, -1],\n",
    "              [2, 0]])\n",
    "\n",
    "s = (2,2) # strides along height and width\n",
    "\n",
    "print('X = \\n\\n', X, '\\n')\n",
    "\n",
    "Xp = pad_input2D_batch(X, K, s, p=1)\n",
    "\n",
    "print('Xp = \\n\\n', Xp)"
   ]
  },
  {
   "cell_type": "markdown",
   "metadata": {},
   "source": [
    "Next the function `conv2d_batch(X,K,s,p)` performs convolution between input $X$ (containing batch but no channels) and Kernel $K$ and returns the convolved matrix $Z$ (Output)."
   ]
  },
  {
   "cell_type": "code",
   "execution_count": 12,
   "metadata": {},
   "outputs": [],
   "source": [
    "def conv2d_batch(X, K, s=(1,1), p='valid'):\n",
    "    \n",
    "    # padding\n",
    "    Xp = pad_input2D_batch(X, K, s, p=p)\n",
    "    \n",
    "    print('Xp = \\n\\n', Xp, '\\n')\n",
    "\n",
    "    m, Nh, Nw = Xp.shape\n",
    "    Kh, Kw = K.shape\n",
    "    sh, sw = s # strides along height and width\n",
    "    \n",
    "    Oh = (Nh-Kh)//sh + 1\n",
    "    Ow = (Nw-Kw)//sw + 1\n",
    "\n",
    "    strides = (Nh*Nw, sh*Nw, sw, Nw, 1)\n",
    "    strides = tuple(i * Xp.itemsize for i in strides)\n",
    "\n",
    "    subM = np.lib.stride_tricks.as_strided(Xp, shape=(m, Oh, Ow, Kh, Kw),\n",
    "                                            strides=strides)\n",
    "    return np.einsum('kl,mijkl->mij', K, subM)"
   ]
  },
  {
   "cell_type": "markdown",
   "metadata": {},
   "source": [
    "**Test with `p='same'`**"
   ]
  },
  {
   "cell_type": "code",
   "execution_count": 13,
   "metadata": {},
   "outputs": [
    {
     "name": "stdout",
     "output_type": "stream",
     "text": [
      "X = \n",
      "\n",
      " [[[1 5 3]\n",
      "  [2 6 1]\n",
      "  [0 4 7]]\n",
      "\n",
      " [[0 8 6]\n",
      "  [4 3 0]\n",
      "  [4 6 8]]] \n",
      "\n",
      "K = \n",
      "\n",
      " [[ 1 -1]\n",
      " [ 2  0]] \n",
      "\n",
      "Xp = \n",
      "\n",
      " [[[0. 0. 0. 0. 0. 0.]\n",
      "  [0. 1. 5. 3. 0. 0.]\n",
      "  [0. 2. 6. 1. 0. 0.]\n",
      "  [0. 0. 4. 7. 0. 0.]\n",
      "  [0. 0. 0. 0. 0. 0.]\n",
      "  [0. 0. 0. 0. 0. 0.]]\n",
      "\n",
      " [[0. 0. 0. 0. 0. 0.]\n",
      "  [0. 0. 8. 6. 0. 0.]\n",
      "  [0. 4. 3. 0. 0. 0.]\n",
      "  [0. 4. 6. 8. 0. 0.]\n",
      "  [0. 0. 0. 0. 0. 0.]\n",
      "  [0. 0. 0. 0. 0. 0.]]] \n",
      "\n",
      "Z = \n",
      "\n",
      " [[[ 0. 10.  0.]\n",
      "  [-2. 13.  0.]\n",
      "  [ 0.  0.  0.]]\n",
      "\n",
      " [[ 0. 16.  0.]\n",
      "  [-4. 15.  0.]\n",
      "  [ 0.  0.  0.]]]\n"
     ]
    }
   ],
   "source": [
    "np.random.seed(10)\n",
    "\n",
    "X = np.random.randint(0,10, size=(2,3,3))\n",
    "\n",
    "X[0,:,:] = np.array([[1, 5, 3],\n",
    "                     [2, 6, 1],\n",
    "                     [0, 4, 7]])\n",
    "\n",
    "K = np.array([[1, -1],\n",
    "              [2, 0]])\n",
    "\n",
    "s = (2,2)\n",
    "\n",
    "print('X = \\n\\n', X, '\\n')\n",
    "\n",
    "print('K = \\n\\n', K, '\\n')\n",
    "\n",
    "Z = conv2d_batch(X, K, s, p='same')\n",
    "\n",
    "print('Z = \\n\\n', Z)"
   ]
  },
  {
   "cell_type": "markdown",
   "metadata": {},
   "source": [
    "#### Input with batch of images (with channels)\n",
    "\n",
    "**Next we will also include channels to image as Input**\n",
    "\n",
    "A batch of images (with channels) as input of shape $(m, N_c, N_h, N_w)$ is used.\n",
    "\n",
    "> **Note:** See how the depth of the Kernel is same as the number of channels (one 2D kernel for each channel). Till now we only have 1 Kernel, in the next section we will also add multiple Kernels.\n",
    "\n",
    "![](images/input_batch_channels.png)\n",
    "\n",
    "The function `pad_input2D_with_channels_batch(X,K,s,p)` performs padding on input $X$ (with channels) and returns the padded matrix."
   ]
  },
  {
   "cell_type": "code",
   "execution_count": 14,
   "metadata": {
    "id": "dtcKLWiVPsJu"
   },
   "outputs": [],
   "source": [
    "def pad_input2D_with_channels_batch(X, K, s, p='valid'):\n",
    "    \n",
    "    if type(p)==int:\n",
    "        m, Nc, Nh, Nw = X.shape\n",
    "        pt, pb = p, p\n",
    "        pl, pr = p, p\n",
    "    \n",
    "    elif p=='valid':\n",
    "        m, Nc, Nh, Nw = X.shape\n",
    "        pt, pb = 0, 0\n",
    "        pl, pr = 0, 0\n",
    "    \n",
    "    elif p=='same':\n",
    "        m, Nc, Nh, Nw = X.shape\n",
    "        Kc, Kh, Kw = K.shape\n",
    "        sh, sw = s\n",
    "\n",
    "        ph = (sh-1)*Nh + Kh - sh\n",
    "        pw = (sw-1)*Nw + Kw - sw\n",
    "\n",
    "        pt, pb = ph//2, (ph+1)//2\n",
    "        pl, pr = pw//2, (pw+1)//2\n",
    "    \n",
    "    else:\n",
    "        raise ValueError(\"Incorrect padding type. Allowed types are only 'same' or 'valid'.\")\n",
    "\n",
    "    zeros_r = np.zeros((m, Nc, Nh, pr))\n",
    "    zeros_l = np.zeros((m, Nc, Nh, pl))\n",
    "    zeros_t = np.zeros((m, Nc, pt, Nw+pl+pr))\n",
    "    zeros_b = np.zeros((m, Nc, pb, Nw+pl+pr))\n",
    "\n",
    "    Xp = np.concatenate((X, zeros_r), axis=3)\n",
    "    Xp = np.concatenate((zeros_l, Xp), axis=3)\n",
    "    Xp = np.concatenate((zeros_t, Xp), axis=2)\n",
    "    Xp = np.concatenate((Xp, zeros_b), axis=2)\n",
    "\n",
    "    return Xp"
   ]
  },
  {
   "cell_type": "markdown",
   "metadata": {},
   "source": [
    "**Test $p=1$**"
   ]
  },
  {
   "cell_type": "code",
   "execution_count": 15,
   "metadata": {},
   "outputs": [
    {
     "name": "stdout",
     "output_type": "stream",
     "text": [
      "X = \n",
      "\n",
      " [[[[9 4 0]\n",
      "   [1 9 0]\n",
      "   [1 8 9]]\n",
      "\n",
      "  [[0 8 6]\n",
      "   [4 3 0]\n",
      "   [4 6 8]]]\n",
      "\n",
      "\n",
      " [[[1 8 4]\n",
      "   [1 3 6]\n",
      "   [5 3 9]]\n",
      "\n",
      "  [[6 9 1]\n",
      "   [9 4 2]\n",
      "   [6 7 8]]]] \n",
      "\n",
      "Xp = \n",
      "\n",
      " [[[[0. 0. 0. 0. 0.]\n",
      "   [0. 9. 4. 0. 0.]\n",
      "   [0. 1. 9. 0. 0.]\n",
      "   [0. 1. 8. 9. 0.]\n",
      "   [0. 0. 0. 0. 0.]]\n",
      "\n",
      "  [[0. 0. 0. 0. 0.]\n",
      "   [0. 0. 8. 6. 0.]\n",
      "   [0. 4. 3. 0. 0.]\n",
      "   [0. 4. 6. 8. 0.]\n",
      "   [0. 0. 0. 0. 0.]]]\n",
      "\n",
      "\n",
      " [[[0. 0. 0. 0. 0.]\n",
      "   [0. 1. 8. 4. 0.]\n",
      "   [0. 1. 3. 6. 0.]\n",
      "   [0. 5. 3. 9. 0.]\n",
      "   [0. 0. 0. 0. 0.]]\n",
      "\n",
      "  [[0. 0. 0. 0. 0.]\n",
      "   [0. 6. 9. 1. 0.]\n",
      "   [0. 9. 4. 2. 0.]\n",
      "   [0. 6. 7. 8. 0.]\n",
      "   [0. 0. 0. 0. 0.]]]]\n"
     ]
    }
   ],
   "source": [
    "import numpy as np\n",
    "\n",
    "np.random.seed(10)\n",
    "\n",
    "X = np.random.randint(0,10, size=(2,2,3,3))\n",
    "\n",
    "# different K for each channel\n",
    "K = np.random.randint(0,10, size=(2,2,2))\n",
    "\n",
    "s = (2,2) # strides along height and width\n",
    "\n",
    "print('X = \\n\\n', X, '\\n')\n",
    "\n",
    "Xp = pad_input2D_with_channels_batch(X, K, s, p=1)\n",
    "\n",
    "print('Xp = \\n\\n', Xp)"
   ]
  },
  {
   "cell_type": "markdown",
   "metadata": {},
   "source": [
    "Next the function `conv2d_with_channels_batch(X,K,s,p)` performs convolution between input $X$ (containing batch and channels) and Kernel $K$ and returns the convolved matrix $Z$ (Output).\n",
    "\n",
    "> **Note:** We sum the values of the convolution obtained across channels."
   ]
  },
  {
   "cell_type": "code",
   "execution_count": 16,
   "metadata": {},
   "outputs": [],
   "source": [
    "def conv2d_with_channels_batch(X, K, s, p='valid'):\n",
    "    \n",
    "    # padding\n",
    "    Xp = pad_input2D_with_channels_batch(X, K, s, p=p)\n",
    "\n",
    "    print('Xp = \\n\\n', Xp, '\\n')\n",
    "\n",
    "    m, Nc, Nh, Nw = Xp.shape\n",
    "    Kc, Kh, Kw = K.shape\n",
    "    sh, sw = s # strides along height and width\n",
    "\n",
    "    Oh = (Nh-Kh)//sh + 1\n",
    "    Ow = (Nw-Kw)//sw + 1\n",
    "\n",
    "    strides = (Nc*Nh*Nw, Nw*Nh, Nw*sh, sw, Nw, 1)\n",
    "    strides = tuple(i * Xp.itemsize for i in strides)\n",
    "\n",
    "    subM = np.lib.stride_tricks.as_strided(Xp, shape=(m, Nc, Oh, Ow, Kh, Kw),\n",
    "                                            strides=strides)\n",
    "    return np.einsum('ckl,mcijkl->mij', K, subM)"
   ]
  },
  {
   "cell_type": "markdown",
   "metadata": {},
   "source": [
    "**Test `p=\"same\"`**"
   ]
  },
  {
   "cell_type": "code",
   "execution_count": 17,
   "metadata": {},
   "outputs": [
    {
     "name": "stdout",
     "output_type": "stream",
     "text": [
      "X = \n",
      "\n",
      " [[[[9 4 0]\n",
      "   [1 9 0]\n",
      "   [1 8 9]]\n",
      "\n",
      "  [[0 8 6]\n",
      "   [4 3 0]\n",
      "   [4 6 8]]]\n",
      "\n",
      "\n",
      " [[[1 8 4]\n",
      "   [1 3 6]\n",
      "   [5 3 9]]\n",
      "\n",
      "  [[6 9 1]\n",
      "   [9 4 2]\n",
      "   [6 7 8]]]] \n",
      "\n",
      "K = \n",
      "\n",
      " [[[8 9]\n",
      "  [2 0]]\n",
      "\n",
      " [[6 7]\n",
      "  [8 1]]] \n",
      "\n",
      "Xp = \n",
      "\n",
      " [[[[0. 0. 0. 0. 0. 0.]\n",
      "   [0. 9. 4. 0. 0. 0.]\n",
      "   [0. 1. 9. 0. 0. 0.]\n",
      "   [0. 1. 8. 9. 0. 0.]\n",
      "   [0. 0. 0. 0. 0. 0.]\n",
      "   [0. 0. 0. 0. 0. 0.]]\n",
      "\n",
      "  [[0. 0. 0. 0. 0. 0.]\n",
      "   [0. 0. 8. 6. 0. 0.]\n",
      "   [0. 4. 3. 0. 0. 0.]\n",
      "   [0. 4. 6. 8. 0. 0.]\n",
      "   [0. 0. 0. 0. 0. 0.]\n",
      "   [0. 0. 0. 0. 0. 0.]]]\n",
      "\n",
      "\n",
      " [[[0. 0. 0. 0. 0. 0.]\n",
      "   [0. 1. 8. 4. 0. 0.]\n",
      "   [0. 1. 3. 6. 0. 0.]\n",
      "   [0. 5. 3. 9. 0. 0.]\n",
      "   [0. 0. 0. 0. 0. 0.]\n",
      "   [0. 0. 0. 0. 0. 0.]]\n",
      "\n",
      "  [[0. 0. 0. 0. 0. 0.]\n",
      "   [0. 6. 9. 1. 0. 0.]\n",
      "   [0. 9. 4. 2. 0. 0.]\n",
      "   [0. 6. 7. 8. 0. 0.]\n",
      "   [0. 0. 0. 0. 0. 0.]\n",
      "   [0. 0. 0. 0. 0. 0.]]]] \n",
      "\n",
      "Z = \n",
      "\n",
      " [[[  0.  78.   0.]\n",
      "  [ 41. 162.   0.]\n",
      "  [  0.   0.   0.]]\n",
      "\n",
      " [[  6.  89.   0.]\n",
      "  [ 78. 186.   0.]\n",
      "  [  0.   0.   0.]]]\n"
     ]
    }
   ],
   "source": [
    "import numpy as np\n",
    "\n",
    "np.random.seed(10)\n",
    "\n",
    "X = np.random.randint(0,10, size=(2,2,3,3))\n",
    "\n",
    "# different K for each channel\n",
    "K = np.random.randint(0,10, size=(2,2,2))\n",
    "\n",
    "s = (2,2) # strides along height and width\n",
    "\n",
    "print('X = \\n\\n', X, '\\n')\n",
    "\n",
    "print('K = \\n\\n', K, '\\n')\n",
    "\n",
    "Z = conv2d_with_channels_batch(X, K, s, p='same')\n",
    "\n",
    "print('Z = \\n\\n', Z)"
   ]
  },
  {
   "cell_type": "markdown",
   "metadata": {},
   "source": [
    "#### Input with batch of images (with channels) and multiple filters\n",
    "\n",
    "**Finally we will also include multiple Kernels (or filters) - Most general 2D padding and convolution**\n",
    "\n",
    "The shape of Kernel will be $(F, K_c, K_h, K_w)$ where $F$ is the total number of filters.\n",
    "\n",
    "![](images/input_batch_channels_and_filters.png)\n",
    "\n",
    "The function `pad_input2D_with_channels_batch_and_many_filters(X,K,s,p)` performs padding on input $X$ and returns the padded matrix."
   ]
  },
  {
   "cell_type": "code",
   "execution_count": 18,
   "metadata": {
    "id": "2CAQXwOhWiaq"
   },
   "outputs": [],
   "source": [
    "def pad_input2D_with_channels_batch_and_many_filters(X, K, s, p='valid'):\n",
    "    \n",
    "    if type(p)==int:\n",
    "        m, Nc, Nh, Nw = X.shape\n",
    "        pt, pb = p, p\n",
    "        pl, pr = p, p\n",
    "    \n",
    "    elif p=='valid':\n",
    "        m, Nc, Nh, Nw = X.shape\n",
    "        pt, pb = 0, 0\n",
    "        pl, pr = 0, 0\n",
    "    \n",
    "    elif p=='same':\n",
    "        m, Nc, Nh, Nw = X.shape\n",
    "        F, Kc, Kh, Kw = K.shape # F = number of filters\n",
    "        sh, sw = s\n",
    "\n",
    "        ph = (sh-1)*Nh + Kh - sh\n",
    "        pw = (sw-1)*Nw + Kw - sw\n",
    "\n",
    "        pt, pb = ph//2, (ph+1)//2\n",
    "        pl, pr = pw//2, (pw+1)//2\n",
    "    \n",
    "    else:\n",
    "        raise ValueError(\"Incorrect padding type. Allowed types are only 'same' or 'valid' or an integer.\")\n",
    "\n",
    "    zeros_r = np.zeros((m, Nc, Nh, pr))\n",
    "    zeros_l = np.zeros((m, Nc, Nh, pl))\n",
    "    zeros_t = np.zeros((m, Nc, pt, Nw+pl+pr))\n",
    "    zeros_b = np.zeros((m, Nc, pb, Nw+pl+pr))\n",
    "\n",
    "    Xp = np.concatenate((X, zeros_r), axis=3)\n",
    "    Xp = np.concatenate((zeros_l, Xp), axis=3)\n",
    "    Xp = np.concatenate((zeros_t, Xp), axis=2)\n",
    "    Xp = np.concatenate((Xp, zeros_b), axis=2)\n",
    "\n",
    "    return Xp"
   ]
  },
  {
   "cell_type": "markdown",
   "metadata": {},
   "source": [
    "**Test `p=1`**"
   ]
  },
  {
   "cell_type": "code",
   "execution_count": 19,
   "metadata": {},
   "outputs": [
    {
     "name": "stdout",
     "output_type": "stream",
     "text": [
      "X = \n",
      "\n",
      " [[[[9 4 0]\n",
      "   [1 9 0]\n",
      "   [1 8 9]]\n",
      "\n",
      "  [[0 8 6]\n",
      "   [4 3 0]\n",
      "   [4 6 8]]\n",
      "\n",
      "  [[1 8 4]\n",
      "   [1 3 6]\n",
      "   [5 3 9]]]\n",
      "\n",
      "\n",
      " [[[6 9 1]\n",
      "   [9 4 2]\n",
      "   [6 7 8]]\n",
      "\n",
      "  [[8 9 2]\n",
      "   [0 6 7]\n",
      "   [8 1 7]]\n",
      "\n",
      "  [[1 4 0]\n",
      "   [8 5 4]\n",
      "   [7 8 8]]]] \n",
      "\n",
      "K = \n",
      "\n",
      " [[[[2 6]\n",
      "   [2 8]]\n",
      "\n",
      "  [[8 6]\n",
      "   [6 5]]\n",
      "\n",
      "  [[6 0]\n",
      "   [0 6]]]\n",
      "\n",
      "\n",
      " [[[9 1]\n",
      "   [8 9]]\n",
      "\n",
      "  [[1 2]\n",
      "   [8 9]]\n",
      "\n",
      "  [[9 5]\n",
      "   [0 2]]]] \n",
      "\n",
      "Xp = \n",
      "\n",
      " [[[[0. 0. 0. 0. 0.]\n",
      "   [0. 9. 4. 0. 0.]\n",
      "   [0. 1. 9. 0. 0.]\n",
      "   [0. 1. 8. 9. 0.]\n",
      "   [0. 0. 0. 0. 0.]]\n",
      "\n",
      "  [[0. 0. 0. 0. 0.]\n",
      "   [0. 0. 8. 6. 0.]\n",
      "   [0. 4. 3. 0. 0.]\n",
      "   [0. 4. 6. 8. 0.]\n",
      "   [0. 0. 0. 0. 0.]]\n",
      "\n",
      "  [[0. 0. 0. 0. 0.]\n",
      "   [0. 1. 8. 4. 0.]\n",
      "   [0. 1. 3. 6. 0.]\n",
      "   [0. 5. 3. 9. 0.]\n",
      "   [0. 0. 0. 0. 0.]]]\n",
      "\n",
      "\n",
      " [[[0. 0. 0. 0. 0.]\n",
      "   [0. 6. 9. 1. 0.]\n",
      "   [0. 9. 4. 2. 0.]\n",
      "   [0. 6. 7. 8. 0.]\n",
      "   [0. 0. 0. 0. 0.]]\n",
      "\n",
      "  [[0. 0. 0. 0. 0.]\n",
      "   [0. 8. 9. 2. 0.]\n",
      "   [0. 0. 6. 7. 0.]\n",
      "   [0. 8. 1. 7. 0.]\n",
      "   [0. 0. 0. 0. 0.]]\n",
      "\n",
      "  [[0. 0. 0. 0. 0.]\n",
      "   [0. 1. 4. 0. 0.]\n",
      "   [0. 8. 5. 4. 0.]\n",
      "   [0. 7. 8. 8. 0.]\n",
      "   [0. 0. 0. 0. 0.]]]]\n"
     ]
    }
   ],
   "source": [
    "import numpy as np\n",
    "\n",
    "np.random.seed(10)\n",
    "\n",
    "X = np.random.randint(0,10, size=(2,3,3,3))\n",
    "\n",
    "# different Kernel for each channel and many such filters\n",
    "K = np.random.randint(0,10, size=(2,3,2,2))\n",
    "\n",
    "s = (1,2) # strides along height and width\n",
    "\n",
    "print('X = \\n\\n', X, '\\n')\n",
    "\n",
    "print('K = \\n\\n', K, '\\n')\n",
    "\n",
    "Xp = pad_input2D_with_channels_batch_and_many_filters(X, K, s, p=1)\n",
    "\n",
    "print('Xp = \\n\\n', Xp)"
   ]
  },
  {
   "cell_type": "markdown",
   "metadata": {},
   "source": [
    "Finally the function `conv2d_with_channels_batch_and_many_filters(X,K,s,p,mode)` performs convolution between input $X$ (with batch and channels) and Kernel $K$ (many such kernels) and returns the convolved matrix $Z$ (Output).\n",
    "\n",
    "Notice since this is the most general model that can be developed using the parameters we have defined till now, so there is another arguement added to this function `mode` which will either be forward or backward depending on the type of propagation we will be performing and notice how only the last line of the code changes (which includes only an extra if else statement)"
   ]
  },
  {
   "cell_type": "code",
   "execution_count": 20,
   "metadata": {
    "id": "9ORdw_BMW09X"
   },
   "outputs": [],
   "source": [
    "def conv2d_with_channels_batch_and_many_filters(X, K, s, p='valid', mode='front'):\n",
    "    \n",
    "    # padding\n",
    "    Xp = pad_input2D_with_channels_batch_and_many_filters(X, K, s, p=p)\n",
    "    \n",
    "    print(\"Xp = \\n\\n\", Xp, '\\n')\n",
    "\n",
    "    m, Nc, Nh, Nw = Xp.shape\n",
    "    F, Kc, Kh, Kw = K.shape # F = number of filters\n",
    "    sh, sw = s # strides along height and width\n",
    "\n",
    "    Oh = (Nh-Kh)//sh + 1\n",
    "    Ow = (Nw-Kw)//sw + 1\n",
    "\n",
    "    strides = (Nc*Nh*Nw, Nw*Nh, Nw*sh, sw, Nw, 1)\n",
    "    strides = tuple(i * Xp.itemsize for i in strides)\n",
    "\n",
    "    subM = np.lib.stride_tricks.as_strided(Xp, shape=(m, Nc, Oh, Ow, Kh, Kw),\n",
    "                                            strides=strides)\n",
    "    \n",
    "    if mode=='front':\n",
    "        return np.einsum('fckl,mcijkl->mfij', K, subM)\n",
    "    elif mode=='back':\n",
    "        return np.einsum('fdkl,mcijkl->mdij', K, subM)"
   ]
  },
  {
   "cell_type": "markdown",
   "metadata": {},
   "source": [
    "**Test `p=\"same\"`**"
   ]
  },
  {
   "cell_type": "code",
   "execution_count": 21,
   "metadata": {
    "colab": {
     "base_uri": "https://localhost:8080/"
    },
    "id": "PDPTkCNnwl3p",
    "outputId": "8c1f269a-c125-45e1-a854-ce0cd1723e5a"
   },
   "outputs": [
    {
     "name": "stdout",
     "output_type": "stream",
     "text": [
      "X = \n",
      "\n",
      " [[[[9 4 0]\n",
      "   [1 9 0]\n",
      "   [1 8 9]]\n",
      "\n",
      "  [[0 8 6]\n",
      "   [4 3 0]\n",
      "   [4 6 8]]]\n",
      "\n",
      "\n",
      " [[[1 8 4]\n",
      "   [1 3 6]\n",
      "   [5 3 9]]\n",
      "\n",
      "  [[6 9 1]\n",
      "   [9 4 2]\n",
      "   [6 7 8]]]] \n",
      "\n",
      "K = \n",
      "\n",
      " [[[[8 9]\n",
      "   [2 0]]\n",
      "\n",
      "  [[6 7]\n",
      "   [8 1]]]\n",
      "\n",
      "\n",
      " [[[7 1]\n",
      "   [4 0]]\n",
      "\n",
      "  [[8 5]\n",
      "   [4 7]]]] \n",
      "\n",
      "Xp = \n",
      "\n",
      " [[[[0. 0. 0. 0. 0. 0.]\n",
      "   [0. 9. 4. 0. 0. 0.]\n",
      "   [0. 1. 9. 0. 0. 0.]\n",
      "   [0. 1. 8. 9. 0. 0.]\n",
      "   [0. 0. 0. 0. 0. 0.]\n",
      "   [0. 0. 0. 0. 0. 0.]]\n",
      "\n",
      "  [[0. 0. 0. 0. 0. 0.]\n",
      "   [0. 0. 8. 6. 0. 0.]\n",
      "   [0. 4. 3. 0. 0. 0.]\n",
      "   [0. 4. 6. 8. 0. 0.]\n",
      "   [0. 0. 0. 0. 0. 0.]\n",
      "   [0. 0. 0. 0. 0. 0.]]]\n",
      "\n",
      "\n",
      " [[[0. 0. 0. 0. 0. 0.]\n",
      "   [0. 1. 8. 4. 0. 0.]\n",
      "   [0. 1. 3. 6. 0. 0.]\n",
      "   [0. 5. 3. 9. 0. 0.]\n",
      "   [0. 0. 0. 0. 0. 0.]\n",
      "   [0. 0. 0. 0. 0. 0.]]\n",
      "\n",
      "  [[0. 0. 0. 0. 0. 0.]\n",
      "   [0. 6. 9. 1. 0. 0.]\n",
      "   [0. 9. 4. 2. 0. 0.]\n",
      "   [0. 6. 7. 8. 0. 0.]\n",
      "   [0. 0. 0. 0. 0. 0.]\n",
      "   [0. 0. 0. 0. 0. 0.]]]] \n",
      "\n",
      "Z = \n",
      "\n",
      " [[[[  0.  78.   0.]\n",
      "   [ 41. 162.   0.]\n",
      "   [  0.   0.   0.]]\n",
      "\n",
      "  [[  0.  90.   0.]\n",
      "   [ 49. 199.   0.]\n",
      "   [  0.   0.   0.]]]\n",
      "\n",
      "\n",
      " [[[  6.  89.   0.]\n",
      "   [ 78. 186.   0.]\n",
      "   [  0.   0.   0.]]\n",
      "\n",
      "  [[ 42.  75.   0.]\n",
      "   [ 88. 165.   0.]\n",
      "   [  0.   0.   0.]]]] \n",
      "\n"
     ]
    }
   ],
   "source": [
    "np.random.seed(10)\n",
    "\n",
    "X = np.random.randint(0,10, size=(2,2,3,3))\n",
    "\n",
    "# different Kernel for each channel and many such filters\n",
    "K = np.random.randint(0,10, size=(2,2,2,2))\n",
    "\n",
    "s = (2,2)\n",
    "\n",
    "print('X = \\n\\n', X, '\\n')\n",
    "\n",
    "print('K = \\n\\n', K, '\\n')\n",
    "\n",
    "Z = conv2d_with_channels_batch_and_many_filters(X, K, s, p='same')\n",
    "\n",
    "print('Z = \\n\\n', Z, '\\n')"
   ]
  },
  {
   "cell_type": "markdown",
   "metadata": {},
   "source": [
    "Lastly we can add `bias` to the output tensor (depending on whether or not we want to add bias to the layer)"
   ]
  }
 ],
 "metadata": {
  "colab": {
   "provenance": []
  },
  "kernelspec": {
   "display_name": "Python 3 (ipykernel)",
   "language": "python",
   "name": "python3"
  },
  "language_info": {
   "codemirror_mode": {
    "name": "ipython",
    "version": 3
   },
   "file_extension": ".py",
   "mimetype": "text/x-python",
   "name": "python",
   "nbconvert_exporter": "python",
   "pygments_lexer": "ipython3",
   "version": "3.10.2"
  },
  "widgets": {
   "application/vnd.jupyter.widget-state+json": {
    "state": {},
    "version_major": 2,
    "version_minor": 0
   }
  }
 },
 "nbformat": 4,
 "nbformat_minor": 4
}