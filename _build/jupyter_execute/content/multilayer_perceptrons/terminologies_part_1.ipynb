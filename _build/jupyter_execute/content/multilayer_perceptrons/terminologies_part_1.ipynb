{
 "cells": [
  {
   "cell_type": "markdown",
   "metadata": {
    "id": "mBiiySBmLjEx"
   },
   "source": [
    "# 2.3. Terminologies Part-1\n",
    "\n"
   ]
  },
  {
   "cell_type": "markdown",
   "metadata": {
    "id": "4Md8WoSLOEDf"
   },
   "source": [
    "In general, **Neural networks** better known as `MLP (Multi Layers Perceptron)`, as the word itself suggest, is a type of model organized into multiple layers (in the form of perceptron) in which information flows from the input layer to the output layer only.\n",
    "\n",
    "Each layer consists of a defined number of neurons. These layers are:\n",
    "\n",
    "*   Input layer\n",
    "*   Hidden layer(s)\n",
    "*   Output layer\n",
    "\n",
    "The following image represents a **neural network** with 4 neurons in the input layer, 3 neurons in the first hidden layer, 4 in the second hidden layer and 2 in the output layer.\n",
    "\n",
    "\n",
    "\n"
   ]
  },
  {
   "cell_type": "markdown",
   "metadata": {
    "id": "UrG_dOzlPhPD"
   },
   "source": [
    "![](images/neural_nets_architecture.png)"
   ]
  },
  {
   "cell_type": "markdown",
   "metadata": {
    "id": "kFkSfazaPhkK"
   },
   "source": [
    "> In [perceptron model](https://pythonandml.github.io/dlbook/content/multilayer_perceptrons/perceptron.html), we only had an `input layer` and an `output layer`\n",
    "\n",
    "**Why to add hidden layers?**\n",
    "\n",
    "`Hidden layers` allow for the function of a neural network to be broken down into specific transformations of the data. Like if we want to recognise a person's face using an image of a face as input, then may be we can keep several hidden layers before the output layer where one hidden layer will give priority to the eyes feature , one will give it to the nose, and the other one to lips and so on. That's why adding hidden layers are important!\n",
    "\n",
    "In general, hidden layers are required if and only if the data must be separated non-linearly. All thanks to the *`Universal approximation theorem`* which states that \"MLP\" with a single hidden layer containing a finite number of neurons can approximate any continuous function $f$ of this world.\n",
    "\n",
    "The main take-out is that deep learning allows solving any problem which can be mathematically expressed!\n",
    "\n",
    "\n"
   ]
  },
  {
   "cell_type": "markdown",
   "metadata": {
    "id": "i1wy0cJZY9d2"
   },
   "source": [
    "#### Notations to be used\n",
    "\n",
    "We will use $l$ to denote the $l^{th}$ layer where $l=0,1,2,...,L$ where $l=0$ denotes the Input layer, $l=1$ is the first hidden layer, $l=2$ is the second hidden layer and so on. Keep in mind that $l=L$ denotes the output layer. So, in the above image we have $L=3$.\n",
    "\n",
    "> **Note:** $\\odot$ means element wise multiplication (also called **Hadamard product**)\n",
    "\n",
    "For Input layer ($l=0$), \n",
    "\n",
    "*  $X$: shape $(m, d)$ is the original dataset having $m$ samples (rows) and  $d$ features (columns).\n",
    "*  $z_0$: same as $X$\n",
    "*  $a_0$: same as $X$\n",
    "\n",
    "For Hidden layer ($l=1,2,...L-1$), let $h_l$ be the number of neurons in the respective hidden layer. Then,\n",
    "\n",
    "*  $W_l$: Weight matrix of shape $(h_{l-1}, h_l)$ except for $W_1$ whose shape will be $(d, h_1)$\n",
    "*  $b_l$: Bias of shape $(h_l, 1)$\n",
    "*  $z_l$: weighted sum of previous output $a_{l-1}$ and current weight $W_l$ of shape $(m, h_l)$\n",
    "*  $a_l$: size is same as $z_l$\n",
    "\n",
    "> **Note:** Although $W_l$ is the weight associated with the outputs of the previous layer ($l-1$), we use it as $W_l$ to make the computations (as well as code) looks cleaner and convenient to write. \n",
    "\n",
    "For Output layer ($l=L$),\n",
    "\n",
    "*  $y$: shape $(m, c)$ is the original target variable having $m$ samples and $c$ columns. (For example in case of classification, this $c$ can denote the number of classes of the target variable after [one hot encoding](https://pythonandml.github.io/dlbook/content/preliminaries/data_preprocessing.html#one-hot-encoding)).\n",
    "*  $W_L$: Weight matrix of shape $(h_{L-1}, c)$\n",
    "*  $b_L$: Bias of shape $(c, 1)$\n",
    "*  $z_L$: weighted sum of previous output $a_{L-1}$ and current weight $W_L$. Shape of $z_L$ is $(m, c)$\n",
    "*  $a_L$: size is same as $z_L$. It denotes the final prediction ($\\hat{y}$)\n",
    "\n",
    "Finally, let $f_l(x)$ denote the [activation function](https://pythonandml.github.io/dlbook/content/multilayer_perceptrons/activation.html) (link to previous chapter) used in the $l^{th}$ layer and $f'_l(x)$ be its derivative."
   ]
  },
  {
   "cell_type": "markdown",
   "metadata": {
    "id": "fBBN1rjOzrUW"
   },
   "source": [
    "#### Parameter's initialization\n",
    "\n",
    "> The first step after defining the architecture of the neural network is parameter initialization. It is equivalent to injecting initial noise into the model's weights.\n",
    "\n",
    "*  **Zero initialization**: We initialize the parameters with 0's everywhere i.e: $W=0$ and $b=0$\n",
    "\n",
    "With large or $0$ initialization of weights ($W$), not significant result is obtained. Even if we use appropriate initialization of weights it is probable that training process is going to take longer time. \n",
    "\n",
    "*  **Random initialization**: It is commonly used initialization technique and consists of injecting random noise in the parameters.\n",
    "\n",
    "Three of the most famous initialization methods are:\n",
    "\n",
    "> **Note:** $\\text{size}_{l}$ is the number of neurons in the $l^{th}$ layer.\n",
    "\n",
    "**He initialization (for ReLU activation)**\n",
    "\n",
    "We just simply multiply random initialization with:\n",
    "\n",
    "$$\n",
    "\\sqrt{\\frac{2}{\\text{size}_{l-1}}}\n",
    "$$\n",
    "\n",
    "$$\n",
    "W[l] = \\text{np.random.randn}(\\text{size}_{l-1}, \\text{size}_{l}) *  \\sqrt{\\frac{2}{\\text{size}_{l-1}}}\n",
    "$$\n",
    "\n",
    "**Xavier initialization (for tanh activation)**\n",
    "\n",
    "It is same as He initialization but it is used for tanh() activation function. In this method 2 is replaced with 1.\n",
    "\n",
    "$$\n",
    "W[l] = \\text{np.random.randn}(\\text{size}_{l-1}, \\text{size}_{l}) *  \\sqrt{\\frac{1}{\\text{size}_{l-1}}}\n",
    "$$\n",
    "\n",
    "**Glorot (for tanh activation)**\n",
    "\n",
    "It is same as Xavier's initialization but with a different variance\n",
    "\n",
    "$$\n",
    "W[l] = \\text{np.random.randn}(\\text{size}_{l-1}, \\text{size}_{l}) *  \\sqrt{\\frac{2}{\\text{size}_{l-1} + \\text{size}_{l}}}\n",
    "$$"
   ]
  }
 ],
 "metadata": {
  "colab": {
   "provenance": []
  },
  "kernelspec": {
   "display_name": "Python 3 (ipykernel)",
   "language": "python",
   "name": "python3"
  },
  "language_info": {
   "codemirror_mode": {
    "name": "ipython",
    "version": 3
   },
   "file_extension": ".py",
   "mimetype": "text/x-python",
   "name": "python",
   "nbconvert_exporter": "python",
   "pygments_lexer": "ipython3",
   "version": "3.10.2"
  },
  "widgets": {
   "application/vnd.jupyter.widget-state+json": {
    "state": {},
    "version_major": 2,
    "version_minor": 0
   }
  }
 },
 "nbformat": 4,
 "nbformat_minor": 4
}