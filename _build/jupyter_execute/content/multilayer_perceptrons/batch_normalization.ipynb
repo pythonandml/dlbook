{
 "cells": [
  {
   "cell_type": "markdown",
   "metadata": {
    "id": "RVKc7o3AV-GL"
   },
   "source": [
    "# 2.11. Batch Normalization\n",
    "\n",
    "\n",
    "> In neural networks, the output of the first layer feeds into the second layer, the output of the second layer feeds into the third, and so on. When the parameters of a layer change, so does the distribution of inputs to subsequent layers.\n",
    "\n",
    "These shifts in input distributions are called as **Internal covariate shift** and they can be problematic for neural networks, especially deep neural networks that could have a large number of layers.\n",
    "\n",
    "Batch normalization (BN) is a method intended to mitigate internal covariate shift for neural networks.\n",
    "\n",
    "Machine learning methods tend to work better when their input data consists of uncorrelated features with zero mean and unit variance. When training a neural network, we can preprocess the data before feeding it to the network to explicitly decorrelate its features; this will ensure that the first layer of the network sees data that follows a nice distribution. \n",
    "\n",
    "However even if we preprocess the input data, the activations at deeper layers of the network will likely no longer be decorrelated and will no longer have zero mean or unit variance since they are output from earlier layers in the network. Even worse, during the training process the distribution of features at each layer of the network will shift as the weights of each layer are updated.\n",
    "\n",
    "To overcome this, at training time, a batch normalization layer normalises all the input features to a unit normal distribution $\\mathcal{N}(\\mu=0,\\sigma=1)$. A running average of the means and standard deviations is kept during training, and at test time these running averages are used to center and normalize features.\n",
    "\n",
    "* Adding BN layers leads to faster and better convergence (where better means higher accuracy)\n",
    "\n",
    "* Adding BN layers allows us to use higher learning rate ($\\eta$) without compromising convergence\n",
    "\n",
    "**Implementation**\n",
    "\n",
    "In practice, we consider the batch normalization as a standard layer, such as a perceptron, a convolutional layer, an activation function or a dropout layer and it is generally applied after calculating the weighted sum $z_l$ and before applying the non-linear activation function $f_l(z_l)$.\n",
    "\n",
    "For any layer $l$, Consider $z$ of size $(m,h_l)$ (where $h_l$ is the number of neurons in that hidden layer) be an input to batch normalization ($\\text{BN}$). In this case the batch normalization is defined as follows:\n",
    "\n",
    "$$\n",
    "\\text{BN}_{(\\gamma, \\beta)}(z) = \\gamma \\odot \\frac{z-\\mu}{\\sqrt{\\sigma^2 + \\epsilon}} + \\beta\n",
    "$$\n",
    "\n",
    "where $\\mu$ of size $(h_l,1)$ and $\\sigma$ of size $(h_l,1)$ are the respective population mean and standard deviation of $z$ over the full batch (of batch size $m$). Note that we add a small constant $\\epsilon > 0$ to the variance estimate to ensure that we never attempt division by zero.\n",
    "\n",
    "> After applying standardization, the resulting minibatch has zero mean and unit variance. The variables $\\gamma$ of size $(h_l,1)$ and $\\beta$ of size $(h_l,1)$ are learned parameters that allow a standardized variable to have any mean and standard deviation.\n",
    "\n",
    "In simple terms, zero mean and unit standard deviation can reduce the expressive power of the neural network. To maintain the expressive power of the network, it is common to replace the standardized variable $\\hat{z}$ with $\\gamma \\hat{z} + \\beta$ where parameters like $W$ and $b$, $\\gamma$ and $\\beta$ can also be learned. \n",
    "\n",
    "#### Forward pass and Back Propagation in Batch Normalization Layer\n",
    "\n",
    "Let us apply batch normalization ($\\text{BN}$) on layer $l$ after the weighted sum and before the activation function.\n",
    "\n",
    "**Forward pass Batch Normalization (vectorized)**\n",
    "\n",
    "We know from the standard [forward propagation](https://pythonandml.github.io/dlbook/content/multilayer_perceptrons/forward_propagation.html) (link to previous chapter) that \n",
    "\n",
    "$$\n",
    "z_l = a_{l-1}W_l + b_l^T \n",
    "$$\n",
    "\n",
    "This $z_l$ will be an input to batch normalization ($\\text{BN}$) and let the output we get from this be $q_l$. Also, let\n",
    "\n",
    "$$\n",
    "\\bar{z_l} = z_l-\\mu\n",
    "$$\n",
    "\n",
    "$$\n",
    "\\sigma_{inv} = \\frac{1}{\\sqrt{\\sigma^2 + \\epsilon}}\n",
    "$$\n",
    "\n",
    "and\n",
    "\n",
    "$$\n",
    "\\hat{z_l} = \\bar{z_l} \\odot \\sigma_{inv}\n",
    "$$\n",
    "\n",
    "Therefore,\n",
    "\n",
    "$$\n",
    "q_l = \\gamma \\odot \\hat{z_l} + \\beta\n",
    "$$\n",
    "\n",
    "where the parameters are as defined above. And finally, passing $q_l$ through activation function $f_l(x)$. Fianlly,\n",
    "\n",
    "$$\n",
    "a_l = f_l(q_l)\n",
    "$$\n",
    "\n",
    "**Backpropagation Batch Normalization (vectorized)**\n",
    "\n",
    "We know from the standard [backward propagation](https://pythonandml.github.io/dlbook/content/multilayer_perceptrons/backpropagation.html) (link to previous chapter) that (let us denote the cost function $J(W, b, \\gamma, \\beta)$ as $J$ for simplicity)\n",
    "\n",
    "> **Note:** Let $\\sum_c$ denote the sum along the column (i.e. sum of column-1 then sum of column-2 and so on) to get a vector of size $(h_l, 1)$\n",
    "\n",
    "$$\n",
    "\\frac{\\partial J}{\\partial q_l} = \\frac{\\partial J}{\\partial a_l} \\odot \\frac{\\partial a_l}{\\partial q_l} = \n",
    "$$\n",
    "\n",
    "$$\n",
    "\\frac{\\partial J}{\\partial q_l} = (\\delta_{l+1} W_{l+1}^T) \\odot f'_l(z_l) \n",
    "$$\n",
    "\n",
    "This will serve as an input in calculating the partial derivative of cost function $J$ with respect to $\\gamma$, $\\beta$ and $z_l$ and its size will be $(m,h_l)$\n",
    "\n",
    "**Partial derivative of $J$ with respect to $\\beta$**\n",
    "\n",
    "$$\n",
    "\\boxed{\\frac{\\partial J}{\\partial \\beta} = \\sum_c \\frac{\\partial J}{\\partial q_l}}\n",
    "$$\n",
    "\n",
    "**Partial derivative of $J$ with respect to $\\gamma$**\n",
    "\n",
    "$$\n",
    "\\boxed{\\frac{\\partial J}{\\partial \\gamma} = \\sum_c \\frac{\\partial J}{\\partial q_l} \\odot \\hat{z_l}}\n",
    "$$\n",
    "\n",
    "**Partial derivative of $J$ with respect to $\\hat{z_l}$**\n",
    "\n",
    "$$\n",
    "\\frac{\\partial J}{\\partial \\hat{z_l}} = \\frac{\\partial J}{\\partial q_l} \\odot \\gamma\n",
    "$$\n",
    "\n",
    "**Partial derivative of $J$ with respect to $\\mu$**\n",
    "\n",
    "$$\n",
    "\\frac{\\partial J}{\\partial \\mu} = -\\sum_c \\frac{\\partial J}{\\partial q_l} \\odot \\sigma_{inv}\n",
    "$$\n",
    "\n",
    "**Partial derivative of $J$ with respect to $\\sigma^2$**\n",
    "\n",
    "$$\n",
    "\\frac{\\partial J}{\\partial \\sigma^2} = -\\frac{1}{2}\\sum_c \\frac{\\partial J}{\\partial q_l} \\odot \\bar{z_l} \\odot \\sigma_{inv}^3\n",
    "$$\n",
    "\n",
    "**Partial derivative of $J$ with respect to $z_l$**\n",
    "\n",
    "$$\n",
    "\\boxed{\\frac{\\partial J}{\\partial z_l} = \\frac{\\partial J}{\\partial \\hat{z_l}} \\odot \\sigma_{inv} + \\left ( \\frac{2}{m} \\right ) \\frac{\\partial J}{\\partial \\sigma^2} \\odot \\bar{z_l} + \\left ( \\frac{1}{m} \\right ) \\frac{\\partial J}{\\partial \\mu}}\n",
    "$$\n",
    "\n",
    "And finally,\n",
    "\n",
    "$$\n",
    "\\delta_l = \\frac{\\partial J}{\\partial z_l}\n",
    "$$\n",
    "\n",
    "Follow [[1]](https://www.adityaagrawal.net/blog/deep_learning/bprop_batch_norm) or [[2]](https://kratzert.github.io/2016/02/12/understanding-the-gradient-flow-through-the-batch-normalization-layer.html) (links to external websites) derivations in case you are more interested."
   ]
  },
  {
   "cell_type": "markdown",
   "metadata": {
    "id": "Iw1lJCn_dWc-"
   },
   "source": [
    "#### Python code for forward and backward pass of Batch normalization"
   ]
  },
  {
   "cell_type": "markdown",
   "metadata": {
    "id": "Jk0A8Elxdi3W"
   },
   "source": [
    "This is our input to BN layer ($z_l$)\n",
    "\n",
    "`z` represents: $z_l$"
   ]
  },
  {
   "cell_type": "code",
   "execution_count": null,
   "metadata": {
    "colab": {
     "base_uri": "https://localhost:8080/"
    },
    "id": "zuWgmhYuV6eL",
    "outputId": "aa4708ec-ed70-4d66-9062-17f0cfddf2e0"
   },
   "outputs": [
    {
     "data": {
      "text/plain": [
       "array([[6, 3, 7],\n",
       "       [4, 6, 9],\n",
       "       [2, 6, 7],\n",
       "       [4, 3, 7],\n",
       "       [7, 2, 5],\n",
       "       [4, 1, 7],\n",
       "       [5, 1, 4]])"
      ]
     },
     "execution_count": 1,
     "metadata": {},
     "output_type": "execute_result"
    }
   ],
   "source": [
    "import numpy as np\n",
    "\n",
    "np.random.seed(42)\n",
    "z = np.random.randint(low=0,high=10,size=(7,3))\n",
    "m, d = z.shape\n",
    "z"
   ]
  },
  {
   "cell_type": "markdown",
   "metadata": {
    "id": "udUtphdMdrOn"
   },
   "source": [
    "We next need some initial value of $\\gamma$ and $\\beta$\n",
    "\n",
    "`gamma` represents: $\\gamma$\n",
    "\n",
    "`beta` represents: $\\beta$"
   ]
  },
  {
   "cell_type": "code",
   "execution_count": null,
   "metadata": {
    "id": "nNmKdxHCdaEd"
   },
   "outputs": [],
   "source": [
    "gamma = np.ones((d))\n",
    "np.random.seed(24)\n",
    "beta = np.zeros((d))"
   ]
  },
  {
   "cell_type": "code",
   "execution_count": null,
   "metadata": {
    "colab": {
     "base_uri": "https://localhost:8080/"
    },
    "id": "KqMJEwtlzuB2",
    "outputId": "aa672a87-cefa-44b2-bbf9-46ef0751c97f"
   },
   "outputs": [
    {
     "data": {
      "text/plain": [
       "array([1., 1., 1.])"
      ]
     },
     "execution_count": 3,
     "metadata": {},
     "output_type": "execute_result"
    }
   ],
   "source": [
    "gamma"
   ]
  },
  {
   "cell_type": "code",
   "execution_count": null,
   "metadata": {
    "colab": {
     "base_uri": "https://localhost:8080/"
    },
    "id": "boJR4lXZzuvM",
    "outputId": "161d88ee-70b8-464d-b090-1311c672c0f1"
   },
   "outputs": [
    {
     "data": {
      "text/plain": [
       "array([0., 0., 0.])"
      ]
     },
     "execution_count": 4,
     "metadata": {},
     "output_type": "execute_result"
    }
   ],
   "source": [
    "beta"
   ]
  },
  {
   "cell_type": "markdown",
   "metadata": {
    "id": "UcvHqRr3d-dI"
   },
   "source": [
    "**Forward pass**"
   ]
  },
  {
   "cell_type": "markdown",
   "metadata": {
    "id": "WKTlBLEohEm7"
   },
   "source": [
    "`eps` represents: $\\epsilon$\n",
    "\n",
    "`mu` represents: $\\mu$\n",
    "\n",
    "`var` represents: $\\sigma^2$\n",
    "\n",
    "`zmu` represents: $\\bar{z_l}$\n",
    "\n",
    "`ivar` represents: $\\frac{1}{\\sqrt{\\sigma^2 + \\epsilon}}$\n",
    "\n",
    "`zhat` represents: $\\hat{z_l}$\n",
    "\n",
    "`q` represents: $q_l$"
   ]
  },
  {
   "cell_type": "code",
   "execution_count": null,
   "metadata": {
    "id": "U-jRmdWud5k3"
   },
   "outputs": [],
   "source": [
    "eps = 1e-6 # 𝜖\n",
    "mu = np.mean(z, axis = 0) # 𝜇\n",
    "var = np.var(z, axis=0) # 𝜎^2\n",
    "zmu = z - mu # z - 𝜇\n",
    "ivar = 1 / np.sqrt(var + eps) # 𝜎𝑖𝑛𝑣\n",
    "zhat = zmu * ivar \n",
    "q = gamma*zhat + beta # ql"
   ]
  },
  {
   "cell_type": "code",
   "execution_count": null,
   "metadata": {
    "colab": {
     "base_uri": "https://localhost:8080/"
    },
    "id": "pgnBDxFZ0Tsp",
    "outputId": "ae00eaad-cc73-46ea-bcc7-b257acc561c0"
   },
   "outputs": [
    {
     "data": {
      "text/plain": [
       "array([[ 0.95346238, -0.07293249,  0.28603871],\n",
       "       [-0.38138495,  1.45864972,  1.62088604],\n",
       "       [-1.71623228,  1.45864972,  0.28603871],\n",
       "       [-0.38138495, -0.07293249,  0.28603871],\n",
       "       [ 1.62088604, -0.58345989, -1.04880861],\n",
       "       [-0.38138495, -1.09398729,  0.28603871],\n",
       "       [ 0.28603871, -1.09398729, -1.71623228]])"
      ]
     },
     "execution_count": 12,
     "metadata": {},
     "output_type": "execute_result"
    }
   ],
   "source": [
    "q"
   ]
  },
  {
   "cell_type": "code",
   "execution_count": null,
   "metadata": {
    "colab": {
     "base_uri": "https://localhost:8080/"
    },
    "id": "HceatiH10Uav",
    "outputId": "53229dd1-c467-4652-ff2a-0fdaa7584e6f"
   },
   "outputs": [
    {
     "data": {
      "text/plain": [
       "array([4.57142857, 3.14285714, 6.57142857])"
      ]
     },
     "execution_count": 14,
     "metadata": {},
     "output_type": "execute_result"
    }
   ],
   "source": [
    "mu"
   ]
  },
  {
   "cell_type": "code",
   "execution_count": null,
   "metadata": {
    "colab": {
     "base_uri": "https://localhost:8080/"
    },
    "id": "yMXPtxgG0WZI",
    "outputId": "9a87f2db-24d2-4cf7-e255-74f963f60f8e"
   },
   "outputs": [
    {
     "data": {
      "text/plain": [
       "array([2.24489796, 3.83673469, 2.24489796])"
      ]
     },
     "execution_count": 15,
     "metadata": {},
     "output_type": "execute_result"
    }
   ],
   "source": [
    "var"
   ]
  },
  {
   "cell_type": "markdown",
   "metadata": {
    "id": "5cWzcDnce-qx"
   },
   "source": [
    "We will save some of these variables in `cache` as they will be used in backpropagation"
   ]
  },
  {
   "cell_type": "code",
   "execution_count": null,
   "metadata": {
    "id": "GA9HfGo4d5ii"
   },
   "outputs": [],
   "source": [
    "cache = (gamma, beta, zmu, ivar, zhat)"
   ]
  },
  {
   "cell_type": "markdown",
   "metadata": {
    "id": "4YkECUkujZMT"
   },
   "source": [
    "> **Note:** During training we also keep an exponentially decaying running value of the mean and variance of each feature, and these averages are used to normalize data at test-time. At each timestep we update the running averages for mean and variance using an exponential decay based on the `momentum` parameter:\n",
    "  \n",
    "```\n",
    "running_mean = momentum * running_mean + (1 - momentum) * sample_mean\n",
    "running_var = momentum * running_var + (1 - momentum) * sample_var\n",
    "```"
   ]
  },
  {
   "cell_type": "markdown",
   "metadata": {
    "id": "-OzxZEuGkC3h"
   },
   "source": [
    "**Test-time forward pass for batch normalization**\n",
    "\n",
    "We use the running mean and variance to normalize the incoming test data ($z_t$), then scale and shift the normalized data using gamma ($\\gamma$) and beta ($\\beta$) respectively. Output is stored in $q_t$\n",
    "\n",
    "```\n",
    "zt_hat = (zt - running_mean) / np.sqrt(running_var + eps)\n",
    "qt = gamma * zt_hat + beta\n",
    "```"
   ]
  },
  {
   "cell_type": "markdown",
   "metadata": {
    "id": "4HszZQBQfqp4"
   },
   "source": [
    "**Backpropagation**"
   ]
  },
  {
   "cell_type": "markdown",
   "metadata": {
    "id": "Il0HkvmBfydX"
   },
   "source": [
    "This `dq` variable below represents $\\frac{\\partial J}{\\partial q_l}$"
   ]
  },
  {
   "cell_type": "code",
   "execution_count": null,
   "metadata": {
    "colab": {
     "base_uri": "https://localhost:8080/"
    },
    "id": "_OEDoYXad3Ib",
    "outputId": "71fbf868-6631-44ed-d1b1-2ddf002ae4e4"
   },
   "outputs": [
    {
     "data": {
      "text/plain": [
       "array([[ 1.32921217, -0.77003345, -0.31628036],\n",
       "       [-0.99081039, -1.07081626, -1.43871328],\n",
       "       [ 0.56441685,  0.29572189, -1.62640423],\n",
       "       [ 0.2195652 ,  0.6788048 ,  1.88927273],\n",
       "       [ 0.9615384 ,  0.1040112 , -0.48116532],\n",
       "       [ 0.85022853,  1.45342467,  1.05773744],\n",
       "       [ 0.16556161,  0.51501838, -1.33693569]])"
      ]
     },
     "execution_count": 7,
     "metadata": {},
     "output_type": "execute_result"
    }
   ],
   "source": [
    "np.random.seed(24)\n",
    "dq = np.random.randn(m,d)\n",
    "dq"
   ]
  },
  {
   "cell_type": "markdown",
   "metadata": {
    "id": "RahvXmtdgFFk"
   },
   "source": [
    "`dgamma` represents: $\\frac{\\partial J}{\\partial \\gamma}$\n",
    "\n",
    "`dbeta` represents: $\\frac{\\partial J}{\\partial \\beta}$\n",
    "\n",
    "`dzhat` represents: $\\frac{\\partial J}{\\partial \\hat{z_l}}$\n",
    "\n",
    "`dvar` represents: $\\frac{\\partial J}{\\partial \\sigma^2}$\n",
    "\n",
    "`dmu` represents: $\\frac{\\partial J}{\\partial \\mu}$\n",
    "\n",
    "`dz` represents: $\\frac{\\partial J}{\\partial z_l}$\n",
    "\n"
   ]
  },
  {
   "cell_type": "code",
   "execution_count": null,
   "metadata": {
    "id": "vtVjRpNPd5fr"
   },
   "outputs": [],
   "source": [
    "dgamma = np.sum(dq * zhat, axis=0)\n",
    "dbeta = np.sum(dq, axis=0)\n",
    "dzhat = dq * gamma\n",
    "dvar = np.sum(dzhat * zmu * (-.5) * (ivar**3), axis=0)\n",
    "dmu = np.sum(dzhat * (-ivar), axis=0)\n",
    "dz = dzhat * ivar + dvar * (2/m) * zmu + (1/m)*dmu"
   ]
  },
  {
   "cell_type": "code",
   "execution_count": null,
   "metadata": {
    "colab": {
     "base_uri": "https://localhost:8080/"
    },
    "id": "2A2aFQsDirRt",
    "outputId": "fd13be1f-ca7d-41e0-9905-656a7bf10730"
   },
   "outputs": [
    {
     "data": {
      "text/plain": [
       "array([ 1.87446152, -3.33807569,  0.75442823])"
      ]
     },
     "execution_count": 9,
     "metadata": {},
     "output_type": "execute_result"
    }
   ],
   "source": [
    "dgamma"
   ]
  },
  {
   "cell_type": "code",
   "execution_count": null,
   "metadata": {
    "colab": {
     "base_uri": "https://localhost:8080/"
    },
    "id": "xCkxE92jiski",
    "outputId": "3148bb16-bc41-4bf8-801e-1b997ff75afd"
   },
   "outputs": [
    {
     "data": {
      "text/plain": [
       "array([ 3.09971237,  1.20613122, -2.25248871])"
      ]
     },
     "execution_count": 10,
     "metadata": {},
     "output_type": "execute_result"
    }
   ],
   "source": [
    "dbeta"
   ]
  },
  {
   "cell_type": "code",
   "execution_count": null,
   "metadata": {
    "colab": {
     "base_uri": "https://localhost:8080/"
    },
    "id": "47CTYPIhitXN",
    "outputId": "e1defc25-fb1e-4c0f-bf48-c24fbeffbeef"
   },
   "outputs": [
    {
     "data": {
      "text/plain": [
       "array([[ 0.42119623, -0.49884504, -0.01690198],\n",
       "       [-0.888674  , -0.27953285, -0.86205837],\n",
       "       [ 0.38788918,  0.41812232, -0.89130965],\n",
       "       [-0.0808407 ,  0.24082659,  1.45513635],\n",
       "       [ 0.05651819, -0.17691132, -0.03093201],\n",
       "       [ 0.34007894,  0.38771122,  0.90015001],\n",
       "       [-0.23616783, -0.09137091, -0.55408435]])"
      ]
     },
     "execution_count": 11,
     "metadata": {},
     "output_type": "execute_result"
    }
   ],
   "source": [
    "dz"
   ]
  }
 ],
 "metadata": {
  "colab": {
   "provenance": []
  },
  "kernelspec": {
   "display_name": "Python 3 (ipykernel)",
   "language": "python",
   "name": "python3"
  },
  "language_info": {
   "codemirror_mode": {
    "name": "ipython",
    "version": 3
   },
   "file_extension": ".py",
   "mimetype": "text/x-python",
   "name": "python",
   "nbconvert_exporter": "python",
   "pygments_lexer": "ipython3",
   "version": "3.10.2"
  }
 },
 "nbformat": 4,
 "nbformat_minor": 4
}