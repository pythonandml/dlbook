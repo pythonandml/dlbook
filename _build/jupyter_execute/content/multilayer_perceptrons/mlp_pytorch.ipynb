{
 "cells": [
  {
   "cell_type": "markdown",
   "metadata": {
    "id": "i8iN7ZT8m5aB"
   },
   "source": [
    "# 2.15. 4 step process to build MLP model using PyTorch"
   ]
  },
  {
   "cell_type": "markdown",
   "metadata": {
    "id": "i5XfhobFnBme"
   },
   "source": [
    "From our previous chapters (including the one where we have coded [MLP model from scratch](https://pythonandml.github.io/dlbook/content/multilayer_perceptrons/neural_networks_mlp_scratch_best.html)), we now have the idea of how MLP works. Today, we will build our very first MLP model using PyTorch (it just takes quite a few lines of code) in just 4 simple steps.\n",
    "\n",
    "#### How to build MLP model using PyTorch\n",
    "\n",
    "#### Step-1\n",
    "\n",
    "Importing all dependencies\n",
    "\n",
    "We first import `torch`, which imports **PyTorch**. Then we import `nn`, which allows us to define a neural network module. \n",
    "\n",
    "Next we import the `DataLoader` with the help of which we can feed data into the neural network (MLP) during training.\n",
    "\n",
    "Finally we import `transforms`, which allows us to perform [data pre-processing](https://pythonandml.github.io/dlbook/content/preliminaries/data_preprocessing.html) (link to previous chapter)"
   ]
  },
  {
   "cell_type": "code",
   "execution_count": null,
   "metadata": {
    "id": "orhsxg1DlTui"
   },
   "outputs": [],
   "source": [
    "import os\n",
    "import torch\n",
    "from torch import nn\n",
    "from torchvision.datasets import MNIST\n",
    "from torch.utils.data import DataLoader\n",
    "from torchvision import transforms\n",
    "\n",
    "# show the progress bar while priting\n",
    "from tqdm import tqdm"
   ]
  },
  {
   "cell_type": "markdown",
   "metadata": {
    "id": "q8LFYLwfqyjw"
   },
   "source": [
    "#### Step-2\n",
    "\n",
    "Defining the MLP class as a `nn.Module`\n",
    "\n",
    "The MLP class replicates the `nn.Module` class. It has two definitions: __init__, or the constructor, and **forward**, which implements the forward pass.\n",
    "\n",
    "We create a sequential model using `nn.Sequential` where we will add layers of MLP one by one (in the form of a stack) and store it in variable **self.layers**. We also add `nn.Flatten()` which converts the 3D image representations (width, height and channels) into 1D format.\n",
    "\n",
    "Our model layers are *three densely-connected layers with Linear and ReLU activation functions*\n",
    "\n",
    "> **Note:** Here `nn.Linear` is similar to the **Dense** class we developed in our scratch model."
   ]
  },
  {
   "cell_type": "code",
   "execution_count": null,
   "metadata": {
    "id": "HzreJsrtpRpm"
   },
   "outputs": [],
   "source": [
    "class MLP(nn.Module):\n",
    "  '''\n",
    "    Multilayer Perceptron.\n",
    "  '''\n",
    "  def __init__(self):\n",
    "    super().__init__()\n",
    "    self.layers = nn.Sequential(\n",
    "      nn.Flatten(),\n",
    "      # input shape = 28*28\n",
    "      # neurons in first dense layer = 64\n",
    "      nn.Linear(28*28, 64),\n",
    "      # relu activation\n",
    "      nn.ReLU(),\n",
    "      # 64 = neurons in first dense layer\n",
    "      # 32 = neurons in second dense layer\n",
    "      nn.Linear(64, 32),\n",
    "      nn.ReLU(),\n",
    "      # 32 = neurons in second dense layer\n",
    "      # 10 = neurons in output layer (number of classes)\n",
    "      nn.Linear(32, 10)\n",
    "    )\n",
    "\n",
    "\n",
    "  def forward(self, x):\n",
    "    '''Forward pass'''\n",
    "    return self.layers(x)"
   ]
  },
  {
   "cell_type": "markdown",
   "metadata": {
    "id": "3Ej3GG9ltDcr"
   },
   "source": [
    "#### Step-3\n",
    "\n",
    "Preparing the **MNIST** dataset and compiling the model *(loss function, and optimizer)*.\n",
    "\n",
    "The next code we add involves preparing the **MNIST** dataset. The dataset contains 10 classes and has 70,000 28 by 28 pixel images, with 7000 images per class.\n",
    "\n",
    "We will define the `batch_size` of 100."
   ]
  },
  {
   "cell_type": "code",
   "execution_count": null,
   "metadata": {
    "id": "hmKRfuucsidh"
   },
   "outputs": [],
   "source": [
    "train_dataset = MNIST(os.getcwd(), download=True, transform=transforms.ToTensor(), train=True)\n",
    "trainloader = torch.utils.data.DataLoader(train_dataset, batch_size=100, shuffle=True, num_workers=1)\n",
    "\n",
    "test_dataset = MNIST(os.getcwd(), download=True, transform=transforms.ToTensor(), train=False)\n",
    "testloader = torch.utils.data.DataLoader(test_dataset, batch_size=100, shuffle=True, num_workers=1)"
   ]
  },
  {
   "cell_type": "markdown",
   "metadata": {
    "id": "bNvgTesJuOn8"
   },
   "source": [
    "Now, we will initialize the MLP model and compile the same by specifying the loss function (categorical crossentropy loss) and the Adam optimizer. "
   ]
  },
  {
   "cell_type": "code",
   "execution_count": null,
   "metadata": {
    "id": "B2VngNPUuOJN"
   },
   "outputs": [],
   "source": [
    "# Initialize the MLP\n",
    "mlp = MLP()\n",
    "\n",
    "# Define the loss function and optimizer\n",
    "loss_function = nn.CrossEntropyLoss()\n",
    "optimizer = torch.optim.Adam(mlp.parameters(), lr=1e-4)"
   ]
  },
  {
   "cell_type": "markdown",
   "metadata": {
    "id": "KEYW2IrgvDQW"
   },
   "source": [
    "#### Step-4\n",
    "\n",
    "Defining the training loop\n",
    "\n",
    "The core part of our runtime code is the training loop. In this loop, we perform the epochs, or training iterations. For every iteration, we iterate over the training dataset, perform the entire forward and backward passes, and perform model optimization.\n",
    "\n"
   ]
  },
  {
   "cell_type": "code",
   "execution_count": null,
   "metadata": {
    "colab": {
     "base_uri": "https://localhost:8080/"
    },
    "id": "N6eO6fWKvAW0",
    "outputId": "971628c7-5a66-4995-8082-43e6a5bd4c87"
   },
   "outputs": [
    {
     "name": "stdout",
     "output_type": "stream",
     "text": [
      "Epoch: 1 / "
     ]
    },
    {
     "name": "stderr",
     "output_type": "stream",
     "text": [
      "100%|██████████| 600/600 [00:16<00:00, 36.23it/s]\n"
     ]
    },
    {
     "name": "stdout",
     "output_type": "stream",
     "text": [
      "Training Loss: 1.442260696987311\n",
      "Epoch: 2 / "
     ]
    },
    {
     "name": "stderr",
     "output_type": "stream",
     "text": [
      "100%|██████████| 600/600 [00:12<00:00, 46.39it/s]\n"
     ]
    },
    {
     "name": "stdout",
     "output_type": "stream",
     "text": [
      "Training Loss: 0.5304147966206074\n",
      "Epoch: 3 / "
     ]
    },
    {
     "name": "stderr",
     "output_type": "stream",
     "text": [
      "100%|██████████| 600/600 [00:12<00:00, 47.19it/s]\n"
     ]
    },
    {
     "name": "stdout",
     "output_type": "stream",
     "text": [
      "Training Loss: 0.3789885752648115\n",
      "Epoch: 4 / "
     ]
    },
    {
     "name": "stderr",
     "output_type": "stream",
     "text": [
      "100%|██████████| 600/600 [00:13<00:00, 44.66it/s]\n"
     ]
    },
    {
     "name": "stdout",
     "output_type": "stream",
     "text": [
      "Training Loss: 0.32839169981578986\n",
      "Epoch: 5 / "
     ]
    },
    {
     "name": "stderr",
     "output_type": "stream",
     "text": [
      "100%|██████████| 600/600 [00:13<00:00, 45.42it/s]"
     ]
    },
    {
     "name": "stdout",
     "output_type": "stream",
     "text": [
      "Training Loss: 0.30098773007591567\n",
      "Training process has finished.\n"
     ]
    },
    {
     "name": "stderr",
     "output_type": "stream",
     "text": [
      "\n"
     ]
    }
   ],
   "source": [
    "# Run the training loop\n",
    "\n",
    "# 5 epochs at maximum\n",
    "epochs = 5 \n",
    "\n",
    "for epoch in range(0, epochs): \n",
    "  \n",
    "    # Print epoch\n",
    "    print(\"Epoch:\", epoch+1, '/', end=' ')\n",
    "    \n",
    "    # Set current loss value\n",
    "    current_loss = 0.0\n",
    "    \n",
    "    # Iterate over the DataLoader for training data\n",
    "    for i, data in enumerate(tqdm(trainloader)):\n",
    "\n",
    "        # Get inputs\n",
    "        inputs, targets = data\n",
    "        \n",
    "        # Zero the gradients\n",
    "        optimizer.zero_grad()\n",
    "        \n",
    "        # Perform forward pass\n",
    "        outputs = mlp(inputs)\n",
    "        \n",
    "        # Compute loss\n",
    "        loss = loss_function(outputs, targets)\n",
    "        \n",
    "        # Perform backward pass\n",
    "        loss.backward()\n",
    "        \n",
    "        # Perform optimization\n",
    "        optimizer.step()\n",
    "        \n",
    "        # Print results\n",
    "        current_loss += loss.item()\n",
    "    \n",
    "    print(\"Training Loss:\", current_loss/len(trainloader))\n",
    "    \n",
    "\n",
    "# Process is complete.\n",
    "print('Training process has finished.')"
   ]
  },
  {
   "cell_type": "markdown",
   "metadata": {
    "id": "rFmLYXgzzZ6S"
   },
   "source": [
    "#### Testing time!"
   ]
  },
  {
   "cell_type": "code",
   "execution_count": null,
   "metadata": {
    "colab": {
     "base_uri": "https://localhost:8080/"
    },
    "id": "rMsELiMRzZgR",
    "outputId": "f61e5077-d574-45eb-a8ce-ec6112d9f39d"
   },
   "outputs": [
    {
     "name": "stderr",
     "output_type": "stream",
     "text": [
      "100%|██████████| 100/100 [00:03<00:00, 29.01it/s]"
     ]
    },
    {
     "name": "stdout",
     "output_type": "stream",
     "text": [
      "\n",
      "Test Loss: 0.2795557440817356\n",
      "Test Accuracy: 0.9219\n"
     ]
    },
    {
     "name": "stderr",
     "output_type": "stream",
     "text": [
      "\n"
     ]
    }
   ],
   "source": [
    "mlp.eval()\n",
    "correct = 0                                               \n",
    "total = 0                                                 \n",
    "running_loss = 0.0                                 \n",
    "with torch.no_grad():                                     \n",
    "    for i, data in enumerate(tqdm(testloader)):                     \n",
    "        inputs, targets = data                                                           \n",
    "        outputs = mlp(inputs)                           \n",
    "        loss = loss_function(outputs, targets)  \n",
    "\n",
    "        _, predicted = torch.max(outputs.data, 1)         \n",
    "        \n",
    "        total += targets.size(0)                           \n",
    "        correct += (predicted == targets).sum().item()     \n",
    "        running_loss = running_loss + loss.item()         \n",
    "accuracy = correct / total\n",
    "running_loss = running_loss/len(testloader)\n",
    "print(\"\\nTest Loss:\", running_loss)\n",
    "print(\"Test Accuracy:\", accuracy)"
   ]
  }
 ],
 "metadata": {
  "colab": {
   "provenance": []
  },
  "kernelspec": {
   "display_name": "Python 3 (ipykernel)",
   "language": "python",
   "name": "python3"
  },
  "language_info": {
   "codemirror_mode": {
    "name": "ipython",
    "version": 3
   },
   "file_extension": ".py",
   "mimetype": "text/x-python",
   "name": "python",
   "nbconvert_exporter": "python",
   "pygments_lexer": "ipython3",
   "version": "3.10.2"
  }
 },
 "nbformat": 4,
 "nbformat_minor": 4
}