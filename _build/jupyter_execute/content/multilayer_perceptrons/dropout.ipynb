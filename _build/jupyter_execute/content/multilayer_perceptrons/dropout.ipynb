{
 "cells": [
  {
   "cell_type": "markdown",
   "metadata": {
    "id": "wea2aGXscZK7"
   },
   "source": [
    "# 2.10. Dropout regularization\n",
    "\n",
    "> The term `dropout` refers to randomly dropping out the neurons in a neural network (as seen in the figure below). At each training stage, individual neurons are either dropped out of the net with probability $p$ or kept with probability $1-p$, so that a reduced network is left. In testing phase, the entire network is considered and each activation is reduced by a factor $p$.\n",
    "\n",
    "Dropout is an approach to regularization in neural networks which helps reducing interdependent learning amongst the neurons. \n",
    "\n",
    "Dropout is `effective` especially when your **network is very big** or when you **train for a very long time**, both of which put a network at a higher risk of `overfitting`.\n",
    "\n",
    "When you have very large training data sets, the utility of regularization techniques, including dropout, declines because the network has more data available to learn to generalize better. \n",
    "\n",
    "\n",
    "\n"
   ]
  },
  {
   "cell_type": "markdown",
   "metadata": {
    "id": "hvTB3nfqpK7J"
   },
   "source": [
    "![](images/drop_net.png)"
   ]
  },
  {
   "cell_type": "markdown",
   "metadata": {
    "id": "yHGM9ORKpJ25"
   },
   "source": [
    "#### Forward pass\n",
    "\n",
    "Without dropout, the [feed forward operation on layer $l$](https://pythonandml.github.io/dlbook/content/multilayer_perceptrons/forward_propagation.html) (link to previous chapter) is:\n",
    "\n",
    "$$\n",
    "z_l = a_{l-1}W_l + b_l^T \n",
    "$$\n",
    "\n",
    "$$\n",
    "a_l = f_l(z_l)\n",
    "$$\n",
    "\n",
    "When dropout is on, the equations become as follows:\n",
    "\n",
    "$$\n",
    "r_{l-1} \\sim \\text{Bernoulli(p)}\n",
    "$$\n",
    "\n",
    "$$\n",
    "\\tilde{a}_{l-1} = r_{l-1} \\odot a_{l-1}\n",
    "$$\n",
    "\n",
    "$$\n",
    "z_l = \\tilde{a}_{l-1} W_l + b_l^T \n",
    "$$\n",
    "\n",
    "$$\n",
    "a_l = f_l(z_l)\n",
    "$$\n",
    "\n",
    "Thus when the output of the neuron is scaled to 0 (using Bernoulli), it does not contribute any further during both forward and backward pass, which is essentially dropout.\n",
    "\n",
    "During training phase, we trained the network with only a subset of the neurons. So during testing, we have to scale the output activations by factor of $p$, which means we have to modify the network during test phase. \n",
    "\n",
    "A simpler and commonly used alternative called `Inverted Dropout` scales the output activation during training phase by $\\frac{1}{p}$ so that we can leave the network during testing phase untouched.\n",
    "\n",
    "The code for the same is fairly simple:"
   ]
  },
  {
   "cell_type": "markdown",
   "metadata": {
    "id": "q6DMHNlcri0l"
   },
   "source": [
    "`mask` represents: $r_{l-1}$\n",
    "\n",
    "`out` represents: $\\tilde{a}_{l-1}$\n",
    "\n",
    "`t` represents: Any input, here $a_{l-1}$"
   ]
  },
  {
   "cell_type": "code",
   "execution_count": 11,
   "metadata": {
    "id": "dnkkvkkmq-TH"
   },
   "outputs": [],
   "source": [
    "# create a mask of bernoulli variables and scale it by 1/p\n",
    "# save it for backward pass\n",
    "mask = (np.random.rand(*t.shape) < p) / p \n",
    "out = t * mask"
   ]
  },
  {
   "cell_type": "markdown",
   "metadata": {
    "id": "u4hyeIBCsbcj"
   },
   "source": [
    "#### Backpropagation\n",
    "\n",
    "[Back propagation on layer $l$](https://pythonandml.github.io/dlbook/content/multilayer_perceptrons/backpropagation.html) (link to previous chapter) is:\n",
    "\n",
    "$$\n",
    "\\frac{\\partial J(W, b)}{\\partial \\tilde{a}_{l-1}} = \\delta_{l} W_{l}^T\n",
    "$$\n",
    "\n",
    "$$\n",
    "\\frac{\\partial J(W, b)}{\\partial a_{l-1}} = \\frac{\\partial J(W, b)}{\\partial \\tilde{a}_{l-1}} \\odot \\frac{\\partial \\tilde{a}_{l-1}}{\\partial a_{l-1}}\n",
    "$$\n",
    "\n",
    "$$\n",
    "\\frac{\\partial J(W, b)}{\\partial a_{l-1}} = \\frac{\\partial J(W, b)}{\\partial \\tilde{a}_{l-1}} \\odot r_{l-1}\n",
    "$$\n",
    "\n",
    "Thats it!"
   ]
  },
  {
   "cell_type": "markdown",
   "metadata": {
    "id": "a0ch8IhQv8Hu"
   },
   "source": [
    "`dout` represents: $\\frac{\\partial J(W, b)}{\\partial \\tilde{a}_{l-1}}$\n",
    "\n",
    "`dt` represents: $\\frac{\\partial J(W, b)}{\\partial a_{l-1}}$"
   ]
  },
  {
   "cell_type": "code",
   "execution_count": 10,
   "metadata": {
    "id": "2RpglvXIv0cB"
   },
   "outputs": [],
   "source": [
    "# mask (saved during forward pass)\n",
    "dt = dout * mask"
   ]
  }
 ],
 "metadata": {
  "colab": {
   "provenance": []
  },
  "kernelspec": {
   "display_name": "Python 3 (ipykernel)",
   "language": "python",
   "name": "python3"
  },
  "language_info": {
   "codemirror_mode": {
    "name": "ipython",
    "version": 3
   },
   "file_extension": ".py",
   "mimetype": "text/x-python",
   "name": "python",
   "nbconvert_exporter": "python",
   "pygments_lexer": "ipython3",
   "version": "3.10.2"
  }
 },
 "nbformat": 4,
 "nbformat_minor": 4
}