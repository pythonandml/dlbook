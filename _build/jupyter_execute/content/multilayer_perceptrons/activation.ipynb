{
 "cells": [
  {
   "cell_type": "markdown",
   "metadata": {
    "id": "Q8ApcPJv2fYC"
   },
   "source": [
    "# 2.1. Activation Functions\n",
    "\n",
    "**What is Activation Function?**\n",
    "\n",
    "> It’s just a function that you use to get the output of a node.\n",
    "\n",
    "**Why we use Activation functions with Neural Networks?**\n",
    "\n",
    "> Activation functions play an integral role in neural networks by introducing nonlinearity. This nonlinearity allows neural networks to develop complex representations and functions based on the inputs that would not be possible with a simple linear regression model (although we have linear activation functions as well)."
   ]
  },
  {
   "cell_type": "markdown",
   "metadata": {
    "id": "DLzAWA6OWPuT"
   },
   "source": [
    "#### 1. Linear\n",
    "\n",
    "The linear activation function, also known as \"no activation,\" or \"identity function\". This function simply returns its input. \n",
    "\n",
    "Mathematically it can be represented as:"
   ]
  },
  {
   "cell_type": "markdown",
   "metadata": {},
   "source": [
    "$$\n",
    "    f(x) = x\n",
    "$$"
   ]
  },
  {
   "cell_type": "markdown",
   "metadata": {},
   "source": [
    "and has derivative"
   ]
  },
  {
   "cell_type": "markdown",
   "metadata": {},
   "source": [
    "$$\n",
    "    \\frac{\\partial f(x)}{\\partial x} = 1\n",
    "$$"
   ]
  },
  {
   "cell_type": "markdown",
   "metadata": {},
   "source": [
    "The linear activation function is often used before the last layer in a neural network for regression. Rather than constraining the fitted values to be in some range or setting half of them equal to 0, we want to leave them as they are. "
   ]
  },
  {
   "cell_type": "markdown",
   "metadata": {
    "id": "jELOtDmWV02O"
   },
   "source": [
    "Consider a dataset ($x$ value) with $1000$ samples in range -5 to 5.\n",
    "\n",
    "```\n",
    "x = np.linspace(-5,5,1000)\n",
    "```"
   ]
  },
  {
   "cell_type": "markdown",
   "metadata": {
    "id": "QNygTMRLm4wT"
   },
   "source": [
    "The *linear(x)* function below implements the linear activation function whereas the *d_linear(x)* function implements its derivative (vectorized code instead of using loops)"
   ]
  },
  {
   "cell_type": "code",
   "execution_count": null,
   "metadata": {
    "id": "rkFVTaYk1FbR"
   },
   "outputs": [],
   "source": [
    "def linear(x):\n",
    "    return x\n",
    "\n",
    "def d_linear(x):\n",
    "    return np.ones(x.shape)"
   ]
  },
  {
   "cell_type": "markdown",
   "metadata": {
    "id": "bDxhxDtkYwui"
   },
   "source": [
    "We can demonstrate both these functions on our dataset ($x$) above.\n",
    "\n",
    "The complete example is listed below."
   ]
  },
  {
   "cell_type": "code",
   "execution_count": null,
   "metadata": {
    "id": "-FaEuebgZ6Mc"
   },
   "outputs": [],
   "source": [
    "import numpy as np\n",
    "import matplotlib.pyplot as plt\n",
    "\n",
    "def linear(x):\n",
    "    return x\n",
    "\n",
    "def d_linear(x):\n",
    "    return np.ones(x.shape)\n",
    "\n",
    "x = np.linspace(-5,5,1000)\n",
    "f = linear(x)\n",
    "df = d_linear(x)"
   ]
  },
  {
   "cell_type": "code",
   "execution_count": null,
   "metadata": {
    "colab": {
     "base_uri": "https://localhost:8080/",
     "height": 295
    },
    "id": "Ayjv8HMmcczF",
    "outputId": "92a7d27c-eb0c-462b-ca84-23bf0fe829bb"
   },
   "outputs": [
    {
     "data": {
      "image/png": "[encoded data removed]",
      "text/plain": [
       "<Figure size 432x288 with 1 Axes>"
      ]
     },
     "metadata": {
      "filenames": {
       "image/png": "/Users/pratyushkhandelwal/Documents/dlbook/_build/jupyter_execute/content/multilayer_perceptrons/activation_11_0.png"
      },
      "needs_background": "light"
     },
     "output_type": "display_data"
    }
   ],
   "source": [
    "plt.plot(x, f, 'k')\n",
    "plt.xlabel(\"$x$\")\n",
    "plt.ylabel(\"$f(x)$\")\n",
    "plt.title(\"Linear Activation\")\n",
    "plt.grid()\n",
    "plt.show()"
   ]
  },
  {
   "cell_type": "code",
   "execution_count": null,
   "metadata": {
    "colab": {
     "base_uri": "https://localhost:8080/",
     "height": 295
    },
    "id": "XH5_9Z2CcdfF",
    "outputId": "ba4348e9-b8a1-4e6d-931c-9e8e7aaf2b9d"
   },
   "outputs": [
    {
     "data": {
      "image/png": "[encoded data removed]",
      "text/plain": [
       "<Figure size 432x288 with 1 Axes>"
      ]
     },
     "metadata": {
      "filenames": {
       "image/png": "/Users/pratyushkhandelwal/Documents/dlbook/_build/jupyter_execute/content/multilayer_perceptrons/activation_12_0.png"
      },
      "needs_background": "light"
     },
     "output_type": "display_data"
    }
   ],
   "source": [
    "plt.plot(x, df, 'r')\n",
    "plt.xlabel(\"$x$\")\n",
    "plt.ylabel(\"derivative_f(x)\")\n",
    "plt.title(\"Derivative of Linear Activation\")\n",
    "plt.grid()\n",
    "plt.show()"
   ]
  },
  {
   "cell_type": "markdown",
   "metadata": {
    "id": "jiw3fD9vBtmg"
   },
   "source": [
    "#### 2. Sigmoid\n",
    "\n",
    "The Sigmoid function (or Logistic Activation function) curve looks like a S-shape. The main reason we use this function is that it takes any real value as input and outputs values in the range of 0 to 1. \n",
    "\n",
    "The larger the input (more positive), the closer the output value will be to 1.0, whereas the smaller the input (more negative), the closer the output will be to 0.0\n",
    "\n",
    "Mathematically it can be represented as:\n",
    "\n",
    "$$f(x) = \\frac{1}{1+e^{-x}}$$\n",
    "\n",
    "Now, a convenient fact about the sigmoid function is that we can express its derivative in terms of itself. \n",
    "\n",
    "\n",
    "$$\\frac{\\partial f(x)}{\\partial x} = \\frac{e^{-x}}{\\left( 1 + e^{-x} \\right)^2} = \\frac{1}{1 + e^{-x}} \\cdot \\frac{e^{-x}}{1 + e^{-x}} = f(x)\\left(1 - f(x)\\right)$$\n",
    "\n"
   ]
  },
  {
   "cell_type": "markdown",
   "metadata": {
    "id": "foNB8GnwnA0W"
   },
   "source": [
    "The *sigmoid(x)* function below implements the sigmoid activation function whereas the *d_sigmoid(x)* function implements its derivative (vectorized code instead of using loops)"
   ]
  },
  {
   "cell_type": "code",
   "execution_count": null,
   "metadata": {
    "id": "ykYSITnZnA0W"
   },
   "outputs": [],
   "source": [
    "def sigmoid(x):\n",
    "    '''\n",
    "    Parameters\n",
    "    \n",
    "    x: input matrix of shape (m, d) \n",
    "    where 'm' is the number of samples (or rows)\n",
    "    and 'd' is the number of features (or columns)\n",
    "    '''\n",
    "    return 1/(1+np.exp(-x))\n",
    "\n",
    "def d_sigmoid(x):\n",
    "    return sigmoid(x) * (1-sigmoid(x))"
   ]
  },
  {
   "cell_type": "markdown",
   "metadata": {
    "id": "8thZWXfCnA0W"
   },
   "source": [
    "We can demonstrate both these functions on our dataset ($x$) used above.\n",
    "\n",
    "The complete example is listed below."
   ]
  },
  {
   "cell_type": "code",
   "execution_count": null,
   "metadata": {
    "id": "RDLrh1ZgnA0W"
   },
   "outputs": [],
   "source": [
    "import numpy as np\n",
    "import matplotlib.pyplot as plt\n",
    "\n",
    "def sigmoid(x):\n",
    "    '''\n",
    "    Parameters\n",
    "    \n",
    "    x: input matrix of shape (m, d) \n",
    "    where 'm' is the number of samples (or rows)\n",
    "    and 'd' is the number of features (or columns)\n",
    "    '''\n",
    "    return 1/(1+np.exp(-x))\n",
    "\n",
    "def d_sigmoid(x):\n",
    "    return sigmoid(x) * (1-sigmoid(x))\n",
    "\n",
    "x = np.linspace(-5,5,1000)\n",
    "f = sigmoid(x)\n",
    "df = d_sigmoid(x)"
   ]
  },
  {
   "cell_type": "code",
   "execution_count": null,
   "metadata": {
    "colab": {
     "base_uri": "https://localhost:8080/",
     "height": 295
    },
    "id": "73bQ_J2NnA0X",
    "outputId": "a4e65678-1ff2-4953-ff17-4006f0465655"
   },
   "outputs": [
    {
     "data": {
      "image/png": "[encoded data removed]",
      "text/plain": [
       "<Figure size 432x288 with 1 Axes>"
      ]
     },
     "metadata": {
      "filenames": {
       "image/png": "/Users/pratyushkhandelwal/Documents/dlbook/_build/jupyter_execute/content/multilayer_perceptrons/activation_18_0.png"
      },
      "needs_background": "light"
     },
     "output_type": "display_data"
    }
   ],
   "source": [
    "plt.plot(x, f, 'k')\n",
    "plt.xlabel(\"$x$\")\n",
    "plt.ylabel(\"$f(x)$\")\n",
    "plt.title(\"Sigmoid Activation\")\n",
    "plt.grid()\n",
    "plt.show()"
   ]
  },
  {
   "cell_type": "code",
   "execution_count": null,
   "metadata": {
    "colab": {
     "base_uri": "https://localhost:8080/",
     "height": 295
    },
    "id": "g2JXp3minA0X",
    "outputId": "7395ce60-9f21-4b7c-8680-c0f0f15c0b55"
   },
   "outputs": [
    {
     "data": {
      "image/png": "[encoded data removed]",
      "text/plain": [
       "<Figure size 432x288 with 1 Axes>"
      ]
     },
     "metadata": {
      "filenames": {
       "image/png": "/Users/pratyushkhandelwal/Documents/dlbook/_build/jupyter_execute/content/multilayer_perceptrons/activation_19_0.png"
      },
      "needs_background": "light"
     },
     "output_type": "display_data"
    }
   ],
   "source": [
    "plt.plot(x, df, 'r')\n",
    "plt.xlabel(\"$x$\")\n",
    "plt.ylabel(\"derivative_f(x)\")\n",
    "plt.title(\"Derivative of Sigmoid Activation\")\n",
    "plt.grid()\n",
    "plt.show()"
   ]
  },
  {
   "cell_type": "markdown",
   "metadata": {
    "id": "Uw9_Dw2GHT5i"
   },
   "source": [
    "#### 3. Tanh\n",
    "\n",
    "Tanh is also similar to logistic sigmoid but better because it outputs the value of any real input in the range of -1 to 1 instead of 0 to 1.\n",
    "\n",
    "Therefore the negative inputs will be mapped strongly negative (near to -1) and the zero inputs will be mapped near zero using tanh activation.\n",
    "\n",
    "Mathematically it can be represented as:\n",
    "\n",
    "$$\n",
    "f(x) = \\frac{e^{x}-e^{-x}}{e^{x}+e^{-x}}\n",
    "$$\n",
    "\n",
    "Again, a convenient fact about the tanh function is that we can express its derivative in terms of itself (we have left the proof as an exercise for the readers). \n",
    "\n",
    "\n",
    "$$\n",
    "\\frac{\\partial f(x)}{\\partial x} = 1-f^2(x).\n",
    "$$\n",
    "\n",
    "\n"
   ]
  },
  {
   "cell_type": "markdown",
   "metadata": {
    "id": "9HwmmRsloR4I"
   },
   "source": [
    "The *tanh(x)* function below implements the tanh activation function whereas the *d_tanh(x)* function implements its derivative (vectorized code instead of using loops)"
   ]
  },
  {
   "cell_type": "code",
   "execution_count": null,
   "metadata": {
    "id": "v__jAtTUoR4I"
   },
   "outputs": [],
   "source": [
    "def tanh(x):\n",
    "    '''\n",
    "    Parameters\n",
    "    \n",
    "    x: input matrix of shape (m, d) \n",
    "    where 'm' is the number of samples (or rows)\n",
    "    and 'd' is the number of features (or columns)\n",
    "    '''\n",
    "    return (np.exp(x) - np.exp(-x)) / (np.exp(x) + np.exp(-x))\n",
    "\n",
    "def d_tanh(x):\n",
    "    return 1-(tanh(x))**2"
   ]
  },
  {
   "cell_type": "markdown",
   "metadata": {
    "id": "hEoRMZ7JoR4I"
   },
   "source": [
    "We can demonstrate both these functions on our dataset ($x$) used above.\n",
    "\n",
    "The complete example is listed below."
   ]
  },
  {
   "cell_type": "code",
   "execution_count": null,
   "metadata": {
    "id": "pXHGTm3WoR4J"
   },
   "outputs": [],
   "source": [
    "import numpy as np\n",
    "import matplotlib.pyplot as plt\n",
    "\n",
    "def tanh(x):\n",
    "    '''\n",
    "    Parameters\n",
    "    \n",
    "    x: input matrix of shape (m, d) \n",
    "    where 'm' is the number of samples (or rows)\n",
    "    and 'd' is the number of features (or columns)\n",
    "    '''\n",
    "    return (np.exp(x) - np.exp(-x)) / (np.exp(x) + np.exp(-x))\n",
    "\n",
    "def d_tanh(x):\n",
    "    return 1-(tanh(x))**2\n",
    "\n",
    "x = np.linspace(-5,5,1000)\n",
    "f = tanh(x)\n",
    "df = d_tanh(x)"
   ]
  },
  {
   "cell_type": "code",
   "execution_count": null,
   "metadata": {
    "colab": {
     "base_uri": "https://localhost:8080/",
     "height": 295
    },
    "id": "lf2lPTnNoR4J",
    "outputId": "d9ff5afe-c268-48e6-c61e-a6970d70caaa"
   },
   "outputs": [
    {
     "data": {
      "image/png": "[encoded data removed]",
      "text/plain": [
       "<Figure size 432x288 with 1 Axes>"
      ]
     },
     "metadata": {
      "filenames": {
       "image/png": "/Users/pratyushkhandelwal/Documents/dlbook/_build/jupyter_execute/content/multilayer_perceptrons/activation_25_0.png"
      },
      "needs_background": "light"
     },
     "output_type": "display_data"
    }
   ],
   "source": [
    "plt.plot(x, f, 'k')\n",
    "plt.xlabel(\"$x$\")\n",
    "plt.ylabel(\"$f(x)$\")\n",
    "plt.title(\"Tanh Activation\")\n",
    "plt.grid()\n",
    "plt.show()"
   ]
  },
  {
   "cell_type": "markdown",
   "metadata": {
    "id": "yY8KOKDqo3-L"
   },
   "source": [
    "Notice how the values goes from -1 to 1 instead of 0 to 1"
   ]
  },
  {
   "cell_type": "code",
   "execution_count": null,
   "metadata": {
    "colab": {
     "base_uri": "https://localhost:8080/",
     "height": 295
    },
    "id": "gKP85F3poR4J",
    "outputId": "9855789c-0c32-4c76-8b58-c18903f538fb"
   },
   "outputs": [
    {
     "data": {
      "image/png": "[encoded data removed]",
      "text/plain": [
       "<Figure size 432x288 with 1 Axes>"
      ]
     },
     "metadata": {
      "filenames": {
       "image/png": "/Users/pratyushkhandelwal/Documents/dlbook/_build/jupyter_execute/content/multilayer_perceptrons/activation_27_0.png"
      },
      "needs_background": "light"
     },
     "output_type": "display_data"
    }
   ],
   "source": [
    "plt.plot(x, df, 'r')\n",
    "plt.xlabel(\"$x$\")\n",
    "plt.ylabel(\"derivative_f(x)\")\n",
    "plt.title(\"Derivative of Tanh Activation\")\n",
    "plt.grid()\n",
    "plt.show()"
   ]
  },
  {
   "cell_type": "markdown",
   "metadata": {
    "id": "j5EwSW4SL3i7"
   },
   "source": [
    "#### 4. ReLU \n",
    "\n",
    "ReLU is a simple yet extremely common activation function. It stands for **Re**ctified **L**inear **U**nit. \n",
    "\n",
    "Mathematically it can be represented as:\n",
    "\n",
    "$$\n",
    "f(x) = \\text{max}(x, 0)\n",
    "$$\n",
    "\n",
    "and has derivative\n",
    "\n",
    "$$\n",
    "\\frac{\\partial f(x)}{\\partial x} = \\begin{cases} 1,  & x > 0 \\\\ 0, & x \\leq 0. \\end{cases}\n",
    "$$\n",
    "\n",
    "> **Note:** This derivative is not technically defined at 0. In practice, it is very unlikely that we will be applying an activation function to 0 *exactly*, though in that case the convention is to set its derivative equal to 0.\n",
    "\n",
    "\n",
    "\n"
   ]
  },
  {
   "cell_type": "markdown",
   "metadata": {
    "id": "kK_AlBMdp7wU"
   },
   "source": [
    "The *ReLU(x)* function below implements the ReLU activation function whereas the *d_ReLU(x)* function implements its derivative (vectorized code instead of using loops)"
   ]
  },
  {
   "cell_type": "code",
   "execution_count": null,
   "metadata": {
    "id": "hBdPZQhXp7wU"
   },
   "outputs": [],
   "source": [
    "def ReLU(x):\n",
    "    '''\n",
    "    Parameters\n",
    "    \n",
    "    x: input matrix of shape (m, d) \n",
    "    where 'm' is the number of samples (or rows)\n",
    "    and 'd' is the number of features (or columns)\n",
    "    '''\n",
    "    return x * (x > 0)\n",
    "\n",
    "def d_ReLU(x):\n",
    "    return (x>0)*np.ones(x.shape)"
   ]
  },
  {
   "cell_type": "markdown",
   "metadata": {
    "id": "FDM8SAYOp7wU"
   },
   "source": [
    "We can demonstrate both these functions on our dataset ($x$) used above.\n",
    "\n",
    "The complete example is listed below."
   ]
  },
  {
   "cell_type": "code",
   "execution_count": null,
   "metadata": {
    "id": "WmcLZEvEp7wU"
   },
   "outputs": [],
   "source": [
    "import numpy as np\n",
    "import matplotlib.pyplot as plt\n",
    "\n",
    "def ReLU(x):\n",
    "    '''\n",
    "    Parameters\n",
    "    \n",
    "    x: input matrix of shape (m, d) \n",
    "    where 'm' is the number of samples (or rows)\n",
    "    and 'd' is the number of features (or columns)\n",
    "    '''\n",
    "    return x * (x > 0)\n",
    "\n",
    "def d_ReLU(x):\n",
    "    return (x>0)*np.ones(x.shape)\n",
    "\n",
    "x = np.linspace(-5,5,1000)\n",
    "f = ReLU(x)\n",
    "df = d_ReLU(x)"
   ]
  },
  {
   "cell_type": "code",
   "execution_count": null,
   "metadata": {
    "colab": {
     "base_uri": "https://localhost:8080/",
     "height": 295
    },
    "id": "82_KPjfpp7wU",
    "outputId": "9bbc959d-f643-4047-e39f-0178e981d8d7"
   },
   "outputs": [
    {
     "data": {
      "image/png": "[encoded data removed]",
      "text/plain": [
       "<Figure size 432x288 with 1 Axes>"
      ]
     },
     "metadata": {
      "filenames": {
       "image/png": "/Users/pratyushkhandelwal/Documents/dlbook/_build/jupyter_execute/content/multilayer_perceptrons/activation_33_0.png"
      },
      "needs_background": "light"
     },
     "output_type": "display_data"
    }
   ],
   "source": [
    "plt.plot(x, f, 'k')\n",
    "plt.xlabel(\"$x$\")\n",
    "plt.ylabel(\"$f(x)$\")\n",
    "plt.title(\"ReLU Activation\")\n",
    "plt.grid()\n",
    "plt.show()"
   ]
  },
  {
   "cell_type": "code",
   "execution_count": null,
   "metadata": {
    "colab": {
     "base_uri": "https://localhost:8080/",
     "height": 295
    },
    "id": "beDYJrrup7wU",
    "outputId": "291f0f2c-0563-4aa3-8964-22c60c957965"
   },
   "outputs": [
    {
     "data": {
      "image/png": "[encoded data removed]",
      "text/plain": [
       "<Figure size 432x288 with 1 Axes>"
      ]
     },
     "metadata": {
      "filenames": {
       "image/png": "/Users/pratyushkhandelwal/Documents/dlbook/_build/jupyter_execute/content/multilayer_perceptrons/activation_34_0.png"
      },
      "needs_background": "light"
     },
     "output_type": "display_data"
    }
   ],
   "source": [
    "plt.plot(x, df, 'r')\n",
    "plt.xlabel(\"$x$\")\n",
    "plt.ylabel(\"derivative_f(x)\")\n",
    "plt.title(\"Derivative of ReLU Activation\")\n",
    "plt.grid()\n",
    "plt.show()"
   ]
  },
  {
   "cell_type": "markdown",
   "metadata": {
    "id": "o-ygoCw0PWt7"
   },
   "source": [
    "The ReLU function is far more computationally efficient when compared to the sigmoid and tanh functions.\n",
    "\n",
    "Only one disadvantage of ReLU is that all the negative input values become zero immediately, which decreases the model’s ability to learn from the data properly (also known as **dying ReLU problem**).\n",
    "\n",
    "#### 5. Parametric ReLU \n",
    "\n",
    "It is an attempt to solve the dying ReLU problem as it has a small positive slope $\\alpha$ in the $x < 0$ area.\n",
    "\n",
    "Mathematically it can be represented as:\n",
    "\n",
    "$$\n",
    "f(x) = \\begin{cases} x,  & x > 0 \\\\ \\alpha x, & x \\leq 0. \\end{cases}\n",
    "$$\n",
    "\n",
    "and has derivative\n",
    "\n",
    "$$\n",
    "\\frac{\\partial f(x)}{\\partial x} = \\begin{cases} 1,  & x > 0 \\\\ \\alpha, & x \\leq 0. \\end{cases}\n",
    "$$\n",
    "\n",
    ">  **Note:** Neural network figures out the slope parameter $\\alpha$ value itself while learning. If this $\\alpha$ is a fixed value (say 0.01), then the activation is called Leaky ReLU.\n"
   ]
  },
  {
   "cell_type": "markdown",
   "metadata": {
    "id": "TeF9W7wcq80y"
   },
   "source": [
    "The *PReLU(x, alpha)* function below implements the Parametric ReLU activation function (alpha variable or $\\alpha$ is the slope parameter discussed above) whereas the *d_PReLU(x, alpha)* function implements its derivative (vectorized code instead of using loops)"
   ]
  },
  {
   "cell_type": "code",
   "execution_count": null,
   "metadata": {
    "id": "LZuv0XH4q80y"
   },
   "outputs": [],
   "source": [
    "def PReLU(x, alpha=0.01):\n",
    "    '''\n",
    "    Parameters\n",
    "    alpha: slope parameter (𝛼)\n",
    "\n",
    "    x: input matrix of shape (m, d) \n",
    "    where 'm' is the number of samples (or rows)\n",
    "    and 'd' is the number of features (or columns)\n",
    "    '''\n",
    "    return np.where(x > 0, x, alpha*x) \n",
    "\n",
    "def d_PReLU(x, alpha=0.01):\n",
    "    return np.where(x > 0, 1, alpha) "
   ]
  },
  {
   "cell_type": "markdown",
   "metadata": {
    "id": "zknakn5wq80z"
   },
   "source": [
    "We can demonstrate both these functions on our dataset ($x$) used above. We will be using the value of $\\alpha = 0.2$\n",
    "\n",
    "The complete example is listed below."
   ]
  },
  {
   "cell_type": "code",
   "execution_count": null,
   "metadata": {
    "id": "VZK7i4LAq80z"
   },
   "outputs": [],
   "source": [
    "import numpy as np\n",
    "import matplotlib.pyplot as plt\n",
    "\n",
    "def PReLU(x, alpha=0.01):\n",
    "    '''\n",
    "    Parameters\n",
    "    alpha: slope parameter (𝛼)\n",
    "\n",
    "    x: input matrix of shape (m, d) \n",
    "    where 'm' is the number of samples (or rows)\n",
    "    and 'd' is the number of features (or columns)\n",
    "    '''\n",
    "    return np.where(x > 0, x, alpha*x) \n",
    "\n",
    "def d_PReLU(x, alpha=0.01):\n",
    "    return np.where(x > 0, 1, alpha) \n",
    "\n",
    "x = np.linspace(-5,5,1000)\n",
    "alpha = 0.2\n",
    "f = PReLU(x, alpha=alpha)\n",
    "df = d_PReLU(x, alpha=alpha)"
   ]
  },
  {
   "cell_type": "code",
   "execution_count": null,
   "metadata": {
    "colab": {
     "base_uri": "https://localhost:8080/",
     "height": 295
    },
    "id": "TET2S1Unq80z",
    "outputId": "c1449ad4-12e9-497e-defa-3a2dd317b2f5"
   },
   "outputs": [
    {
     "data": {
      "image/png": "[encoded data removed]",
      "text/plain": [
       "<Figure size 432x288 with 1 Axes>"
      ]
     },
     "metadata": {
      "filenames": {
       "image/png": "/Users/pratyushkhandelwal/Documents/dlbook/_build/jupyter_execute/content/multilayer_perceptrons/activation_40_0.png"
      },
      "needs_background": "light"
     },
     "output_type": "display_data"
    }
   ],
   "source": [
    "plt.plot(x, f, color='k', label=\"alpha = \" + str(alpha))\n",
    "plt.xlabel(\"$x$\")\n",
    "plt.ylabel(\"$f(x)$\")\n",
    "plt.title(\"Parametric ReLU Activation\")\n",
    "plt.legend()\n",
    "plt.grid()\n",
    "plt.show()"
   ]
  },
  {
   "cell_type": "code",
   "execution_count": null,
   "metadata": {
    "colab": {
     "base_uri": "https://localhost:8080/",
     "height": 295
    },
    "id": "BmaySvZXq80z",
    "outputId": "278cd12d-cb24-4a38-e513-0992d393b05d"
   },
   "outputs": [
    {
     "data": {
      "image/png": "[encoded data removed]",
      "text/plain": [
       "<Figure size 432x288 with 1 Axes>"
      ]
     },
     "metadata": {
      "filenames": {
       "image/png": "/Users/pratyushkhandelwal/Documents/dlbook/_build/jupyter_execute/content/multilayer_perceptrons/activation_41_0.png"
      },
      "needs_background": "light"
     },
     "output_type": "display_data"
    }
   ],
   "source": [
    "plt.plot(x, df, color='r', label=\"alpha = \" + str(alpha))\n",
    "plt.xlabel(\"$x$\")\n",
    "plt.ylabel(\"derivative_f(x)\")\n",
    "plt.title(\"Derivative of Parametric ReLU Activation\")\n",
    "plt.legend()\n",
    "plt.grid()\n",
    "plt.show()"
   ]
  },
  {
   "cell_type": "markdown",
   "metadata": {
    "id": "ex637GKRwO1t"
   },
   "source": [
    "#### 6. Softmax\n",
    "\n",
    "> **Note:** This activation function is presented only for the sake of completeness. If you are not able to digest it for now, do not worry as we will again be dealing with it in the later part of this course. You can skip it for now!\n",
    "\n",
    "The Softmax activation function normalizes an input value into a vector of values that follows a probability distribution whose total sums up to 1. The output values are between the range $[0,1]$ which is nice because we are able to avoid binary classification and accommodate as many classes or dimensions in our neural network model. \n",
    "\n",
    "If the softmax function is used for multi-classification model it returns the probabilities of each class and the target class will have the highest probability.\n",
    "\n",
    "Mathematically it can be represented as:\n",
    "\n",
    "$$\n",
    "f(x_i) = p_i = \\frac{e^{x_i}}{\\sum_{k=1}^N e^{x_k}} \n",
    "$$\n",
    "\n",
    "where $N$ is the total number of samples in $x$ and $x_i$ is the $i^{th}$ sample of $x$.\n",
    "\n",
    "It has the following derivative (we have left the proof as an exercise for the readers):\n",
    "\n",
    "$$\n",
    "\\frac{\\partial f(x_i)}{\\partial x_j} = \\frac{\\partial p_i}{\\partial x_j} = \\begin{cases}p_i(1-p_j) &  if & i=j \\\\\n",
    "-p_j.p_i & if & i \\neq j\n",
    "\\end{cases}\n",
    "$$\n",
    "\n",
    "or using Kronecker delta:\n",
    "\n",
    "$$\n",
    "\\delta{ij} = \\begin{cases} 1 & if & i=j \\\\ 0 & if & i\\neq j \\end{cases}\n",
    "$$\n",
    "\n",
    "we can re-write the derivative as:\n",
    "\n",
    "$$\n",
    "\\frac{\\partial p_i}{\\partial x_j} =  p_i(\\delta_{ij}-p_j)\n",
    "$$\n",
    "\n",
    "To make our softmax function numerically stable, we simply normalize the values in the vector, by multiplying the numerator and denominator with a constant $C$.\n",
    "\n",
    "$$\n",
    "\\begin{align}\n",
    "p_i &= \\frac{e^{x_i}}{\\sum_{k=1}^N e^{x_k}} \\\\\n",
    "&= \\frac{Ce^{x_i}}{C\\sum_{k=1}^N e^{x_k}} \\\\\n",
    "&= \\frac{e^{x_i + \\log(C)}}{\\sum_{k=1}^N e^{x_k + \\log(C)}} \\\\\n",
    "\\end{align}\n",
    "$$\n",
    "\n"
   ]
  },
  {
   "cell_type": "markdown",
   "metadata": {
    "id": "x_MAOt7I52Jg"
   },
   "source": [
    "We can choose an arbitrary value for $\\log(C)$ term, but generally $\\log(C)=−\\max(x)$ is chosen, as it shifts all of elements in the vector to negative to zero, and negatives with large exponents saturate to zero rather than the infinity, avoiding overflowing and resulting in nan.\n",
    "\n",
    "The *softmax(x)* function below implements the numerically stable softmax activation function whereas the *d_softmax(x)* function implements its derivative (vectorized code instead of using loops)"
   ]
  },
  {
   "cell_type": "code",
   "execution_count": null,
   "metadata": {
    "id": "VuYQuZYe52Jh"
   },
   "outputs": [],
   "source": [
    "def softmax(x):\n",
    "    '''\n",
    "    Parameters\n",
    "    x: input matrix of shape (m, d) \n",
    "    where 'm' is the number of samples (or rows)\n",
    "    and 'd' is the number of features (or columns)\n",
    "    '''\n",
    "    z = np.array(x) - np.max(x, axis=-1, keepdims=True)\n",
    "    numerator = np.exp(z)\n",
    "    denominator = np.sum(numerator, axis=-1, keepdims=True)\n",
    "    return numerator / denominator\n",
    "\n",
    "def d_softmax(x):\n",
    "    x = np.array(x)\n",
    "    m, d = x.shape\n",
    "    a = softmax(x)\n",
    "    tensor1 = np.einsum('ij,ik->ijk', a, a)\n",
    "    tensor2 = np.einsum('ij,jk->ijk', a, np.eye(d, d))\n",
    "    return tensor2 - tensor1"
   ]
  },
  {
   "cell_type": "markdown",
   "metadata": {
    "id": "dyoKvpAf52Jh"
   },
   "source": [
    "We can demonstrate both these functions on the given dataset ($x$):\n",
    "\n",
    "```\n",
    "x = [2, 3, 5, 6]\n",
    "```\n",
    "\n",
    "The complete example is listed below."
   ]
  },
  {
   "cell_type": "code",
   "execution_count": null,
   "metadata": {
    "colab": {
     "base_uri": "https://localhost:8080/"
    },
    "id": "1ZrOwp7n52Jh",
    "outputId": "578c37a1-c5be-470f-b836-0d7bbc2c9328"
   },
   "outputs": [
    {
     "name": "stdout",
     "output_type": "stream",
     "text": [
      "x = [2 3 5 6]\n",
      "\n",
      "Softmax function output = [0.01275478 0.03467109 0.25618664 0.69638749]\n",
      "\n",
      "Sum of Softmax function = 1.0\n",
      "\n",
      "Derivative of Softmax function output:\n",
      "\n",
      " [[[ 0.0125921  -0.00044222 -0.0032676  -0.00888227]\n",
      "  [-0.00044222  0.03346901 -0.00888227 -0.02414451]\n",
      "  [-0.0032676  -0.00888227  0.19055505 -0.17840517]\n",
      "  [-0.00888227 -0.02414451 -0.17840517  0.21143195]]]\n"
     ]
    }
   ],
   "source": [
    "import numpy as np\n",
    "\n",
    "def softmax(x):\n",
    "    '''\n",
    "    Parameters\n",
    "    x: input matrix of shape (m, d) \n",
    "    where 'm' is the number of samples (or rows)\n",
    "    and 'd' is the number of features (or columns)\n",
    "    '''\n",
    "    z = np.array(x) - np.max(x, axis=-1, keepdims=True)\n",
    "    numerator = np.exp(z)\n",
    "    denominator = np.sum(numerator, axis=-1, keepdims=True)\n",
    "    return numerator / denominator\n",
    "\n",
    "def d_softmax(x):\n",
    "    if len(x.shape)==1:\n",
    "        x = np.array(x).reshape(1,-1)\n",
    "    else:\n",
    "        x = np.array(x)\n",
    "    m, d = x.shape\n",
    "    a = softmax(x)\n",
    "    tensor1 = np.einsum('ij,ik->ijk', a, a)\n",
    "    tensor2 = np.einsum('ij,jk->ijk', a, np.eye(d, d))\n",
    "    return tensor2 - tensor1\n",
    "\n",
    "x = np.array([2, 3, 5, 6])\n",
    "f = softmax(x)\n",
    "df = d_softmax(x)\n",
    "\n",
    "print(\"x =\", x)\n",
    "print(\"\\nSoftmax function output =\", f)\n",
    "print(\"\\nSum of Softmax function =\", np.sum(f))\n",
    "print(\"\\nDerivative of Softmax function output:\\n\\n\", df)"
   ]
  },
  {
   "cell_type": "markdown",
   "metadata": {
    "id": "2deDVXwU-vki"
   },
   "source": [
    "If we observe the function output for the input value $6$ we are getting the highest probability. This is what we can expect from the softmax function. Later in classification task, we can use the highest probability value for predicting the target class for the given input features."
   ]
  },
  {
   "cell_type": "markdown",
   "metadata": {
    "id": "M0I73pm_AsEj"
   },
   "source": [
    "### Activation class\n",
    "\n",
    "Lastly, we will be clubbing all of these functions together in a python class *Activation*.\n",
    "\n",
    "This class constructor **init** has the following parameter: *activation_type* (which is the type of activation we want, default='sigmoid')\n",
    "\n",
    "This class also has a **getter** function for both (activation and its derivative) as *get_activation(x)* and *get_d_activation(x)* respectively \n",
    "\n",
    "We will be calling the same to calculate the activation of the input $x$"
   ]
  },
  {
   "cell_type": "code",
   "execution_count": null,
   "metadata": {
    "id": "8kLBi0GNBQNe"
   },
   "outputs": [],
   "source": [
    "import numpy as np\n",
    "\n",
    "class Activation:\n",
    "\n",
    "    def __init__(self, activation_type='sigmoid'):\n",
    "        '''\n",
    "        Parameters\n",
    "        \n",
    "        activation_type: type of activation\n",
    "        available options are 'sigmoid', 'linear', 'tanh', 'softmax', 'prelu' and 'relu'\n",
    "        '''\n",
    "        self.activation_type = activation_type\n",
    "\n",
    "    def linear(self, x):\n",
    "        return x\n",
    "\n",
    "    def d_linear(self, x):\n",
    "        return np.ones(x.shape)\n",
    "\n",
    "    def sigmoid(self, x):\n",
    "        '''\n",
    "        Parameters\n",
    "        \n",
    "        x: input matrix of shape (m, d) \n",
    "        where 'm' is the number of samples (in case of batch gradient descent of size m)\n",
    "        and 'd' is the number of features\n",
    "        '''\n",
    "        return 1/(1+np.exp(-x))\n",
    "\n",
    "    def d_sigmoid(self, x):\n",
    "        return self.sigmoid(x) * (1-self.sigmoid(x))\n",
    "\n",
    "    def tanh(self, x):\n",
    "        return (np.exp(x) - np.exp(-x)) / (np.exp(x) + np.exp(-x))\n",
    "\n",
    "    def d_tanh(self, x):\n",
    "        return 1-(self.tanh(x))**2\n",
    "\n",
    "    def ReLU(self, x):\n",
    "        return x * (x > 0)\n",
    "\n",
    "    def d_ReLU(self, x):\n",
    "        return (x>0)*np.ones(x.shape)\n",
    "\n",
    "    def PReLU(self, x, alpha=0.2):\n",
    "        '''\n",
    "        Parameters\n",
    "        alpha: slope parameter (𝛼)\n",
    "\n",
    "        x: input matrix of shape (m, d) \n",
    "        where 'm' is the number of samples (or rows)\n",
    "        and 'd' is the number of features (or columns)\n",
    "        '''\n",
    "        return np.where(x > 0, x, alpha*x) \n",
    "\n",
    "    def d_PReLU(self, x, alpha=0.2):\n",
    "        return np.where(x > 0, 1, alpha) \n",
    "\n",
    "    def softmax(self, x):\n",
    "        z = x - np.max(x, axis=-1, keepdims=True)\n",
    "        numerator = np.exp(z)\n",
    "        denominator = np.sum(numerator, axis=-1, keepdims=True)\n",
    "        softmax = numerator / denominator\n",
    "        return softmax\n",
    "\n",
    "    def d_softmax(self, x):\n",
    "        if len(x.shape)==1:\n",
    "            x = np.array(x).reshape(1,-1)\n",
    "        else:\n",
    "            x = np.array(x)\n",
    "        m, d = x.shape\n",
    "        a = self.softmax(x)\n",
    "        tensor1 = np.einsum('ij,ik->ijk', a, a)\n",
    "        tensor2 = np.einsum('ij,jk->ijk', a, np.eye(d, d))\n",
    "        return tensor2 - tensor1\n",
    "\n",
    "    def get_activation(self, x):\n",
    "        if self.activation_type == 'sigmoid':\n",
    "            return self.sigmoid(x)\n",
    "        elif self.activation_type == 'tanh':\n",
    "            return self.tanh(x)\n",
    "        elif self.activation_type == 'relu':\n",
    "            return self.ReLU(x)\n",
    "        elif self.activation_type == 'linear':\n",
    "            return self.linear(x)\n",
    "        elif self.activation_type == 'prelu':\n",
    "            return self.PReLU(x)\n",
    "        elif self.activation_type == 'softmax':\n",
    "            return self.softmax(x)\n",
    "        else:\n",
    "            raise ValueError(\"Valid Activations are only 'sigmoid', 'linear', 'tanh' 'softmax', 'prelu' and 'relu'\")\n",
    "\n",
    "    def get_d_activation(self, x):\n",
    "        if self.activation_type == 'sigmoid':\n",
    "            return self.d_sigmoid(x)\n",
    "        elif self.activation_type == 'tanh':\n",
    "            return self.d_tanh(x)\n",
    "        elif self.activation_type == 'relu':\n",
    "            return self.d_ReLU(x)\n",
    "        elif self.activation_type == 'linear':\n",
    "            return self.d_linear(x)\n",
    "        elif self.activation_type == 'prelu':\n",
    "            return self.d_PReLU(x)\n",
    "        elif self.activation_type == 'softmax':\n",
    "            return self.d_softmax(x)\n",
    "        else:\n",
    "            raise ValueError(\"Valid Activations are only 'sigmoid', 'linear', 'tanh', 'softmax', 'prelu' and 'relu'\")"
   ]
  },
  {
   "cell_type": "markdown",
   "metadata": {
    "id": "ZvPTZEUrFu0E"
   },
   "source": [
    "#### Validating our Activation class\n",
    "\n",
    "we will use *activation_type='tanh'* and plot the tanh and its dervative on the same graph"
   ]
  },
  {
   "cell_type": "code",
   "execution_count": null,
   "metadata": {
    "colab": {
     "base_uri": "https://localhost:8080/",
     "height": 279
    },
    "id": "zGiOmZ5BB9rx",
    "outputId": "35839b70-7cf3-4c4a-96f4-529c4d82ef42"
   },
   "outputs": [
    {
     "data": {
      "image/png": "[encoded data removed]",
      "text/plain": [
       "<Figure size 432x288 with 1 Axes>"
      ]
     },
     "metadata": {
      "filenames": {
       "image/png": "/Users/pratyushkhandelwal/Documents/dlbook/_build/jupyter_execute/content/multilayer_perceptrons/activation_51_0.png"
      },
      "needs_background": "light"
     },
     "output_type": "display_data"
    }
   ],
   "source": [
    "import matplotlib.pyplot as plt\n",
    "import numpy as np\n",
    "\n",
    "# available options are 'sigmoid', 'linear', 'tanh', 'softmax', 'prelu' and 'relu'\n",
    "activation_type = 'tanh'\n",
    "\n",
    "# defining a class object\n",
    "activation = Activation(activation_type=activation_type)\n",
    "\n",
    "# x values\n",
    "x = np.linspace(-5,5,1000)\n",
    "\n",
    "# calling getter method to get the activation function value (and its derivative)\n",
    "f = activation.get_activation(x)\n",
    "df = activation.get_d_activation(x)\n",
    "\n",
    "# Plotting\n",
    "plt.plot(x, f, label=activation_type, color='k')\n",
    "plt.plot(x, df, label='Derivative of ' + activation_type, color='r')\n",
    "plt.legend()\n",
    "plt.xlabel('x')\n",
    "plt.grid()\n",
    "plt.show()"
   ]
  }
 ],
 "metadata": {
  "colab": {
   "provenance": []
  },
  "kernelspec": {
   "display_name": "Python 3 (ipykernel)",
   "language": "python",
   "name": "python3"
  },
  "language_info": {
   "codemirror_mode": {
    "name": "ipython",
    "version": 3
   },
   "file_extension": ".py",
   "mimetype": "text/x-python",
   "name": "python",
   "nbconvert_exporter": "python",
   "pygments_lexer": "ipython3",
   "version": "3.10.2"
  }
 },
 "nbformat": 4,
 "nbformat_minor": 4
}