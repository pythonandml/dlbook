{
 "cells": [
  {
   "cell_type": "markdown",
   "metadata": {
    "id": "Rgf_eQ2EO9q3"
   },
   "source": [
    "# 4.3. Contextual Word Embeddings\n",
    "\n",
    "In order to understand what word embeddings are, why do we need it and what are traditional word embeddings, please visit [this page](https://pythonandml.github.io/dlbook/content/word_embeddings/traditional_word_embeddings.html) (link to the previous chapter). \n",
    "\n",
    "As discussed in [static word embedding](https://pythonandml.github.io/dlbook/content/word_embeddings/static_word_embeddings.html) (link to previous chapter), \n",
    "\n",
    "Consider the two sentences:\n",
    "\n",
    "1. I will show you a valid **point** of reference and talk to the **point**.\n",
    "\n",
    "2. Where have you placed the **point**.\n",
    "\n",
    "> Now, for the [static word embeddings](https://pythonandml.github.io/dlbook/content/word_embeddings/static_word_embeddings.html) (link to previous chapter) from a pre-trained embeddings such as [Word2Vec](https://pythonandml.github.io/dlbook/content/word_embeddings/word2vec.html) (link to previous chapter), the embeddings for the word **point** is same for both of its occurrences in example-1 and also the same for the word **point** in example-2. All three occurrences has same embeddings.\n",
    "\n",
    "These are known as **Polysemous words** where the word use (e.g., syntax and\n",
    "semantics) depends on its `context`. So, why not learn the\n",
    "representations for each word in its context?\n",
    "\n",
    "![](images/point_contextual.png)\n",
    "\n",
    "Therefore the concept of `Contextualized Word Embeddings` came into the picture, which returns different embeddings for the same word depending on the words around it — its embeddings are **context-sensitive**. \n",
    "\n",
    "It would actually return different answers for **point** in both of these examples because it would recognize that the word is being used in different contexts. Let us explore further different types of **contextualized word embeddings**.\n",
    "\n",
    "1. [ELMo](https://pythonandml.github.io/dlbook/content/word_embeddings/elmo.html)\n",
    "\n",
    "2. [BERT](https://pythonandml.github.io/dlbook/content/word_embeddings/bert.html)\n",
    "\n",
    "\n"
   ]
  }
 ],
 "metadata": {
  "colab": {
   "provenance": []
  },
  "kernelspec": {
   "display_name": "Python 3 (ipykernel)",
   "language": "python",
   "name": "python3"
  },
  "language_info": {
   "codemirror_mode": {
    "name": "ipython",
    "version": 3
   },
   "file_extension": ".py",
   "mimetype": "text/x-python",
   "name": "python",
   "nbconvert_exporter": "python",
   "pygments_lexer": "ipython3",
   "version": "3.10.2"
  },
  "widgets": {
   "application/vnd.jupyter.widget-state+json": {
    "state": {},
    "version_major": 2,
    "version_minor": 0
   }
  }
 },
 "nbformat": 4,
 "nbformat_minor": 4
}
