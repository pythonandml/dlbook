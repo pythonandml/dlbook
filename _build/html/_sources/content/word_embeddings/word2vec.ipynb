{
 "cells": [
  {
   "cell_type": "markdown",
   "metadata": {
    "id": "n8UgSgbxnJ4a"
   },
   "source": [
    "# 4.2.1. Word2Vec\n",
    "\n",
    "**Word2Vec** is a prediction-based method for forming word embeddings. It is a shallow two-layered neural network that is able to predict semantics and similarities between the words.\n",
    "\n",
    "The main idea is to use a classifier to predict which words appear in the\n",
    "context of (i.e. near) a `target word` (or vice versa). Words that appear in similar contexts will have very similar vector representations.\n",
    "\n",
    "**Variants of Word2Vec:** Word2Vec is a combination of two different models – `CBOW (Continuous Bag of Words)` and `Skip-gram`.\n",
    "\n",
    "### Defining Corpus\n",
    "\n",
    "For illustration purpose, let's assume that the entire corpus is composed of the **English pangram** (a sentence that contains all the letters of the alphabet) \n",
    "\n",
    "> the quick brown fox jumps over the lazy dog \n",
    "\n",
    "To make it simple I have chosen a sentence without capitalization and punctuation. There are $9$ words $(T=9)$, and $8$ as vocabulary $V$ (set of unique words) size $(|V|=8)$.\n",
    "\n",
    "```{note}\n",
    "Note that in real life, the corpus is much bigger than just one sentence.\n",
    "```\n",
    "\n",
    "### CBOW (Continuous Bag of Words)\n",
    "\n",
    "In this method, given the surrounding context words based on a given `window_size`, we predict the target word. That means we will be predicting next word for a given word (or sequence of words).\n",
    "\n",
    "**Construct the Training examples**\n",
    "\n",
    "Now let’s construct our training examples, scanning through the text with a window (`window_size=3`) will prepare a context word and a target word, as follows:\n",
    "\n",
    "![](images/cbow.png)\n",
    "\n",
    "For example, for **context word** `\"the\"` and `\"brown\"` the **target word** will be `\"quick\"`.\n",
    "\n",
    "Now these multiple context words need to be converted into one word/vector so that we can feed these into [neural network model](https://pythonandml.github.io/dlbook/content/multilayer_perceptrons/terminologies_part_1.html). To do this we will just take **mean** of those multiple context words (one-hot-encoded vector).\n",
    "\n",
    "![](images/cbow_nn.pbm)\n",
    "\n",
    "[Image Source](https://www.researchgate.net/figure/Architecture-of-Word2Vec-with-CBOW-technique_fig1_322709818)\n",
    "\n",
    "After the model is trained and the weights are updated, each column of the weights for the output matrix are the required word embeddings corresponding to each word in the vocabulary $V$.\n",
    "\n",
    "That is the word embeddings are $N$-dimensional and this $N$ is nothing but the number of neurons in the hidden layer!\n",
    "\n",
    "### Skip Gram\n",
    "\n",
    "In this model, we use the target word (whose vector representation we want to generate) to predict the context (generated based on a given `window_size`) and in the process, we produce the representations.\n",
    "\n",
    "> It is the complete opposite of the CBOW model.\n",
    "\n",
    "![](images/skipgram.png)\n",
    "\n",
    "We input the `target word` into the network. The model outputs $C$ probability distributions. What does this mean?\n",
    "\n",
    "For each context position, we get $C$ probability distributions of $V$ probabilities, one for each word where the above model takes $C$ context words into the picture.\n",
    "\n",
    "> In both the cases, the network uses back-propagation to learn. Detailed math can be found [here](https://pythonandml.github.io/dlbook/content/multilayer_perceptrons/backpropagation.html).\n",
    "\n",
    "### Analogy\n",
    "\n",
    "These embeddings capture relational meaning! The classical example of neural word embeddings:\n",
    "\n",
    "![](images/semantic_analogy.gif)\n",
    "\n",
    "> vector(**king**) - vector(**man**) + vector(**woman**) ~ vector(**queen**)\n",
    "\n",
    "![](images/king_queen.png)\n",
    "\n",
    "The similar direction of the blue arrows indicates similar relational meaning.\n",
    "\n",
    "### Word2Vec model from python genism library\n",
    "\n",
    "> Gensim is a Python library for topic modelling, document indexing and similarity retrieval with large corpora. Target audience is the natural language processing (NLP) and information retrieval (IR) community.\n",
    "\n",
    "Let us use pre-trained Word2Vec model from genism library in order to print the most similar words to **New York** from vocabulary of pretrained models."
   ]
  },
  {
   "cell_type": "markdown",
   "metadata": {
    "id": "TmnJjRuhHF9Q"
   },
   "source": [
    "#### Install the latest version of gensim"
   ]
  },
  {
   "cell_type": "code",
   "execution_count": 1,
   "metadata": {
    "id": "fW2G4JbiHUDD"
   },
   "outputs": [],
   "source": [
    "!pip install gensim"
   ]
  },
  {
   "cell_type": "markdown",
   "metadata": {
    "id": "Kslv1ZSnIYj6"
   },
   "source": [
    "#### Import essential libraries\n",
    "\n",
    "> **Note:** The trained word vectors are stored in a `KeyedVectors` instance, as model.wv"
   ]
  },
  {
   "cell_type": "code",
   "execution_count": 2,
   "metadata": {
    "id": "Y61Q5W_PHFSz"
   },
   "outputs": [],
   "source": [
    "import gensim\n",
    "import gensim.downloader as api\n",
    "from gensim.models.keyedvectors import KeyedVectors"
   ]
  },
  {
   "cell_type": "markdown",
   "metadata": {
    "id": "9gzoSy-LIsaf"
   },
   "source": [
    "#### Load pretrained model\n",
    "\n",
    "Use gensim to load a `word2vec` model pretrained on google news and perform some simple actions with the word vectors ($300$ represents the dimension of the word vectors)."
   ]
  },
  {
   "cell_type": "code",
   "execution_count": 3,
   "metadata": {
    "colab": {
     "base_uri": "https://localhost:8080/"
    },
    "id": "cLIDK0_KIpka",
    "outputId": "48a1a5dd-28a0-42c0-9550-034033715544"
   },
   "outputs": [
    {
     "name": "stdout",
     "output_type": "stream",
     "text": [
      "[==================================================] 100.0% 1662.8/1662.8MB downloaded\n"
     ]
    }
   ],
   "source": [
    "model = api.load(\"word2vec-google-news-300\")"
   ]
  },
  {
   "cell_type": "markdown",
   "metadata": {
    "id": "hXXyzur1KUm_"
   },
   "source": [
    "#### Save the Word2Vec model"
   ]
  },
  {
   "cell_type": "code",
   "execution_count": 5,
   "metadata": {
    "id": "IEg0MCcQJ72T"
   },
   "outputs": [],
   "source": [
    "model.save_word2vec_format('word2vec.bin', binary=True)"
   ]
  },
  {
   "cell_type": "markdown",
   "metadata": {
    "id": "d1EvgVvdKus6"
   },
   "source": [
    "#### Load the Word2Vec model \n"
   ]
  },
  {
   "cell_type": "code",
   "execution_count": 6,
   "metadata": {
    "id": "JK3Yd419Kxib"
   },
   "outputs": [],
   "source": [
    "model = KeyedVectors.load_word2vec_format('word2vec.bin', binary=True)"
   ]
  },
  {
   "cell_type": "markdown",
   "metadata": {
    "id": "EDXDg6eJTwHQ"
   },
   "source": [
    "#### Printing the most similar words to New York from vocabulary of pretrained model"
   ]
  },
  {
   "cell_type": "code",
   "execution_count": 9,
   "metadata": {
    "colab": {
     "base_uri": "https://localhost:8080/"
    },
    "id": "cykUGq9MTzPx",
    "outputId": "a1cb8d40-4191-41e3-e227-8195547df41a"
   },
   "outputs": [
    {
     "data": {
      "text/plain": [
       "[('NewYork', 0.7444177865982056),\n",
       " ('Manhattan', 0.6598774194717407),\n",
       " ('theNew_York', 0.6500560641288757),\n",
       " ('NY', 0.6273693442344666),\n",
       " ('Brooklyn', 0.6272951364517212),\n",
       " ('Long_Island', 0.626175582408905),\n",
       " ('NYC', 0.6110411286354065),\n",
       " ('inNew_York', 0.608241617679596),\n",
       " ('upstate', 0.604249119758606),\n",
       " ('RBI_ARodriguez', 0.6038434505462646)]"
      ]
     },
     "execution_count": 9,
     "metadata": {},
     "output_type": "execute_result"
    }
   ],
   "source": [
    "model.most_similar('New_York')"
   ]
  },
  {
   "cell_type": "markdown",
   "metadata": {
    "id": "QbnUQ-f0UF4f"
   },
   "source": [
    "#### [Cosine similarity](https://pythonandml.github.io/dlbook/content/word_embeddings/static_word_embeddings.html) between `king - man + woman` and `queen`"
   ]
  },
  {
   "cell_type": "code",
   "execution_count": 17,
   "metadata": {
    "colab": {
     "base_uri": "https://localhost:8080/"
    },
    "id": "nXqDuuaKWrD7",
    "outputId": "22977f90-eded-4614-8f29-c684aab806cc"
   },
   "outputs": [
    {
     "name": "stdout",
     "output_type": "stream",
     "text": [
      "Cosine Similarity between 'king - man + woman' and 'queen' = 0.7300518\n"
     ]
    }
   ],
   "source": [
    "from sklearn.metrics.pairwise import cosine_similarity\n",
    "\n",
    "lhs = (model['king'] - model['man'] + model['woman']).reshape(1,-1)\n",
    "rhs = model['queen'].reshape(1,-1)\n",
    "\n",
    "print(\"Cosine Similarity between 'king - man + woman' and 'queen' =\", cosine_similarity(lhs, rhs)[0,0])"
   ]
  },
  {
   "cell_type": "markdown",
   "metadata": {
    "id": "3xhJqZPXYh5K"
   },
   "source": [
    "We have a very high similarity score (as expected)!\n",
    "\n",
    "**Below is one interesting visualisation of word2vec**\n",
    "\n",
    "![](images/word2vec_apple.webp)\n",
    "\n",
    "[Image Source](https://www.analyticsvidhya.com/blog/2017/06/word-embeddings-count-word2veec/)\n",
    "\n",
    "The above image is a `t-SNE representation` of word vectors in 2 dimension and you can see that **two contexts of apple** have been captured. *One is a fruit and the other company*.\n",
    "\n",
    "The above explanation is a very basic one just to make you familiar with how `Word2vec` works. But there’s a lot more to it. For example, to make the algorithm computationally more efficient, methods like **Hierarchical Softmax** and **Skip-Gram Negative Sampling** are used. You can read about them in these beautiful posts ([1](https://aegis4048.github.io/optimize_computational_efficiency_of_skip-gram_with_negative_sampling) and [2](https://aegis4048.github.io/demystifying_neural_network_in_skip_gram_language_modeling#weight_matrix), links to an external site)."
   ]
  }
 ],
 "metadata": {
  "colab": {
   "provenance": []
  },
  "kernelspec": {
   "display_name": "Python 3 (ipykernel)",
   "language": "python",
   "name": "python3"
  },
  "language_info": {
   "codemirror_mode": {
    "name": "ipython",
    "version": 3
   },
   "file_extension": ".py",
   "mimetype": "text/x-python",
   "name": "python",
   "nbconvert_exporter": "python",
   "pygments_lexer": "ipython3",
   "version": "3.10.2"
  },
  "widgets": {
   "application/vnd.jupyter.widget-state+json": {
    "state": {},
    "version_major": 2,
    "version_minor": 0
   }
  }
 },
 "nbformat": 4,
 "nbformat_minor": 4
}
