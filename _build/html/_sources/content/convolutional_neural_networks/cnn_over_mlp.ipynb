{
 "cells": [
  {
   "cell_type": "markdown",
   "id": "bdb944c3-c735-41ac-86dc-efb1946e38fe",
   "metadata": {
    "id": "bdb944c3-c735-41ac-86dc-efb1946e38fe"
   },
   "source": [
    "# 3.1. Convolutional Neural Networks over MLP\n",
    "\n",
    "**Convolutional Neural Networks** (ConvNets or CNNs in short) are a subset of Neural Networks that have proven very effective in areas such as `image recognition and classification` like image below shows an example of CNN being used for recognizing everyday objects, humans and animals.\n",
    "\n",
    "![](images/image_recognition.png)\n",
    "\n",
    "In order to understand why Convolutional Neural Networks were required when we already had MLP models (which can represent almost any function in real world), we first have to understand how image data is represented.\n",
    "\n",
    "#### Image data\n",
    "\n",
    "Image data is represented as a two-dimensional grid of pixels, be it a grayscale image (black and white) or a colored image. To keep it simple, let’s take a small black and white image of an **8**, with square dimensions of 28 pixels ([source](https://blog.ovhcloud.com/deep-learning-explained-to-my-8-year-old-daughter/)).\n",
    "\n",
    "![](images/handwritten_8.jpeg)\n",
    "\n",
    "An image from a standard digital camera will have three channels – red, green and blue (**RGB**) – one can imagine those as three 2d-matrices stacked over each other (one for each color), each having pixel values in the range 0 to 255 (check [figure]() below). Each such number corresponds to the brightness of a single pixel. In black-and-white images we only need one 2D matrix instead of three 2D matrices.\n",
    "\n",
    "![](images/rgb_pixels.jpeg)\n",
    "\n",
    "Till now, when dealing with MLP models, we have not considered this rich structure of the image data as input and we have considered them just as a 1D flat vector. This way we broke any spatial relationship that might exist between different pixels which is truly inappropriate.\n",
    "\n",
    "So, in order to solve this problem CNN's were developed. The primary purpose of Convolution in case of a CNN model is to **extract complex features from the input image**. \n",
    "\n",
    "Also, later we will see that the number of trainable parameters required to train a same set of images reduce drastically in case of `CNNs` as compared to the `MLP models`. This is also another advantage of CNNs over MLP models. \n",
    "\n",
    "```{note}\n",
    "Convolution preserves the spatial relationship between pixels by learning image features using small squares of input data. \n",
    "```\n",
    "\n",
    "We will now go into the mathematical details of Convolution and will try to understand how it works over images in the upcoming sections."
   ]
  }
 ],
 "metadata": {
  "colab": {
   "provenance": []
  },
  "kernelspec": {
   "display_name": "Python 3 (ipykernel)",
   "language": "python",
   "name": "python3"
  },
  "language_info": {
   "codemirror_mode": {
    "name": "ipython",
    "version": 3
   },
   "file_extension": ".py",
   "mimetype": "text/x-python",
   "name": "python",
   "nbconvert_exporter": "python",
   "pygments_lexer": "ipython3",
   "version": "3.10.2"
  },
  "widgets": {
   "application/vnd.jupyter.widget-state+json": {
    "state": {},
    "version_major": 2,
    "version_minor": 0
   }
  }
 },
 "nbformat": 4,
 "nbformat_minor": 5
}
