{
 "cells": [
  {
   "cell_type": "markdown",
   "metadata": {
    "id": "Do3y-wuumNFu"
   },
   "source": [
    "# 2.9. Regularization\n",
    "\n",
    "![](images/regularization.png)"
   ]
  },
  {
   "cell_type": "markdown",
   "metadata": {
    "id": "BwbV-qeTmhgf"
   },
   "source": [
    "#### Bias - Variance\n",
    "\n",
    "Whenever we discuss model prediction, it’s important to understand prediction errors (bias and variance). There is a tradeoff between a model’s ability to minimize bias and variance. The model performance becomes `poor` in the case where we find either too **high bias** or too **high variance**. \n",
    "\n",
    "**What is bias?**\n",
    "\n",
    "Bias is the difference between the average prediction of our model and the correct value which we are trying to predict.\n",
    "\n",
    "**What is variance?**\n",
    "\n",
    "Variance is the variability of model prediction for a given data point or a value which tells us spread of our data.\n",
    "\n",
    "#### High Bias\n",
    "\n",
    "The case of `high bias` occurs when both the training error and validation error are high and in such case, the learning of the data doesn’t take place for the models and its predictions therefore becomes poor. This is also called **under-fitting**.\n",
    "\n",
    "#### High Variance\n",
    "\n",
    "In the case of `high variance`, the training error and validation error diverge (that it the the training error starts to decrease whereas the validation error starts increasing). Such case leads to **over fitting** of the data where the model learns too much from the training examples whereas it isn't able to generalize from the training data to new data.\n",
    "\n",
    "#### Regularization helps in reducing overfitting\n",
    "\n",
    "Now, in order to avoid this over-fitting, feeding more data during training can help improve the model's performance. Then addition of noise to the input data might also help in generalizing the dataset. We can then add regularization parameter to avoid this situation.\n",
    "\n",
    "So, regularization is an optimization technique that prevents overfitting.\n",
    "\n",
    "**$L_2$ regularization**\n",
    "\n",
    "It consists of adding a term in the cost function $J(W,b)$ to minimize as follows:\n",
    "\n",
    "$$\n",
    "J(W,b) := J(W,b) + \\frac{\\lambda}{2} \\sum_{l} \\left \\| W_l \\right \\|_F^2\n",
    "$$\n",
    "\n",
    "where $\\left \\| . \\right \\|_F$ is the **Frobenius norm** and $l$ is the $l^{th}$ layer.\n",
    "\n",
    "So, the partial derivative of $J(W,b)$ with respect to $W_l$ will then be updated as follows:\n",
    "\n",
    "$$\n",
    "\\frac{\\partial J(W,b)}{\\partial W_l} := \\frac{\\partial J(W,b)}{\\partial W_l} + \\lambda W_l\n",
    "$$\n",
    "\n",
    "> **Note**: The partial derivative of $J(W,b)$ with respect to bias $b_l$ will not be effected.\n",
    "\n",
    "**$L_1$ regularization**\n",
    "\n",
    "It consists of adding a term in the cost function $J(W,b)$ to minimize as follows:\n",
    "\n",
    "$$\n",
    "J(W,b) := J(W,b) + \\frac{\\lambda}{2} \\sum_{l} \\sum_{i} \\sum_{j} \\left | W_l (i,j) \\right |\n",
    "$$\n",
    "\n",
    "So, the partial derivative of $J(W,b)$ with respect to $W_l$ will then be updated as follows:\n",
    "\n",
    "$$\n",
    "\\frac{\\partial J(W,b)}{\\partial W_l} := \\frac{\\partial J(W,b)}{\\partial W_l} + \\lambda \\hspace{0.1cm} \\text{sign}(W_l)\n",
    "$$\n",
    "\n",
    "where\n",
    "\n",
    "$$\n",
    "\\text{sign}(W_l) = \\left\\{\\begin{matrix}\n",
    "1 & W_l>0\\\\ \n",
    "-1 & W_l<0\n",
    "\\end{matrix}\\right.\n",
    "$$\n",
    "\n",
    "> **Note**: The partial derivative of $J(W,b)$ with respect to bias $b_l$ will not be effected.\n",
    "\n",
    "**Early stopping**\n",
    "\n",
    "This technique is quite simple and consists of stopping the iterations around the area when training loss​ and validation loss​ start diverging. As in the above image, the training must be stopped near 2000 iterations.\n"
   ]
  }
 ],
 "metadata": {
  "colab": {
   "provenance": []
  },
  "kernelspec": {
   "display_name": "Python 3 (ipykernel)",
   "language": "python",
   "name": "python3"
  },
  "language_info": {
   "codemirror_mode": {
    "name": "ipython",
    "version": 3
   },
   "file_extension": ".py",
   "mimetype": "text/x-python",
   "name": "python",
   "nbconvert_exporter": "python",
   "pygments_lexer": "ipython3",
   "version": "3.10.2"
  }
 },
 "nbformat": 4,
 "nbformat_minor": 4
}
