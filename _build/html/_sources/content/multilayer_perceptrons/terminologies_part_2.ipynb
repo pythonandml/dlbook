{
 "cells": [
  {
   "cell_type": "markdown",
   "metadata": {
    "id": "ESxVhKVEmV5p"
   },
   "source": [
    "# 2.7. Terminologies Part-2\n",
    "\n",
    "#### Update law\n",
    "\n",
    "A short summary on gradient descent to help us better understand the terms introduced in the further sections.\n",
    "\n",
    "> Gradient descent (GD) is an `iterative first-order optimisation algorithm` used to find a local minimum/maximum of a given function. This method is commonly used in machine learning (ML) and deep learning(DL) to minimise a cost/loss function.\n",
    "\n",
    "It iteratively calculates the next value of a variable ($p_{n+1}$) using gradient of that variable ($\\frac{\\partial J}{\\partial p_n}$) at the current iteration, scales it (by a learning rate, $\\eta$) and subtracts obtained value from the current position (also called as taking a step). It subtracts the value because we want to minimise the function (to maximise it would be adding). This process can be written as:\n",
    "\n",
    "$$\n",
    "p_{n+1} = p_n - \\eta \\frac{\\partial J}{\\partial p_n}\n",
    "$$\n",
    "\n",
    "There’s an important parameter $\\eta$ which *scales* the gradient and thus controls the step size. In machine and deep learning, it is called **learning rate** and have a strong influence on performance.\n",
    "\n"
   ]
  },
  {
   "cell_type": "markdown",
   "metadata": {
    "id": "7pZYAzZivK94"
   },
   "source": [
    "![](images/cost.gif)"
   ]
  },
  {
   "cell_type": "markdown",
   "metadata": {
    "id": "I7n4eFeHvdB2"
   },
   "source": [
    "As you can see on the left half of the above gif ([source](https://medium.com/onfido-tech/machine-learning-101-be2e0a86c96a)), initially the steps are bigger that means the gradient is `higher` and as the point goes down the gradient becomes more `smaller` (until it reaches `zero` which means our function is now minimised) and therefore we find the shorter size of steps. \n",
    "\n",
    "Also, we see that the **Cost Function is decreasing** or the cost is decreasing which means we are making more accurate predictions. "
   ]
  },
  {
   "cell_type": "markdown",
   "metadata": {
    "id": "5eQRx-FMzZMF"
   },
   "source": [
    "#### Epochs\n",
    "\n",
    "**One Epoch** is when an `ENTIRE dataset` is passed *forward and backward* through the neural network only `ONCE`.\n",
    "\n",
    "Since one epoch is too big to feed to the computer at once we divide it in several smaller batches. Generally, we train our network on more than one epoch.\n",
    "\n",
    "#### Batch Size\n",
    "\n",
    "Since we should not pass the entire dataset (big datasets) into the neural net at once, so we divide dataset into `Number of Batches`.\n",
    "\n",
    "Consider a simple example:\n",
    "\n",
    "Suppose we have $m=6$ samples (or rows) and 3 features (or columns, $d=3$) in our dataset $X$. Suppose, the batch size $B = 2$ is given to us.\n",
    "\n",
    "```\n",
    "X = [[8, 3, 5],\n",
    "     [1, 9, 9],\n",
    "     [2, 1, 0],\n",
    "     [2, 6, 9],\n",
    "     [6, 8, 2],\n",
    "     [9, 7, 6]]\n",
    "```\n",
    "\n",
    "Then we can divide $X$ into batches of size ($B=2$) as follows (3 batches, say $X_1$, $X_2$ and $X_3$ will be formed each of size 2):\n",
    "\n",
    "```\n",
    "X1 = [[8, 3, 5],\n",
    "     [1, 9, 9]]\n",
    "\n",
    "X2 = [[2, 1, 0],\n",
    "     [2, 6, 9]]\n",
    "\n",
    "X3 = [[6, 8, 2],\n",
    "     [9, 7, 6]]\n",
    "```\n",
    "\n",
    "Now suppose that instead of $m=6$ samples, we have $m=7$ samples:\n",
    "\n",
    "```\n",
    "X = [[8, 3, 5],\n",
    "     [1, 9, 9],\n",
    "     [2, 1, 0],\n",
    "     [2, 6, 9],\n",
    "     [6, 8, 2],\n",
    "     [9, 7, 6],\n",
    "     [6, 3, 7]]\n",
    "```\n",
    "\n",
    "Then we can divide $X$ into batches of size ($B=2$) as follows (4 batches, say $X_1$, $X_2$, $X_3$ and $X_4$ will be formed each of size 2 except the last one):\n",
    "\n",
    "```\n",
    "X1 = [[8, 3, 5],\n",
    "     [1, 9, 9]]\n",
    "\n",
    "X2 = [[2, 1, 0],\n",
    "     [2, 6, 9]]\n",
    "\n",
    "X3 = [[6, 8, 2],\n",
    "     [9, 7, 6]]\n",
    "\n",
    "X4 = [[6, 3, 7]]\n",
    "```\n",
    "\n",
    "This splitting into batches can be sequential (as shown in the above case, or it can be random as well; with or without replacement).\n",
    "\n",
    "So, number of batches ($N_b$) formed is:\n",
    "\n",
    "$$\n",
    "N_b = \\lceil \\frac{m}{B} \\rceil\n",
    "$$\n",
    "\n",
    "where $\\lceil x \\rceil$ is the ceiling function of $x$ that takes a real number $x$ as an input and returns the least integer greater than or equal to $x$.\n"
   ]
  },
  {
   "cell_type": "markdown",
   "metadata": {
    "id": "YufSL1788YRQ"
   },
   "source": [
    "#### Iterations\n",
    "\n",
    "The `number of batches` $N_b$ is equal to number of iterations for one epoch because in one epoch, we will be training that many batches. \n",
    "\n",
    "As evident from the above example, say for $m=7$, we have 4 batches, $X_1$, $X_2$, $X_3$ and $X_4$ which together constitute as $X$. So, training one entire epoch (on entire $X$) is same as training $X_1$, $X_2$, $X_3$ and $X_4$ (that is in one epoch we will be training 4 times which is same as $N_b$).\n",
    "\n",
    "So, for $E$ number of epochs, we will have $N_bE$ iterations."
   ]
  },
  {
   "cell_type": "markdown",
   "metadata": {
    "id": "9XMu6kIeCWD3"
   },
   "source": [
    "#### Parameters vs Hyperparameters\n",
    "\n",
    "**Parameters**, are the elements that we learn through the iterations and on which we apply backpropagation and update law: like weights and biases $W$ and $b$.\n",
    "\n",
    "**Hyperparameters** are all the other variables we define in our algorithm which can be tunned (unfortunaltely most of the times, manually) in order to improve the neural network such as:\n",
    "\n",
    "* Learning rate $\\eta$\n",
    "* Batch size $B$\n",
    "* Number of epochs $E$\n",
    "* Choice of [activation functions](https://pythonandml.github.io/dlbook/content/multilayer_perceptrons/activation.html) (link to previous chapter)\n",
    "* Number of layers $L$\n",
    "* Number of [neurons](https://pythonandml.github.io/dlbook/content/multilayer_perceptrons/perceptron.html#neuron) (link to previous chapter) in each layer\n",
    "\n"
   ]
  }
 ],
 "metadata": {
  "colab": {
   "provenance": []
  },
  "kernelspec": {
   "display_name": "Python 3 (ipykernel)",
   "language": "python",
   "name": "python3"
  },
  "language_info": {
   "codemirror_mode": {
    "name": "ipython",
    "version": 3
   },
   "file_extension": ".py",
   "mimetype": "text/x-python",
   "name": "python",
   "nbconvert_exporter": "python",
   "pygments_lexer": "ipython3",
   "version": "3.10.2"
  }
 },
 "nbformat": 4,
 "nbformat_minor": 4
}
