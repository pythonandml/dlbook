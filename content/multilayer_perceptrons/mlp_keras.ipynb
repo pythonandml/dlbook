{
 "cells": [
  {
   "cell_type": "markdown",
   "metadata": {
    "id": "MuPKbUxF6OD3"
   },
   "source": [
    "# 2.16. MLP model using Tensorflow - Keras\n",
    "\n",
    "After [Building Neural Network (Multi Layer Perceptron model) from scratch using Numpy in Python](https://pythonandml.github.io/dlbook/content/multilayer_perceptrons/neural_networks_mlp_scratch_best.html) (link to previous chapter), and after developing [MLP using Pytorch](https://pythonandml.github.io/dlbook/content/multilayer_perceptrons/mlp_pytorch.html) (link to previous chapter), we will finally develop the MLP model using Tensorflow - Keras.\n",
    "\n",
    "> **Note:** The MLP model we developed from scratch almost follows the way the models are developed in Keras. "
   ]
  },
  {
   "cell_type": "markdown",
   "metadata": {
    "id": "GpYlBH607Rxh"
   },
   "source": [
    "#### Import necessary libraries\n",
    "\n",
    "Here we import a `Dense` layer, an `Activation` layer and a `Dropout` layer. Then we will also import optimizers `Adam` and `RMSprop`.\n",
    "\n",
    "Then we finally import the `to_categorical` function which is nothing but one hot vector function."
   ]
  },
  {
   "cell_type": "code",
   "execution_count": null,
   "metadata": {
    "id": "yHrd_inL59ua"
   },
   "outputs": [],
   "source": [
    "import numpy as np\n",
    "import matplotlib.pyplot as plt # plotting library\n",
    "%matplotlib inline\n",
    "\n",
    "from keras.models import Sequential\n",
    "from keras.layers import Dense , Activation, Dropout\n",
    "from keras.optimizers import Adam ,RMSprop\n",
    "from keras.utils import to_categorical"
   ]
  },
  {
   "cell_type": "markdown",
   "metadata": {
    "id": "gLwjE8Ff9cyl"
   },
   "source": [
    "#### Data Loading and pre-processing"
   ]
  },
  {
   "cell_type": "markdown",
   "metadata": {
    "id": "MfzqOiw071DV"
   },
   "source": [
    "Next we import and load the **MNIST** dataset\n",
    "\n",
    "MNIST is a collection of handwritten digits ranging from the number 0 to 9.\n",
    "\n",
    "It has a training set of 60,000 images, and 10,000 test images that are classified into corresponding categories or labels."
   ]
  },
  {
   "cell_type": "code",
   "execution_count": null,
   "metadata": {
    "colab": {
     "base_uri": "https://localhost:8080/"
    },
    "id": "FyDjZD6T7vUU",
    "outputId": "3dcfef9f-d3d4-4897-c9ac-cdc9e7d2bdfe"
   },
   "outputs": [
    {
     "name": "stdout",
     "output_type": "stream",
     "text": [
      "Downloading data from https://storage.googleapis.com/tensorflow/tf-keras-datasets/mnist.npz\n",
      "11490434/11490434 [==============================] - 0s 0us/step\n"
     ]
    }
   ],
   "source": [
    "# import dataset\n",
    "from keras.datasets import mnist\n",
    "\n",
    "# load dataset\n",
    "(x_train, y_train), (x_test, y_test) = mnist.load_data()"
   ]
  },
  {
   "cell_type": "markdown",
   "metadata": {
    "id": "lj3Coubc8dAM"
   },
   "source": [
    "After loading the MNIST dataset, the number of labels is computed as:"
   ]
  },
  {
   "cell_type": "code",
   "execution_count": null,
   "metadata": {
    "id": "hFCRmARM76RT"
   },
   "outputs": [],
   "source": [
    "# compute the number of labels\n",
    "num_labels = len(np.unique(y_train))"
   ]
  },
  {
   "cell_type": "markdown",
   "metadata": {
    "id": "SJK9Rt3K8qVU"
   },
   "source": [
    "Now we will perform [One hot vector encoding](https://pythonandml.github.io/dlbook/content/preliminaries/data_preprocessing.html#one-hot-encoding) (link to previous chapter) on the target data"
   ]
  },
  {
   "cell_type": "code",
   "execution_count": null,
   "metadata": {
    "id": "VEaBBbWH8fqf"
   },
   "outputs": [],
   "source": [
    "# convert to one-hot vector\n",
    "y_train = to_categorical(y_train)\n",
    "y_test = to_categorical(y_test)"
   ]
  },
  {
   "cell_type": "markdown",
   "metadata": {
    "id": "uJ9qSRoQ9QXx"
   },
   "source": [
    "Let us define our `input_shape`"
   ]
  },
  {
   "cell_type": "code",
   "execution_count": null,
   "metadata": {
    "colab": {
     "base_uri": "https://localhost:8080/"
    },
    "id": "yOykPPDz9L5d",
    "outputId": "e545c685-2bf0-47de-c1a4-195406ff0d21"
   },
   "outputs": [
    {
     "data": {
      "text/plain": [
       "784"
      ]
     },
     "execution_count": 9,
     "metadata": {},
     "output_type": "execute_result"
    }
   ],
   "source": [
    "input_size = x_train.shape[1] * x_train.shape[1]\n",
    "input_size"
   ]
  },
  {
   "cell_type": "markdown",
   "metadata": {
    "id": "EwNClB6w9X6n"
   },
   "source": [
    "Now we will **resize** and **normalize** the data"
   ]
  },
  {
   "cell_type": "code",
   "execution_count": null,
   "metadata": {
    "id": "XX87sH2o9VS3"
   },
   "outputs": [],
   "source": [
    "# resize and normalize\n",
    "x_train = np.reshape(x_train, [-1, input_size])\n",
    "x_train = x_train.astype('float32') / 255\n",
    "x_test = np.reshape(x_test, [-1, input_size])\n",
    "x_test = x_test.astype('float32') / 255"
   ]
  },
  {
   "cell_type": "markdown",
   "metadata": {
    "id": "nZhnYrh-9kkg"
   },
   "source": [
    "Now, we will set the network parameters as follows:\n"
   ]
  },
  {
   "cell_type": "code",
   "execution_count": null,
   "metadata": {
    "id": "jjWtC_gZ9hVy"
   },
   "outputs": [],
   "source": [
    "# network parameters\n",
    "batch_size = 128\n",
    "hidden_units = 256\n",
    "dropout = 0.45"
   ]
  },
  {
   "cell_type": "markdown",
   "metadata": {
    "id": "MnYyB1Vx9qoh"
   },
   "source": [
    "#### Model architecture\n",
    "\n",
    "The next step is to design the model architecture. The proposed model is made of three MLP layers.\n",
    "\n",
    "In Keras, a Dense layer stands for the densely (fully) connected layer.\n",
    "\n",
    "Our model is a **3-layer MLP** with *ReLU and dropout* after each layer"
   ]
  },
  {
   "cell_type": "code",
   "execution_count": null,
   "metadata": {
    "id": "EpPPgiPe9n6k"
   },
   "outputs": [],
   "source": [
    "model = Sequential()\n",
    "model.add(Dense(hidden_units, input_dim=input_size))\n",
    "model.add(Activation('relu'))\n",
    "model.add(Dropout(dropout))\n",
    "model.add(Dense(hidden_units))\n",
    "model.add(Activation('relu'))\n",
    "model.add(Dropout(dropout))\n",
    "model.add(Dense(num_labels))\n",
    "model.add(Activation('softmax'))"
   ]
  },
  {
   "cell_type": "markdown",
   "metadata": {
    "id": "NxVye9mU-B1t"
   },
   "source": [
    "Keras library provides us summary() method to check the model description."
   ]
  },
  {
   "cell_type": "code",
   "execution_count": null,
   "metadata": {
    "colab": {
     "base_uri": "https://localhost:8080/"
    },
    "id": "j9nNpEtL99BB",
    "outputId": "3b013ada-e43f-45b2-ad74-fa70999ae3da"
   },
   "outputs": [
    {
     "name": "stdout",
     "output_type": "stream",
     "text": [
      "Model: \"sequential\"\n",
      "_________________________________________________________________\n",
      " Layer (type)                Output Shape              Param #   \n",
      "=================================================================\n",
      " dense (Dense)               (None, 256)               200960    \n",
      "                                                                 \n",
      " activation (Activation)     (None, 256)               0         \n",
      "                                                                 \n",
      " dropout (Dropout)           (None, 256)               0         \n",
      "                                                                 \n",
      " dense_1 (Dense)             (None, 256)               65792     \n",
      "                                                                 \n",
      " activation_1 (Activation)   (None, 256)               0         \n",
      "                                                                 \n",
      " dropout_1 (Dropout)         (None, 256)               0         \n",
      "                                                                 \n",
      " dense_2 (Dense)             (None, 10)                2570      \n",
      "                                                                 \n",
      " activation_2 (Activation)   (None, 10)                0         \n",
      "                                                                 \n",
      "=================================================================\n",
      "Total params: 269,322\n",
      "Trainable params: 269,322\n",
      "Non-trainable params: 0\n",
      "_________________________________________________________________\n"
     ]
    }
   ],
   "source": [
    "model.summary()"
   ]
  },
  {
   "cell_type": "markdown",
   "metadata": {
    "id": "Unk3Bmey-Qaz"
   },
   "source": [
    "#### Executing the MLP model using Keras \n",
    "\n",
    "This section comprises of \n",
    "\n",
    "* Compiling the model with the compile() method.\n",
    "\n",
    "* Training the model with fit() method.\n",
    "\n",
    "* Evaluating the model performance with evaluate() method."
   ]
  },
  {
   "cell_type": "markdown",
   "metadata": {
    "id": "e7rMtMIM-j4H"
   },
   "source": [
    "Compiling the model"
   ]
  },
  {
   "cell_type": "code",
   "execution_count": null,
   "metadata": {
    "id": "yIWQQ7q6-M38"
   },
   "outputs": [],
   "source": [
    "model.compile(loss='categorical_crossentropy', \n",
    "              optimizer='adam',\n",
    "              metrics=['accuracy'])"
   ]
  },
  {
   "cell_type": "markdown",
   "metadata": {
    "id": "lgjdRTk0-q0I"
   },
   "source": [
    "Training the model"
   ]
  },
  {
   "cell_type": "code",
   "execution_count": null,
   "metadata": {
    "colab": {
     "base_uri": "https://localhost:8080/"
    },
    "id": "KsfdM5u8-qez",
    "outputId": "4261fba6-7f06-45d2-d1a7-d3aac5f4cb77"
   },
   "outputs": [
    {
     "name": "stdout",
     "output_type": "stream",
     "text": [
      "Epoch 1/20\n",
      "469/469 [==============================] - 6s 10ms/step - loss: 0.4237 - accuracy: 0.8715\n",
      "Epoch 2/20\n",
      "469/469 [==============================] - 4s 9ms/step - loss: 0.1963 - accuracy: 0.9409\n",
      "Epoch 3/20\n",
      "469/469 [==============================] - 4s 9ms/step - loss: 0.1513 - accuracy: 0.9543\n",
      "Epoch 4/20\n",
      "469/469 [==============================] - 4s 9ms/step - loss: 0.1286 - accuracy: 0.9611\n",
      "Epoch 5/20\n",
      "469/469 [==============================] - 4s 9ms/step - loss: 0.1150 - accuracy: 0.9651\n",
      "Epoch 6/20\n",
      "469/469 [==============================] - 5s 10ms/step - loss: 0.1034 - accuracy: 0.9687\n",
      "Epoch 7/20\n",
      "469/469 [==============================] - 5s 12ms/step - loss: 0.0938 - accuracy: 0.9713\n",
      "Epoch 8/20\n",
      "469/469 [==============================] - 4s 9ms/step - loss: 0.0879 - accuracy: 0.9726\n",
      "Epoch 9/20\n",
      "469/469 [==============================] - 5s 11ms/step - loss: 0.0808 - accuracy: 0.9747\n",
      "Epoch 10/20\n",
      "469/469 [==============================] - 4s 9ms/step - loss: 0.0775 - accuracy: 0.9752\n",
      "Epoch 11/20\n",
      "469/469 [==============================] - 4s 9ms/step - loss: 0.0719 - accuracy: 0.9773\n",
      "Epoch 12/20\n",
      "469/469 [==============================] - 4s 9ms/step - loss: 0.0680 - accuracy: 0.9785\n",
      "Epoch 13/20\n",
      "469/469 [==============================] - 4s 9ms/step - loss: 0.0702 - accuracy: 0.9771\n",
      "Epoch 14/20\n",
      "469/469 [==============================] - 4s 9ms/step - loss: 0.0642 - accuracy: 0.9797\n",
      "Epoch 15/20\n",
      "469/469 [==============================] - 4s 9ms/step - loss: 0.0618 - accuracy: 0.9799\n",
      "Epoch 16/20\n",
      "469/469 [==============================] - 5s 10ms/step - loss: 0.0607 - accuracy: 0.9806\n",
      "Epoch 17/20\n",
      "469/469 [==============================] - 4s 10ms/step - loss: 0.0583 - accuracy: 0.9816\n",
      "Epoch 18/20\n",
      "469/469 [==============================] - 4s 10ms/step - loss: 0.0550 - accuracy: 0.9819\n",
      "Epoch 19/20\n",
      "469/469 [==============================] - 4s 9ms/step - loss: 0.0549 - accuracy: 0.9825\n",
      "Epoch 20/20\n",
      "469/469 [==============================] - 4s 9ms/step - loss: 0.0548 - accuracy: 0.9820\n"
     ]
    },
    {
     "data": {
      "text/plain": [
       "<keras.callbacks.History at 0x7f7f875dc4f0>"
      ]
     },
     "execution_count": 15,
     "metadata": {},
     "output_type": "execute_result"
    }
   ],
   "source": [
    "model.fit(x_train, y_train, epochs=20, batch_size=batch_size)"
   ]
  },
  {
   "cell_type": "markdown",
   "metadata": {
    "id": "2DierXBO-1NP"
   },
   "source": [
    "Evaluating model performance with evaluate() method "
   ]
  },
  {
   "cell_type": "code",
   "execution_count": null,
   "metadata": {
    "colab": {
     "base_uri": "https://localhost:8080/"
    },
    "id": "E4dOvkF3-uWS",
    "outputId": "0dd40374-2915-4fd2-973a-b8af2936e1b2"
   },
   "outputs": [
    {
     "name": "stdout",
     "output_type": "stream",
     "text": [
      "79/79 [==============================] - 0s 4ms/step - loss: 0.0666 - accuracy: 0.9818\n",
      "\n",
      "Test accuracy: 98.2%\n"
     ]
    }
   ],
   "source": [
    "loss, acc = model.evaluate(x_test, y_test, batch_size=batch_size)\n",
    "print(\"\\nTest accuracy: %.1f%%\" % (100.0 * acc))"
   ]
  },
  {
   "cell_type": "markdown",
   "metadata": {
    "id": "OlQYkhZq_HA1"
   },
   "source": [
    "We get the test accuracy of 98.2%. It is that simple!"
   ]
  }
 ],
 "metadata": {
  "colab": {
   "provenance": []
  },
  "kernelspec": {
   "display_name": "Python 3 (ipykernel)",
   "language": "python",
   "name": "python3"
  },
  "language_info": {
   "codemirror_mode": {
    "name": "ipython",
    "version": 3
   },
   "file_extension": ".py",
   "mimetype": "text/x-python",
   "name": "python",
   "nbconvert_exporter": "python",
   "pygments_lexer": "ipython3",
   "version": "3.10.2"
  }
 },
 "nbformat": 4,
 "nbformat_minor": 4
}
