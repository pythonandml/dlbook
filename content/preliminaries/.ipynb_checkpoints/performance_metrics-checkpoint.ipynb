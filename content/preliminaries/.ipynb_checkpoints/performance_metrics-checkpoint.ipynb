{
 "cells": [
  {
   "cell_type": "markdown",
   "metadata": {
    "id": "e7norM48HscI"
   },
   "source": [
    "# 1.2. Performance Metrics for ML and DL models\n",
    "\n",
    "### Why We require Evaluation Metrics?\n",
    "\n",
    "Any model in real world cannot have 100% efficiency otherwise the model is known as a biased model. Although it is necessary to obtain the accuracy on training data, it is also important to get a genuine and approximate result on unseen data otherwise Model is of no use.\n",
    "\n",
    "So to build and deploy a generalized model we require to Evaluate the model on different metrics which helps us to better optimize the performance, fine-tune it, and obtain a better result. So, let’s start exploring different Evaluation metrics.\n",
    "\n",
    "### A) Evaluation Metrics for Regression\n",
    "\n",
    "\n",
    "\n"
   ]
  },
  {
   "cell_type": "markdown",
   "metadata": {
    "id": "cVkG3RA_cnZP"
   },
   "source": [
    "Suppose we have the actual ($y$) and the predicted ($\\hat{y}$) values of the target variable $y$ (from any model) and we want to evaluate it using different metrics"
   ]
  },
  {
   "cell_type": "code",
   "execution_count": null,
   "metadata": {
    "id": "XrENAWCWMIFV"
   },
   "outputs": [],
   "source": [
    "actual = [1,2,3,4,5,6]\n",
    "predicted = [1,3,4,4,5,9]"
   ]
  },
  {
   "cell_type": "markdown",
   "metadata": {
    "id": "Lndvaa6sKBxp"
   },
   "source": [
    "#### 1) Mean Absolute Error (MAE)\n",
    "\n",
    "MAE is a very simple metric which calculates the absolute difference between actual and predicted values. Basically, sum all the errors and divide them by a total number of observations and this is MAE.\n",
    "\n",
    "![](images/mae.jpeg)"
   ]
  },
  {
   "cell_type": "markdown",
   "metadata": {
    "id": "ZGN1rnvDMbF_"
   },
   "source": [
    "**Advantages of MAE**\n",
    "\n",
    "*   The MAE you get is in the same unit as the output variable\n",
    "*   It is most Robust to outliers\n",
    "\n",
    "**Disadvantages of MAE**\n",
    "\n",
    "*   The graph of MAE is not differentiable so we have to apply various optimizers like Gradient descent\n",
    "\n",
    "\n"
   ]
  },
  {
   "cell_type": "code",
   "execution_count": null,
   "metadata": {
    "id": "7E8u1L6Z8w5W"
   },
   "outputs": [],
   "source": [
    "import numpy as np\n",
    "\n",
    "def mae(actual, predicted):\n",
    "    actual, predicted = np.array(actual), np.array(predicted)\n",
    "    return np.mean(np.abs(actual - predicted))"
   ]
  },
  {
   "cell_type": "code",
   "execution_count": null,
   "metadata": {
    "colab": {
     "base_uri": "https://localhost:8080/"
    },
    "id": "fG35UEwhMOLj",
    "outputId": "61b65073-174d-455a-d24e-643ca518d9c6"
   },
   "outputs": [
    {
     "name": "stdout",
     "output_type": "stream",
     "text": [
      "MAE = 0.833\n"
     ]
    }
   ],
   "source": [
    "print(\"MAE =\", round(mae(actual, predicted),3))"
   ]
  },
  {
   "cell_type": "markdown",
   "metadata": {
    "id": "AH9sXNXTPR_X"
   },
   "source": [
    "#### 2) Mean Absolute Percentage Error (MAPE)\n",
    "\n",
    "MAPE is the mean absolute percentage error, which is a relative measure that essentially scales MAE to be in percentage units instead of the variable’s units.\n",
    "\n",
    "![](images/mape.png)"
   ]
  },
  {
   "cell_type": "markdown",
   "metadata": {
    "id": "oUFEeLO5PR_m"
   },
   "source": [
    "**Advantages of MAPE**\n",
    "\n",
    "*   It is one of the most widely used measures of forecast accuracy, due to its advantages of **scale-independency** and **interpretability**.\n",
    "\n",
    "**Disadvantages of MAPE**\n",
    "\n",
    "*   It has the significant disadvantage that it produces infinite or undefined values for zero or close-to-zero actual values\n",
    "\n",
    "\n"
   ]
  },
  {
   "cell_type": "code",
   "execution_count": null,
   "metadata": {
    "id": "D4Ct-TEaPR_n"
   },
   "outputs": [],
   "source": [
    "import numpy as np\n",
    "\n",
    "def mape(actual, predicted):\n",
    "    actual, predicted = np.array(actual), np.array(predicted)\n",
    "    return np.mean(np.abs((actual - predicted)/actual))"
   ]
  },
  {
   "cell_type": "code",
   "execution_count": null,
   "metadata": {
    "colab": {
     "base_uri": "https://localhost:8080/"
    },
    "id": "mUSOnpbXPR_n",
    "outputId": "c216d3f5-8416-4da5-b229-24d1cac4f087"
   },
   "outputs": [
    {
     "name": "stdout",
     "output_type": "stream",
     "text": [
      "MAPE = 0.222\n"
     ]
    }
   ],
   "source": [
    "print(\"MAPE =\", round(mape(actual, predicted),3))"
   ]
  },
  {
   "cell_type": "markdown",
   "metadata": {
    "id": "Tvx7W3kcNx8V"
   },
   "source": [
    "#### 3) Mean Squared Error (MSE)\n",
    "\n",
    "MSE is a most used and very simple metric with a little bit of change in mean absolute error. Mean squared error states that finding the squared difference between actual and predicted value.\n",
    "\n",
    "![](images/mse.png)"
   ]
  },
  {
   "cell_type": "markdown",
   "metadata": {
    "id": "BzRihlK9Nx8k"
   },
   "source": [
    "**Advantages of MSE**\n",
    "\n",
    "*   The graph of MSE is differentiable, so you can easily use it as a loss function\n",
    "\n",
    "**Disadvantages of MSE**\n",
    "\n",
    "*   The value you get after calculating MSE is a squared unit of output. for example, the output variable is in meter(m) then after calculating MSE the output we get is in meter squared\n",
    "*   If you have outliers in the dataset then it penalizes the outliers most and the calculated MSE is bigger. So, in short, It is not robust to outliers which were an advantage in MAE\n",
    "\n",
    "\n"
   ]
  },
  {
   "cell_type": "code",
   "execution_count": null,
   "metadata": {
    "id": "YS_88LQjNx8l"
   },
   "outputs": [],
   "source": [
    "import numpy as np\n",
    "\n",
    "def mse(actual, predicted):\n",
    "    actual, predicted = np.array(actual), np.array(predicted)\n",
    "    return np.mean((actual - predicted)**2)"
   ]
  },
  {
   "cell_type": "code",
   "execution_count": null,
   "metadata": {
    "colab": {
     "base_uri": "https://localhost:8080/"
    },
    "id": "TzWBQT0KNx8l",
    "outputId": "6de28509-48b3-4237-f8fe-4045936ac73b"
   },
   "outputs": [
    {
     "name": "stdout",
     "output_type": "stream",
     "text": [
      "MSE = 1.833\n"
     ]
    }
   ],
   "source": [
    "print(\"MSE =\", round(mse(actual, predicted),3))"
   ]
  },
  {
   "cell_type": "markdown",
   "metadata": {
    "id": "YdN-RRhySKi4"
   },
   "source": [
    "#### 4) Root Mean Squared Error (RMSE)\n",
    "\n",
    "As the name itself suggests, RMSE is simply the square root of MSE\n",
    "\n",
    "![](images/rmse.png)"
   ]
  },
  {
   "cell_type": "markdown",
   "metadata": {
    "id": "KEUGcPgVSKi7"
   },
   "source": [
    "**Advantages of RMSE**\n",
    "\n",
    "*   The output value you get is in the same unit as the required output variable which makes interpretation of loss easy.\n",
    "\n",
    "**Disadvantages of MSE**\n",
    "\n",
    "*   It is also not that robust to outliers as compared to MAE.\n",
    "\n",
    "\n"
   ]
  },
  {
   "cell_type": "code",
   "execution_count": null,
   "metadata": {
    "id": "dSrF48m-SKi8"
   },
   "outputs": [],
   "source": [
    "import numpy as np\n",
    "\n",
    "def rmse(actual, predicted):\n",
    "    actual, predicted = np.array(actual), np.array(predicted)\n",
    "    return np.sqrt(np.mean((actual - predicted)**2))"
   ]
  },
  {
   "cell_type": "code",
   "execution_count": null,
   "metadata": {
    "colab": {
     "base_uri": "https://localhost:8080/"
    },
    "id": "ZVj6EdfASKi9",
    "outputId": "5d9d9ffe-09b3-4a40-d277-7951bcda740a"
   },
   "outputs": [
    {
     "name": "stdout",
     "output_type": "stream",
     "text": [
      "RMSE = 1.354\n"
     ]
    }
   ],
   "source": [
    "print(\"RMSE =\", round(rmse(actual, predicted),3))"
   ]
  },
  {
   "cell_type": "markdown",
   "metadata": {
    "id": "UzxA0oYaUgbK"
   },
   "source": [
    "#### 5) Coefficient of Determination (R-squared or $R^2$)**\n",
    "\n",
    "Coefficient of Determination or R-squared value measures the strength of the relationship between your linear model and the dependent variables on a 0 - 1 scale. It represents the proportion of the variance for a dependent variable that's explained by an independent variable.\n",
    "\n",
    "$$\n",
    "R^2 = 1-\\frac{\\sum_{i=1}^{n}(y_i-\\hat y_i )^2}{\\sum_{i=1}^{n}(y_i-\\bar y)^2}\n",
    "$$\n",
    "\n",
    "#### y = actual output\n",
    "\n",
    "#### $\\hat y$ = predicted output\n",
    "\n",
    "#### $\\bar y$ = mean value of y\n",
    "\n",
    "#### n = number of samples or data points\n",
    "\n"
   ]
  },
  {
   "cell_type": "markdown",
   "metadata": {
    "id": "pfHRquXyUgbN"
   },
   "source": [
    "**<font color='darkgreen'>How to interpret $R^2$ value</font>**\n",
    "\n",
    "Now if this $R^2$ score is 0, then there is no correlation between $y$ and $\\hat y$ and if it is 1, then we have 100% correlation between these values (best model).\n",
    "\n",
    "The normal case is when the $R^2$ score is between 0 and 1 like 0.8 which means our model is capable to explain 80% variation for a dependent variable by an independent variable.\n",
    "\n",
    "**Note:** Negative values of $𝑅^2$ may occur when fitting non-linear functions to data. In cases where negative values arise, the mean of the data provides a better fit to the outcomes than do the fitted function values, according to this particular criterion.\n"
   ]
  },
  {
   "cell_type": "code",
   "execution_count": null,
   "metadata": {
    "id": "2Q4d24XjUgbN"
   },
   "outputs": [],
   "source": [
    "import numpy as np\n",
    "\n",
    "def r2_score(actual, predicted):\n",
    "    actual, predicted = np.array(actual), np.array(predicted)\n",
    "    rss = np.sum((actual - predicted)**2)\n",
    "    tss = np.sum((actual - np.mean(actual))**2)\n",
    "    return 1-(rss/tss)"
   ]
  },
  {
   "cell_type": "code",
   "execution_count": null,
   "metadata": {
    "colab": {
     "base_uri": "https://localhost:8080/"
    },
    "id": "pCxYF_SXUgbP",
    "outputId": "e84d20f4-ab2c-411f-a294-f5ede1fcca27"
   },
   "outputs": [
    {
     "name": "stdout",
     "output_type": "stream",
     "text": [
      "R2 score = 0.371\n"
     ]
    }
   ],
   "source": [
    "print(\"R2 score =\", round(r2_score(actual, predicted),3))"
   ]
  },
  {
   "cell_type": "markdown",
   "metadata": {
    "id": "886Ph-V4bZHW"
   },
   "source": [
    "#### 6) Adjusted R-squared\n",
    "\n",
    "The disadvantage of the $R^2$ score is that while adding new features in data the $R^2$ score starts increasing or remains constant but it never decreases because It assumes that while adding more data, variance of data increases.\n",
    "\n",
    "But when we add an irrelevant feature in the dataset then at that time $R^2$ sometimes starts increasing which is incorrect.\n",
    "\n",
    "Hence, to control this situation Adjusted R-Squared $R_a^2$ came into existence.\n",
    "\n",
    "$$\n",
    "R_a^2 = 1-\\frac{(1-R^2)(n-1)}{(n-k-1)}\n",
    "$$\n",
    "\n",
    "#### $R^2$ = R-squared value\n",
    "\n",
    "#### n = number of samples or data points\n",
    "\n",
    "#### k = number of independent variables or number of predictors/ features\n",
    "\n"
   ]
  },
  {
   "cell_type": "code",
   "execution_count": null,
   "metadata": {
    "id": "mRWeEf7PbZHl"
   },
   "outputs": [],
   "source": [
    "import numpy as np\n",
    "\n",
    "def adjusted_r2_score(R2, n, k):\n",
    "    return 1 - ((1-R2)*(n-1)/(n-k-1))"
   ]
  },
  {
   "cell_type": "code",
   "execution_count": null,
   "metadata": {
    "colab": {
     "base_uri": "https://localhost:8080/"
    },
    "id": "dA-sscdIbZHm",
    "outputId": "e9d78ccc-e555-4be3-b936-b454b2489932"
   },
   "outputs": [
    {
     "name": "stdout",
     "output_type": "stream",
     "text": [
      "adjusted R2 score = -0.571\n"
     ]
    }
   ],
   "source": [
    "R2 = r2_score(actual, predicted)\n",
    "n, k = len(actual), 3\n",
    "print(\"adjusted R2 score =\", round(adjusted_r2_score(R2, n, k),3))"
   ]
  },
  {
   "cell_type": "markdown",
   "metadata": {
    "id": "2DaZkFmR1H2T"
   },
   "source": [
    "### B) Evaluation Metrics for Classification\n",
    "\n",
    "\n",
    "\n"
   ]
  },
  {
   "cell_type": "markdown",
   "metadata": {
    "id": "InbxRBZA1cvY"
   },
   "source": [
    "### 1) Confusion Matrix\n",
    "\n",
    "Confusion matrix is a table with combinations of predicted and actual values. It is a matrix that compares the number of predictions for each class that are correct and those that are incorrect.\n",
    "\n",
    "The confusion matrix is a **N x N matrix**, where <font color='blue'>N is the number of classes</font> or outputs.\n",
    "\n",
    "For 2 class, we get 2 x 2 confusion matrix.\n",
    "\n",
    "For 3 class, we get 3 X 3 confusion matrix.\n",
    "\n",
    "In a confusion matrix, there are 4 numbers to pay attention which are **True Positive(TP), False Positive(FP), True Negative(TN) and False Negative(FN)**.\n",
    "\n",
    "### How does the confusion matrix look like?\n",
    "\n",
    "Below is the representation of the confusion matrix.\n",
    "\n",
    "![](images/cm.jpeg)\n"
   ]
  },
  {
   "cell_type": "markdown",
   "metadata": {
    "id": "IS5xeevv49sG"
   },
   "source": [
    "### Confusion matrix for Binary Classification\n",
    "\n",
    "Let us understand the confusion matrix for a **simple binary classification example**.\n",
    "\n",
    "Binary classification has 2 outputs, the inputs for this classification will fall in either of the 2 outputs or classes. Let us see how to construct a confusion matrix and understand its terminologies. \n",
    "\n",
    "#### Example\n",
    "\n",
    "Consider we have to model a classifier that classifies 2 kinds of fruits.\n",
    "\n",
    "Suppose have **<font color='black'>2 types of fruits Apples and Grapes</font>** and we want our machine learning model to identify or classify the given fruit as an Apple or Grape.\n",
    "\n",
    "Assume we take **15 samples**, out of which **<font color='red'>8 belong to Apples</font>** and **<font color='green'>7 belong to the Grapes</font>**. We will **represent Apple as 1** (we can also call it as *Negative class*) and **Grape as 0** (we can also call it as *Positive class*).\n",
    "\n",
    "Let the actual class for 8 apples and 7 grapes, be represented as\n",
    "\n",
    "<font color='blue'>actual = [1,1,1,1,1,1,1,1,0,0,0,0,0,0,0]</font>\n",
    "\n",
    "Assume that the **classifier** takes all the 15 inputs and, makes the following **predictions**:\n",
    "\n",
    "*  Out of **<font color='red'>8 Apples</font>**, it will classify **<font color='red'>5 correctly as Apples</font>** and **<font color='green'>wrongly predict 3 as grapes</font>**\n",
    "\n",
    "*  Out of **<font color='green'>7 grapes</font>**, it will classify **<font color='green'>5 correctly as grapes</font>** and **<font color='red'>wrongly predicts 2 as apples</font>**\n",
    "\n",
    "The prediction of the classifier may be as follows:\n",
    "\n",
    "<font color='blue'>predicted = [1,0,0,0,1,1,1,1,0,0,0,0,0,1,1]</font>\n",
    "\n",
    "\n",
    "\n"
   ]
  },
  {
   "cell_type": "code",
   "execution_count": null,
   "metadata": {
    "id": "m0kmQkYl86IB"
   },
   "outputs": [],
   "source": [
    "import numpy as np\n",
    "import pandas as pd"
   ]
  },
  {
   "cell_type": "code",
   "execution_count": null,
   "metadata": {
    "id": "_7qT-VAM_ywu"
   },
   "outputs": [],
   "source": [
    "def confusion_matrix(actual, predicted, label_name, margins=False):\n",
    "    actual = pd.Series(actual, name='Actual')\n",
    "    predicted = pd.Series(predicted, name='Predicted')\n",
    "    df_confusion = pd.crosstab(actual, predicted, rownames=['Actual'], colnames=['Predicted'], margins=margins)\n",
    "    df_confusion.rename(index=label_name, columns=label_name, inplace=True)\n",
    "    return df_confusion"
   ]
  },
  {
   "cell_type": "code",
   "execution_count": null,
   "metadata": {
    "id": "F3e_I5jS8o5g"
   },
   "outputs": [],
   "source": [
    "label_name = {0:'Grapes', 1: 'Apples'}\n",
    "actual = [1,1,1,1,1,1,1,1,0,0,0,0,0,0,0]\n",
    "predicted = [1,0,0,0,1,1,1,1,0,0,0,0,0,1,1]"
   ]
  },
  {
   "cell_type": "code",
   "execution_count": null,
   "metadata": {
    "colab": {
     "base_uri": "https://localhost:8080/",
     "height": 161
    },
    "id": "9Q98s6jp8vLl",
    "outputId": "126ad149-ca91-460b-85db-6760c33ac9ea"
   },
   "outputs": [
    {
     "name": "stdout",
     "output_type": "stream",
     "text": [
      "Confusion Matrix\n"
     ]
    },
    {
     "data": {
      "text/html": [
       "\n",
       "  <div id=\"df-f7b82903-453a-41d7-8d4c-bc79540dfdf6\">\n",
       "    <div class=\"colab-df-container\">\n",
       "      <div>\n",
       "<style scoped>\n",
       "    .dataframe tbody tr th:only-of-type {\n",
       "        vertical-align: middle;\n",
       "    }\n",
       "\n",
       "    .dataframe tbody tr th {\n",
       "        vertical-align: top;\n",
       "    }\n",
       "\n",
       "    .dataframe thead th {\n",
       "        text-align: right;\n",
       "    }\n",
       "</style>\n",
       "<table border=\"1\" class=\"dataframe\">\n",
       "  <thead>\n",
       "    <tr style=\"text-align: right;\">\n",
       "      <th>Predicted</th>\n",
       "      <th>Grapes</th>\n",
       "      <th>Apples</th>\n",
       "    </tr>\n",
       "    <tr>\n",
       "      <th>Actual</th>\n",
       "      <th></th>\n",
       "      <th></th>\n",
       "    </tr>\n",
       "  </thead>\n",
       "  <tbody>\n",
       "    <tr>\n",
       "      <th>Grapes</th>\n",
       "      <td>5</td>\n",
       "      <td>2</td>\n",
       "    </tr>\n",
       "    <tr>\n",
       "      <th>Apples</th>\n",
       "      <td>3</td>\n",
       "      <td>5</td>\n",
       "    </tr>\n",
       "  </tbody>\n",
       "</table>\n",
       "</div>\n",
       "      <button class=\"colab-df-convert\" onclick=\"convertToInteractive('df-f7b82903-453a-41d7-8d4c-bc79540dfdf6')\"\n",
       "              title=\"Convert this dataframe to an interactive table.\"\n",
       "              style=\"display:none;\">\n",
       "        \n",
       "  <svg xmlns=\"http://www.w3.org/2000/svg\" height=\"24px\"viewBox=\"0 0 24 24\"\n",
       "       width=\"24px\">\n",
       "    <path d=\"M0 0h24v24H0V0z\" fill=\"none\"/>\n",
       "    <path d=\"M18.56 5.44l.94 2.06.94-2.06 2.06-.94-2.06-.94-.94-2.06-.94 2.06-2.06.94zm-11 1L8.5 8.5l.94-2.06 2.06-.94-2.06-.94L8.5 2.5l-.94 2.06-2.06.94zm10 10l.94 2.06.94-2.06 2.06-.94-2.06-.94-.94-2.06-.94 2.06-2.06.94z\"/><path d=\"M17.41 7.96l-1.37-1.37c-.4-.4-.92-.59-1.43-.59-.52 0-1.04.2-1.43.59L10.3 9.45l-7.72 7.72c-.78.78-.78 2.05 0 2.83L4 21.41c.39.39.9.59 1.41.59.51 0 1.02-.2 1.41-.59l7.78-7.78 2.81-2.81c.8-.78.8-2.07 0-2.86zM5.41 20L4 18.59l7.72-7.72 1.47 1.35L5.41 20z\"/>\n",
       "  </svg>\n",
       "      </button>\n",
       "      \n",
       "  <style>\n",
       "    .colab-df-container {\n",
       "      display:flex;\n",
       "      flex-wrap:wrap;\n",
       "      gap: 12px;\n",
       "    }\n",
       "\n",
       "    .colab-df-convert {\n",
       "      background-color: #E8F0FE;\n",
       "      border: none;\n",
       "      border-radius: 50%;\n",
       "      cursor: pointer;\n",
       "      display: none;\n",
       "      fill: #1967D2;\n",
       "      height: 32px;\n",
       "      padding: 0 0 0 0;\n",
       "      width: 32px;\n",
       "    }\n",
       "\n",
       "    .colab-df-convert:hover {\n",
       "      background-color: #E2EBFA;\n",
       "      box-shadow: 0px 1px 2px rgba(60, 64, 67, 0.3), 0px 1px 3px 1px rgba(60, 64, 67, 0.15);\n",
       "      fill: #174EA6;\n",
       "    }\n",
       "\n",
       "    [theme=dark] .colab-df-convert {\n",
       "      background-color: #3B4455;\n",
       "      fill: #D2E3FC;\n",
       "    }\n",
       "\n",
       "    [theme=dark] .colab-df-convert:hover {\n",
       "      background-color: #434B5C;\n",
       "      box-shadow: 0px 1px 3px 1px rgba(0, 0, 0, 0.15);\n",
       "      filter: drop-shadow(0px 1px 2px rgba(0, 0, 0, 0.3));\n",
       "      fill: #FFFFFF;\n",
       "    }\n",
       "  </style>\n",
       "\n",
       "      <script>\n",
       "        const buttonEl =\n",
       "          document.querySelector('#df-f7b82903-453a-41d7-8d4c-bc79540dfdf6 button.colab-df-convert');\n",
       "        buttonEl.style.display =\n",
       "          google.colab.kernel.accessAllowed ? 'block' : 'none';\n",
       "\n",
       "        async function convertToInteractive(key) {\n",
       "          const element = document.querySelector('#df-f7b82903-453a-41d7-8d4c-bc79540dfdf6');\n",
       "          const dataTable =\n",
       "            await google.colab.kernel.invokeFunction('convertToInteractive',\n",
       "                                                     [key], {});\n",
       "          if (!dataTable) return;\n",
       "\n",
       "          const docLinkHtml = 'Like what you see? Visit the ' +\n",
       "            '<a target=\"_blank\" href=https://colab.research.google.com/notebooks/data_table.ipynb>data table notebook</a>'\n",
       "            + ' to learn more about interactive tables.';\n",
       "          element.innerHTML = '';\n",
       "          dataTable['output_type'] = 'display_data';\n",
       "          await google.colab.output.renderOutput(dataTable, element);\n",
       "          const docLink = document.createElement('div');\n",
       "          docLink.innerHTML = docLinkHtml;\n",
       "          element.appendChild(docLink);\n",
       "        }\n",
       "      </script>\n",
       "    </div>\n",
       "  </div>\n",
       "  "
      ],
      "text/plain": [
       "Predicted  Grapes  Apples\n",
       "Actual                   \n",
       "Grapes          5       2\n",
       "Apples          3       5"
      ]
     },
     "execution_count": 18,
     "metadata": {},
     "output_type": "execute_result"
    }
   ],
   "source": [
    "df_confusion = confusion_matrix(actual, predicted, label_name)\n",
    "print(\"Confusion Matrix\")\n",
    "df_confusion"
   ]
  },
  {
   "cell_type": "markdown",
   "metadata": {
    "id": "k_PkjgJ1Av8d"
   },
   "source": [
    "### True Positive (TP)\n",
    "\n",
    "We predicted positive class (here grapes) and the actual class is also grape. So, from the above example, **TP=5**\n",
    "\n",
    "### True Negative (TN)\n",
    "\n",
    "We predicted negative class (here an apple) and the actual class is also an apple. So, from the above example, **TN=5**\n",
    "\n",
    "### False Positive (FP, Type 1 Error)\n",
    "\n",
    "We predicted positive class (grape) and it is **false**, the actual class is an apple (negative class). So, from the above example, **FP=3**\n",
    "\n",
    "### False Negative (FN, Type 2 Error)\n",
    "\n",
    "We predicted negative class (apple) and it is false, the actual class is a grape (positive class). So, from the above example, **FN=2**"
   ]
  },
  {
   "cell_type": "markdown",
   "metadata": {
    "id": "s8b3dLwERnc9"
   },
   "source": [
    "### Confusion Matrix for Multiclass Classification\n",
    "\n",
    "In the multi-class classification problem, we won’t get TP, TN, FP, and FN values directly as in the binary classification problem. We need to calculate them separately for each class and this makes sense as well (if we have properly understood the definitions of these terms).\n",
    "\n",
    "**FN**: The False-negative value for a class will be the sum of values of corresponding rows except for the TP value.\n",
    "\n",
    "**FP**: The False-positive value for a class will be the sum of values of the corresponding column except for the TP value.\n",
    "\n",
    "**TN**: The True Negative value for a class will be the sum of values of all columns and rows except the values of that class that we are calculating the values for (because we are not bothered with any other class except for the class in consideration).\n",
    "\n",
    "**TP**: The True positive value is where the actual value and predicted value are the same.\n",
    "\n",
    "Consider the table below showing TP, TN, FP, and FN values for class-0 (where we have 3 classes namely **class-0**, **class-1** and **class-2**)"
   ]
  },
  {
   "cell_type": "markdown",
   "metadata": {
    "id": "sXvByBdRM-Ed"
   },
   "source": [
    "![](images/tpfp.png)"
   ]
  },
  {
   "cell_type": "markdown",
   "metadata": {
    "id": "-XKdpesQKnZr"
   },
   "source": [
    "#### TP, TN, FP, FN values using numpy and pandas\n",
    "\n",
    "Consider the following actual and predicted values\n",
    "\n",
    "```\n",
    "actual = [1, 2, 0, 0, 1, 2, 1, 0, 2, 0, 1, 2, 1, 0, 0, 2, 0]\n",
    "predicted = [2, 2, 1, 0, 0, 0, 0, 2, 1, 2, 1, 1, 0, 0, 1, 1, 2]\n",
    "```"
   ]
  },
  {
   "cell_type": "code",
   "execution_count": null,
   "metadata": {
    "id": "RUjPCWmYK70l"
   },
   "outputs": [],
   "source": [
    "def CM_parameters(cnf_matrix):\n",
    "    FP = cnf_matrix.sum(axis=0) - np.diag(cnf_matrix)  \n",
    "    FN = cnf_matrix.sum(axis=1) - np.diag(cnf_matrix)\n",
    "    TP = np.diag(cnf_matrix)\n",
    "    TN = cnf_matrix.sum() - (FP + FN + TP)\n",
    "    return TP.astype(float), TN.astype(float), FP.astype(float), FN.astype(float)"
   ]
  },
  {
   "cell_type": "code",
   "execution_count": null,
   "metadata": {
    "colab": {
     "base_uri": "https://localhost:8080/",
     "height": 193
    },
    "id": "JsIawiGD-Coh",
    "outputId": "12f09ce2-a41c-4560-89e3-0aff4c0b316f"
   },
   "outputs": [
    {
     "name": "stdout",
     "output_type": "stream",
     "text": [
      "Confusion Matrix\n"
     ]
    },
    {
     "data": {
      "text/html": [
       "\n",
       "  <div id=\"df-bd632939-ca8e-4665-bcea-8a9e998c40e3\">\n",
       "    <div class=\"colab-df-container\">\n",
       "      <div>\n",
       "<style scoped>\n",
       "    .dataframe tbody tr th:only-of-type {\n",
       "        vertical-align: middle;\n",
       "    }\n",
       "\n",
       "    .dataframe tbody tr th {\n",
       "        vertical-align: top;\n",
       "    }\n",
       "\n",
       "    .dataframe thead th {\n",
       "        text-align: right;\n",
       "    }\n",
       "</style>\n",
       "<table border=\"1\" class=\"dataframe\">\n",
       "  <thead>\n",
       "    <tr style=\"text-align: right;\">\n",
       "      <th>Predicted</th>\n",
       "      <th>Class-0</th>\n",
       "      <th>Class-1</th>\n",
       "      <th>Class-2</th>\n",
       "    </tr>\n",
       "    <tr>\n",
       "      <th>Actual</th>\n",
       "      <th></th>\n",
       "      <th></th>\n",
       "      <th></th>\n",
       "    </tr>\n",
       "  </thead>\n",
       "  <tbody>\n",
       "    <tr>\n",
       "      <th>Class-0</th>\n",
       "      <td>2</td>\n",
       "      <td>2</td>\n",
       "      <td>3</td>\n",
       "    </tr>\n",
       "    <tr>\n",
       "      <th>Class-1</th>\n",
       "      <td>3</td>\n",
       "      <td>1</td>\n",
       "      <td>1</td>\n",
       "    </tr>\n",
       "    <tr>\n",
       "      <th>Class-2</th>\n",
       "      <td>1</td>\n",
       "      <td>3</td>\n",
       "      <td>1</td>\n",
       "    </tr>\n",
       "  </tbody>\n",
       "</table>\n",
       "</div>\n",
       "      <button class=\"colab-df-convert\" onclick=\"convertToInteractive('df-bd632939-ca8e-4665-bcea-8a9e998c40e3')\"\n",
       "              title=\"Convert this dataframe to an interactive table.\"\n",
       "              style=\"display:none;\">\n",
       "        \n",
       "  <svg xmlns=\"http://www.w3.org/2000/svg\" height=\"24px\"viewBox=\"0 0 24 24\"\n",
       "       width=\"24px\">\n",
       "    <path d=\"M0 0h24v24H0V0z\" fill=\"none\"/>\n",
       "    <path d=\"M18.56 5.44l.94 2.06.94-2.06 2.06-.94-2.06-.94-.94-2.06-.94 2.06-2.06.94zm-11 1L8.5 8.5l.94-2.06 2.06-.94-2.06-.94L8.5 2.5l-.94 2.06-2.06.94zm10 10l.94 2.06.94-2.06 2.06-.94-2.06-.94-.94-2.06-.94 2.06-2.06.94z\"/><path d=\"M17.41 7.96l-1.37-1.37c-.4-.4-.92-.59-1.43-.59-.52 0-1.04.2-1.43.59L10.3 9.45l-7.72 7.72c-.78.78-.78 2.05 0 2.83L4 21.41c.39.39.9.59 1.41.59.51 0 1.02-.2 1.41-.59l7.78-7.78 2.81-2.81c.8-.78.8-2.07 0-2.86zM5.41 20L4 18.59l7.72-7.72 1.47 1.35L5.41 20z\"/>\n",
       "  </svg>\n",
       "      </button>\n",
       "      \n",
       "  <style>\n",
       "    .colab-df-container {\n",
       "      display:flex;\n",
       "      flex-wrap:wrap;\n",
       "      gap: 12px;\n",
       "    }\n",
       "\n",
       "    .colab-df-convert {\n",
       "      background-color: #E8F0FE;\n",
       "      border: none;\n",
       "      border-radius: 50%;\n",
       "      cursor: pointer;\n",
       "      display: none;\n",
       "      fill: #1967D2;\n",
       "      height: 32px;\n",
       "      padding: 0 0 0 0;\n",
       "      width: 32px;\n",
       "    }\n",
       "\n",
       "    .colab-df-convert:hover {\n",
       "      background-color: #E2EBFA;\n",
       "      box-shadow: 0px 1px 2px rgba(60, 64, 67, 0.3), 0px 1px 3px 1px rgba(60, 64, 67, 0.15);\n",
       "      fill: #174EA6;\n",
       "    }\n",
       "\n",
       "    [theme=dark] .colab-df-convert {\n",
       "      background-color: #3B4455;\n",
       "      fill: #D2E3FC;\n",
       "    }\n",
       "\n",
       "    [theme=dark] .colab-df-convert:hover {\n",
       "      background-color: #434B5C;\n",
       "      box-shadow: 0px 1px 3px 1px rgba(0, 0, 0, 0.15);\n",
       "      filter: drop-shadow(0px 1px 2px rgba(0, 0, 0, 0.3));\n",
       "      fill: #FFFFFF;\n",
       "    }\n",
       "  </style>\n",
       "\n",
       "      <script>\n",
       "        const buttonEl =\n",
       "          document.querySelector('#df-bd632939-ca8e-4665-bcea-8a9e998c40e3 button.colab-df-convert');\n",
       "        buttonEl.style.display =\n",
       "          google.colab.kernel.accessAllowed ? 'block' : 'none';\n",
       "\n",
       "        async function convertToInteractive(key) {\n",
       "          const element = document.querySelector('#df-bd632939-ca8e-4665-bcea-8a9e998c40e3');\n",
       "          const dataTable =\n",
       "            await google.colab.kernel.invokeFunction('convertToInteractive',\n",
       "                                                     [key], {});\n",
       "          if (!dataTable) return;\n",
       "\n",
       "          const docLinkHtml = 'Like what you see? Visit the ' +\n",
       "            '<a target=\"_blank\" href=https://colab.research.google.com/notebooks/data_table.ipynb>data table notebook</a>'\n",
       "            + ' to learn more about interactive tables.';\n",
       "          element.innerHTML = '';\n",
       "          dataTable['output_type'] = 'display_data';\n",
       "          await google.colab.output.renderOutput(dataTable, element);\n",
       "          const docLink = document.createElement('div');\n",
       "          docLink.innerHTML = docLinkHtml;\n",
       "          element.appendChild(docLink);\n",
       "        }\n",
       "      </script>\n",
       "    </div>\n",
       "  </div>\n",
       "  "
      ],
      "text/plain": [
       "Predicted  Class-0  Class-1  Class-2\n",
       "Actual                              \n",
       "Class-0          2        2        3\n",
       "Class-1          3        1        1\n",
       "Class-2          1        3        1"
      ]
     },
     "execution_count": 20,
     "metadata": {},
     "output_type": "execute_result"
    }
   ],
   "source": [
    "# Example\n",
    "\n",
    "actual = [1, 2, 0, 0, 1, 2, 1, 0, 2, 0, 1, 2, 1, 0, 0, 2, 0]\n",
    "predicted = [2, 2, 1, 0, 0, 0, 0, 2, 1, 2, 1, 1, 0, 0, 1, 1, 2]\n",
    "label_name = {0:'Class-0', 1: 'Class-1', 2: 'Class-2'}\n",
    "\n",
    "df_confusion = confusion_matrix(actual, predicted, label_name)\n",
    "print(\"Confusion Matrix\")\n",
    "df_confusion"
   ]
  },
  {
   "cell_type": "code",
   "execution_count": null,
   "metadata": {
    "id": "1XFNvfnKKjyh"
   },
   "outputs": [],
   "source": [
    "cnf_matrix = df_confusion.values\n",
    "TP, TN, FP, FN = CM_parameters(cnf_matrix)"
   ]
  },
  {
   "cell_type": "code",
   "execution_count": null,
   "metadata": {
    "colab": {
     "base_uri": "https://localhost:8080/"
    },
    "id": "GrKtEdn7LYKi",
    "outputId": "fd5d2719-ace8-4e14-ebeb-8678c2f58edd"
   },
   "outputs": [
    {
     "data": {
      "text/plain": [
       "array([2., 1., 1.])"
      ]
     },
     "execution_count": 22,
     "metadata": {},
     "output_type": "execute_result"
    }
   ],
   "source": [
    "TP"
   ]
  },
  {
   "cell_type": "markdown",
   "metadata": {
    "id": "q5g1iG4tfAdn"
   },
   "source": [
    "So, for **class-0**, TP is 2, for **class-1**, TP is 1 and for **class-2** also, TP = 1. Similarly we get TN, FP and FN values"
   ]
  },
  {
   "cell_type": "code",
   "execution_count": null,
   "metadata": {
    "colab": {
     "base_uri": "https://localhost:8080/"
    },
    "id": "IPC0lAgvLYqC",
    "outputId": "3760c602-1e1c-468f-bd96-0e5556ad2c6b"
   },
   "outputs": [
    {
     "data": {
      "text/plain": [
       "array([6., 7., 8.])"
      ]
     },
     "execution_count": 23,
     "metadata": {},
     "output_type": "execute_result"
    }
   ],
   "source": [
    "TN"
   ]
  },
  {
   "cell_type": "code",
   "execution_count": null,
   "metadata": {
    "colab": {
     "base_uri": "https://localhost:8080/"
    },
    "id": "P9GLTa-9LZIu",
    "outputId": "ed9095df-9dcf-4537-e7ca-e075ba014610"
   },
   "outputs": [
    {
     "data": {
      "text/plain": [
       "array([4., 5., 4.])"
      ]
     },
     "execution_count": 24,
     "metadata": {},
     "output_type": "execute_result"
    }
   ],
   "source": [
    "FP"
   ]
  },
  {
   "cell_type": "code",
   "execution_count": null,
   "metadata": {
    "colab": {
     "base_uri": "https://localhost:8080/"
    },
    "id": "n8yadWyMLZnG",
    "outputId": "d61b525a-a8eb-4788-9292-de412aace083"
   },
   "outputs": [
    {
     "data": {
      "text/plain": [
       "array([5., 4., 4.])"
      ]
     },
     "execution_count": 25,
     "metadata": {},
     "output_type": "execute_result"
    }
   ],
   "source": [
    "FN"
   ]
  },
  {
   "cell_type": "markdown",
   "metadata": {
    "id": "1qBlENejNaNy"
   },
   "source": [
    "### Well known performance metrics calculated using TP, TN, FP and FN\n",
    "\n",
    "#### 1) Accuracy\n",
    "\n",
    "Accuracy simply measures how often the classifier correctly predicts. We can define accuracy as the ratio of the number of correct predictions and the total number of predictions. We can calculate accuracy both globally (for the entire model) and individually for each class.\n",
    "\n",
    "**Note:** Let us assume we have **<font color='red'>C</font>** number of classes and number of samples or data points is **<font color='red'>N</font>**\n",
    "\n",
    "#### a) Accuracy for each class\n",
    "\n",
    "$$\n",
    "Accuracy = \\frac{TP+TN}{TP+TN+FP+FN}\n",
    "$$\n",
    "<br>\n",
    "\n",
    "#### b) Global Accuracy\n",
    "\n",
    "$$\n",
    "Accuracy_g = \\frac{\\sum_{i=1}^{C} TP_i}{N}\n",
    "$$\n",
    "<br>\n",
    "\n",
    "When any model gives an accuracy rate of 99%, you might think that model is performing very good but this is not always true and can be misleading in some situations. \n",
    "\n",
    "Accuracy is useful when the output class is **well balanced** but is not a good choice for the **imbalanced data**. Imagine the scenario where we have <font color='blue'>98 images of the dog</font> and only <font color='green'>2 images of a cat</font> present in our training data. If our model predicted all the images as dogs, then our model achieved **98% accuracy** which is mis-leading. \n",
    "\n",
    "Hence, if we want to do a better model evaluation and have a full picture of the model evaluation, other metrics such as recall, precision, etc should also be considered.\n",
    "\n"
   ]
  },
  {
   "cell_type": "code",
   "execution_count": null,
   "metadata": {
    "colab": {
     "base_uri": "https://localhost:8080/"
    },
    "id": "nZuVCATtdb9R",
    "outputId": "96574fc5-98d3-4cc5-f3a6-6dee8d549aa2"
   },
   "outputs": [
    {
     "name": "stdout",
     "output_type": "stream",
     "text": [
      "Accuracy for each class = [0.471 0.471 0.529]\n"
     ]
    }
   ],
   "source": [
    "accuracy = (TP+TN) / (TP+TN+FP+FN)\n",
    "print(\"Accuracy for each class =\", np.round(accuracy, 3))"
   ]
  },
  {
   "cell_type": "code",
   "execution_count": null,
   "metadata": {
    "colab": {
     "base_uri": "https://localhost:8080/"
    },
    "id": "q2gMeTcTV_7B",
    "outputId": "0dec7914-0a22-48a0-c6d6-7db05424775e"
   },
   "outputs": [
    {
     "name": "stdout",
     "output_type": "stream",
     "text": [
      "Global Accuracy = 0.235\n"
     ]
    }
   ],
   "source": [
    "accuracy_g = np.sum(TP) / len(actual)\n",
    "print(\"Global Accuracy =\", round(accuracy_g, 3))"
   ]
  },
  {
   "cell_type": "markdown",
   "metadata": {
    "id": "rpYrfRwMU1gR"
   },
   "source": [
    "#### 2) Precision\n",
    "\n",
    "It tells you what fraction of predictions as a positive class were actually positive. Precision is useful in the cases where **False Positive is a higher concern than False Negatives**. It is also known as **Positive Predictive Value**\n",
    "\n",
    "The importance of Precision is in music or video recommendation systems, e-commerce websites, etc. where wrong results could lead to customer churn and this could be harmful to the business.\n",
    "\n",
    "$$\n",
    "Precision = \\frac{TP}{TP+FP}\n",
    "$$\n",
    "<br>\n"
   ]
  },
  {
   "cell_type": "code",
   "execution_count": null,
   "metadata": {
    "colab": {
     "base_uri": "https://localhost:8080/"
    },
    "id": "bu8mm80_PuYj",
    "outputId": "e5c9bcca-b46b-4146-bb5b-0426f7af8dcb"
   },
   "outputs": [
    {
     "name": "stdout",
     "output_type": "stream",
     "text": [
      "Precision for each class = [0.333 0.167 0.2  ]\n"
     ]
    }
   ],
   "source": [
    "precision = TP / (TP+FP)\n",
    "print(\"Precision for each class =\", np.round(precision, 3))"
   ]
  },
  {
   "cell_type": "markdown",
   "metadata": {
    "id": "XB72Ko-YU_nI"
   },
   "source": [
    "#### 3) Recall\n",
    "\n",
    "It tells you what fraction of all positive samples were correctly predicted as positive by the classifier. It is also known as **True Positive Rate (TPR), Sensitivity, Probability of Detection and Hit rate**.\n",
    "\n",
    "It is a useful metric in cases where **False Negative is of higher concern than False Positive**. It is important in medical cases where it doesn’t matter whether we raise a false alarm but the actual positive cases should not go undetected!\n",
    "\n",
    "$$\n",
    "Recall = \\frac{TP}{TP+FN}\n",
    "$$\n",
    "<br>\n",
    "\n"
   ]
  },
  {
   "cell_type": "code",
   "execution_count": null,
   "metadata": {
    "colab": {
     "base_uri": "https://localhost:8080/"
    },
    "id": "SXodPoBYWxKw",
    "outputId": "b84fe695-74ea-417c-d27d-93641bf51358"
   },
   "outputs": [
    {
     "name": "stdout",
     "output_type": "stream",
     "text": [
      "Recall for each class = [0.286 0.2   0.2  ]\n"
     ]
    }
   ],
   "source": [
    "recall = TP / (TP+FN)\n",
    "print(\"Recall for each class =\", np.round(recall, 3))"
   ]
  },
  {
   "cell_type": "markdown",
   "metadata": {
    "id": "sv4rjl0fVBWf"
   },
   "source": [
    "#### 4) Specificity\n",
    "\n",
    "It tells you what fraction of all negative samples are correctly predicted as negative by the classifier. It is also known as **True Negative Rate (TNR)**.\n",
    "\n",
    "$$\n",
    "Specificity = \\frac{TN}{TN+FP}\n",
    "$$\n",
    "<br>\n",
    "\n"
   ]
  },
  {
   "cell_type": "code",
   "execution_count": null,
   "metadata": {
    "colab": {
     "base_uri": "https://localhost:8080/"
    },
    "id": "JJpr9ETAVCOe",
    "outputId": "f920c2c5-0d00-4566-d8ab-eb6d8f95893d"
   },
   "outputs": [
    {
     "name": "stdout",
     "output_type": "stream",
     "text": [
      "Specificity for each class = [0.6   0.583 0.667]\n"
     ]
    }
   ],
   "source": [
    "specificity = TN / (TN+FP)\n",
    "print(\"Specificity for each class =\", np.round(specificity, 3))"
   ]
  },
  {
   "cell_type": "markdown",
   "metadata": {
    "id": "u-6EvTZwVChc"
   },
   "source": [
    "#### 5) Fall out or False Positive Rate (FPR) and False Negative Rate (FNR)\n",
    "\n",
    "$$\n",
    "FPR = \\frac{FP}{FP+TN}\n",
    "$$\n",
    "<br>\n",
    "\n",
    "$$\n",
    "FNR = \\frac{FN}{TP+FN}\n",
    "$$"
   ]
  },
  {
   "cell_type": "code",
   "execution_count": null,
   "metadata": {
    "colab": {
     "base_uri": "https://localhost:8080/"
    },
    "id": "deoSiy4UVDVz",
    "outputId": "ad8aeec0-9ea5-4e74-e407-61262fe0fdba"
   },
   "outputs": [
    {
     "name": "stdout",
     "output_type": "stream",
     "text": [
      "False Positive Rate for each class = [0.4   0.417 0.333]\n",
      "False Negative Rate for each class = [0.714 0.8   0.8  ]\n"
     ]
    }
   ],
   "source": [
    "FPR = FP / (FP+TN)\n",
    "print(\"False Positive Rate for each class =\", np.round(FPR, 3))\n",
    "FNR = FN / (TP+FN)\n",
    "print(\"False Negative Rate for each class =\", np.round(FNR, 3))"
   ]
  },
  {
   "cell_type": "markdown",
   "metadata": {
    "id": "HSpBOIXOVDjQ"
   },
   "source": [
    "#### 6) F1-score\n",
    "\n",
    "It gives a combined idea about Precision and Recall metrics. It is maximum when Precision is equal to Recall. F1 Score is the **harmonic mean of precision and recall**. The F1 score punishes extreme values more. \n",
    "\n",
    "$$\n",
    "F1 = \\frac{2*Precision*Recall}{Precision+Recall}\n",
    "$$\n",
    "<br>\n",
    "\n",
    "We can **combine the F1-score of each class** to have a single measure for the whole model. There are a few ways to do that, let’s look at them now.\n"
   ]
  },
  {
   "cell_type": "code",
   "execution_count": null,
   "metadata": {
    "colab": {
     "base_uri": "https://localhost:8080/"
    },
    "id": "jl2N7FYFVEJY",
    "outputId": "1ebcd767-0ef8-49c3-ae6f-bdb32d82d9a0"
   },
   "outputs": [
    {
     "name": "stdout",
     "output_type": "stream",
     "text": [
      "F1-score for each class = [0.308 0.182 0.2  ]\n"
     ]
    }
   ],
   "source": [
    "f1 = 2*precision*recall / (precision+recall)\n",
    "print(\"F1-score for each class =\", np.round(f1, 3))"
   ]
  },
  {
   "cell_type": "markdown",
   "metadata": {
    "id": "WphItmKrVEVa"
   },
   "source": [
    "#### 7) Micro scores (Micro Precision, Recall and F1)\n",
    "\n",
    "This is called **micro-averaged score**. It is calculated by considering the total TP, total FP and total FN of the model. It does not consider each class individually, It calculates the metrics globally. So for our example,\n",
    "\n",
    "**Total TP** $= \\sum TP = 2 + 1 + 1 = 4$\n",
    "\n",
    "**Total FP** $= \\sum FP = 4+5+4 = 13$\n",
    "\n",
    "**Total FN** $= \\sum FN = 5+4+4 = 13$\n",
    "\n",
    "So, \n",
    "\n",
    "**Total Precision** $= 4/(4+13) = 4/17$\n",
    "\n",
    "**Total Recall** $= 4/(4+13) = 4/17$\n",
    "\n",
    "Now we can use the regular formula for F1-score and get the Micro F1-score using the above precision and recall.\n",
    "\n",
    "**Micro-F1** $= 0.2353$\n",
    "\n",
    "As you can see When we are calculating the metrics globally all the measures become equal. Also if you calculate accuracy you will see that,\n",
    "\n",
    "**Total Precision = Total Recall = Micro-F1 = Global Accuracy**\n",
    "\n"
   ]
  },
  {
   "cell_type": "code",
   "execution_count": null,
   "metadata": {
    "colab": {
     "base_uri": "https://localhost:8080/"
    },
    "id": "caNQ4tLRVE2M",
    "outputId": "cb5593f4-e866-47e4-bdd2-41d72cb5eb9a"
   },
   "outputs": [
    {
     "name": "stdout",
     "output_type": "stream",
     "text": [
      "Micro Precision = 0.235\n",
      "Micro Recall = 0.235\n",
      "Micro F1-score = 0.235\n"
     ]
    }
   ],
   "source": [
    "Total_TP = np.sum(TP)\n",
    "Total_FP = np.sum(FP)\n",
    "Total_FN = np.sum(FN)\n",
    "\n",
    "micro_precision = Total_TP / (Total_TP + Total_FP)\n",
    "print(\"Micro Precision =\", round(micro_precision, 3))\n",
    "\n",
    "micro_recall = Total_TP / (Total_TP + Total_FN)\n",
    "print(\"Micro Recall =\", round(micro_recall, 3))\n",
    "\n",
    "micro_f1 = 2*micro_precision*micro_recall / (micro_precision + micro_recall)\n",
    "print(\"Micro F1-score =\", round(micro_f1, 3))"
   ]
  },
  {
   "cell_type": "markdown",
   "metadata": {
    "id": "Uh8lVLZ9VFCO"
   },
   "source": [
    "#### 8) Macro scores (Macro Precision, Recall and F1)\n",
    "\n",
    "It calculates metrics for each class individually and then takes unweighted mean of the measures. For example if,\n",
    "\n",
    "Class-0 F1-score = 0.308\n",
    "\n",
    "Class-1 F1-score = 0.182\n",
    "\n",
    "Class-2 F1-score = 0.2\n",
    "\n",
    "Hence,\n",
    "\n",
    "**Macro F1** $= (0.308+0.182+0.2)/3 = 0.23$\n"
   ]
  },
  {
   "cell_type": "code",
   "execution_count": null,
   "metadata": {
    "colab": {
     "base_uri": "https://localhost:8080/"
    },
    "id": "xjQY_HKvVFfU",
    "outputId": "2e1d3049-a05d-4d12-90eb-804fb102dcf7"
   },
   "outputs": [
    {
     "name": "stdout",
     "output_type": "stream",
     "text": [
      "Macro Precision = 0.233\n",
      "Macro Recall = 0.229\n",
      "Macro F1-score = 0.23\n"
     ]
    }
   ],
   "source": [
    "macro_precision = np.mean(precision)\n",
    "print(\"Macro Precision =\", round(macro_precision, 3))\n",
    "\n",
    "macro_recall = np.mean(recall)\n",
    "print(\"Macro Recall =\", round(macro_recall, 3))\n",
    "\n",
    "macro_f1 = np.mean(f1)\n",
    "print(\"Macro F1-score =\", round(macro_f1, 3))"
   ]
  },
  {
   "cell_type": "markdown",
   "metadata": {
    "id": "fzBq2RwTVFr3"
   },
   "source": [
    "\n",
    "#### 9) Weighted scores (Weighted Precision, Recall and F1)\n",
    "\n",
    "Unlike Macro F1, it takes a weighted mean of the measures. The weights for each class are the total number of samples of that class. \n",
    "\n",
    "Suppose we have **7 Class-0 samples, 5 Class-1 samples and 5 Class-2 samples**, and\n",
    "\n",
    "Class-0 F1-score = 0.308\n",
    "\n",
    "Class-1 F1-score = 0.182\n",
    "\n",
    "Class-2 F1-score = 0.2\n",
    "\n",
    "Hence,\n",
    "\n",
    "**Weighted F1** $= ((0.308*7)+(0.182*5)+(0.2*5))/(7+5+5) = 0.24$"
   ]
  },
  {
   "cell_type": "code",
   "execution_count": null,
   "metadata": {
    "colab": {
     "base_uri": "https://localhost:8080/"
    },
    "id": "3-vJriDkVGkm",
    "outputId": "9ce03618-44a1-4b0a-9f41-ecb2ce966148"
   },
   "outputs": [
    {
     "name": "stdout",
     "output_type": "stream",
     "text": [
      "Weighted Precision = 0.245\n",
      "Weighted Recall = 0.235\n",
      "Weighted F1-score = 0.239\n"
     ]
    }
   ],
   "source": [
    "class_samples = TP+FN\n",
    "\n",
    "weighted_precision = np.sum(class_samples*precision)/np.sum(class_samples)\n",
    "print(\"Weighted Precision =\", round(weighted_precision, 3))\n",
    "\n",
    "weighted_recall = np.sum(class_samples*recall)/np.sum(class_samples)\n",
    "print(\"Weighted Recall =\", round(weighted_recall, 3))\n",
    "\n",
    "weighted_f1 = np.sum(class_samples*f1)/np.sum(class_samples)\n",
    "print(\"Weighted F1-score =\", round(weighted_f1, 3))"
   ]
  },
  {
   "cell_type": "markdown",
   "metadata": {
    "id": "JCT58H7XWo2f"
   },
   "source": [
    "### Confirming the values using sklearn's classification report"
   ]
  },
  {
   "cell_type": "code",
   "execution_count": null,
   "metadata": {
    "colab": {
     "base_uri": "https://localhost:8080/"
    },
    "id": "io4Z9c3zQMNv",
    "outputId": "721c5a9b-d193-4686-f72f-55a80deeece3"
   },
   "outputs": [
    {
     "name": "stdout",
     "output_type": "stream",
     "text": [
      "              precision    recall  f1-score   support\n",
      "\n",
      "     class-0       0.33      0.29      0.31         7\n",
      "     class-1       0.17      0.20      0.18         5\n",
      "     class-2       0.20      0.20      0.20         5\n",
      "\n",
      "    accuracy                           0.24        17\n",
      "   macro avg       0.23      0.23      0.23        17\n",
      "weighted avg       0.25      0.24      0.24        17\n",
      "\n"
     ]
    }
   ],
   "source": [
    "from sklearn.metrics import classification_report\n",
    "\n",
    "target_names = ['class-0', 'class-1', 'class-2']\n",
    "print(classification_report(actual, predicted, target_names=target_names))"
   ]
  },
  {
   "cell_type": "markdown",
   "metadata": {
    "id": "31voxwR6gOgj"
   },
   "source": [
    "Perfect! The values turn out to be same"
   ]
  },
  {
   "cell_type": "markdown",
   "metadata": {
    "id": "BmLQ5OUhctWF"
   },
   "source": [
    "#### 10) F-beta score\n",
    "\n",
    "It measures the effectiveness of retrieval with respect to a user who attaches $β^2$ times as much importance to recall as precision. That is: $\\mathrm{weight_{Recall}} = \\beta^2 \\times \\mathrm{weight_{Precision}}$. Check out this [link](https://stats.stackexchange.com/questions/221997/why-f-beta-score-define-beta-like-that/379474#379474) for more detail.\n",
    "\n",
    "$$\n",
    "F_\\beta = (1 + \\beta^2) \\cdot \\frac{\\mathrm{precision} \\cdot \\mathrm{recall}}{(\\beta^2 \\cdot \\mathrm{precision}) + \\mathrm{recall}}\n",
    "$$\n",
    "<br>\n",
    "\n",
    "So, if **β = 1**, equal weights are attached to both:\n",
    "\n",
    "$$\n",
    "F_1 = \\frac{1}{\\frac{1}{2}\\frac{1}{\\text{precision}}+\\frac{1}{2}\\frac{1}{\\text{recall}}} \\\\\n",
    "= 2\\frac{\\text{precision}\\cdot\\text{recall}}{\\text{precision}+\\text{recall}}\n",
    "$$\n",
    "<br>\n",
    "\n",
    "If **β = 2**,\n",
    "\n",
    "$$\n",
    "F_2 = \\frac{1}{\\frac{1}{5}\\frac{1}{\\text{precision}}+\\frac{4}{5}\\frac{1}{\\text{recall}}} \\\\\n",
    "= 5 \\cdot\\frac{\\text{precision}\\cdot\\text{recall}}{(4 \\cdot\\text{precision})+\\text{recall}}\n",
    "$$\n",
    "<br>"
   ]
  },
  {
   "cell_type": "code",
   "execution_count": null,
   "metadata": {
    "colab": {
     "base_uri": "https://localhost:8080/"
    },
    "id": "SZbsKPfoctWF",
    "outputId": "f31ed1f6-2414-4ffc-8492-26fb759a9f9c"
   },
   "outputs": [
    {
     "name": "stdout",
     "output_type": "stream",
     "text": [
      "F-(beta=2) score for each class = [0.294 0.192 0.2  ]\n"
     ]
    }
   ],
   "source": [
    "beta = 2\n",
    "\n",
    "fbeta = (1+beta**2)*precision*recall / (((beta**2)*precision)+recall)\n",
    "print(\"F-(beta=\" + str(beta) + \") score for each class =\", np.round(fbeta, 3))"
   ]
  },
  {
   "cell_type": "code",
   "execution_count": null,
   "metadata": {
    "colab": {
     "base_uri": "https://localhost:8080/"
    },
    "id": "wmnsrQeelOuR",
    "outputId": "87dce301-cc0b-4a63-a083-ad330e50494e"
   },
   "outputs": [
    {
     "name": "stdout",
     "output_type": "stream",
     "text": [
      "Macro F-(beta=2) = 0.229\n"
     ]
    }
   ],
   "source": [
    "macro_fbeta = np.mean(fbeta)\n",
    "print(\"Macro F-(beta=\" + str(beta) + \") =\", round(macro_fbeta, 3))"
   ]
  },
  {
   "cell_type": "code",
   "execution_count": null,
   "metadata": {
    "colab": {
     "base_uri": "https://localhost:8080/"
    },
    "id": "L-ZfyXDSkVXA",
    "outputId": "1d4e9c2e-cc3f-4f7b-8eee-fe3fd7bdd498"
   },
   "outputs": [
    {
     "name": "stdout",
     "output_type": "stream",
     "text": [
      "Weighted F-(beta=2) = 0.236\n"
     ]
    }
   ],
   "source": [
    "weighted_fbeta = np.sum(class_samples*fbeta)/np.sum(class_samples)\n",
    "print(\"Weighted F-(beta=\" + str(beta) + \") =\", round(weighted_fbeta, 3))"
   ]
  },
  {
   "cell_type": "markdown",
   "metadata": {
    "id": "cYzgeSz2lFHi"
   },
   "source": [
    "### Confirm using sklearn's fbeta_score metric"
   ]
  },
  {
   "cell_type": "code",
   "execution_count": null,
   "metadata": {
    "colab": {
     "base_uri": "https://localhost:8080/"
    },
    "id": "fH3ioIWbkwUz",
    "outputId": "236f872e-ec02-4777-f5e5-e50b2c80137f"
   },
   "outputs": [
    {
     "name": "stdout",
     "output_type": "stream",
     "text": [
      "Sklearn's Weighted F-(beta=2) = 0.236\n"
     ]
    }
   ],
   "source": [
    "from sklearn.metrics import fbeta_score\n",
    "\n",
    "weighted_fbeta_sk = fbeta_score(y_true=actual, y_pred=predicted, beta=2, average='weighted')\n",
    "print(\"Sklearn's Weighted F-(beta=\" + str(beta) + \") =\", round(weighted_fbeta_sk, 3))"
   ]
  },
  {
   "cell_type": "markdown",
   "metadata": {
    "id": "xb9dQIL7nWOm"
   },
   "source": [
    "#### **11) Cohen's kappa statistic**\n",
    "\n",
    "The Kappa statistic (or value) is a metric that compares an **Observed Accuracy** with an **Expected Accuracy** (random chance). The kappa statistic is used not only to evaluate a single classifier, but also to evaluate classifiers amongst themselves. \n",
    "\n",
    "Cohen’s kappa measures the agreement between **two raters who each classify N items into C mutually exclusive categories**.\n",
    "\n",
    "Computation of **Observed Accuracy** and **Expected Accuracy** is integral to comprehension of the kappa statistic, and is most easily illustrated through use of a confusion matrix. Lets begin with a simple confusion matrix from a simple binary classification of Apples and Grapes (our original example):\n",
    "\n",
    "![](images/cross_tab.png)\n"
   ]
  },
  {
   "cell_type": "markdown",
   "metadata": {
    "id": "Liud_LyEugPC"
   },
   "source": [
    "From the **confusion matrix** we can see there are **15 instances total** (5 + 2 + 3 + 5 = 15). According to the first row **7 were labeled as Grapes** (5 + 2 = 7), and according to the second row **8 were labeled as Apples** (3 + 5 = 8). We can also see that the **<font color='green'>model classified 8 instances as Grapes</font>** (5 + 3 = 8) and **<font color='red'>7 instances as Apples</font>** (2 + 5 = 7).\n",
    "\n",
    "To calculate **Cohen's kappa**, **Observed Accuracy** and **Expected Accuracy** are required.\n",
    "\n",
    "**Observed Accuracy (OA)**\n",
    "\n",
    "Observed accuracy is simply the **Global Accuracy of the model** which we have mentioned above. Here, **OA = (5+5)/(5+5+2+3) = 10/15= 0.667**\n",
    "\n",
    "**Expected Accuracy (EA)**\n",
    "\n",
    "This value is defined as the accuracy that any random classifier would be expected to achieve based on the confusion matrix.\n",
    "\n",
    "**Follow these steps to calculate Expected Accuracy (EA)**\n",
    "\n",
    "In our case, **7 samples were labeled as Grapes** (5 + 2 = 7) which is marginal frequency of ground label, and the **<font color='green'>model classified 8 instances as Grapes</font>** (5 + 3 = 8) which is marginal frequency of the predicted label.\n",
    "\n",
    "This results in a value of **3.734** (7 * 8 / Total samples = 7 * 8 / 15 = 3.734) which is **marginal frequency of Grapes**.\n",
    "\n",
    "This is then done for the second class as well (and can be repeated for each additional class if there are more than 2).\n",
    "\n",
    "Then **3.734** (8 * 7 / Total samples = 8 * 7 / 15 = 3.734) is the **marginal frequency of Apples**.\n",
    "\n",
    "The final step is to add all these values together, and finally divide again by the total number of instances, resulting in an **Expected Accuracy (EA) of 0.4977** ((3.734 + 3.734)/15)\n",
    "\n",
    "$$\n",
    "\\mathrm{kappa} = \\frac{OA-EA}{1-EA}\n",
    "$$\n",
    "<br>\n",
    "\n",
    "So, in our case, the **kappa statistic** equals: (0.667 - 0.4977)/(1 - 0.4977) = **0.3363**.\n",
    "\n",
    "**Interpreting the Kappa value obtained**\n",
    "\n",
    "There is not a standardized interpretation of the kappa statistic. According to Wikipedia (citing their paper):\n",
    "\n",
    "Landis and Koch considers **0-0.20 as slight, 0.21-0.40 as fair, 0.41-0.60 as moderate, 0.61-0.80 as substantial, and 0.81-1 as almost perfect**. \n",
    "\n",
    "Fleiss considers **kappas > 0.75 as excellent, 0.40-0.75 as fair to good, and < 0.40 as poor**. It is important to note that both scales are somewhat arbitrary.\n"
   ]
  },
  {
   "cell_type": "code",
   "execution_count": null,
   "metadata": {
    "id": "n7mUMdUy99B2"
   },
   "outputs": [],
   "source": [
    "def cohen_kappa(actual, predicted, label_name={}):\n",
    "    df_confusion = confusion_matrix(actual, predicted, label_name, margins=True)\n",
    "    n = len(actual)\n",
    "    OA = np.sum(np.diag(df_confusion.values)[:-1])/n\n",
    "    col_comb = df_confusion['All'].values[:-1]\n",
    "    row_comb = df_confusion.loc['All'].values[:-1]\n",
    "    EA = np.sum(row_comb*col_comb)/(n**2)\n",
    "    kappa = (OA-EA)/(1-EA)\n",
    "    return kappa"
   ]
  },
  {
   "cell_type": "code",
   "execution_count": null,
   "metadata": {
    "id": "qqKQ2uET22UJ"
   },
   "outputs": [],
   "source": [
    "label_name = {0:'Grapes', 1: 'Apples'}\n",
    "actual = [1,1,1,1,1,1,1,1,0,0,0,0,0,0,0]\n",
    "predicted = [1,0,0,0,1,1,1,1,0,0,0,0,0,1,1]"
   ]
  },
  {
   "cell_type": "code",
   "execution_count": null,
   "metadata": {
    "colab": {
     "base_uri": "https://localhost:8080/"
    },
    "id": "wYWBrgC07C24",
    "outputId": "5d799d06-763f-4ac9-8af9-f644585bfa13"
   },
   "outputs": [
    {
     "name": "stdout",
     "output_type": "stream",
     "text": [
      "Cohen's Kappa = 0.336\n"
     ]
    }
   ],
   "source": [
    "kappa = cohen_kappa(actual, predicted)\n",
    "print(\"Cohen's Kappa =\", round(kappa, 3))"
   ]
  },
  {
   "cell_type": "markdown",
   "metadata": {
    "id": "LdrDbZtq2mH9"
   },
   "source": [
    "### Confirm the same using Sklearn's cohen_kappa_score"
   ]
  },
  {
   "cell_type": "code",
   "execution_count": null,
   "metadata": {
    "colab": {
     "base_uri": "https://localhost:8080/"
    },
    "id": "J6kWxqVn2to7",
    "outputId": "c6cd1716-9348-4674-cb06-1a178acff144"
   },
   "outputs": [
    {
     "name": "stdout",
     "output_type": "stream",
     "text": [
      "Sklearn's Cohen's Kappa = 0.336\n"
     ]
    }
   ],
   "source": [
    "from sklearn.metrics import cohen_kappa_score\n",
    "\n",
    "kappa_sk = cohen_kappa_score(actual, predicted)\n",
    "print(\"Sklearn's Cohen's Kappa =\", round(kappa_sk, 3))"
   ]
  },
  {
   "cell_type": "markdown",
   "metadata": {
    "id": "0B3r70bo-xZ6"
   },
   "source": [
    "### Testing the same on 3-classes"
   ]
  },
  {
   "cell_type": "code",
   "execution_count": null,
   "metadata": {
    "id": "Y_Z_d4vb-vub"
   },
   "outputs": [],
   "source": [
    "actual = [1, 2, 0, 0, 1, 2, 1, 0, 2, 0, 1, 2, 1, 0, 0, 2, 0]\n",
    "predicted = [2, 2, 1, 0, 0, 0, 0, 2, 1, 2, 1, 1, 0, 0, 1, 1, 2]\n",
    "label_name = {0:'Class-0', 1: 'Class-1', 2: 'Class-2'}"
   ]
  },
  {
   "cell_type": "code",
   "execution_count": null,
   "metadata": {
    "colab": {
     "base_uri": "https://localhost:8080/"
    },
    "id": "KFrFB4fU-0oP",
    "outputId": "1b886f96-8a4f-47ba-9351-804a63f5b857"
   },
   "outputs": [
    {
     "name": "stdout",
     "output_type": "stream",
     "text": [
      "Cohen's Kappa = -0.151\n"
     ]
    }
   ],
   "source": [
    "kappa = cohen_kappa(actual, predicted)\n",
    "print(\"Cohen's Kappa =\", round(kappa, 3))"
   ]
  },
  {
   "cell_type": "code",
   "execution_count": null,
   "metadata": {
    "colab": {
     "base_uri": "https://localhost:8080/"
    },
    "id": "zB6ol0B6-2e8",
    "outputId": "2035a962-50a0-4fe5-f8a8-394e32206256"
   },
   "outputs": [
    {
     "name": "stdout",
     "output_type": "stream",
     "text": [
      "Sklearn's Cohen's Kappa = -0.151\n"
     ]
    }
   ],
   "source": [
    "kappa_sk = cohen_kappa_score(actual, predicted)\n",
    "print(\"Sklearn's Cohen's Kappa =\", round(kappa_sk, 3))"
   ]
  },
  {
   "cell_type": "markdown",
   "metadata": {
    "id": "m_m4rGw-_1uY"
   },
   "source": [
    "#### 12) Jaccard Similarity Index\n",
    "\n",
    "If two sets share the **exact same members**, their **Jaccard Similarity Index will be 1**. Conversely, if they have **no members in common** then their **similarity will be 0**. \n",
    "\n",
    "So, the idea behind this index is that higher the similarity of these two groups (actual and predicted labels) the higher the index.\n",
    "\n"
   ]
  },
  {
   "cell_type": "code",
   "execution_count": null,
   "metadata": {
    "id": "hmgk6x3lBGB9"
   },
   "outputs": [],
   "source": [
    "def jaccard_similarity(actual, predicted):\n",
    "    n = np.sum(np.array(actual)==np.array(predicted))\n",
    "    L = len(actual)\n",
    "    return n/(2*L-n)"
   ]
  },
  {
   "cell_type": "code",
   "execution_count": null,
   "metadata": {
    "colab": {
     "base_uri": "https://localhost:8080/"
    },
    "id": "NYNLlAHVBPnE",
    "outputId": "48580fba-253c-4ea0-9311-1e85f3ee9457"
   },
   "outputs": [
    {
     "name": "stdout",
     "output_type": "stream",
     "text": [
      "Jaccard Similarity index = 0.133\n"
     ]
    }
   ],
   "source": [
    "actual = [1, 2, 0, 0, 1, 2, 1, 0, 2, 0, 1, 2, 1, 0, 0, 2, 0]\n",
    "predicted = [2, 2, 1, 0, 0, 0, 0, 2, 1, 2, 1, 1, 0, 0, 1, 1, 2]\n",
    "\n",
    "print(\"Jaccard Similarity index =\", round(jaccard_similarity(actual, predicted), 3))"
   ]
  },
  {
   "cell_type": "markdown",
   "metadata": {
    "id": "xlcqZy8YMWMF"
   },
   "source": [
    "#### 13) Matthew’s correlation coefficient (MCC)\n",
    "\n",
    "So far, we’ve seen some issues with the classic metrics: accuracy is sensitive to class imbalance; precision, recall, and F1-score are asymmetric.\n",
    "\n",
    "For binary classification, treat the **true class** and the **predicted class** as **two (binary) variables**, and compute their **correlation coefficient** (in a similar way to computing correlation coefficient between any two variables). **The higher the correlation between true and predicted values, the better the prediction**. This is the phi-coefficient (φ), rechristened `Matthews Correlation Coefficient (MCC)` when applied to classifiers:\n",
    "\n",
    "![](images/mcc.png)\n"
   ]
  },
  {
   "cell_type": "markdown",
   "metadata": {
    "id": "MuJTT9F2GSGM"
   },
   "source": [
    "Some nice properties of MCC can be easily derived from this formula: when the classifier is perfect (FP = FN = 0) the value of MCC is 1, indicating perfect positive correlation. Conversely, when the classifier always misclassifies (TP = TN = 0), we get a value of -1, representing perfect negative correlation (in this case, you can simply reverse the classifier’s outcome to get the ideal classifier). In fact, MCC value is always between -1 and 1, with 0 meaning that the classifier is no better than a random flip of a fair coin. MCC is also perfectly symmetric, so no class is more important than the other; if you switch the positive and negative, you’ll still get the same value."
   ]
  },
  {
   "cell_type": "code",
   "execution_count": null,
   "metadata": {
    "colab": {
     "base_uri": "https://localhost:8080/"
    },
    "id": "HHHmqKRxMWMS",
    "outputId": "b33f9a1c-7a64-4a5b-eb55-a554249272a3"
   },
   "outputs": [
    {
     "name": "stdout",
     "output_type": "stream",
     "text": [
      "MCC = [-0.11769798 -0.20658356 -0.13333333]\n",
      "Mean of MCC = -0.153\n"
     ]
    }
   ],
   "source": [
    "num = TP*TN - FP*FN\n",
    "den = ((TP+FP)*(TP+FN)*(TN+FP)*(TN+FN))**0.5\n",
    "mcc = num/den\n",
    "print(\"MCC =\", mcc)\n",
    "print(\"Mean of MCC =\", round(np.mean(mcc), 3))"
   ]
  },
  {
   "cell_type": "code",
   "execution_count": null,
   "metadata": {
    "colab": {
     "base_uri": "https://localhost:8080/"
    },
    "id": "Qy3yM3v3Z4Ws",
    "outputId": "8843f7dd-025a-4dea-abf1-2eeac352f5e7"
   },
   "outputs": [
    {
     "name": "stdout",
     "output_type": "stream",
     "text": [
      "MCC sklearn = -0.152\n"
     ]
    }
   ],
   "source": [
    "from sklearn.metrics import matthews_corrcoef\n",
    "\n",
    "print(\"MCC sklearn =\", round(matthews_corrcoef(actual, predicted), 3))"
   ]
  }
 ],
 "metadata": {
  "colab": {
   "provenance": []
  },
  "kernelspec": {
   "display_name": "Python 3 (ipykernel)",
   "language": "python",
   "name": "python3"
  },
  "language_info": {
   "codemirror_mode": {
    "name": "ipython",
    "version": 3
   },
   "file_extension": ".py",
   "mimetype": "text/x-python",
   "name": "python",
   "nbconvert_exporter": "python",
   "pygments_lexer": "ipython3",
   "version": "3.10.2"
  }
 },
 "nbformat": 4,
 "nbformat_minor": 4
}
