{
 "cells": [
  {
   "cell_type": "markdown",
   "metadata": {
    "id": "a-zgXTmEAmqd"
   },
   "source": [
    "# 3.2. Basic Architecture of CNN\n",
    "\n",
    "Consider a black box (as shown in the image below) named `CNN` which takes batch of images (RGB or black and white) as an input, performs some operations on these images and provides an output (in case of classification, the output will be a batch of vector containing probability values for predicting the target labels of the respective batch). For simplicity, consider only one image for now.\n",
    "\n",
    "![](images/cnn_blackbox.png)\n",
    "\n",
    "When we open this black-box (see image below), we find that the **CNN** is made up of three types of layers: \n",
    "* Convolutional layers\n",
    "* Pooling layers\n",
    "* Fully-connected (FC) layers - same as `MLP`.\n",
    "\n",
    "![](images/cnn_architecture.png)\n",
    "\n",
    "There is no limitation for the number of such layers present in the CNN model. Let us go through each layer one by one."
   ]
  }
 ],
 "metadata": {
  "colab": {
   "provenance": []
  },
  "kernelspec": {
   "display_name": "Python 3 (ipykernel)",
   "language": "python",
   "name": "python3"
  },
  "language_info": {
   "codemirror_mode": {
    "name": "ipython",
    "version": 3
   },
   "file_extension": ".py",
   "mimetype": "text/x-python",
   "name": "python",
   "nbconvert_exporter": "python",
   "pygments_lexer": "ipython3",
   "version": "3.10.2"
  },
  "widgets": {
   "application/vnd.jupyter.widget-state+json": {
    "state": {},
    "version_major": 2,
    "version_minor": 0
   }
  }
 },
 "nbformat": 4,
 "nbformat_minor": 4
}
