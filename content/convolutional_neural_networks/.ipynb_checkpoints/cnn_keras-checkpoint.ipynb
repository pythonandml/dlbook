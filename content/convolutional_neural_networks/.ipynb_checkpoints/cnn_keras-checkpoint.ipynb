{
 "cells": [
  {
   "cell_type": "markdown",
   "metadata": {
    "id": "MuPKbUxF6OD3"
   },
   "source": [
    "# 3.5. CNN model using Tensorflow - Keras\n",
    "\n",
    "After [Building Convolutional Neural Network (CNN model) from scratch using Numpy in Python](https://pythonandml.github.io/dlbook/content/convolutional_neural_networks/cnn_from_scratch.html) (link to previous chapter), and after developing [CNN using Pytorch](https://pythonandml.github.io/dlbook/content/convolutional_neural_networks/cnn_pytorch.html) (link to previous chapter), we will finally develop the CNN model using Tensorflow - Keras.\n",
    "\n",
    "> **Note:** The CNN model we developed from scratch almost follows the way the models are developed in Keras. "
   ]
  },
  {
   "cell_type": "markdown",
   "metadata": {
    "id": "GpYlBH607Rxh"
   },
   "source": [
    "#### Import necessary libraries\n",
    "\n",
    "Here we import a `Conv2D`, `MaxPooling2D`, `Dense` layer, an `Activation` layer and a `Dropout` layer. Then we will also import optimizers `Adam` and `RMSprop`.\n",
    "\n",
    "Then we finally import the `to_categorical` function which is nothing but one hot vector function."
   ]
  },
  {
   "cell_type": "code",
   "execution_count": 1,
   "metadata": {
    "id": "yHrd_inL59ua"
   },
   "outputs": [],
   "source": [
    "import numpy as np\n",
    "import matplotlib.pyplot as plt # plotting library\n",
    "%matplotlib inline\n",
    "\n",
    "from keras.models import Sequential\n",
    "from keras.layers import Dense , Activation, Dropout, Conv2D, MaxPooling2D, Flatten\n",
    "from keras.optimizers import Adam ,RMSprop\n",
    "from keras.utils import to_categorical"
   ]
  },
  {
   "cell_type": "markdown",
   "metadata": {
    "id": "gLwjE8Ff9cyl"
   },
   "source": [
    "#### Data Loading and pre-processing"
   ]
  },
  {
   "cell_type": "markdown",
   "metadata": {
    "id": "MfzqOiw071DV"
   },
   "source": [
    "Next we import and load the **CIFAR-10** dataset\n",
    "\n",
    "```{note}\n",
    "CIFAR-10 is a dataset that has a collection of images of 10 different classes. This dataset is widely used for research purposes to test different machine learning models and especially for computer vision problems.\n",
    "```"
   ]
  },
  {
   "cell_type": "code",
   "execution_count": 2,
   "metadata": {
    "colab": {
     "base_uri": "https://localhost:8080/"
    },
    "id": "FyDjZD6T7vUU",
    "outputId": "ca9cb2f0-eede-4749-c541-472a78d07030"
   },
   "outputs": [
    {
     "name": "stdout",
     "output_type": "stream",
     "text": [
      "Downloading data from https://www.cs.toronto.edu/~kriz/cifar-10-python.tar.gz\n",
      "170498071/170498071 [==============================] - 17s 0us/step\n"
     ]
    }
   ],
   "source": [
    "# import dataset\n",
    "from keras.datasets import cifar10\n",
    "\n",
    "# load dataset\n",
    "(x_train, y_train), (x_test, y_test) = cifar10.load_data()"
   ]
  },
  {
   "cell_type": "markdown",
   "metadata": {
    "id": "lj3Coubc8dAM"
   },
   "source": [
    "After loading the CIFAR-10 dataset, the number of labels is computed as:"
   ]
  },
  {
   "cell_type": "code",
   "execution_count": 3,
   "metadata": {
    "id": "hFCRmARM76RT"
   },
   "outputs": [],
   "source": [
    "# compute the number of labels\n",
    "num_labels = len(np.unique(y_train))"
   ]
  },
  {
   "cell_type": "markdown",
   "metadata": {
    "id": "SJK9Rt3K8qVU"
   },
   "source": [
    "Now we will perform [One hot vector encoding](https://pythonandml.github.io/dlbook/content/preliminaries/data_preprocessing.html#one-hot-encoding) (link to previous chapter) on the target data"
   ]
  },
  {
   "cell_type": "code",
   "execution_count": 4,
   "metadata": {
    "id": "VEaBBbWH8fqf"
   },
   "outputs": [],
   "source": [
    "# convert to one-hot vector\n",
    "y_train = to_categorical(y_train)\n",
    "y_test = to_categorical(y_test)"
   ]
  },
  {
   "cell_type": "markdown",
   "metadata": {
    "id": "EwNClB6w9X6n"
   },
   "source": [
    "Now we will **normalize** the data"
   ]
  },
  {
   "cell_type": "code",
   "execution_count": 5,
   "metadata": {
    "id": "XX87sH2o9VS3"
   },
   "outputs": [],
   "source": [
    "# normalize\n",
    "x_train = x_train.astype('float32') / 255\n",
    "x_test = x_test.astype('float32') / 255"
   ]
  },
  {
   "cell_type": "markdown",
   "metadata": {
    "id": "MnYyB1Vx9qoh"
   },
   "source": [
    "#### Model architecture\n",
    "\n",
    "The next step is to design the model architecture."
   ]
  },
  {
   "cell_type": "code",
   "execution_count": 7,
   "metadata": {
    "id": "EpPPgiPe9n6k"
   },
   "outputs": [],
   "source": [
    "# Creating a sequential model and adding layers to it\n",
    "\n",
    "model = Sequential()\n",
    "model.add(Conv2D(32, (3,3), padding='same', activation='relu', input_shape=(32,32,3)))\n",
    "model.add(Conv2D(64, (3,3), padding='same', activation='relu'))\n",
    "model.add(MaxPooling2D(pool_size=(2,2)))\n",
    "model.add(Dropout(0.3))\n",
    "model.add(Flatten())\n",
    "model.add(Dense(512, activation='relu'))\n",
    "model.add(Dropout(0.5))\n",
    "model.add(Dense(10, activation='softmax')) # number of classes (output) = 10"
   ]
  },
  {
   "cell_type": "markdown",
   "metadata": {
    "id": "NxVye9mU-B1t"
   },
   "source": [
    "Keras library provides us summary() method to check the model description."
   ]
  },
  {
   "cell_type": "code",
   "execution_count": 8,
   "metadata": {
    "colab": {
     "base_uri": "https://localhost:8080/"
    },
    "id": "j9nNpEtL99BB",
    "outputId": "d7ff1b3b-41ec-45fc-c53f-7ae2a59c0b7d"
   },
   "outputs": [
    {
     "name": "stdout",
     "output_type": "stream",
     "text": [
      "Model: \"sequential_1\"\n",
      "_________________________________________________________________\n",
      " Layer (type)                Output Shape              Param #   \n",
      "=================================================================\n",
      " conv2d_2 (Conv2D)           (None, 32, 32, 32)        896       \n",
      "                                                                 \n",
      " conv2d_3 (Conv2D)           (None, 32, 32, 64)        18496     \n",
      "                                                                 \n",
      " max_pooling2d_1 (MaxPooling  (None, 16, 16, 64)       0         \n",
      " 2D)                                                             \n",
      "                                                                 \n",
      " dropout_1 (Dropout)         (None, 16, 16, 64)        0         \n",
      "                                                                 \n",
      " flatten (Flatten)           (None, 16384)             0         \n",
      "                                                                 \n",
      " dense (Dense)               (None, 512)               8389120   \n",
      "                                                                 \n",
      " dropout_2 (Dropout)         (None, 512)               0         \n",
      "                                                                 \n",
      " dense_1 (Dense)             (None, 10)                5130      \n",
      "                                                                 \n",
      "=================================================================\n",
      "Total params: 8,413,642\n",
      "Trainable params: 8,413,642\n",
      "Non-trainable params: 0\n",
      "_________________________________________________________________\n"
     ]
    }
   ],
   "source": [
    "model.summary()"
   ]
  },
  {
   "cell_type": "markdown",
   "metadata": {
    "id": "Unk3Bmey-Qaz"
   },
   "source": [
    "#### Executing the CNN model using Keras \n",
    "\n",
    "This section comprises of \n",
    "\n",
    "* Compiling the model with the compile() method.\n",
    "\n",
    "* Training the model with fit() method.\n",
    "\n",
    "* Evaluating the model performance with evaluate() method."
   ]
  },
  {
   "cell_type": "markdown",
   "metadata": {
    "id": "e7rMtMIM-j4H"
   },
   "source": [
    "Compiling the model"
   ]
  },
  {
   "cell_type": "code",
   "execution_count": 9,
   "metadata": {
    "id": "yIWQQ7q6-M38"
   },
   "outputs": [],
   "source": [
    "model.compile(loss='categorical_crossentropy', \n",
    "              optimizer='adam',\n",
    "              metrics=['accuracy'])"
   ]
  },
  {
   "cell_type": "markdown",
   "metadata": {
    "id": "lgjdRTk0-q0I"
   },
   "source": [
    "Training the model"
   ]
  },
  {
   "cell_type": "code",
   "execution_count": 10,
   "metadata": {
    "colab": {
     "base_uri": "https://localhost:8080/"
    },
    "id": "KsfdM5u8-qez",
    "outputId": "8cef33f1-2619-4bfa-a8b1-1eff1042600a"
   },
   "outputs": [
    {
     "name": "stdout",
     "output_type": "stream",
     "text": [
      "Epoch 1/5\n",
      "782/782 [==============================] - 16s 9ms/step - loss: 1.4291 - accuracy: 0.4883\n",
      "Epoch 2/5\n",
      "782/782 [==============================] - 7s 9ms/step - loss: 1.0486 - accuracy: 0.6302\n",
      "Epoch 3/5\n",
      "782/782 [==============================] - 6s 8ms/step - loss: 0.8918 - accuracy: 0.6865\n",
      "Epoch 4/5\n",
      "782/782 [==============================] - 6s 8ms/step - loss: 0.7818 - accuracy: 0.7243\n",
      "Epoch 5/5\n",
      "782/782 [==============================] - 7s 9ms/step - loss: 0.6781 - accuracy: 0.7621\n"
     ]
    },
    {
     "data": {
      "text/plain": [
       "<keras.callbacks.History at 0x7f1b91046640>"
      ]
     },
     "execution_count": 10,
     "metadata": {},
     "output_type": "execute_result"
    }
   ],
   "source": [
    "model.fit(x_train, y_train, epochs=5, batch_size=64)"
   ]
  },
  {
   "cell_type": "markdown",
   "metadata": {
    "id": "2DierXBO-1NP"
   },
   "source": [
    "Evaluating model performance with evaluate() method "
   ]
  },
  {
   "cell_type": "code",
   "execution_count": 11,
   "metadata": {
    "colab": {
     "base_uri": "https://localhost:8080/"
    },
    "id": "E4dOvkF3-uWS",
    "outputId": "e5beb4e0-abd4-430d-e013-423f38c5b0cb"
   },
   "outputs": [
    {
     "name": "stdout",
     "output_type": "stream",
     "text": [
      "157/157 [==============================] - 1s 4ms/step - loss: 0.8279 - accuracy: 0.7111\n",
      "\n",
      "Test accuracy: 71.1%\n"
     ]
    }
   ],
   "source": [
    "loss, acc = model.evaluate(x_test, y_test, batch_size=64)\n",
    "print(\"\\nTest accuracy: %.1f%%\" % (100.0 * acc))"
   ]
  },
  {
   "cell_type": "markdown",
   "metadata": {
    "id": "OlQYkhZq_HA1"
   },
   "source": [
    "We get the test accuracy of 71.1%. With more complex model, we can increase the accuracy of CIFAR-10 as much as we want. The main thing is that we have learnt how to build our very first CNN model using `Keras`. It is that simple! "
   ]
  }
 ],
 "metadata": {
  "accelerator": "GPU",
  "colab": {
   "provenance": []
  },
  "gpuClass": "standard",
  "kernelspec": {
   "display_name": "Python 3 (ipykernel)",
   "language": "python",
   "name": "python3"
  },
  "language_info": {
   "codemirror_mode": {
    "name": "ipython",
    "version": 3
   },
   "file_extension": ".py",
   "mimetype": "text/x-python",
   "name": "python",
   "nbconvert_exporter": "python",
   "pygments_lexer": "ipython3",
   "version": "3.10.2"
  },
  "widgets": {
   "application/vnd.jupyter.widget-state+json": {
    "state": {},
    "version_major": 2,
    "version_minor": 0
   }
  }
 },
 "nbformat": 4,
 "nbformat_minor": 4
}
